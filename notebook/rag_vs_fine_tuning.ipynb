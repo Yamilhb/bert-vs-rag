{
 "cells": [
  {
   "cell_type": "markdown",
   "id": "10a06647",
   "metadata": {},
   "source": [
    "# INTRODUCTION"
   ]
  },
  {
   "cell_type": "markdown",
   "id": "e9e95179",
   "metadata": {},
   "source": [
    "## TASK\n",
    "Text Classification"
   ]
  },
  {
   "cell_type": "markdown",
   "id": "78afb824",
   "metadata": {},
   "source": [
    "## DATASET SOURCING \n",
    "*Ref*\n",
    "1. Misra, Rishabh. \"News Category Dataset.\" arXiv preprint arXiv:2209.11429 (2022).\n",
    "2. Misra, Rishabh and Jigyasa Grover. \"Sculpting Data for ML: The first act of Machine Learning.\" ISBN 9798585463570 (2021).\n",
    "\n",
    "Download the Data from https://www.kaggle.com/datasets/rmisra/news-category-dataset\n",
    "\n",
    "For our **text classifcation** exercise, we need a dataset with a wide variety categories. So, the dataset used contains 209527 news headlines and abstracts from 2012 to 2022 from HuffPost, classified in one of **42 categories**, so it can serve as a benchmark for our exercise (explained below).\n",
    "\n",
    "The dataset consists of the following columns:\n",
    "* **category**: category in which the article was published.\n",
    "* **headline**: the headline of the news article.\n",
    "* **authors**: list of authors who contributed to the article.\n",
    "* **link**: link to the original news article.\n",
    "* **short_description**: Abstract of the news article.\n",
    "* **date**: publication date of the article."
   ]
  },
  {
   "cell_type": "markdown",
   "id": "0327830f",
   "metadata": {},
   "source": [
    "## PROBLEM DEFINITION\n",
    "\n",
    "How many times have we faced a problem of not having 'enough ammount of data' when we have to solve a text classfification task? In fact, sometimes we have enough data for some categories but not for others.\n",
    "\n",
    "Some teams choose complex model without considering whether simpler methods might perform better, other teams abandond the problem...\n",
    "\n",
    "In this experiment, I make a deep exploration of that issue and try to answer the above question. To do that, I compare two approaches, the **BERT model**, that is one of the best classifying texts; and a simpler method but very usefull in many scenarios (indeed, is the core component of most RAGs systems), the **cosine similarity**.\n",
    "\n",
    "The main idea of the present work is to extract sub-samples of the dataset in order of increasing size, then training both models on them and compare the results on a common validation dataset: Is better using BERT regardless of training size set? If not, why? Does cosine similarity works better in any scenario?"
   ]
  },
  {
   "cell_type": "markdown",
   "id": "541dd23c",
   "metadata": {},
   "source": [
    "## APPROACH\n",
    "\n",
    "To address the problem I used the following tools:\n",
    "\n",
    "* **For DATA PROCESSING**:\n",
    "    - `pandas` and `numpy` libraries used to manipulate the data.\n",
    "    - `sklearn` library used to split the data, encode the categorical target, and compute the cosine similarity.\n",
    "    - `evaluate` library from Huggingface used performance evaluation.\n",
    "\n",
    "* **For BERT MODEL**:\n",
    "    - `transformers` library from Huggingface used for tokenization and fine-tuning.\n",
    "    - `datasets` library from Huggingface used to format data correctly.\n",
    "    - `torch` library used to ensure the model is training with gpu.\n",
    "    - `GPU RTX 4090` (in runpod.io) to train (fine tune) the model.\n",
    "\n",
    "* **For COSINE SIMIALRITY**:\n",
    "    - `openai` and `langchain` where used to call the api for the embedding model (text-embedding-3-small).\n",
    "\n",
    "* **For VISUALIZATIONS**:\n",
    "    - `plotly`"
   ]
  },
  {
   "cell_type": "markdown",
   "id": "c3100da9",
   "metadata": {},
   "source": [
    "## STEPS\n",
    "\n",
    "To complete the task, I followed these steps:\n",
    "\n",
    "* **LOAD DATA**: Load the data and make analisys to understand the basics statistics. Here, after inspect the text lengths, I decided to join `headline` and  `short_description`, into a column named `news`, which became our input feature.\n",
    "* **DATA PROCESSING**: Since we are using the BERT model and the OpenAI embedding model, we do not have to do a deep cleaning of the data. BERT model uses a tokenizer function, which makes the neccesary pre-processing to the text; and OpenAI embeddings were trained to capture the context of any real world text. If we would clean the text, we could remove valuable context.\n",
    "\n",
    "I encoded the `target` and build 11 subsets of the data following the steps:\n",
    "\n",
    "- First the `validation` set: 30% stratified sample of the full dataset, preserving class distribution.\n",
    "\n",
    "- Then, the `training samples`: Those are the stratified samples which will serve to train the models on training sets of increasing sizes to check the performance evolution of the models. To build them, I went through a loop where, in every iteration we make the subsample of `p` proportion where `p` is in [0.001, 0.005, 0.01, 0.05, 0.1, 0.2, 0.3, 0.4, 0.5, 1]. Finally, we have to compute another partition over this `train dataset`, one to fine tune BERT and the other to test the performance and avoid overfitting.\n",
    "\n",
    "* **`BERT` PIPELINE**:\n",
    "    1. I had to implement 3 functions:\n",
    "\n",
    "        * `fine_tune`, which returns the trained model and the tokenizer.\n",
    "        * `tokenize_function`, which returns the tokenized data.\n",
    "        * `performance`, which compute the performance of the model on the `validation` dataset.\n",
    "\n",
    "    2. The loop:\n",
    "\n",
    "        * Iterate through proportions, `p` = [0.001, 0.005, 0.01, 0.05, 0.1, 0.2, 0.3, 0.4, 0.5, 1].\n",
    "        * Using the 3 previous functions, for each `p`, fine tune of the model over the corresponding training dataset, and evaluate the performance on the `validation` dataset and save it into a csv.\n",
    "\n",
    "* **`Cosine Similarity` PIPELINE**:\n",
    "    1. I had to implement 1 function:\n",
    "\n",
    "        * `similarity_performance` which has 2 main functionalities:\n",
    "            + Computes the `embeddings` of the news of the training dataset and with that, computes similarity matrix. To prevent memory overflow I had to iterate on the `embeddings` matrix by batches of rows.\n",
    "            + Compute the `performance` of the `Cosine Similarity` over the `validation` dataset and save it into a csv.\n",
    "\n",
    "    2. The loop:\n",
    "\n",
    "        * For each, `p` = [0.001, 0.005, 0.01, 0.05, 0.1, 0.2, 0.3, 0.4, 0.5, 1], to load the corresponding traing dataset, perform prediction, and save the performance.\n",
    "\n",
    "* **PERFORMANCE ANALISYS**:\n",
    "    I choose the **f1-score** to measure the model performance. Since the target has many categories, f1-score is a good choice as it balances precision and recall and handles class imbalance well.\n",
    "\n",
    "    To make the comparison fair, both models were evaluated on the same `validation` set.\n",
    "\n",
    "    The following, are the main things that we have to know about this analisys:\n",
    "\n",
    "    1. I had to implement 3 functions:\n",
    "\n",
    "        * `general`, function to plot performance and training set size for each `p`.\n",
    "        * `top_categories`, same as above but focused on the 3 most frequent and 3 least frequent classes.\n",
    "        * `f1_data`, function to build a convenient dataset for the visualization, with `Category`, `F1-Score`, `prop` and `n_rows_label`.\n",
    "\n",
    "    2. Sections **Performance similarity process** and **Performance BERT process**:\n",
    "\n",
    "        In both sections I show: \n",
    "\n",
    "        * The evolution of the performance (on the `validation` dataset) of the models as the training size increases.\n",
    "        * The same as above but focused on the top and bottom 3 categories by frequency.\n",
    "\n",
    "    3. Section **BERT VS Similarity based on training data size**:\n",
    "\n",
    "        In this section I show:\n",
    "\n",
    "        * Comparison of performance trends of both models, overall and for 'extremes' categories.\n",
    "        * Analysis of how many categories improve as more training data is available."
   ]
  },
  {
   "cell_type": "markdown",
   "id": "ed9a8d4c",
   "metadata": {},
   "source": [
    "--------------------------------------------------------------------------------------------------------------------"
   ]
  },
  {
   "cell_type": "code",
   "execution_count": null,
   "id": "fce4e883",
   "metadata": {},
   "outputs": [],
   "source": [
    "import os\n",
    "import pandas as pd\n",
    "import numpy as np\n",
    "import time\n",
    "import gc\n",
    "from typing import Literal\n",
    "\n",
    "# PROCESS DATA\n",
    "from sklearn.model_selection import train_test_split \n",
    "from sklearn.preprocessing import LabelEncoder\n",
    "import evaluate\n",
    "from sklearn.metrics.pairwise import cosine_similarity\n",
    "\n",
    "# BERT\n",
    "from transformers import AutoTokenizer, AutoModelForSequenceClassification, TrainingArguments, Trainer\n",
    "from datasets import Dataset\n",
    "import torch\n",
    "\n",
    "# SIMILARITY\n",
    "import openai\n",
    "from dotenv import load_dotenv, find_dotenv\n",
    "_ = load_dotenv(find_dotenv())\n",
    "openai.api_key = os.environ[\"OPENAI_API_KEY\"]\n",
    "from langchain_openai import OpenAIEmbeddings\n",
    "\n",
    "# CHARTS\n",
    "import plotly.express as px\n",
    "import plotly.graph_objects as go\n"
   ]
  },
  {
   "cell_type": "markdown",
   "id": "80e3c97a",
   "metadata": {},
   "source": [
    "# LOAD DATA"
   ]
  },
  {
   "cell_type": "markdown",
   "id": "32b73300",
   "metadata": {},
   "source": [
    "**Set directories**"
   ]
  },
  {
   "cell_type": "code",
   "execution_count": 2,
   "id": "1c4217dc",
   "metadata": {},
   "outputs": [],
   "source": [
    "path = \"\"\n",
    "workdata_path = \"../working_data/\""
   ]
  },
  {
   "cell_type": "markdown",
   "id": "cc53b72e",
   "metadata": {},
   "source": [
    "**Import data**"
   ]
  },
  {
   "cell_type": "code",
   "execution_count": 3,
   "id": "c7a7ab04",
   "metadata": {},
   "outputs": [
    {
     "name": "stdout",
     "output_type": "stream",
     "text": [
      "Path to dataset files: /home/y41000/.cache/kagglehub/datasets/rmisra/news-category-dataset/versions/3\n"
     ]
    }
   ],
   "source": [
    "import kagglehub\n",
    "\n",
    "# Download latest version\n",
    "path = kagglehub.dataset_download(\"rmisra/news-category-dataset\")\n",
    "\n",
    "print(\"Path to dataset files:\", path)"
   ]
  },
  {
   "cell_type": "code",
   "execution_count": 5,
   "id": "5bbd7a80",
   "metadata": {},
   "outputs": [],
   "source": [
    "data = pd.read_json(f'{path}/News_Category_Dataset_v3.json', lines = True)"
   ]
  },
  {
   "cell_type": "code",
   "execution_count": 6,
   "id": "f3f4390c",
   "metadata": {},
   "outputs": [
    {
     "data": {
      "text/plain": [
       "(209527, 6)"
      ]
     },
     "execution_count": 6,
     "metadata": {},
     "output_type": "execute_result"
    }
   ],
   "source": [
    "data.shape"
   ]
  },
  {
   "cell_type": "markdown",
   "id": "547f075a",
   "metadata": {},
   "source": [
    "**General information of the features**"
   ]
  },
  {
   "cell_type": "code",
   "execution_count": 7,
   "id": "85822de0",
   "metadata": {},
   "outputs": [
    {
     "name": "stdout",
     "output_type": "stream",
     "text": [
      "<class 'pandas.core.frame.DataFrame'>\n",
      "RangeIndex: 209527 entries, 0 to 209526\n",
      "Data columns (total 6 columns):\n",
      " #   Column             Non-Null Count   Dtype         \n",
      "---  ------             --------------   -----         \n",
      " 0   link               209527 non-null  object        \n",
      " 1   headline           209527 non-null  object        \n",
      " 2   category           209527 non-null  object        \n",
      " 3   short_description  209527 non-null  object        \n",
      " 4   authors            209527 non-null  object        \n",
      " 5   date               209527 non-null  datetime64[ns]\n",
      "dtypes: datetime64[ns](1), object(5)\n",
      "memory usage: 9.6+ MB\n"
     ]
    }
   ],
   "source": [
    "data.info()"
   ]
  },
  {
   "cell_type": "markdown",
   "id": "510b9d36",
   "metadata": {},
   "source": [
    "**Distributions of the classes**"
   ]
  },
  {
   "cell_type": "code",
   "execution_count": 8,
   "id": "7140243d",
   "metadata": {},
   "outputs": [
    {
     "data": {
      "text/html": [
       "<div>\n",
       "<style scoped>\n",
       "    .dataframe tbody tr th:only-of-type {\n",
       "        vertical-align: middle;\n",
       "    }\n",
       "\n",
       "    .dataframe tbody tr th {\n",
       "        vertical-align: top;\n",
       "    }\n",
       "\n",
       "    .dataframe thead th {\n",
       "        text-align: right;\n",
       "    }\n",
       "</style>\n",
       "<table border=\"1\" class=\"dataframe\">\n",
       "  <thead>\n",
       "    <tr style=\"text-align: right;\">\n",
       "      <th></th>\n",
       "      <th>count</th>\n",
       "      <th>proportion</th>\n",
       "    </tr>\n",
       "    <tr>\n",
       "      <th>category</th>\n",
       "      <th></th>\n",
       "      <th></th>\n",
       "    </tr>\n",
       "  </thead>\n",
       "  <tbody>\n",
       "    <tr>\n",
       "      <th>POLITICS</th>\n",
       "      <td>35602</td>\n",
       "      <td>0.169916</td>\n",
       "    </tr>\n",
       "    <tr>\n",
       "      <th>WELLNESS</th>\n",
       "      <td>17945</td>\n",
       "      <td>0.085645</td>\n",
       "    </tr>\n",
       "    <tr>\n",
       "      <th>ENTERTAINMENT</th>\n",
       "      <td>17362</td>\n",
       "      <td>0.082863</td>\n",
       "    </tr>\n",
       "    <tr>\n",
       "      <th>TRAVEL</th>\n",
       "      <td>9900</td>\n",
       "      <td>0.047249</td>\n",
       "    </tr>\n",
       "    <tr>\n",
       "      <th>STYLE &amp; BEAUTY</th>\n",
       "      <td>9814</td>\n",
       "      <td>0.046839</td>\n",
       "    </tr>\n",
       "    <tr>\n",
       "      <th>PARENTING</th>\n",
       "      <td>8791</td>\n",
       "      <td>0.041956</td>\n",
       "    </tr>\n",
       "    <tr>\n",
       "      <th>HEALTHY LIVING</th>\n",
       "      <td>6694</td>\n",
       "      <td>0.031948</td>\n",
       "    </tr>\n",
       "    <tr>\n",
       "      <th>QUEER VOICES</th>\n",
       "      <td>6347</td>\n",
       "      <td>0.030292</td>\n",
       "    </tr>\n",
       "    <tr>\n",
       "      <th>FOOD &amp; DRINK</th>\n",
       "      <td>6340</td>\n",
       "      <td>0.030259</td>\n",
       "    </tr>\n",
       "    <tr>\n",
       "      <th>BUSINESS</th>\n",
       "      <td>5992</td>\n",
       "      <td>0.028598</td>\n",
       "    </tr>\n",
       "    <tr>\n",
       "      <th>COMEDY</th>\n",
       "      <td>5400</td>\n",
       "      <td>0.025772</td>\n",
       "    </tr>\n",
       "    <tr>\n",
       "      <th>SPORTS</th>\n",
       "      <td>5077</td>\n",
       "      <td>0.024231</td>\n",
       "    </tr>\n",
       "    <tr>\n",
       "      <th>BLACK VOICES</th>\n",
       "      <td>4583</td>\n",
       "      <td>0.021873</td>\n",
       "    </tr>\n",
       "    <tr>\n",
       "      <th>HOME &amp; LIVING</th>\n",
       "      <td>4320</td>\n",
       "      <td>0.020618</td>\n",
       "    </tr>\n",
       "    <tr>\n",
       "      <th>PARENTS</th>\n",
       "      <td>3955</td>\n",
       "      <td>0.018876</td>\n",
       "    </tr>\n",
       "    <tr>\n",
       "      <th>THE WORLDPOST</th>\n",
       "      <td>3664</td>\n",
       "      <td>0.017487</td>\n",
       "    </tr>\n",
       "    <tr>\n",
       "      <th>WEDDINGS</th>\n",
       "      <td>3653</td>\n",
       "      <td>0.017435</td>\n",
       "    </tr>\n",
       "    <tr>\n",
       "      <th>WOMEN</th>\n",
       "      <td>3572</td>\n",
       "      <td>0.017048</td>\n",
       "    </tr>\n",
       "    <tr>\n",
       "      <th>CRIME</th>\n",
       "      <td>3562</td>\n",
       "      <td>0.017000</td>\n",
       "    </tr>\n",
       "    <tr>\n",
       "      <th>IMPACT</th>\n",
       "      <td>3484</td>\n",
       "      <td>0.016628</td>\n",
       "    </tr>\n",
       "    <tr>\n",
       "      <th>DIVORCE</th>\n",
       "      <td>3426</td>\n",
       "      <td>0.016351</td>\n",
       "    </tr>\n",
       "    <tr>\n",
       "      <th>WORLD NEWS</th>\n",
       "      <td>3299</td>\n",
       "      <td>0.015745</td>\n",
       "    </tr>\n",
       "    <tr>\n",
       "      <th>MEDIA</th>\n",
       "      <td>2944</td>\n",
       "      <td>0.014051</td>\n",
       "    </tr>\n",
       "    <tr>\n",
       "      <th>WEIRD NEWS</th>\n",
       "      <td>2777</td>\n",
       "      <td>0.013254</td>\n",
       "    </tr>\n",
       "    <tr>\n",
       "      <th>GREEN</th>\n",
       "      <td>2622</td>\n",
       "      <td>0.012514</td>\n",
       "    </tr>\n",
       "    <tr>\n",
       "      <th>WORLDPOST</th>\n",
       "      <td>2579</td>\n",
       "      <td>0.012309</td>\n",
       "    </tr>\n",
       "    <tr>\n",
       "      <th>RELIGION</th>\n",
       "      <td>2577</td>\n",
       "      <td>0.012299</td>\n",
       "    </tr>\n",
       "    <tr>\n",
       "      <th>STYLE</th>\n",
       "      <td>2254</td>\n",
       "      <td>0.010758</td>\n",
       "    </tr>\n",
       "    <tr>\n",
       "      <th>SCIENCE</th>\n",
       "      <td>2206</td>\n",
       "      <td>0.010528</td>\n",
       "    </tr>\n",
       "    <tr>\n",
       "      <th>TECH</th>\n",
       "      <td>2104</td>\n",
       "      <td>0.010042</td>\n",
       "    </tr>\n",
       "    <tr>\n",
       "      <th>TASTE</th>\n",
       "      <td>2096</td>\n",
       "      <td>0.010003</td>\n",
       "    </tr>\n",
       "    <tr>\n",
       "      <th>MONEY</th>\n",
       "      <td>1756</td>\n",
       "      <td>0.008381</td>\n",
       "    </tr>\n",
       "    <tr>\n",
       "      <th>ARTS</th>\n",
       "      <td>1509</td>\n",
       "      <td>0.007202</td>\n",
       "    </tr>\n",
       "    <tr>\n",
       "      <th>ENVIRONMENT</th>\n",
       "      <td>1444</td>\n",
       "      <td>0.006892</td>\n",
       "    </tr>\n",
       "    <tr>\n",
       "      <th>FIFTY</th>\n",
       "      <td>1401</td>\n",
       "      <td>0.006686</td>\n",
       "    </tr>\n",
       "    <tr>\n",
       "      <th>GOOD NEWS</th>\n",
       "      <td>1398</td>\n",
       "      <td>0.006672</td>\n",
       "    </tr>\n",
       "    <tr>\n",
       "      <th>U.S. NEWS</th>\n",
       "      <td>1377</td>\n",
       "      <td>0.006572</td>\n",
       "    </tr>\n",
       "    <tr>\n",
       "      <th>ARTS &amp; CULTURE</th>\n",
       "      <td>1339</td>\n",
       "      <td>0.006391</td>\n",
       "    </tr>\n",
       "    <tr>\n",
       "      <th>COLLEGE</th>\n",
       "      <td>1144</td>\n",
       "      <td>0.005460</td>\n",
       "    </tr>\n",
       "    <tr>\n",
       "      <th>LATINO VOICES</th>\n",
       "      <td>1130</td>\n",
       "      <td>0.005393</td>\n",
       "    </tr>\n",
       "    <tr>\n",
       "      <th>CULTURE &amp; ARTS</th>\n",
       "      <td>1074</td>\n",
       "      <td>0.005126</td>\n",
       "    </tr>\n",
       "    <tr>\n",
       "      <th>EDUCATION</th>\n",
       "      <td>1014</td>\n",
       "      <td>0.004839</td>\n",
       "    </tr>\n",
       "  </tbody>\n",
       "</table>\n",
       "</div>"
      ],
      "text/plain": [
       "                count  proportion\n",
       "category                         \n",
       "POLITICS        35602    0.169916\n",
       "WELLNESS        17945    0.085645\n",
       "ENTERTAINMENT   17362    0.082863\n",
       "TRAVEL           9900    0.047249\n",
       "STYLE & BEAUTY   9814    0.046839\n",
       "PARENTING        8791    0.041956\n",
       "HEALTHY LIVING   6694    0.031948\n",
       "QUEER VOICES     6347    0.030292\n",
       "FOOD & DRINK     6340    0.030259\n",
       "BUSINESS         5992    0.028598\n",
       "COMEDY           5400    0.025772\n",
       "SPORTS           5077    0.024231\n",
       "BLACK VOICES     4583    0.021873\n",
       "HOME & LIVING    4320    0.020618\n",
       "PARENTS          3955    0.018876\n",
       "THE WORLDPOST    3664    0.017487\n",
       "WEDDINGS         3653    0.017435\n",
       "WOMEN            3572    0.017048\n",
       "CRIME            3562    0.017000\n",
       "IMPACT           3484    0.016628\n",
       "DIVORCE          3426    0.016351\n",
       "WORLD NEWS       3299    0.015745\n",
       "MEDIA            2944    0.014051\n",
       "WEIRD NEWS       2777    0.013254\n",
       "GREEN            2622    0.012514\n",
       "WORLDPOST        2579    0.012309\n",
       "RELIGION         2577    0.012299\n",
       "STYLE            2254    0.010758\n",
       "SCIENCE          2206    0.010528\n",
       "TECH             2104    0.010042\n",
       "TASTE            2096    0.010003\n",
       "MONEY            1756    0.008381\n",
       "ARTS             1509    0.007202\n",
       "ENVIRONMENT      1444    0.006892\n",
       "FIFTY            1401    0.006686\n",
       "GOOD NEWS        1398    0.006672\n",
       "U.S. NEWS        1377    0.006572\n",
       "ARTS & CULTURE   1339    0.006391\n",
       "COLLEGE          1144    0.005460\n",
       "LATINO VOICES    1130    0.005393\n",
       "CULTURE & ARTS   1074    0.005126\n",
       "EDUCATION        1014    0.004839"
      ]
     },
     "execution_count": 8,
     "metadata": {},
     "output_type": "execute_result"
    }
   ],
   "source": [
    "pd.DataFrame(data['category'].value_counts()).join(\n",
    "    pd.DataFrame(data['category'].value_counts(normalize=True))\n",
    ")"
   ]
  },
  {
   "cell_type": "markdown",
   "id": "1fa0ce4b",
   "metadata": {},
   "source": [
    "42 umbalanced categories."
   ]
  },
  {
   "cell_type": "markdown",
   "id": "a798cfec",
   "metadata": {},
   "source": [
    "**Distribution of the classes by author**"
   ]
  },
  {
   "cell_type": "code",
   "execution_count": 9,
   "id": "8ae29630",
   "metadata": {},
   "outputs": [
    {
     "data": {
      "text/html": [
       "<div>\n",
       "<style scoped>\n",
       "    .dataframe tbody tr th:only-of-type {\n",
       "        vertical-align: middle;\n",
       "    }\n",
       "\n",
       "    .dataframe tbody tr th {\n",
       "        vertical-align: top;\n",
       "    }\n",
       "\n",
       "    .dataframe thead th {\n",
       "        text-align: right;\n",
       "    }\n",
       "</style>\n",
       "<table border=\"1\" class=\"dataframe\">\n",
       "  <thead>\n",
       "    <tr style=\"text-align: right;\">\n",
       "      <th>authors</th>\n",
       "      <th></th>\n",
       "      <th>Andy McDonald</th>\n",
       "      <th>Bill Bradley</th>\n",
       "      <th>Carly Ledbetter</th>\n",
       "      <th>Caroline Bologna</th>\n",
       "      <th>Cole Delbyck</th>\n",
       "      <th>Curtis M. Wong</th>\n",
       "      <th>Dana Oliver</th>\n",
       "      <th>David Moye</th>\n",
       "      <th>Dominique Mosbergen</th>\n",
       "      <th>Ed Mazza</th>\n",
       "      <th>Igor Bobic</th>\n",
       "      <th>Julia Brucculieri</th>\n",
       "      <th>Lee Moran</th>\n",
       "      <th>Mary Papenfuss</th>\n",
       "      <th>Michelle Manetti</th>\n",
       "      <th>Nina Golgowski</th>\n",
       "      <th>Reuters, Reuters</th>\n",
       "      <th>Ron Dicker</th>\n",
       "      <th>Sam Levine</th>\n",
       "    </tr>\n",
       "    <tr>\n",
       "      <th>category</th>\n",
       "      <th></th>\n",
       "      <th></th>\n",
       "      <th></th>\n",
       "      <th></th>\n",
       "      <th></th>\n",
       "      <th></th>\n",
       "      <th></th>\n",
       "      <th></th>\n",
       "      <th></th>\n",
       "      <th></th>\n",
       "      <th></th>\n",
       "      <th></th>\n",
       "      <th></th>\n",
       "      <th></th>\n",
       "      <th></th>\n",
       "      <th></th>\n",
       "      <th></th>\n",
       "      <th></th>\n",
       "      <th></th>\n",
       "      <th></th>\n",
       "    </tr>\n",
       "  </thead>\n",
       "  <tbody>\n",
       "    <tr>\n",
       "      <th>ARTS</th>\n",
       "      <td>19</td>\n",
       "      <td>0</td>\n",
       "      <td>0</td>\n",
       "      <td>0</td>\n",
       "      <td>0</td>\n",
       "      <td>0</td>\n",
       "      <td>7</td>\n",
       "      <td>0</td>\n",
       "      <td>0</td>\n",
       "      <td>4</td>\n",
       "      <td>0</td>\n",
       "      <td>0</td>\n",
       "      <td>0</td>\n",
       "      <td>0</td>\n",
       "      <td>0</td>\n",
       "      <td>0</td>\n",
       "      <td>0</td>\n",
       "      <td>0</td>\n",
       "      <td>1</td>\n",
       "      <td>0</td>\n",
       "    </tr>\n",
       "    <tr>\n",
       "      <th>ARTS &amp; CULTURE</th>\n",
       "      <td>32</td>\n",
       "      <td>4</td>\n",
       "      <td>0</td>\n",
       "      <td>1</td>\n",
       "      <td>1</td>\n",
       "      <td>3</td>\n",
       "      <td>6</td>\n",
       "      <td>0</td>\n",
       "      <td>6</td>\n",
       "      <td>3</td>\n",
       "      <td>6</td>\n",
       "      <td>0</td>\n",
       "      <td>5</td>\n",
       "      <td>41</td>\n",
       "      <td>6</td>\n",
       "      <td>0</td>\n",
       "      <td>7</td>\n",
       "      <td>0</td>\n",
       "      <td>3</td>\n",
       "      <td>0</td>\n",
       "    </tr>\n",
       "    <tr>\n",
       "      <th>BLACK VOICES</th>\n",
       "      <td>1008</td>\n",
       "      <td>14</td>\n",
       "      <td>0</td>\n",
       "      <td>1</td>\n",
       "      <td>0</td>\n",
       "      <td>0</td>\n",
       "      <td>4</td>\n",
       "      <td>2</td>\n",
       "      <td>53</td>\n",
       "      <td>6</td>\n",
       "      <td>12</td>\n",
       "      <td>0</td>\n",
       "      <td>0</td>\n",
       "      <td>31</td>\n",
       "      <td>7</td>\n",
       "      <td>0</td>\n",
       "      <td>35</td>\n",
       "      <td>23</td>\n",
       "      <td>40</td>\n",
       "      <td>1</td>\n",
       "    </tr>\n",
       "    <tr>\n",
       "      <th>BUSINESS</th>\n",
       "      <td>991</td>\n",
       "      <td>0</td>\n",
       "      <td>0</td>\n",
       "      <td>0</td>\n",
       "      <td>1</td>\n",
       "      <td>0</td>\n",
       "      <td>0</td>\n",
       "      <td>0</td>\n",
       "      <td>2</td>\n",
       "      <td>21</td>\n",
       "      <td>21</td>\n",
       "      <td>1</td>\n",
       "      <td>0</td>\n",
       "      <td>2</td>\n",
       "      <td>25</td>\n",
       "      <td>0</td>\n",
       "      <td>13</td>\n",
       "      <td>294</td>\n",
       "      <td>13</td>\n",
       "      <td>2</td>\n",
       "    </tr>\n",
       "    <tr>\n",
       "      <th>COLLEGE</th>\n",
       "      <td>111</td>\n",
       "      <td>0</td>\n",
       "      <td>0</td>\n",
       "      <td>0</td>\n",
       "      <td>0</td>\n",
       "      <td>0</td>\n",
       "      <td>0</td>\n",
       "      <td>0</td>\n",
       "      <td>0</td>\n",
       "      <td>3</td>\n",
       "      <td>2</td>\n",
       "      <td>0</td>\n",
       "      <td>0</td>\n",
       "      <td>0</td>\n",
       "      <td>0</td>\n",
       "      <td>0</td>\n",
       "      <td>2</td>\n",
       "      <td>1</td>\n",
       "      <td>1</td>\n",
       "      <td>0</td>\n",
       "    </tr>\n",
       "    <tr>\n",
       "      <th>COMEDY</th>\n",
       "      <td>729</td>\n",
       "      <td>857</td>\n",
       "      <td>167</td>\n",
       "      <td>4</td>\n",
       "      <td>0</td>\n",
       "      <td>9</td>\n",
       "      <td>0</td>\n",
       "      <td>0</td>\n",
       "      <td>59</td>\n",
       "      <td>25</td>\n",
       "      <td>343</td>\n",
       "      <td>0</td>\n",
       "      <td>15</td>\n",
       "      <td>841</td>\n",
       "      <td>129</td>\n",
       "      <td>0</td>\n",
       "      <td>8</td>\n",
       "      <td>0</td>\n",
       "      <td>414</td>\n",
       "      <td>0</td>\n",
       "    </tr>\n",
       "    <tr>\n",
       "      <th>CRIME</th>\n",
       "      <td>977</td>\n",
       "      <td>0</td>\n",
       "      <td>0</td>\n",
       "      <td>0</td>\n",
       "      <td>0</td>\n",
       "      <td>0</td>\n",
       "      <td>0</td>\n",
       "      <td>0</td>\n",
       "      <td>97</td>\n",
       "      <td>31</td>\n",
       "      <td>58</td>\n",
       "      <td>1</td>\n",
       "      <td>0</td>\n",
       "      <td>92</td>\n",
       "      <td>76</td>\n",
       "      <td>0</td>\n",
       "      <td>251</td>\n",
       "      <td>45</td>\n",
       "      <td>45</td>\n",
       "      <td>0</td>\n",
       "    </tr>\n",
       "    <tr>\n",
       "      <th>CULTURE &amp; ARTS</th>\n",
       "      <td>370</td>\n",
       "      <td>0</td>\n",
       "      <td>0</td>\n",
       "      <td>0</td>\n",
       "      <td>0</td>\n",
       "      <td>0</td>\n",
       "      <td>1</td>\n",
       "      <td>0</td>\n",
       "      <td>0</td>\n",
       "      <td>1</td>\n",
       "      <td>0</td>\n",
       "      <td>0</td>\n",
       "      <td>0</td>\n",
       "      <td>2</td>\n",
       "      <td>0</td>\n",
       "      <td>0</td>\n",
       "      <td>0</td>\n",
       "      <td>1</td>\n",
       "      <td>0</td>\n",
       "      <td>0</td>\n",
       "    </tr>\n",
       "    <tr>\n",
       "      <th>DIVORCE</th>\n",
       "      <td>1731</td>\n",
       "      <td>0</td>\n",
       "      <td>0</td>\n",
       "      <td>0</td>\n",
       "      <td>0</td>\n",
       "      <td>0</td>\n",
       "      <td>0</td>\n",
       "      <td>0</td>\n",
       "      <td>0</td>\n",
       "      <td>0</td>\n",
       "      <td>0</td>\n",
       "      <td>0</td>\n",
       "      <td>0</td>\n",
       "      <td>0</td>\n",
       "      <td>0</td>\n",
       "      <td>0</td>\n",
       "      <td>0</td>\n",
       "      <td>11</td>\n",
       "      <td>0</td>\n",
       "      <td>0</td>\n",
       "    </tr>\n",
       "    <tr>\n",
       "      <th>EDUCATION</th>\n",
       "      <td>9</td>\n",
       "      <td>0</td>\n",
       "      <td>0</td>\n",
       "      <td>0</td>\n",
       "      <td>0</td>\n",
       "      <td>0</td>\n",
       "      <td>0</td>\n",
       "      <td>0</td>\n",
       "      <td>0</td>\n",
       "      <td>1</td>\n",
       "      <td>0</td>\n",
       "      <td>0</td>\n",
       "      <td>0</td>\n",
       "      <td>1</td>\n",
       "      <td>1</td>\n",
       "      <td>0</td>\n",
       "      <td>0</td>\n",
       "      <td>0</td>\n",
       "      <td>1</td>\n",
       "      <td>0</td>\n",
       "    </tr>\n",
       "    <tr>\n",
       "      <th>ENTERTAINMENT</th>\n",
       "      <td>1779</td>\n",
       "      <td>168</td>\n",
       "      <td>827</td>\n",
       "      <td>768</td>\n",
       "      <td>0</td>\n",
       "      <td>1251</td>\n",
       "      <td>138</td>\n",
       "      <td>0</td>\n",
       "      <td>145</td>\n",
       "      <td>81</td>\n",
       "      <td>219</td>\n",
       "      <td>14</td>\n",
       "      <td>1019</td>\n",
       "      <td>491</td>\n",
       "      <td>69</td>\n",
       "      <td>0</td>\n",
       "      <td>56</td>\n",
       "      <td>38</td>\n",
       "      <td>658</td>\n",
       "      <td>5</td>\n",
       "    </tr>\n",
       "    <tr>\n",
       "      <th>ENVIRONMENT</th>\n",
       "      <td>664</td>\n",
       "      <td>0</td>\n",
       "      <td>0</td>\n",
       "      <td>0</td>\n",
       "      <td>0</td>\n",
       "      <td>0</td>\n",
       "      <td>0</td>\n",
       "      <td>0</td>\n",
       "      <td>1</td>\n",
       "      <td>3</td>\n",
       "      <td>0</td>\n",
       "      <td>0</td>\n",
       "      <td>0</td>\n",
       "      <td>0</td>\n",
       "      <td>13</td>\n",
       "      <td>0</td>\n",
       "      <td>2</td>\n",
       "      <td>124</td>\n",
       "      <td>6</td>\n",
       "      <td>0</td>\n",
       "    </tr>\n",
       "    <tr>\n",
       "      <th>FIFTY</th>\n",
       "      <td>113</td>\n",
       "      <td>0</td>\n",
       "      <td>0</td>\n",
       "      <td>0</td>\n",
       "      <td>0</td>\n",
       "      <td>0</td>\n",
       "      <td>0</td>\n",
       "      <td>0</td>\n",
       "      <td>0</td>\n",
       "      <td>0</td>\n",
       "      <td>0</td>\n",
       "      <td>0</td>\n",
       "      <td>0</td>\n",
       "      <td>0</td>\n",
       "      <td>0</td>\n",
       "      <td>0</td>\n",
       "      <td>0</td>\n",
       "      <td>0</td>\n",
       "      <td>2</td>\n",
       "      <td>0</td>\n",
       "    </tr>\n",
       "    <tr>\n",
       "      <th>FOOD &amp; DRINK</th>\n",
       "      <td>1804</td>\n",
       "      <td>2</td>\n",
       "      <td>0</td>\n",
       "      <td>5</td>\n",
       "      <td>8</td>\n",
       "      <td>0</td>\n",
       "      <td>0</td>\n",
       "      <td>0</td>\n",
       "      <td>1</td>\n",
       "      <td>0</td>\n",
       "      <td>0</td>\n",
       "      <td>0</td>\n",
       "      <td>0</td>\n",
       "      <td>0</td>\n",
       "      <td>0</td>\n",
       "      <td>0</td>\n",
       "      <td>0</td>\n",
       "      <td>1</td>\n",
       "      <td>3</td>\n",
       "      <td>0</td>\n",
       "    </tr>\n",
       "    <tr>\n",
       "      <th>GOOD NEWS</th>\n",
       "      <td>129</td>\n",
       "      <td>1</td>\n",
       "      <td>0</td>\n",
       "      <td>0</td>\n",
       "      <td>0</td>\n",
       "      <td>0</td>\n",
       "      <td>0</td>\n",
       "      <td>0</td>\n",
       "      <td>4</td>\n",
       "      <td>53</td>\n",
       "      <td>6</td>\n",
       "      <td>0</td>\n",
       "      <td>0</td>\n",
       "      <td>74</td>\n",
       "      <td>2</td>\n",
       "      <td>0</td>\n",
       "      <td>30</td>\n",
       "      <td>0</td>\n",
       "      <td>22</td>\n",
       "      <td>0</td>\n",
       "    </tr>\n",
       "    <tr>\n",
       "      <th>GREEN</th>\n",
       "      <td>559</td>\n",
       "      <td>0</td>\n",
       "      <td>0</td>\n",
       "      <td>1</td>\n",
       "      <td>0</td>\n",
       "      <td>0</td>\n",
       "      <td>0</td>\n",
       "      <td>0</td>\n",
       "      <td>0</td>\n",
       "      <td>50</td>\n",
       "      <td>16</td>\n",
       "      <td>0</td>\n",
       "      <td>0</td>\n",
       "      <td>2</td>\n",
       "      <td>76</td>\n",
       "      <td>0</td>\n",
       "      <td>25</td>\n",
       "      <td>0</td>\n",
       "      <td>11</td>\n",
       "      <td>0</td>\n",
       "    </tr>\n",
       "    <tr>\n",
       "      <th>HEALTHY LIVING</th>\n",
       "      <td>362</td>\n",
       "      <td>0</td>\n",
       "      <td>0</td>\n",
       "      <td>4</td>\n",
       "      <td>2</td>\n",
       "      <td>0</td>\n",
       "      <td>0</td>\n",
       "      <td>0</td>\n",
       "      <td>0</td>\n",
       "      <td>13</td>\n",
       "      <td>0</td>\n",
       "      <td>0</td>\n",
       "      <td>0</td>\n",
       "      <td>0</td>\n",
       "      <td>5</td>\n",
       "      <td>0</td>\n",
       "      <td>8</td>\n",
       "      <td>0</td>\n",
       "      <td>3</td>\n",
       "      <td>1</td>\n",
       "    </tr>\n",
       "    <tr>\n",
       "      <th>HOME &amp; LIVING</th>\n",
       "      <td>794</td>\n",
       "      <td>0</td>\n",
       "      <td>0</td>\n",
       "      <td>0</td>\n",
       "      <td>25</td>\n",
       "      <td>0</td>\n",
       "      <td>0</td>\n",
       "      <td>1</td>\n",
       "      <td>0</td>\n",
       "      <td>0</td>\n",
       "      <td>0</td>\n",
       "      <td>0</td>\n",
       "      <td>0</td>\n",
       "      <td>0</td>\n",
       "      <td>0</td>\n",
       "      <td>831</td>\n",
       "      <td>0</td>\n",
       "      <td>2</td>\n",
       "      <td>0</td>\n",
       "      <td>0</td>\n",
       "    </tr>\n",
       "    <tr>\n",
       "      <th>IMPACT</th>\n",
       "      <td>177</td>\n",
       "      <td>0</td>\n",
       "      <td>0</td>\n",
       "      <td>0</td>\n",
       "      <td>0</td>\n",
       "      <td>0</td>\n",
       "      <td>0</td>\n",
       "      <td>0</td>\n",
       "      <td>0</td>\n",
       "      <td>14</td>\n",
       "      <td>1</td>\n",
       "      <td>0</td>\n",
       "      <td>0</td>\n",
       "      <td>12</td>\n",
       "      <td>0</td>\n",
       "      <td>0</td>\n",
       "      <td>9</td>\n",
       "      <td>9</td>\n",
       "      <td>1</td>\n",
       "      <td>1</td>\n",
       "    </tr>\n",
       "    <tr>\n",
       "      <th>LATINO VOICES</th>\n",
       "      <td>152</td>\n",
       "      <td>0</td>\n",
       "      <td>0</td>\n",
       "      <td>0</td>\n",
       "      <td>0</td>\n",
       "      <td>0</td>\n",
       "      <td>1</td>\n",
       "      <td>0</td>\n",
       "      <td>8</td>\n",
       "      <td>1</td>\n",
       "      <td>0</td>\n",
       "      <td>0</td>\n",
       "      <td>0</td>\n",
       "      <td>6</td>\n",
       "      <td>2</td>\n",
       "      <td>0</td>\n",
       "      <td>7</td>\n",
       "      <td>0</td>\n",
       "      <td>9</td>\n",
       "      <td>0</td>\n",
       "    </tr>\n",
       "    <tr>\n",
       "      <th>MEDIA</th>\n",
       "      <td>391</td>\n",
       "      <td>2</td>\n",
       "      <td>0</td>\n",
       "      <td>1</td>\n",
       "      <td>0</td>\n",
       "      <td>0</td>\n",
       "      <td>0</td>\n",
       "      <td>0</td>\n",
       "      <td>16</td>\n",
       "      <td>32</td>\n",
       "      <td>224</td>\n",
       "      <td>0</td>\n",
       "      <td>0</td>\n",
       "      <td>80</td>\n",
       "      <td>55</td>\n",
       "      <td>0</td>\n",
       "      <td>7</td>\n",
       "      <td>0</td>\n",
       "      <td>22</td>\n",
       "      <td>9</td>\n",
       "    </tr>\n",
       "    <tr>\n",
       "      <th>MONEY</th>\n",
       "      <td>216</td>\n",
       "      <td>0</td>\n",
       "      <td>0</td>\n",
       "      <td>1</td>\n",
       "      <td>1</td>\n",
       "      <td>0</td>\n",
       "      <td>0</td>\n",
       "      <td>0</td>\n",
       "      <td>0</td>\n",
       "      <td>1</td>\n",
       "      <td>0</td>\n",
       "      <td>0</td>\n",
       "      <td>0</td>\n",
       "      <td>0</td>\n",
       "      <td>0</td>\n",
       "      <td>0</td>\n",
       "      <td>0</td>\n",
       "      <td>81</td>\n",
       "      <td>20</td>\n",
       "      <td>0</td>\n",
       "    </tr>\n",
       "    <tr>\n",
       "      <th>PARENTING</th>\n",
       "      <td>2270</td>\n",
       "      <td>0</td>\n",
       "      <td>0</td>\n",
       "      <td>1</td>\n",
       "      <td>48</td>\n",
       "      <td>0</td>\n",
       "      <td>0</td>\n",
       "      <td>0</td>\n",
       "      <td>2</td>\n",
       "      <td>12</td>\n",
       "      <td>1</td>\n",
       "      <td>0</td>\n",
       "      <td>0</td>\n",
       "      <td>0</td>\n",
       "      <td>0</td>\n",
       "      <td>0</td>\n",
       "      <td>0</td>\n",
       "      <td>53</td>\n",
       "      <td>47</td>\n",
       "      <td>0</td>\n",
       "    </tr>\n",
       "    <tr>\n",
       "      <th>PARENTS</th>\n",
       "      <td>114</td>\n",
       "      <td>0</td>\n",
       "      <td>0</td>\n",
       "      <td>7</td>\n",
       "      <td>742</td>\n",
       "      <td>0</td>\n",
       "      <td>0</td>\n",
       "      <td>0</td>\n",
       "      <td>15</td>\n",
       "      <td>24</td>\n",
       "      <td>11</td>\n",
       "      <td>0</td>\n",
       "      <td>0</td>\n",
       "      <td>41</td>\n",
       "      <td>0</td>\n",
       "      <td>0</td>\n",
       "      <td>21</td>\n",
       "      <td>0</td>\n",
       "      <td>9</td>\n",
       "      <td>0</td>\n",
       "    </tr>\n",
       "    <tr>\n",
       "      <th>POLITICS</th>\n",
       "      <td>3626</td>\n",
       "      <td>9</td>\n",
       "      <td>0</td>\n",
       "      <td>4</td>\n",
       "      <td>1</td>\n",
       "      <td>0</td>\n",
       "      <td>11</td>\n",
       "      <td>0</td>\n",
       "      <td>165</td>\n",
       "      <td>166</td>\n",
       "      <td>347</td>\n",
       "      <td>890</td>\n",
       "      <td>0</td>\n",
       "      <td>531</td>\n",
       "      <td>859</td>\n",
       "      <td>0</td>\n",
       "      <td>144</td>\n",
       "      <td>0</td>\n",
       "      <td>83</td>\n",
       "      <td>877</td>\n",
       "    </tr>\n",
       "    <tr>\n",
       "      <th>QUEER VOICES</th>\n",
       "      <td>1067</td>\n",
       "      <td>6</td>\n",
       "      <td>0</td>\n",
       "      <td>0</td>\n",
       "      <td>0</td>\n",
       "      <td>1</td>\n",
       "      <td>971</td>\n",
       "      <td>0</td>\n",
       "      <td>17</td>\n",
       "      <td>12</td>\n",
       "      <td>11</td>\n",
       "      <td>0</td>\n",
       "      <td>0</td>\n",
       "      <td>6</td>\n",
       "      <td>3</td>\n",
       "      <td>0</td>\n",
       "      <td>21</td>\n",
       "      <td>21</td>\n",
       "      <td>17</td>\n",
       "      <td>1</td>\n",
       "    </tr>\n",
       "    <tr>\n",
       "      <th>RELIGION</th>\n",
       "      <td>391</td>\n",
       "      <td>0</td>\n",
       "      <td>0</td>\n",
       "      <td>0</td>\n",
       "      <td>1</td>\n",
       "      <td>0</td>\n",
       "      <td>0</td>\n",
       "      <td>0</td>\n",
       "      <td>4</td>\n",
       "      <td>7</td>\n",
       "      <td>7</td>\n",
       "      <td>0</td>\n",
       "      <td>0</td>\n",
       "      <td>7</td>\n",
       "      <td>7</td>\n",
       "      <td>0</td>\n",
       "      <td>8</td>\n",
       "      <td>0</td>\n",
       "      <td>6</td>\n",
       "      <td>0</td>\n",
       "    </tr>\n",
       "    <tr>\n",
       "      <th>SCIENCE</th>\n",
       "      <td>476</td>\n",
       "      <td>5</td>\n",
       "      <td>0</td>\n",
       "      <td>0</td>\n",
       "      <td>0</td>\n",
       "      <td>0</td>\n",
       "      <td>0</td>\n",
       "      <td>0</td>\n",
       "      <td>1</td>\n",
       "      <td>45</td>\n",
       "      <td>53</td>\n",
       "      <td>0</td>\n",
       "      <td>0</td>\n",
       "      <td>46</td>\n",
       "      <td>20</td>\n",
       "      <td>0</td>\n",
       "      <td>21</td>\n",
       "      <td>15</td>\n",
       "      <td>18</td>\n",
       "      <td>0</td>\n",
       "    </tr>\n",
       "    <tr>\n",
       "      <th>SPORTS</th>\n",
       "      <td>940</td>\n",
       "      <td>15</td>\n",
       "      <td>3</td>\n",
       "      <td>5</td>\n",
       "      <td>1</td>\n",
       "      <td>2</td>\n",
       "      <td>2</td>\n",
       "      <td>0</td>\n",
       "      <td>17</td>\n",
       "      <td>36</td>\n",
       "      <td>55</td>\n",
       "      <td>1</td>\n",
       "      <td>0</td>\n",
       "      <td>111</td>\n",
       "      <td>14</td>\n",
       "      <td>0</td>\n",
       "      <td>31</td>\n",
       "      <td>5</td>\n",
       "      <td>420</td>\n",
       "      <td>2</td>\n",
       "    </tr>\n",
       "    <tr>\n",
       "      <th>STYLE</th>\n",
       "      <td>128</td>\n",
       "      <td>0</td>\n",
       "      <td>0</td>\n",
       "      <td>148</td>\n",
       "      <td>0</td>\n",
       "      <td>0</td>\n",
       "      <td>0</td>\n",
       "      <td>184</td>\n",
       "      <td>2</td>\n",
       "      <td>6</td>\n",
       "      <td>0</td>\n",
       "      <td>0</td>\n",
       "      <td>20</td>\n",
       "      <td>3</td>\n",
       "      <td>0</td>\n",
       "      <td>0</td>\n",
       "      <td>1</td>\n",
       "      <td>0</td>\n",
       "      <td>6</td>\n",
       "      <td>0</td>\n",
       "    </tr>\n",
       "    <tr>\n",
       "      <th>STYLE &amp; BEAUTY</th>\n",
       "      <td>2527</td>\n",
       "      <td>0</td>\n",
       "      <td>0</td>\n",
       "      <td>9</td>\n",
       "      <td>6</td>\n",
       "      <td>0</td>\n",
       "      <td>1</td>\n",
       "      <td>749</td>\n",
       "      <td>1</td>\n",
       "      <td>2</td>\n",
       "      <td>0</td>\n",
       "      <td>0</td>\n",
       "      <td>4</td>\n",
       "      <td>0</td>\n",
       "      <td>0</td>\n",
       "      <td>45</td>\n",
       "      <td>0</td>\n",
       "      <td>6</td>\n",
       "      <td>4</td>\n",
       "      <td>0</td>\n",
       "    </tr>\n",
       "    <tr>\n",
       "      <th>TASTE</th>\n",
       "      <td>56</td>\n",
       "      <td>1</td>\n",
       "      <td>0</td>\n",
       "      <td>106</td>\n",
       "      <td>1</td>\n",
       "      <td>0</td>\n",
       "      <td>0</td>\n",
       "      <td>0</td>\n",
       "      <td>8</td>\n",
       "      <td>3</td>\n",
       "      <td>4</td>\n",
       "      <td>0</td>\n",
       "      <td>0</td>\n",
       "      <td>12</td>\n",
       "      <td>0</td>\n",
       "      <td>0</td>\n",
       "      <td>1</td>\n",
       "      <td>0</td>\n",
       "      <td>12</td>\n",
       "      <td>0</td>\n",
       "    </tr>\n",
       "    <tr>\n",
       "      <th>TECH</th>\n",
       "      <td>422</td>\n",
       "      <td>2</td>\n",
       "      <td>0</td>\n",
       "      <td>0</td>\n",
       "      <td>1</td>\n",
       "      <td>0</td>\n",
       "      <td>0</td>\n",
       "      <td>0</td>\n",
       "      <td>6</td>\n",
       "      <td>15</td>\n",
       "      <td>0</td>\n",
       "      <td>0</td>\n",
       "      <td>0</td>\n",
       "      <td>18</td>\n",
       "      <td>18</td>\n",
       "      <td>0</td>\n",
       "      <td>13</td>\n",
       "      <td>131</td>\n",
       "      <td>5</td>\n",
       "      <td>1</td>\n",
       "    </tr>\n",
       "    <tr>\n",
       "      <th>THE WORLDPOST</th>\n",
       "      <td>1466</td>\n",
       "      <td>0</td>\n",
       "      <td>0</td>\n",
       "      <td>0</td>\n",
       "      <td>0</td>\n",
       "      <td>0</td>\n",
       "      <td>0</td>\n",
       "      <td>0</td>\n",
       "      <td>0</td>\n",
       "      <td>20</td>\n",
       "      <td>4</td>\n",
       "      <td>0</td>\n",
       "      <td>0</td>\n",
       "      <td>25</td>\n",
       "      <td>10</td>\n",
       "      <td>0</td>\n",
       "      <td>27</td>\n",
       "      <td>0</td>\n",
       "      <td>6</td>\n",
       "      <td>5</td>\n",
       "    </tr>\n",
       "    <tr>\n",
       "      <th>TRAVEL</th>\n",
       "      <td>1405</td>\n",
       "      <td>0</td>\n",
       "      <td>0</td>\n",
       "      <td>91</td>\n",
       "      <td>14</td>\n",
       "      <td>0</td>\n",
       "      <td>0</td>\n",
       "      <td>0</td>\n",
       "      <td>3</td>\n",
       "      <td>3</td>\n",
       "      <td>21</td>\n",
       "      <td>0</td>\n",
       "      <td>0</td>\n",
       "      <td>4</td>\n",
       "      <td>0</td>\n",
       "      <td>0</td>\n",
       "      <td>11</td>\n",
       "      <td>56</td>\n",
       "      <td>9</td>\n",
       "      <td>0</td>\n",
       "    </tr>\n",
       "    <tr>\n",
       "      <th>U.S. NEWS</th>\n",
       "      <td>284</td>\n",
       "      <td>1</td>\n",
       "      <td>0</td>\n",
       "      <td>1</td>\n",
       "      <td>0</td>\n",
       "      <td>0</td>\n",
       "      <td>1</td>\n",
       "      <td>0</td>\n",
       "      <td>8</td>\n",
       "      <td>69</td>\n",
       "      <td>4</td>\n",
       "      <td>0</td>\n",
       "      <td>0</td>\n",
       "      <td>29</td>\n",
       "      <td>67</td>\n",
       "      <td>0</td>\n",
       "      <td>93</td>\n",
       "      <td>0</td>\n",
       "      <td>10</td>\n",
       "      <td>0</td>\n",
       "    </tr>\n",
       "    <tr>\n",
       "      <th>WEDDINGS</th>\n",
       "      <td>1948</td>\n",
       "      <td>0</td>\n",
       "      <td>0</td>\n",
       "      <td>0</td>\n",
       "      <td>0</td>\n",
       "      <td>0</td>\n",
       "      <td>0</td>\n",
       "      <td>0</td>\n",
       "      <td>1</td>\n",
       "      <td>1</td>\n",
       "      <td>0</td>\n",
       "      <td>0</td>\n",
       "      <td>0</td>\n",
       "      <td>0</td>\n",
       "      <td>0</td>\n",
       "      <td>0</td>\n",
       "      <td>0</td>\n",
       "      <td>3</td>\n",
       "      <td>2</td>\n",
       "      <td>0</td>\n",
       "    </tr>\n",
       "    <tr>\n",
       "      <th>WEIRD NEWS</th>\n",
       "      <td>418</td>\n",
       "      <td>11</td>\n",
       "      <td>0</td>\n",
       "      <td>1</td>\n",
       "      <td>1</td>\n",
       "      <td>0</td>\n",
       "      <td>0</td>\n",
       "      <td>0</td>\n",
       "      <td>411</td>\n",
       "      <td>26</td>\n",
       "      <td>150</td>\n",
       "      <td>0</td>\n",
       "      <td>0</td>\n",
       "      <td>393</td>\n",
       "      <td>29</td>\n",
       "      <td>0</td>\n",
       "      <td>142</td>\n",
       "      <td>0</td>\n",
       "      <td>269</td>\n",
       "      <td>0</td>\n",
       "    </tr>\n",
       "    <tr>\n",
       "      <th>WELLNESS</th>\n",
       "      <td>5000</td>\n",
       "      <td>0</td>\n",
       "      <td>0</td>\n",
       "      <td>1</td>\n",
       "      <td>8</td>\n",
       "      <td>0</td>\n",
       "      <td>0</td>\n",
       "      <td>0</td>\n",
       "      <td>0</td>\n",
       "      <td>11</td>\n",
       "      <td>0</td>\n",
       "      <td>0</td>\n",
       "      <td>0</td>\n",
       "      <td>0</td>\n",
       "      <td>0</td>\n",
       "      <td>0</td>\n",
       "      <td>0</td>\n",
       "      <td>642</td>\n",
       "      <td>6</td>\n",
       "      <td>0</td>\n",
       "    </tr>\n",
       "    <tr>\n",
       "      <th>WOMEN</th>\n",
       "      <td>370</td>\n",
       "      <td>1</td>\n",
       "      <td>0</td>\n",
       "      <td>1</td>\n",
       "      <td>27</td>\n",
       "      <td>0</td>\n",
       "      <td>3</td>\n",
       "      <td>0</td>\n",
       "      <td>8</td>\n",
       "      <td>5</td>\n",
       "      <td>0</td>\n",
       "      <td>0</td>\n",
       "      <td>0</td>\n",
       "      <td>25</td>\n",
       "      <td>12</td>\n",
       "      <td>0</td>\n",
       "      <td>5</td>\n",
       "      <td>0</td>\n",
       "      <td>9</td>\n",
       "      <td>0</td>\n",
       "    </tr>\n",
       "    <tr>\n",
       "      <th>WORLD NEWS</th>\n",
       "      <td>619</td>\n",
       "      <td>1</td>\n",
       "      <td>0</td>\n",
       "      <td>9</td>\n",
       "      <td>0</td>\n",
       "      <td>0</td>\n",
       "      <td>0</td>\n",
       "      <td>0</td>\n",
       "      <td>6</td>\n",
       "      <td>126</td>\n",
       "      <td>10</td>\n",
       "      <td>0</td>\n",
       "      <td>0</td>\n",
       "      <td>28</td>\n",
       "      <td>61</td>\n",
       "      <td>0</td>\n",
       "      <td>53</td>\n",
       "      <td>1</td>\n",
       "      <td>4</td>\n",
       "      <td>0</td>\n",
       "    </tr>\n",
       "    <tr>\n",
       "      <th>WORLDPOST</th>\n",
       "      <td>774</td>\n",
       "      <td>0</td>\n",
       "      <td>0</td>\n",
       "      <td>0</td>\n",
       "      <td>0</td>\n",
       "      <td>0</td>\n",
       "      <td>0</td>\n",
       "      <td>0</td>\n",
       "      <td>0</td>\n",
       "      <td>3</td>\n",
       "      <td>4</td>\n",
       "      <td>0</td>\n",
       "      <td>0</td>\n",
       "      <td>0</td>\n",
       "      <td>0</td>\n",
       "      <td>0</td>\n",
       "      <td>0</td>\n",
       "      <td>0</td>\n",
       "      <td>2</td>\n",
       "      <td>0</td>\n",
       "    </tr>\n",
       "  </tbody>\n",
       "</table>\n",
       "</div>"
      ],
      "text/plain": [
       "authors               Andy McDonald  Bill Bradley  Carly Ledbetter  \\\n",
       "category                                                             \n",
       "ARTS              19              0             0                0   \n",
       "ARTS & CULTURE    32              4             0                1   \n",
       "BLACK VOICES    1008             14             0                1   \n",
       "BUSINESS         991              0             0                0   \n",
       "COLLEGE          111              0             0                0   \n",
       "COMEDY           729            857           167                4   \n",
       "CRIME            977              0             0                0   \n",
       "CULTURE & ARTS   370              0             0                0   \n",
       "DIVORCE         1731              0             0                0   \n",
       "EDUCATION          9              0             0                0   \n",
       "ENTERTAINMENT   1779            168           827              768   \n",
       "ENVIRONMENT      664              0             0                0   \n",
       "FIFTY            113              0             0                0   \n",
       "FOOD & DRINK    1804              2             0                5   \n",
       "GOOD NEWS        129              1             0                0   \n",
       "GREEN            559              0             0                1   \n",
       "HEALTHY LIVING   362              0             0                4   \n",
       "HOME & LIVING    794              0             0                0   \n",
       "IMPACT           177              0             0                0   \n",
       "LATINO VOICES    152              0             0                0   \n",
       "MEDIA            391              2             0                1   \n",
       "MONEY            216              0             0                1   \n",
       "PARENTING       2270              0             0                1   \n",
       "PARENTS          114              0             0                7   \n",
       "POLITICS        3626              9             0                4   \n",
       "QUEER VOICES    1067              6             0                0   \n",
       "RELIGION         391              0             0                0   \n",
       "SCIENCE          476              5             0                0   \n",
       "SPORTS           940             15             3                5   \n",
       "STYLE            128              0             0              148   \n",
       "STYLE & BEAUTY  2527              0             0                9   \n",
       "TASTE             56              1             0              106   \n",
       "TECH             422              2             0                0   \n",
       "THE WORLDPOST   1466              0             0                0   \n",
       "TRAVEL          1405              0             0               91   \n",
       "U.S. NEWS        284              1             0                1   \n",
       "WEDDINGS        1948              0             0                0   \n",
       "WEIRD NEWS       418             11             0                1   \n",
       "WELLNESS        5000              0             0                1   \n",
       "WOMEN            370              1             0                1   \n",
       "WORLD NEWS       619              1             0                9   \n",
       "WORLDPOST        774              0             0                0   \n",
       "\n",
       "authors         Caroline Bologna  Cole Delbyck  Curtis M. Wong  Dana Oliver  \\\n",
       "category                                                                      \n",
       "ARTS                           0             0               7            0   \n",
       "ARTS & CULTURE                 1             3               6            0   \n",
       "BLACK VOICES                   0             0               4            2   \n",
       "BUSINESS                       1             0               0            0   \n",
       "COLLEGE                        0             0               0            0   \n",
       "COMEDY                         0             9               0            0   \n",
       "CRIME                          0             0               0            0   \n",
       "CULTURE & ARTS                 0             0               1            0   \n",
       "DIVORCE                        0             0               0            0   \n",
       "EDUCATION                      0             0               0            0   \n",
       "ENTERTAINMENT                  0          1251             138            0   \n",
       "ENVIRONMENT                    0             0               0            0   \n",
       "FIFTY                          0             0               0            0   \n",
       "FOOD & DRINK                   8             0               0            0   \n",
       "GOOD NEWS                      0             0               0            0   \n",
       "GREEN                          0             0               0            0   \n",
       "HEALTHY LIVING                 2             0               0            0   \n",
       "HOME & LIVING                 25             0               0            1   \n",
       "IMPACT                         0             0               0            0   \n",
       "LATINO VOICES                  0             0               1            0   \n",
       "MEDIA                          0             0               0            0   \n",
       "MONEY                          1             0               0            0   \n",
       "PARENTING                     48             0               0            0   \n",
       "PARENTS                      742             0               0            0   \n",
       "POLITICS                       1             0              11            0   \n",
       "QUEER VOICES                   0             1             971            0   \n",
       "RELIGION                       1             0               0            0   \n",
       "SCIENCE                        0             0               0            0   \n",
       "SPORTS                         1             2               2            0   \n",
       "STYLE                          0             0               0          184   \n",
       "STYLE & BEAUTY                 6             0               1          749   \n",
       "TASTE                          1             0               0            0   \n",
       "TECH                           1             0               0            0   \n",
       "THE WORLDPOST                  0             0               0            0   \n",
       "TRAVEL                        14             0               0            0   \n",
       "U.S. NEWS                      0             0               1            0   \n",
       "WEDDINGS                       0             0               0            0   \n",
       "WEIRD NEWS                     1             0               0            0   \n",
       "WELLNESS                       8             0               0            0   \n",
       "WOMEN                         27             0               3            0   \n",
       "WORLD NEWS                     0             0               0            0   \n",
       "WORLDPOST                      0             0               0            0   \n",
       "\n",
       "authors         David Moye  Dominique Mosbergen  Ed Mazza  Igor Bobic  \\\n",
       "category                                                                \n",
       "ARTS                     0                    4         0           0   \n",
       "ARTS & CULTURE           6                    3         6           0   \n",
       "BLACK VOICES            53                    6        12           0   \n",
       "BUSINESS                 2                   21        21           1   \n",
       "COLLEGE                  0                    3         2           0   \n",
       "COMEDY                  59                   25       343           0   \n",
       "CRIME                   97                   31        58           1   \n",
       "CULTURE & ARTS           0                    1         0           0   \n",
       "DIVORCE                  0                    0         0           0   \n",
       "EDUCATION                0                    1         0           0   \n",
       "ENTERTAINMENT          145                   81       219          14   \n",
       "ENVIRONMENT              1                    3         0           0   \n",
       "FIFTY                    0                    0         0           0   \n",
       "FOOD & DRINK             1                    0         0           0   \n",
       "GOOD NEWS                4                   53         6           0   \n",
       "GREEN                    0                   50        16           0   \n",
       "HEALTHY LIVING           0                   13         0           0   \n",
       "HOME & LIVING            0                    0         0           0   \n",
       "IMPACT                   0                   14         1           0   \n",
       "LATINO VOICES            8                    1         0           0   \n",
       "MEDIA                   16                   32       224           0   \n",
       "MONEY                    0                    1         0           0   \n",
       "PARENTING                2                   12         1           0   \n",
       "PARENTS                 15                   24        11           0   \n",
       "POLITICS               165                  166       347         890   \n",
       "QUEER VOICES            17                   12        11           0   \n",
       "RELIGION                 4                    7         7           0   \n",
       "SCIENCE                  1                   45        53           0   \n",
       "SPORTS                  17                   36        55           1   \n",
       "STYLE                    2                    6         0           0   \n",
       "STYLE & BEAUTY           1                    2         0           0   \n",
       "TASTE                    8                    3         4           0   \n",
       "TECH                     6                   15         0           0   \n",
       "THE WORLDPOST            0                   20         4           0   \n",
       "TRAVEL                   3                    3        21           0   \n",
       "U.S. NEWS                8                   69         4           0   \n",
       "WEDDINGS                 1                    1         0           0   \n",
       "WEIRD NEWS             411                   26       150           0   \n",
       "WELLNESS                 0                   11         0           0   \n",
       "WOMEN                    8                    5         0           0   \n",
       "WORLD NEWS               6                  126        10           0   \n",
       "WORLDPOST                0                    3         4           0   \n",
       "\n",
       "authors         Julia Brucculieri  Lee Moran  Mary Papenfuss  \\\n",
       "category                                                       \n",
       "ARTS                            0          0               0   \n",
       "ARTS & CULTURE                  5         41               6   \n",
       "BLACK VOICES                    0         31               7   \n",
       "BUSINESS                        0          2              25   \n",
       "COLLEGE                         0          0               0   \n",
       "COMEDY                         15        841             129   \n",
       "CRIME                           0         92              76   \n",
       "CULTURE & ARTS                  0          2               0   \n",
       "DIVORCE                         0          0               0   \n",
       "EDUCATION                       0          1               1   \n",
       "ENTERTAINMENT                1019        491              69   \n",
       "ENVIRONMENT                     0          0              13   \n",
       "FIFTY                           0          0               0   \n",
       "FOOD & DRINK                    0          0               0   \n",
       "GOOD NEWS                       0         74               2   \n",
       "GREEN                           0          2              76   \n",
       "HEALTHY LIVING                  0          0               5   \n",
       "HOME & LIVING                   0          0               0   \n",
       "IMPACT                          0         12               0   \n",
       "LATINO VOICES                   0          6               2   \n",
       "MEDIA                           0         80              55   \n",
       "MONEY                           0          0               0   \n",
       "PARENTING                       0          0               0   \n",
       "PARENTS                         0         41               0   \n",
       "POLITICS                        0        531             859   \n",
       "QUEER VOICES                    0          6               3   \n",
       "RELIGION                        0          7               7   \n",
       "SCIENCE                         0         46              20   \n",
       "SPORTS                          0        111              14   \n",
       "STYLE                          20          3               0   \n",
       "STYLE & BEAUTY                  4          0               0   \n",
       "TASTE                           0         12               0   \n",
       "TECH                            0         18              18   \n",
       "THE WORLDPOST                   0         25              10   \n",
       "TRAVEL                          0          4               0   \n",
       "U.S. NEWS                       0         29              67   \n",
       "WEDDINGS                        0          0               0   \n",
       "WEIRD NEWS                      0        393              29   \n",
       "WELLNESS                        0          0               0   \n",
       "WOMEN                           0         25              12   \n",
       "WORLD NEWS                      0         28              61   \n",
       "WORLDPOST                       0          0               0   \n",
       "\n",
       "authors         Michelle Manetti  Nina Golgowski  Reuters, Reuters  \\\n",
       "category                                                             \n",
       "ARTS                           0               0                 0   \n",
       "ARTS & CULTURE                 0               7                 0   \n",
       "BLACK VOICES                   0              35                23   \n",
       "BUSINESS                       0              13               294   \n",
       "COLLEGE                        0               2                 1   \n",
       "COMEDY                         0               8                 0   \n",
       "CRIME                          0             251                45   \n",
       "CULTURE & ARTS                 0               0                 1   \n",
       "DIVORCE                        0               0                11   \n",
       "EDUCATION                      0               0                 0   \n",
       "ENTERTAINMENT                  0              56                38   \n",
       "ENVIRONMENT                    0               2               124   \n",
       "FIFTY                          0               0                 0   \n",
       "FOOD & DRINK                   0               0                 1   \n",
       "GOOD NEWS                      0              30                 0   \n",
       "GREEN                          0              25                 0   \n",
       "HEALTHY LIVING                 0               8                 0   \n",
       "HOME & LIVING                831               0                 2   \n",
       "IMPACT                         0               9                 9   \n",
       "LATINO VOICES                  0               7                 0   \n",
       "MEDIA                          0               7                 0   \n",
       "MONEY                          0               0                81   \n",
       "PARENTING                      0               0                53   \n",
       "PARENTS                        0              21                 0   \n",
       "POLITICS                       0             144                 0   \n",
       "QUEER VOICES                   0              21                21   \n",
       "RELIGION                       0               8                 0   \n",
       "SCIENCE                        0              21                15   \n",
       "SPORTS                         0              31                 5   \n",
       "STYLE                          0               1                 0   \n",
       "STYLE & BEAUTY                45               0                 6   \n",
       "TASTE                          0               1                 0   \n",
       "TECH                           0              13               131   \n",
       "THE WORLDPOST                  0              27                 0   \n",
       "TRAVEL                         0              11                56   \n",
       "U.S. NEWS                      0              93                 0   \n",
       "WEDDINGS                       0               0                 3   \n",
       "WEIRD NEWS                     0             142                 0   \n",
       "WELLNESS                       0               0               642   \n",
       "WOMEN                          0               5                 0   \n",
       "WORLD NEWS                     0              53                 1   \n",
       "WORLDPOST                      0               0                 0   \n",
       "\n",
       "authors         Ron Dicker  Sam Levine  \n",
       "category                                \n",
       "ARTS                     1           0  \n",
       "ARTS & CULTURE           3           0  \n",
       "BLACK VOICES            40           1  \n",
       "BUSINESS                13           2  \n",
       "COLLEGE                  1           0  \n",
       "COMEDY                 414           0  \n",
       "CRIME                   45           0  \n",
       "CULTURE & ARTS           0           0  \n",
       "DIVORCE                  0           0  \n",
       "EDUCATION                1           0  \n",
       "ENTERTAINMENT          658           5  \n",
       "ENVIRONMENT              6           0  \n",
       "FIFTY                    2           0  \n",
       "FOOD & DRINK             3           0  \n",
       "GOOD NEWS               22           0  \n",
       "GREEN                   11           0  \n",
       "HEALTHY LIVING           3           1  \n",
       "HOME & LIVING            0           0  \n",
       "IMPACT                   1           1  \n",
       "LATINO VOICES            9           0  \n",
       "MEDIA                   22           9  \n",
       "MONEY                   20           0  \n",
       "PARENTING               47           0  \n",
       "PARENTS                  9           0  \n",
       "POLITICS                83         877  \n",
       "QUEER VOICES            17           1  \n",
       "RELIGION                 6           0  \n",
       "SCIENCE                 18           0  \n",
       "SPORTS                 420           2  \n",
       "STYLE                    6           0  \n",
       "STYLE & BEAUTY           4           0  \n",
       "TASTE                   12           0  \n",
       "TECH                     5           1  \n",
       "THE WORLDPOST            6           5  \n",
       "TRAVEL                   9           0  \n",
       "U.S. NEWS               10           0  \n",
       "WEDDINGS                 2           0  \n",
       "WEIRD NEWS             269           0  \n",
       "WELLNESS                 6           0  \n",
       "WOMEN                    9           0  \n",
       "WORLD NEWS               4           0  \n",
       "WORLDPOST                2           0  "
      ]
     },
     "execution_count": 9,
     "metadata": {},
     "output_type": "execute_result"
    }
   ],
   "source": [
    "pd.crosstab(data[data['authors'].isin(list(data['authors'].value_counts()[:20].index))]['category'], data[data['authors'].isin(list(data['authors'].value_counts()[:20].index))]['authors'])"
   ]
  },
  {
   "cell_type": "markdown",
   "id": "e7d87434",
   "metadata": {},
   "source": [
    "All authors wrote on more than 2 topics."
   ]
  },
  {
   "cell_type": "markdown",
   "id": "6ace15f3",
   "metadata": {},
   "source": [
    "**Length text distribution**"
   ]
  },
  {
   "cell_type": "code",
   "execution_count": 10,
   "id": "731e8fe9",
   "metadata": {},
   "outputs": [
    {
     "data": {
      "text/html": [
       "<div>\n",
       "<style scoped>\n",
       "    .dataframe tbody tr th:only-of-type {\n",
       "        vertical-align: middle;\n",
       "    }\n",
       "\n",
       "    .dataframe tbody tr th {\n",
       "        vertical-align: top;\n",
       "    }\n",
       "\n",
       "    .dataframe thead th {\n",
       "        text-align: right;\n",
       "    }\n",
       "</style>\n",
       "<table border=\"1\" class=\"dataframe\">\n",
       "  <thead>\n",
       "    <tr style=\"text-align: right;\">\n",
       "      <th></th>\n",
       "      <th>headline</th>\n",
       "      <th>short_description</th>\n",
       "      <th>news</th>\n",
       "    </tr>\n",
       "  </thead>\n",
       "  <tbody>\n",
       "    <tr>\n",
       "      <th>count</th>\n",
       "      <td>209527.000000</td>\n",
       "      <td>209527.000000</td>\n",
       "      <td>209527.000000</td>\n",
       "    </tr>\n",
       "    <tr>\n",
       "      <th>mean</th>\n",
       "      <td>58.415355</td>\n",
       "      <td>114.208670</td>\n",
       "      <td>176.624025</td>\n",
       "    </tr>\n",
       "    <tr>\n",
       "      <th>std</th>\n",
       "      <td>18.808506</td>\n",
       "      <td>80.840575</td>\n",
       "      <td>78.552970</td>\n",
       "    </tr>\n",
       "    <tr>\n",
       "      <th>min</th>\n",
       "      <td>0.000000</td>\n",
       "      <td>0.000000</td>\n",
       "      <td>4.000000</td>\n",
       "    </tr>\n",
       "    <tr>\n",
       "      <th>10%</th>\n",
       "      <td>33.000000</td>\n",
       "      <td>9.000000</td>\n",
       "      <td>79.000000</td>\n",
       "    </tr>\n",
       "    <tr>\n",
       "      <th>20%</th>\n",
       "      <td>42.000000</td>\n",
       "      <td>46.000000</td>\n",
       "      <td>112.000000</td>\n",
       "    </tr>\n",
       "    <tr>\n",
       "      <th>30%</th>\n",
       "      <td>49.000000</td>\n",
       "      <td>70.000000</td>\n",
       "      <td>137.800000</td>\n",
       "    </tr>\n",
       "    <tr>\n",
       "      <th>40%</th>\n",
       "      <td>55.000000</td>\n",
       "      <td>94.000000</td>\n",
       "      <td>158.000000</td>\n",
       "    </tr>\n",
       "    <tr>\n",
       "      <th>50%</th>\n",
       "      <td>60.000000</td>\n",
       "      <td>120.000000</td>\n",
       "      <td>174.000000</td>\n",
       "    </tr>\n",
       "    <tr>\n",
       "      <th>60%</th>\n",
       "      <td>64.000000</td>\n",
       "      <td>122.000000</td>\n",
       "      <td>187.000000</td>\n",
       "    </tr>\n",
       "    <tr>\n",
       "      <th>70%</th>\n",
       "      <td>69.000000</td>\n",
       "      <td>126.000000</td>\n",
       "      <td>202.000000</td>\n",
       "    </tr>\n",
       "    <tr>\n",
       "      <th>80%</th>\n",
       "      <td>74.000000</td>\n",
       "      <td>163.000000</td>\n",
       "      <td>225.000000</td>\n",
       "    </tr>\n",
       "    <tr>\n",
       "      <th>90%</th>\n",
       "      <td>81.000000</td>\n",
       "      <td>233.000000</td>\n",
       "      <td>283.000000</td>\n",
       "    </tr>\n",
       "    <tr>\n",
       "      <th>99%</th>\n",
       "      <td>101.000000</td>\n",
       "      <td>321.000000</td>\n",
       "      <td>381.740000</td>\n",
       "    </tr>\n",
       "    <tr>\n",
       "      <th>max</th>\n",
       "      <td>320.000000</td>\n",
       "      <td>1472.000000</td>\n",
       "      <td>1490.000000</td>\n",
       "    </tr>\n",
       "  </tbody>\n",
       "</table>\n",
       "</div>"
      ],
      "text/plain": [
       "            headline  short_description           news\n",
       "count  209527.000000      209527.000000  209527.000000\n",
       "mean       58.415355         114.208670     176.624025\n",
       "std        18.808506          80.840575      78.552970\n",
       "min         0.000000           0.000000       4.000000\n",
       "10%        33.000000           9.000000      79.000000\n",
       "20%        42.000000          46.000000     112.000000\n",
       "30%        49.000000          70.000000     137.800000\n",
       "40%        55.000000          94.000000     158.000000\n",
       "50%        60.000000         120.000000     174.000000\n",
       "60%        64.000000         122.000000     187.000000\n",
       "70%        69.000000         126.000000     202.000000\n",
       "80%        74.000000         163.000000     225.000000\n",
       "90%        81.000000         233.000000     283.000000\n",
       "99%       101.000000         321.000000     381.740000\n",
       "max       320.000000        1472.000000    1490.000000"
      ]
     },
     "execution_count": 10,
     "metadata": {},
     "output_type": "execute_result"
    }
   ],
   "source": [
    "\n",
    "perc = [0.1,0.2,0.3,0.4,0.5,0.6,0.7,0.8,0.9,0.99]\n",
    "data['news'] = data['headline'] +' -- '+ data['short_description']\n",
    "pd.concat([\n",
    "    pd.DataFrame(data['headline'].str.len().describe(percentiles=perc)),\n",
    "    pd.DataFrame(data['short_description'].str.len().describe(percentiles=perc)),\n",
    "    pd.DataFrame(data['news'].str.len().describe(percentiles=perc))\n",
    "], axis=1)"
   ]
  },
  {
   "cell_type": "markdown",
   "id": "692279f2",
   "metadata": {},
   "source": [
    "We have shorts texts, 99% has less than 400 characteres."
   ]
  },
  {
   "cell_type": "markdown",
   "id": "93a8e7db",
   "metadata": {},
   "source": [
    "# DATA PROCESSING"
   ]
  },
  {
   "cell_type": "markdown",
   "id": "5e72ad91",
   "metadata": {},
   "source": [
    "**Encode the target**\n",
    "\n",
    "We have to work with numerical target, not string."
   ]
  },
  {
   "cell_type": "code",
   "execution_count": 11,
   "id": "504a6e95",
   "metadata": {},
   "outputs": [],
   "source": [
    "label_encoder = LabelEncoder()\n",
    "data['label'] = label_encoder.fit_transform(data['category'])"
   ]
  },
  {
   "cell_type": "code",
   "execution_count": 15,
   "id": "fc50d3f6",
   "metadata": {},
   "outputs": [],
   "source": [
    "data_work = data[['news', 'label']]\n"
   ]
  },
  {
   "cell_type": "markdown",
   "id": "1af90d94",
   "metadata": {},
   "source": [
    "**Build validation data set**"
   ]
  },
  {
   "cell_type": "code",
   "execution_count": 16,
   "id": "94352079",
   "metadata": {},
   "outputs": [],
   "source": [
    "rest, validation = train_test_split(data_work,test_size=0.3 ,random_state=2025, stratify =data['label'])"
   ]
  },
  {
   "cell_type": "code",
   "execution_count": 17,
   "id": "1b0072e9",
   "metadata": {},
   "outputs": [
    {
     "data": {
      "text/plain": [
       "(62859, 2)"
      ]
     },
     "execution_count": 17,
     "metadata": {},
     "output_type": "execute_result"
    }
   ],
   "source": [
    "validation.to_excel(f'{workdata_path}validation.xlsx', index=False)\n",
    "validation.shape\n"
   ]
  },
  {
   "cell_type": "code",
   "execution_count": null,
   "id": "85e53f75",
   "metadata": {},
   "outputs": [],
   "source": [
    "# proportions = [0.001, 0.005, 0.01, 0.05, 0.1, 0.2, 0.3, 0.4, 0.5]"
   ]
  },
  {
   "cell_type": "markdown",
   "id": "fae559c0",
   "metadata": {},
   "source": [
    "**Build training data sets with increasing sizes**"
   ]
  },
  {
   "cell_type": "code",
   "execution_count": null,
   "id": "8f7471b7",
   "metadata": {},
   "outputs": [],
   "source": [
    "proportions = [0.001, 0.005, 0.01, 0.05, 0.1, 0.2, 0.3, 0.4, 0.5]\n",
    "for p in proportions:\n",
    "    # split to create training data set\n",
    "    _, v = train_test_split(rest,test_size=p,random_state=2025 ,stratify =rest['label'])\n",
    "    # Training and test partition column\n",
    "    if p>0.001:\n",
    "        v_tr, v_ts = train_test_split(v,test_size=0.2,random_state=2025 ,stratify =v['label'])\n",
    "    else:\n",
    "        v_tr, v_ts = train_test_split(v,test_size=0.2,random_state=2025 )\n",
    "\n",
    "    v_tr['part']= 'train'\n",
    "    v_ts['part']= 'test'\n",
    "    v = pd.concat([v_tr,v_ts]).sort_index()\n",
    "    v.to_excel(f'{workdata_path}prop_{p}.xlsx', index=False)\n",
    "    del(v)\n",
    "    del(v_ts)\n",
    "    del(v_tr)\n",
    "rest_tr, rest_ts = train_test_split(rest,test_size=0.2,random_state=2025 ,stratify =rest['label'])\n",
    "rest_tr['part']= 'train'\n",
    "rest_ts['part']= 'test'\n",
    "rest = pd.concat([rest_tr,rest_ts]).sort_index()\n",
    "rest.to_excel(f'{workdata_path}prop_1.xlsx', index=False)"
   ]
  },
  {
   "cell_type": "markdown",
   "id": "d187c0d9",
   "metadata": {},
   "source": [
    "# BERT PIPELINE\n",
    "Executed in Runpod with a RTX 4090"
   ]
  },
  {
   "cell_type": "markdown",
   "id": "1dad6478",
   "metadata": {},
   "source": [
    "### AUXILIAR FUNCTIONS"
   ]
  },
  {
   "cell_type": "code",
   "execution_count": 33,
   "id": "eb17c201-faa5-4f0a-b9b4-0faa06482d56",
   "metadata": {},
   "outputs": [
    {
     "data": {
      "text/plain": [
       "True"
      ]
     },
     "execution_count": 33,
     "metadata": {},
     "output_type": "execute_result"
    }
   ],
   "source": [
    "torch.cuda.is_available()"
   ]
  },
  {
   "cell_type": "code",
   "execution_count": null,
   "id": "505ceed6",
   "metadata": {},
   "outputs": [],
   "source": [
    "def tokenize_function(df,tokenizer,padding,truncation):\n",
    "    \"\"\"\n",
    "    Function to tokenize data and give it the structure needed\n",
    "    \"\"\"\n",
    "    tokens = tokenizer(df[\"news\"], padding=padding, truncation=truncation)\n",
    "    tokens[\"labels\"] = df[\"label\"]\n",
    "    return tokens\n",
    "\n",
    "def performance(trainer,p,tokenizer):\n",
    "    \"\"\"\n",
    "    Function to compute the performace of the model on validation data\n",
    "    \"\"\"\n",
    "    padding=\"max_length\"\n",
    "    truncation=True\n",
    "    metric = evaluate.load(\"f1\")\n",
    "\n",
    "    # Tokenize validation data\n",
    "    val_dataset = Dataset.from_pandas(validation)\n",
    "    val_tok = val_dataset.map(lambda batch: tokenize_function(batch, tokenizer, padding, truncation), batched=True)\n",
    "\n",
    "    # Predictions\n",
    "    predictions = trainer.predict(val_tok)\n",
    "    pred_labels = np.argmax(predictions.predictions, axis=1)\n",
    "\n",
    "    # Performance\n",
    "    report = metric.compute(references = predictions.label_ids, predictions = pred_labels, average=None)\n",
    "\n",
    "    df_report = pd.DataFrame({\n",
    "        \"Category\": label_encoder.classes_,\n",
    "        \"F1-Score\": report[\"f1\"]\n",
    "    })    \n",
    "    # report = classification_report(predictions.label_ids, pred_labels, target_names=label_encoder.classes_, output_dict=True)\n",
    "    # df_report = pd.DataFrame(report).transpose()\n",
    "\n",
    "    # Saving into a csv file\n",
    "    df_report.to_csv(f\"../performance/bert_{p}.csv\")"
   ]
  },
  {
   "cell_type": "markdown",
   "id": "9bbc26ea",
   "metadata": {},
   "source": [
    "### TRAINING FUNCTION"
   ]
  },
  {
   "cell_type": "code",
   "execution_count": null,
   "id": "f1f5bc0d",
   "metadata": {},
   "outputs": [],
   "source": [
    "def fine_tune(p):\n",
    "    \"\"\"\n",
    "    Function to fine tune BERT.\n",
    "    Input: Proportion p, to load the corresponding training data.\n",
    "    Outuput: Duplca consist on the trained model and the tokenizer. \n",
    "    \"\"\"\n",
    "    mode_checkpoint=\"bert-base-cased\"\n",
    "    padding=\"max_length\"\n",
    "    truncation=True\n",
    "    save_checkpoints = \"../checkpoints\"\n",
    "    data_tr = pd.read_excel(f'{workdata_path}prop_{p}.xlsx')\n",
    "    num_labels = len(data_tr[\"label\"].unique())\n",
    "\n",
    "    # Define the tokenizer and the model\n",
    "    tokenizer = AutoTokenizer.from_pretrained(mode_checkpoint)\n",
    "    model = AutoModelForSequenceClassification.from_pretrained(mode_checkpoint, num_labels=num_labels)\n",
    "\n",
    "    # # Force the model top use GPU\n",
    "    # device = torch.device('cuda') if torch.cuda.is_available() else torch.device('cpu')\n",
    "    # model.to(device)\n",
    "\n",
    "    # Train and validation set\n",
    "    train_df = data_tr[data_tr['part']=='train'][['news','label']]\n",
    "    test_df = data_tr[data_tr['part']=='test'][['news','label']]\n",
    "\n",
    "\n",
    "    # Tokenize the data\n",
    "    train_dataset = Dataset.from_pandas(train_df)\n",
    "    test_dataset = Dataset.from_pandas(test_df)\n",
    "    train_tok = train_dataset.map(lambda batch: tokenize_function(batch, tokenizer, padding, truncation), batched=True)\n",
    "    test_tok = test_dataset.map(lambda batch: tokenize_function(batch, tokenizer, padding, truncation), batched=True)\n",
    "\n",
    "    # Set the training arguments\n",
    "    training_args = TrainingArguments(\n",
    "        output_dir=save_checkpoints,\n",
    "        eval_strategy=\"epoch\",\n",
    "        per_device_train_batch_size=8,\n",
    "        fp16=True if torch.cuda.is_available() else False,\n",
    "        logging_steps=10,\n",
    "        save_strategy=\"no\",\n",
    "        report_to=\"none\",\n",
    "    )\n",
    "\n",
    "    # Instanciate the training object\n",
    "    trainer = Trainer(\n",
    "        model=model,\n",
    "        args=training_args,\n",
    "        train_dataset=train_tok,\n",
    "        eval_dataset=test_tok\n",
    "    )\n",
    "\n",
    "    # Train the model\n",
    "    trainer.train()\n",
    "    return trainer, tokenizer"
   ]
  },
  {
   "cell_type": "code",
   "execution_count": 17,
   "id": "65ecc3e6",
   "metadata": {},
   "outputs": [],
   "source": [
    "proportions.append(1)"
   ]
  },
  {
   "cell_type": "markdown",
   "id": "132f2a4a",
   "metadata": {},
   "source": [
    "### BERT LOOP"
   ]
  },
  {
   "cell_type": "code",
   "execution_count": 18,
   "id": "cf0d81ea-045f-44cc-8637-4103132b6ea2",
   "metadata": {},
   "outputs": [
    {
     "data": {
      "text/plain": [
       "[0.001, 0.005, 0.01, 0.05, 0.1, 0.2, 0.3, 0.4, 0.5, 1]"
      ]
     },
     "execution_count": 18,
     "metadata": {},
     "output_type": "execute_result"
    }
   ],
   "source": [
    "proportions"
   ]
  },
  {
   "cell_type": "code",
   "execution_count": null,
   "id": "cfec9d12",
   "metadata": {},
   "outputs": [
    {
     "name": "stdout",
     "output_type": "stream",
     "text": [
      "Proceso proporción: 0.001\n"
     ]
    },
    {
     "name": "stderr",
     "output_type": "stream",
     "text": [
      "Some weights of BertForSequenceClassification were not initialized from the model checkpoint at bert-base-cased and are newly initialized: ['classifier.bias', 'classifier.weight']\n",
      "You should probably TRAIN this model on a down-stream task to be able to use it for predictions and inference.\n"
     ]
    },
    {
     "data": {
      "application/vnd.jupyter.widget-view+json": {
       "model_id": "1c855678157d4c4c92e150a92e0ce4a0",
       "version_major": 2,
       "version_minor": 0
      },
      "text/plain": [
       "Map:   0%|          | 0/117 [00:00<?, ? examples/s]"
      ]
     },
     "metadata": {},
     "output_type": "display_data"
    },
    {
     "data": {
      "application/vnd.jupyter.widget-view+json": {
       "model_id": "9a3acb143a494cb3a76674a19ef9a2d9",
       "version_major": 2,
       "version_minor": 0
      },
      "text/plain": [
       "Map:   0%|          | 0/30 [00:00<?, ? examples/s]"
      ]
     },
     "metadata": {},
     "output_type": "display_data"
    },
    {
     "data": {
      "text/html": [
       "\n",
       "    <div>\n",
       "      \n",
       "      <progress value='45' max='45' style='width:300px; height:20px; vertical-align: middle;'></progress>\n",
       "      [45/45 00:03, Epoch 3/3]\n",
       "    </div>\n",
       "    <table border=\"1\" class=\"dataframe\">\n",
       "  <thead>\n",
       " <tr style=\"text-align: left;\">\n",
       "      <th>Epoch</th>\n",
       "      <th>Training Loss</th>\n",
       "      <th>Validation Loss</th>\n",
       "    </tr>\n",
       "  </thead>\n",
       "  <tbody>\n",
       "    <tr>\n",
       "      <td>1</td>\n",
       "      <td>3.591800</td>\n",
       "      <td>3.636848</td>\n",
       "    </tr>\n",
       "    <tr>\n",
       "      <td>2</td>\n",
       "      <td>3.351200</td>\n",
       "      <td>3.588998</td>\n",
       "    </tr>\n",
       "    <tr>\n",
       "      <td>3</td>\n",
       "      <td>3.097000</td>\n",
       "      <td>3.566536</td>\n",
       "    </tr>\n",
       "  </tbody>\n",
       "</table><p>"
      ],
      "text/plain": [
       "<IPython.core.display.HTML object>"
      ]
     },
     "metadata": {},
     "output_type": "display_data"
    },
    {
     "name": "stdout",
     "output_type": "stream",
     "text": [
      "    Finaliza entrenamiento en 0 minutos\n"
     ]
    },
    {
     "data": {
      "application/vnd.jupyter.widget-view+json": {
       "model_id": "1847fa6807474c409fd3fb5c225a702c",
       "version_major": 2,
       "version_minor": 0
      },
      "text/plain": [
       "Map:   0%|          | 0/62859 [00:00<?, ? examples/s]"
      ]
     },
     "metadata": {},
     "output_type": "display_data"
    },
    {
     "data": {
      "text/html": [],
      "text/plain": [
       "<IPython.core.display.HTML object>"
      ]
     },
     "metadata": {},
     "output_type": "display_data"
    },
    {
     "name": "stdout",
     "output_type": "stream",
     "text": [
      "    Finaliza evaluación en 3 minutos\n",
      "Proceso proporción: 0.005\n"
     ]
    },
    {
     "name": "stderr",
     "output_type": "stream",
     "text": [
      "Some weights of BertForSequenceClassification were not initialized from the model checkpoint at bert-base-cased and are newly initialized: ['classifier.bias', 'classifier.weight']\n",
      "You should probably TRAIN this model on a down-stream task to be able to use it for predictions and inference.\n"
     ]
    },
    {
     "data": {
      "application/vnd.jupyter.widget-view+json": {
       "model_id": "b4292864d5544ca2956a7a76bfb08fd9",
       "version_major": 2,
       "version_minor": 0
      },
      "text/plain": [
       "Map:   0%|          | 0/587 [00:00<?, ? examples/s]"
      ]
     },
     "metadata": {},
     "output_type": "display_data"
    },
    {
     "data": {
      "application/vnd.jupyter.widget-view+json": {
       "model_id": "36577251f4864a89ad38e2e4b8f7b2a5",
       "version_major": 2,
       "version_minor": 0
      },
      "text/plain": [
       "Map:   0%|          | 0/147 [00:00<?, ? examples/s]"
      ]
     },
     "metadata": {},
     "output_type": "display_data"
    },
    {
     "data": {
      "text/html": [
       "\n",
       "    <div>\n",
       "      \n",
       "      <progress value='222' max='222' style='width:300px; height:20px; vertical-align: middle;'></progress>\n",
       "      [222/222 00:17, Epoch 3/3]\n",
       "    </div>\n",
       "    <table border=\"1\" class=\"dataframe\">\n",
       "  <thead>\n",
       " <tr style=\"text-align: left;\">\n",
       "      <th>Epoch</th>\n",
       "      <th>Training Loss</th>\n",
       "      <th>Validation Loss</th>\n",
       "    </tr>\n",
       "  </thead>\n",
       "  <tbody>\n",
       "    <tr>\n",
       "      <td>1</td>\n",
       "      <td>3.267100</td>\n",
       "      <td>3.144505</td>\n",
       "    </tr>\n",
       "    <tr>\n",
       "      <td>2</td>\n",
       "      <td>2.703400</td>\n",
       "      <td>2.892455</td>\n",
       "    </tr>\n",
       "    <tr>\n",
       "      <td>3</td>\n",
       "      <td>2.384400</td>\n",
       "      <td>2.683795</td>\n",
       "    </tr>\n",
       "  </tbody>\n",
       "</table><p>"
      ],
      "text/plain": [
       "<IPython.core.display.HTML object>"
      ]
     },
     "metadata": {},
     "output_type": "display_data"
    },
    {
     "name": "stdout",
     "output_type": "stream",
     "text": [
      "    Finaliza entrenamiento en 0 minutos\n"
     ]
    },
    {
     "data": {
      "application/vnd.jupyter.widget-view+json": {
       "model_id": "2e3b387119ed409690be17d39746bd10",
       "version_major": 2,
       "version_minor": 0
      },
      "text/plain": [
       "Map:   0%|          | 0/62859 [00:00<?, ? examples/s]"
      ]
     },
     "metadata": {},
     "output_type": "display_data"
    },
    {
     "data": {
      "text/html": [],
      "text/plain": [
       "<IPython.core.display.HTML object>"
      ]
     },
     "metadata": {},
     "output_type": "display_data"
    },
    {
     "name": "stdout",
     "output_type": "stream",
     "text": [
      "    Finaliza evaluación en 3 minutos\n",
      "Proceso proporción: 0.01\n"
     ]
    },
    {
     "name": "stderr",
     "output_type": "stream",
     "text": [
      "Some weights of BertForSequenceClassification were not initialized from the model checkpoint at bert-base-cased and are newly initialized: ['classifier.bias', 'classifier.weight']\n",
      "You should probably TRAIN this model on a down-stream task to be able to use it for predictions and inference.\n"
     ]
    },
    {
     "data": {
      "application/vnd.jupyter.widget-view+json": {
       "model_id": "09efbde9ea5a4bb7a1533f698ccb9bbf",
       "version_major": 2,
       "version_minor": 0
      },
      "text/plain": [
       "Map:   0%|          | 0/1173 [00:00<?, ? examples/s]"
      ]
     },
     "metadata": {},
     "output_type": "display_data"
    },
    {
     "data": {
      "application/vnd.jupyter.widget-view+json": {
       "model_id": "ef74a7fe275d4cfebcceecf7b7749f14",
       "version_major": 2,
       "version_minor": 0
      },
      "text/plain": [
       "Map:   0%|          | 0/294 [00:00<?, ? examples/s]"
      ]
     },
     "metadata": {},
     "output_type": "display_data"
    },
    {
     "data": {
      "text/html": [
       "\n",
       "    <div>\n",
       "      \n",
       "      <progress value='441' max='441' style='width:300px; height:20px; vertical-align: middle;'></progress>\n",
       "      [441/441 00:34, Epoch 3/3]\n",
       "    </div>\n",
       "    <table border=\"1\" class=\"dataframe\">\n",
       "  <thead>\n",
       " <tr style=\"text-align: left;\">\n",
       "      <th>Epoch</th>\n",
       "      <th>Training Loss</th>\n",
       "      <th>Validation Loss</th>\n",
       "    </tr>\n",
       "  </thead>\n",
       "  <tbody>\n",
       "    <tr>\n",
       "      <td>1</td>\n",
       "      <td>2.851200</td>\n",
       "      <td>2.647150</td>\n",
       "    </tr>\n",
       "    <tr>\n",
       "      <td>2</td>\n",
       "      <td>1.969000</td>\n",
       "      <td>2.199090</td>\n",
       "    </tr>\n",
       "    <tr>\n",
       "      <td>3</td>\n",
       "      <td>1.777200</td>\n",
       "      <td>2.073778</td>\n",
       "    </tr>\n",
       "  </tbody>\n",
       "</table><p>"
      ],
      "text/plain": [
       "<IPython.core.display.HTML object>"
      ]
     },
     "metadata": {},
     "output_type": "display_data"
    },
    {
     "name": "stdout",
     "output_type": "stream",
     "text": [
      "    Finaliza entrenamiento en 1 minutos\n"
     ]
    },
    {
     "data": {
      "application/vnd.jupyter.widget-view+json": {
       "model_id": "40081d82a162424b8f479ccd03b6cb63",
       "version_major": 2,
       "version_minor": 0
      },
      "text/plain": [
       "Map:   0%|          | 0/62859 [00:00<?, ? examples/s]"
      ]
     },
     "metadata": {},
     "output_type": "display_data"
    },
    {
     "data": {
      "text/html": [],
      "text/plain": [
       "<IPython.core.display.HTML object>"
      ]
     },
     "metadata": {},
     "output_type": "display_data"
    },
    {
     "name": "stdout",
     "output_type": "stream",
     "text": [
      "    Finaliza evaluación en 4 minutos\n",
      "Proceso proporción: 0.05\n"
     ]
    },
    {
     "name": "stderr",
     "output_type": "stream",
     "text": [
      "Some weights of BertForSequenceClassification were not initialized from the model checkpoint at bert-base-cased and are newly initialized: ['classifier.bias', 'classifier.weight']\n",
      "You should probably TRAIN this model on a down-stream task to be able to use it for predictions and inference.\n"
     ]
    },
    {
     "data": {
      "application/vnd.jupyter.widget-view+json": {
       "model_id": "7ee4ce20861b48fea00de7473d29c168",
       "version_major": 2,
       "version_minor": 0
      },
      "text/plain": [
       "Map:   0%|          | 0/5867 [00:00<?, ? examples/s]"
      ]
     },
     "metadata": {},
     "output_type": "display_data"
    },
    {
     "data": {
      "application/vnd.jupyter.widget-view+json": {
       "model_id": "7d5bc03fec4d474f86148f9ad8902876",
       "version_major": 2,
       "version_minor": 0
      },
      "text/plain": [
       "Map:   0%|          | 0/1467 [00:00<?, ? examples/s]"
      ]
     },
     "metadata": {},
     "output_type": "display_data"
    },
    {
     "data": {
      "text/html": [
       "\n",
       "    <div>\n",
       "      \n",
       "      <progress value='2202' max='2202' style='width:300px; height:20px; vertical-align: middle;'></progress>\n",
       "      [2202/2202 02:52, Epoch 3/3]\n",
       "    </div>\n",
       "    <table border=\"1\" class=\"dataframe\">\n",
       "  <thead>\n",
       " <tr style=\"text-align: left;\">\n",
       "      <th>Epoch</th>\n",
       "      <th>Training Loss</th>\n",
       "      <th>Validation Loss</th>\n",
       "    </tr>\n",
       "  </thead>\n",
       "  <tbody>\n",
       "    <tr>\n",
       "      <td>1</td>\n",
       "      <td>1.917000</td>\n",
       "      <td>1.850401</td>\n",
       "    </tr>\n",
       "    <tr>\n",
       "      <td>2</td>\n",
       "      <td>1.550000</td>\n",
       "      <td>1.539533</td>\n",
       "    </tr>\n",
       "    <tr>\n",
       "      <td>3</td>\n",
       "      <td>0.791300</td>\n",
       "      <td>1.513788</td>\n",
       "    </tr>\n",
       "  </tbody>\n",
       "</table><p>"
      ],
      "text/plain": [
       "<IPython.core.display.HTML object>"
      ]
     },
     "metadata": {},
     "output_type": "display_data"
    },
    {
     "name": "stdout",
     "output_type": "stream",
     "text": [
      "    Finaliza entrenamiento en 3 minutos\n"
     ]
    },
    {
     "data": {
      "application/vnd.jupyter.widget-view+json": {
       "model_id": "5341d54aa5ae48b6ba6ba3eb5bfd3be1",
       "version_major": 2,
       "version_minor": 0
      },
      "text/plain": [
       "Map:   0%|          | 0/62859 [00:00<?, ? examples/s]"
      ]
     },
     "metadata": {},
     "output_type": "display_data"
    },
    {
     "data": {
      "text/html": [],
      "text/plain": [
       "<IPython.core.display.HTML object>"
      ]
     },
     "metadata": {},
     "output_type": "display_data"
    },
    {
     "name": "stdout",
     "output_type": "stream",
     "text": [
      "    Finaliza evaluación en 6 minutos\n",
      "Proceso proporción: 0.1\n"
     ]
    },
    {
     "name": "stderr",
     "output_type": "stream",
     "text": [
      "Some weights of BertForSequenceClassification were not initialized from the model checkpoint at bert-base-cased and are newly initialized: ['classifier.bias', 'classifier.weight']\n",
      "You should probably TRAIN this model on a down-stream task to be able to use it for predictions and inference.\n"
     ]
    },
    {
     "data": {
      "application/vnd.jupyter.widget-view+json": {
       "model_id": "5417810ff97f49e981da3de96c1990b8",
       "version_major": 2,
       "version_minor": 0
      },
      "text/plain": [
       "Map:   0%|          | 0/11733 [00:00<?, ? examples/s]"
      ]
     },
     "metadata": {},
     "output_type": "display_data"
    },
    {
     "data": {
      "application/vnd.jupyter.widget-view+json": {
       "model_id": "6625d81973ca470785b12b00c28f7f0b",
       "version_major": 2,
       "version_minor": 0
      },
      "text/plain": [
       "Map:   0%|          | 0/2934 [00:00<?, ? examples/s]"
      ]
     },
     "metadata": {},
     "output_type": "display_data"
    },
    {
     "data": {
      "text/html": [
       "\n",
       "    <div>\n",
       "      \n",
       "      <progress value='4401' max='4401' style='width:300px; height:20px; vertical-align: middle;'></progress>\n",
       "      [4401/4401 05:45, Epoch 3/3]\n",
       "    </div>\n",
       "    <table border=\"1\" class=\"dataframe\">\n",
       "  <thead>\n",
       " <tr style=\"text-align: left;\">\n",
       "      <th>Epoch</th>\n",
       "      <th>Training Loss</th>\n",
       "      <th>Validation Loss</th>\n",
       "    </tr>\n",
       "  </thead>\n",
       "  <tbody>\n",
       "    <tr>\n",
       "      <td>1</td>\n",
       "      <td>1.539800</td>\n",
       "      <td>1.642799</td>\n",
       "    </tr>\n",
       "    <tr>\n",
       "      <td>2</td>\n",
       "      <td>1.012100</td>\n",
       "      <td>1.511623</td>\n",
       "    </tr>\n",
       "    <tr>\n",
       "      <td>3</td>\n",
       "      <td>0.727400</td>\n",
       "      <td>1.537976</td>\n",
       "    </tr>\n",
       "  </tbody>\n",
       "</table><p>"
      ],
      "text/plain": [
       "<IPython.core.display.HTML object>"
      ]
     },
     "metadata": {},
     "output_type": "display_data"
    },
    {
     "name": "stdout",
     "output_type": "stream",
     "text": [
      "    Finaliza entrenamiento en 6 minutos\n"
     ]
    },
    {
     "data": {
      "application/vnd.jupyter.widget-view+json": {
       "model_id": "a87f9abf49b24694af1d352ca3e528b9",
       "version_major": 2,
       "version_minor": 0
      },
      "text/plain": [
       "Map:   0%|          | 0/62859 [00:00<?, ? examples/s]"
      ]
     },
     "metadata": {},
     "output_type": "display_data"
    },
    {
     "data": {
      "text/html": [],
      "text/plain": [
       "<IPython.core.display.HTML object>"
      ]
     },
     "metadata": {},
     "output_type": "display_data"
    },
    {
     "name": "stdout",
     "output_type": "stream",
     "text": [
      "    Finaliza evaluación en 9 minutos\n",
      "Proceso proporción: 0.2\n"
     ]
    },
    {
     "name": "stderr",
     "output_type": "stream",
     "text": [
      "Some weights of BertForSequenceClassification were not initialized from the model checkpoint at bert-base-cased and are newly initialized: ['classifier.bias', 'classifier.weight']\n",
      "You should probably TRAIN this model on a down-stream task to be able to use it for predictions and inference.\n"
     ]
    },
    {
     "data": {
      "application/vnd.jupyter.widget-view+json": {
       "model_id": "807bbd33db44402983f8b0a8e14e67d9",
       "version_major": 2,
       "version_minor": 0
      },
      "text/plain": [
       "Map:   0%|          | 0/23467 [00:00<?, ? examples/s]"
      ]
     },
     "metadata": {},
     "output_type": "display_data"
    },
    {
     "data": {
      "application/vnd.jupyter.widget-view+json": {
       "model_id": "9ccbfdb8b9dc4c4b95964d136475c0ab",
       "version_major": 2,
       "version_minor": 0
      },
      "text/plain": [
       "Map:   0%|          | 0/5867 [00:00<?, ? examples/s]"
      ]
     },
     "metadata": {},
     "output_type": "display_data"
    },
    {
     "data": {
      "text/html": [
       "\n",
       "    <div>\n",
       "      \n",
       "      <progress value='8802' max='8802' style='width:300px; height:20px; vertical-align: middle;'></progress>\n",
       "      [8802/8802 11:31, Epoch 3/3]\n",
       "    </div>\n",
       "    <table border=\"1\" class=\"dataframe\">\n",
       "  <thead>\n",
       " <tr style=\"text-align: left;\">\n",
       "      <th>Epoch</th>\n",
       "      <th>Training Loss</th>\n",
       "      <th>Validation Loss</th>\n",
       "    </tr>\n",
       "  </thead>\n",
       "  <tbody>\n",
       "    <tr>\n",
       "      <td>1</td>\n",
       "      <td>1.548200</td>\n",
       "      <td>1.490093</td>\n",
       "    </tr>\n",
       "    <tr>\n",
       "      <td>2</td>\n",
       "      <td>1.110200</td>\n",
       "      <td>1.361755</td>\n",
       "    </tr>\n",
       "    <tr>\n",
       "      <td>3</td>\n",
       "      <td>0.706300</td>\n",
       "      <td>1.376636</td>\n",
       "    </tr>\n",
       "  </tbody>\n",
       "</table><p>"
      ],
      "text/plain": [
       "<IPython.core.display.HTML object>"
      ]
     },
     "metadata": {},
     "output_type": "display_data"
    },
    {
     "name": "stdout",
     "output_type": "stream",
     "text": [
      "    Finaliza entrenamiento en 12 minutos\n"
     ]
    },
    {
     "data": {
      "application/vnd.jupyter.widget-view+json": {
       "model_id": "a864986363964daeac7ffe3e6d99be78",
       "version_major": 2,
       "version_minor": 0
      },
      "text/plain": [
       "Map:   0%|          | 0/62859 [00:00<?, ? examples/s]"
      ]
     },
     "metadata": {},
     "output_type": "display_data"
    },
    {
     "data": {
      "text/html": [],
      "text/plain": [
       "<IPython.core.display.HTML object>"
      ]
     },
     "metadata": {},
     "output_type": "display_data"
    },
    {
     "name": "stdout",
     "output_type": "stream",
     "text": [
      "    Finaliza evaluación en 15 minutos\n",
      "Proceso proporción: 0.3\n"
     ]
    },
    {
     "name": "stderr",
     "output_type": "stream",
     "text": [
      "Some weights of BertForSequenceClassification were not initialized from the model checkpoint at bert-base-cased and are newly initialized: ['classifier.bias', 'classifier.weight']\n",
      "You should probably TRAIN this model on a down-stream task to be able to use it for predictions and inference.\n"
     ]
    },
    {
     "data": {
      "application/vnd.jupyter.widget-view+json": {
       "model_id": "9aaa91a7ec4a4873b62816b71a1ee874",
       "version_major": 2,
       "version_minor": 0
      },
      "text/plain": [
       "Map:   0%|          | 0/35200 [00:00<?, ? examples/s]"
      ]
     },
     "metadata": {},
     "output_type": "display_data"
    },
    {
     "data": {
      "application/vnd.jupyter.widget-view+json": {
       "model_id": "821b321e5cdf42a8bfb4343478a42489",
       "version_major": 2,
       "version_minor": 0
      },
      "text/plain": [
       "Map:   0%|          | 0/8801 [00:00<?, ? examples/s]"
      ]
     },
     "metadata": {},
     "output_type": "display_data"
    },
    {
     "data": {
      "text/html": [
       "\n",
       "    <div>\n",
       "      \n",
       "      <progress value='13200' max='13200' style='width:300px; height:20px; vertical-align: middle;'></progress>\n",
       "      [13200/13200 17:16, Epoch 3/3]\n",
       "    </div>\n",
       "    <table border=\"1\" class=\"dataframe\">\n",
       "  <thead>\n",
       " <tr style=\"text-align: left;\">\n",
       "      <th>Epoch</th>\n",
       "      <th>Training Loss</th>\n",
       "      <th>Validation Loss</th>\n",
       "    </tr>\n",
       "  </thead>\n",
       "  <tbody>\n",
       "    <tr>\n",
       "      <td>1</td>\n",
       "      <td>1.291400</td>\n",
       "      <td>1.366652</td>\n",
       "    </tr>\n",
       "    <tr>\n",
       "      <td>2</td>\n",
       "      <td>1.184600</td>\n",
       "      <td>1.278015</td>\n",
       "    </tr>\n",
       "    <tr>\n",
       "      <td>3</td>\n",
       "      <td>0.563300</td>\n",
       "      <td>1.377542</td>\n",
       "    </tr>\n",
       "  </tbody>\n",
       "</table><p>"
      ],
      "text/plain": [
       "<IPython.core.display.HTML object>"
      ]
     },
     "metadata": {},
     "output_type": "display_data"
    },
    {
     "name": "stdout",
     "output_type": "stream",
     "text": [
      "    Finaliza entrenamiento en 17 minutos\n"
     ]
    },
    {
     "data": {
      "application/vnd.jupyter.widget-view+json": {
       "model_id": "b88afae730b049b1983b8625ca4fe442",
       "version_major": 2,
       "version_minor": 0
      },
      "text/plain": [
       "Map:   0%|          | 0/62859 [00:00<?, ? examples/s]"
      ]
     },
     "metadata": {},
     "output_type": "display_data"
    },
    {
     "data": {
      "text/html": [],
      "text/plain": [
       "<IPython.core.display.HTML object>"
      ]
     },
     "metadata": {},
     "output_type": "display_data"
    },
    {
     "name": "stdout",
     "output_type": "stream",
     "text": [
      "    Finaliza evaluación en 20 minutos\n",
      "Proceso proporción: 0.4\n"
     ]
    },
    {
     "name": "stderr",
     "output_type": "stream",
     "text": [
      "Some weights of BertForSequenceClassification were not initialized from the model checkpoint at bert-base-cased and are newly initialized: ['classifier.bias', 'classifier.weight']\n",
      "You should probably TRAIN this model on a down-stream task to be able to use it for predictions and inference.\n"
     ]
    },
    {
     "data": {
      "application/vnd.jupyter.widget-view+json": {
       "model_id": "42c70db656854d8e891aecff94bef4ab",
       "version_major": 2,
       "version_minor": 0
      },
      "text/plain": [
       "Map:   0%|          | 0/46934 [00:00<?, ? examples/s]"
      ]
     },
     "metadata": {},
     "output_type": "display_data"
    },
    {
     "data": {
      "application/vnd.jupyter.widget-view+json": {
       "model_id": "e367dfbff0554789b4424cc1def1a5cf",
       "version_major": 2,
       "version_minor": 0
      },
      "text/plain": [
       "Map:   0%|          | 0/11734 [00:00<?, ? examples/s]"
      ]
     },
     "metadata": {},
     "output_type": "display_data"
    },
    {
     "data": {
      "text/html": [
       "\n",
       "    <div>\n",
       "      \n",
       "      <progress value='17601' max='17601' style='width:300px; height:20px; vertical-align: middle;'></progress>\n",
       "      [17601/17601 23:05, Epoch 3/3]\n",
       "    </div>\n",
       "    <table border=\"1\" class=\"dataframe\">\n",
       "  <thead>\n",
       " <tr style=\"text-align: left;\">\n",
       "      <th>Epoch</th>\n",
       "      <th>Training Loss</th>\n",
       "      <th>Validation Loss</th>\n",
       "    </tr>\n",
       "  </thead>\n",
       "  <tbody>\n",
       "    <tr>\n",
       "      <td>1</td>\n",
       "      <td>1.245600</td>\n",
       "      <td>1.281389</td>\n",
       "    </tr>\n",
       "    <tr>\n",
       "      <td>2</td>\n",
       "      <td>1.026100</td>\n",
       "      <td>1.185213</td>\n",
       "    </tr>\n",
       "    <tr>\n",
       "      <td>3</td>\n",
       "      <td>0.740000</td>\n",
       "      <td>1.313957</td>\n",
       "    </tr>\n",
       "  </tbody>\n",
       "</table><p>"
      ],
      "text/plain": [
       "<IPython.core.display.HTML object>"
      ]
     },
     "metadata": {},
     "output_type": "display_data"
    },
    {
     "name": "stdout",
     "output_type": "stream",
     "text": [
      "    Finaliza entrenamiento en 23 minutos\n"
     ]
    },
    {
     "data": {
      "application/vnd.jupyter.widget-view+json": {
       "model_id": "f006c50b0073489182d70718065193e2",
       "version_major": 2,
       "version_minor": 0
      },
      "text/plain": [
       "Map:   0%|          | 0/62859 [00:00<?, ? examples/s]"
      ]
     },
     "metadata": {},
     "output_type": "display_data"
    },
    {
     "data": {
      "text/html": [],
      "text/plain": [
       "<IPython.core.display.HTML object>"
      ]
     },
     "metadata": {},
     "output_type": "display_data"
    },
    {
     "name": "stdout",
     "output_type": "stream",
     "text": [
      "    Finaliza evaluación en 26 minutos\n",
      "Proceso proporción: 0.5\n"
     ]
    },
    {
     "name": "stderr",
     "output_type": "stream",
     "text": [
      "Some weights of BertForSequenceClassification were not initialized from the model checkpoint at bert-base-cased and are newly initialized: ['classifier.bias', 'classifier.weight']\n",
      "You should probably TRAIN this model on a down-stream task to be able to use it for predictions and inference.\n"
     ]
    },
    {
     "data": {
      "application/vnd.jupyter.widget-view+json": {
       "model_id": "f3d59110ec6f4692a1fb5db16be5e0a9",
       "version_major": 2,
       "version_minor": 0
      },
      "text/plain": [
       "Map:   0%|          | 0/58667 [00:00<?, ? examples/s]"
      ]
     },
     "metadata": {},
     "output_type": "display_data"
    },
    {
     "data": {
      "application/vnd.jupyter.widget-view+json": {
       "model_id": "bab2220836bd43a3825fd597a84ca3d3",
       "version_major": 2,
       "version_minor": 0
      },
      "text/plain": [
       "Map:   0%|          | 0/14667 [00:00<?, ? examples/s]"
      ]
     },
     "metadata": {},
     "output_type": "display_data"
    },
    {
     "data": {
      "text/html": [
       "\n",
       "    <div>\n",
       "      \n",
       "      <progress value='22002' max='22002' style='width:300px; height:20px; vertical-align: middle;'></progress>\n",
       "      [22002/22002 28:46, Epoch 3/3]\n",
       "    </div>\n",
       "    <table border=\"1\" class=\"dataframe\">\n",
       "  <thead>\n",
       " <tr style=\"text-align: left;\">\n",
       "      <th>Epoch</th>\n",
       "      <th>Training Loss</th>\n",
       "      <th>Validation Loss</th>\n",
       "    </tr>\n",
       "  </thead>\n",
       "  <tbody>\n",
       "    <tr>\n",
       "      <td>1</td>\n",
       "      <td>1.435100</td>\n",
       "      <td>1.234507</td>\n",
       "    </tr>\n",
       "    <tr>\n",
       "      <td>2</td>\n",
       "      <td>0.998200</td>\n",
       "      <td>1.165917</td>\n",
       "    </tr>\n",
       "    <tr>\n",
       "      <td>3</td>\n",
       "      <td>0.448000</td>\n",
       "      <td>1.285230</td>\n",
       "    </tr>\n",
       "  </tbody>\n",
       "</table><p>"
      ],
      "text/plain": [
       "<IPython.core.display.HTML object>"
      ]
     },
     "metadata": {},
     "output_type": "display_data"
    },
    {
     "name": "stdout",
     "output_type": "stream",
     "text": [
      "    Finaliza entrenamiento en 29 minutos\n"
     ]
    },
    {
     "data": {
      "application/vnd.jupyter.widget-view+json": {
       "model_id": "53ce03d84640417281ec2dbff3b7e7bc",
       "version_major": 2,
       "version_minor": 0
      },
      "text/plain": [
       "Map:   0%|          | 0/62859 [00:00<?, ? examples/s]"
      ]
     },
     "metadata": {},
     "output_type": "display_data"
    },
    {
     "data": {
      "text/html": [],
      "text/plain": [
       "<IPython.core.display.HTML object>"
      ]
     },
     "metadata": {},
     "output_type": "display_data"
    },
    {
     "name": "stdout",
     "output_type": "stream",
     "text": [
      "    Finaliza evaluación en 32 minutos\n",
      "Proceso proporción: 1\n"
     ]
    },
    {
     "name": "stderr",
     "output_type": "stream",
     "text": [
      "Some weights of BertForSequenceClassification were not initialized from the model checkpoint at bert-base-cased and are newly initialized: ['classifier.bias', 'classifier.weight']\n",
      "You should probably TRAIN this model on a down-stream task to be able to use it for predictions and inference.\n"
     ]
    },
    {
     "ename": "KeyError",
     "evalue": "'part'",
     "output_type": "error",
     "traceback": [
      "\u001b[0;31m---------------------------------------------------------------------------\u001b[0m",
      "\u001b[0;31mKeyError\u001b[0m                                  Traceback (most recent call last)",
      "File \u001b[0;32m/usr/local/lib/python3.10/dist-packages/pandas/core/indexes/base.py:3805\u001b[0m, in \u001b[0;36mIndex.get_loc\u001b[0;34m(self, key)\u001b[0m\n\u001b[1;32m   3804\u001b[0m \u001b[38;5;28;01mtry\u001b[39;00m:\n\u001b[0;32m-> 3805\u001b[0m     \u001b[38;5;28;01mreturn\u001b[39;00m \u001b[38;5;28;43mself\u001b[39;49m\u001b[38;5;241;43m.\u001b[39;49m\u001b[43m_engine\u001b[49m\u001b[38;5;241;43m.\u001b[39;49m\u001b[43mget_loc\u001b[49m\u001b[43m(\u001b[49m\u001b[43mcasted_key\u001b[49m\u001b[43m)\u001b[49m\n\u001b[1;32m   3806\u001b[0m \u001b[38;5;28;01mexcept\u001b[39;00m \u001b[38;5;167;01mKeyError\u001b[39;00m \u001b[38;5;28;01mas\u001b[39;00m err:\n",
      "File \u001b[0;32mindex.pyx:167\u001b[0m, in \u001b[0;36mpandas._libs.index.IndexEngine.get_loc\u001b[0;34m()\u001b[0m\n",
      "File \u001b[0;32mindex.pyx:196\u001b[0m, in \u001b[0;36mpandas._libs.index.IndexEngine.get_loc\u001b[0;34m()\u001b[0m\n",
      "File \u001b[0;32mpandas/_libs/hashtable_class_helper.pxi:7081\u001b[0m, in \u001b[0;36mpandas._libs.hashtable.PyObjectHashTable.get_item\u001b[0;34m()\u001b[0m\n",
      "File \u001b[0;32mpandas/_libs/hashtable_class_helper.pxi:7089\u001b[0m, in \u001b[0;36mpandas._libs.hashtable.PyObjectHashTable.get_item\u001b[0;34m()\u001b[0m\n",
      "\u001b[0;31mKeyError\u001b[0m: 'part'",
      "\nThe above exception was the direct cause of the following exception:\n",
      "\u001b[0;31mKeyError\u001b[0m                                  Traceback (most recent call last)",
      "Cell \u001b[0;32mIn[32], line 4\u001b[0m\n\u001b[1;32m      2\u001b[0m t_inicial \u001b[38;5;241m=\u001b[39m time\u001b[38;5;241m.\u001b[39mtime()\n\u001b[1;32m      3\u001b[0m \u001b[38;5;28mprint\u001b[39m(\u001b[38;5;124mf\u001b[39m\u001b[38;5;124m\"\u001b[39m\u001b[38;5;124mProceso proporción: \u001b[39m\u001b[38;5;132;01m{\u001b[39;00mprop\u001b[38;5;132;01m}\u001b[39;00m\u001b[38;5;124m\"\u001b[39m)\n\u001b[0;32m----> 4\u001b[0m trained, tokenizer \u001b[38;5;241m=\u001b[39m \u001b[43mfine_tune\u001b[49m\u001b[43m(\u001b[49m\u001b[43mprop\u001b[49m\u001b[43m)\u001b[49m\n\u001b[1;32m      5\u001b[0m \u001b[38;5;28mprint\u001b[39m(\u001b[38;5;124mf\u001b[39m\u001b[38;5;124m\"\u001b[39m\u001b[38;5;124m    Finaliza entrenamiento en \u001b[39m\u001b[38;5;132;01m{\u001b[39;00m\u001b[38;5;28mround\u001b[39m((time\u001b[38;5;241m.\u001b[39mtime()\u001b[38;5;241m-\u001b[39mt_inicial)\u001b[38;5;241m/\u001b[39m\u001b[38;5;241m60\u001b[39m)\u001b[38;5;132;01m}\u001b[39;00m\u001b[38;5;124m minutos\u001b[39m\u001b[38;5;124m\"\u001b[39m)\n\u001b[1;32m      6\u001b[0m performance(trained,prop,tokenizer)\n",
      "Cell \u001b[0;32mIn[28], line 21\u001b[0m, in \u001b[0;36mfine_tune\u001b[0;34m(p)\u001b[0m\n\u001b[1;32m     14\u001b[0m model \u001b[38;5;241m=\u001b[39m AutoModelForSequenceClassification\u001b[38;5;241m.\u001b[39mfrom_pretrained(mode_checkpoint, num_labels\u001b[38;5;241m=\u001b[39mnum_labels)\n\u001b[1;32m     16\u001b[0m \u001b[38;5;66;03m# # Force the model top use GPU\u001b[39;00m\n\u001b[1;32m     17\u001b[0m \u001b[38;5;66;03m# device = torch.device('cuda') if torch.cuda.is_available() else torch.device('cpu')\u001b[39;00m\n\u001b[1;32m     18\u001b[0m \u001b[38;5;66;03m# model.to(device)\u001b[39;00m\n\u001b[1;32m     19\u001b[0m \n\u001b[1;32m     20\u001b[0m \u001b[38;5;66;03m# Train and validation set\u001b[39;00m\n\u001b[0;32m---> 21\u001b[0m train_df \u001b[38;5;241m=\u001b[39m data_tr[\u001b[43mdata_tr\u001b[49m\u001b[43m[\u001b[49m\u001b[38;5;124;43m'\u001b[39;49m\u001b[38;5;124;43mpart\u001b[39;49m\u001b[38;5;124;43m'\u001b[39;49m\u001b[43m]\u001b[49m\u001b[38;5;241m==\u001b[39m\u001b[38;5;124m'\u001b[39m\u001b[38;5;124mtrain\u001b[39m\u001b[38;5;124m'\u001b[39m][[\u001b[38;5;124m'\u001b[39m\u001b[38;5;124mnews\u001b[39m\u001b[38;5;124m'\u001b[39m,\u001b[38;5;124m'\u001b[39m\u001b[38;5;124mlabel\u001b[39m\u001b[38;5;124m'\u001b[39m]]\n\u001b[1;32m     22\u001b[0m test_df \u001b[38;5;241m=\u001b[39m data_tr[data_tr[\u001b[38;5;124m'\u001b[39m\u001b[38;5;124mpart\u001b[39m\u001b[38;5;124m'\u001b[39m]\u001b[38;5;241m==\u001b[39m\u001b[38;5;124m'\u001b[39m\u001b[38;5;124mtest\u001b[39m\u001b[38;5;124m'\u001b[39m][[\u001b[38;5;124m'\u001b[39m\u001b[38;5;124mnews\u001b[39m\u001b[38;5;124m'\u001b[39m,\u001b[38;5;124m'\u001b[39m\u001b[38;5;124mlabel\u001b[39m\u001b[38;5;124m'\u001b[39m]]\n\u001b[1;32m     25\u001b[0m \u001b[38;5;66;03m# Tokenize the data\u001b[39;00m\n",
      "File \u001b[0;32m/usr/local/lib/python3.10/dist-packages/pandas/core/frame.py:4102\u001b[0m, in \u001b[0;36mDataFrame.__getitem__\u001b[0;34m(self, key)\u001b[0m\n\u001b[1;32m   4100\u001b[0m \u001b[38;5;28;01mif\u001b[39;00m \u001b[38;5;28mself\u001b[39m\u001b[38;5;241m.\u001b[39mcolumns\u001b[38;5;241m.\u001b[39mnlevels \u001b[38;5;241m>\u001b[39m \u001b[38;5;241m1\u001b[39m:\n\u001b[1;32m   4101\u001b[0m     \u001b[38;5;28;01mreturn\u001b[39;00m \u001b[38;5;28mself\u001b[39m\u001b[38;5;241m.\u001b[39m_getitem_multilevel(key)\n\u001b[0;32m-> 4102\u001b[0m indexer \u001b[38;5;241m=\u001b[39m \u001b[38;5;28;43mself\u001b[39;49m\u001b[38;5;241;43m.\u001b[39;49m\u001b[43mcolumns\u001b[49m\u001b[38;5;241;43m.\u001b[39;49m\u001b[43mget_loc\u001b[49m\u001b[43m(\u001b[49m\u001b[43mkey\u001b[49m\u001b[43m)\u001b[49m\n\u001b[1;32m   4103\u001b[0m \u001b[38;5;28;01mif\u001b[39;00m is_integer(indexer):\n\u001b[1;32m   4104\u001b[0m     indexer \u001b[38;5;241m=\u001b[39m [indexer]\n",
      "File \u001b[0;32m/usr/local/lib/python3.10/dist-packages/pandas/core/indexes/base.py:3812\u001b[0m, in \u001b[0;36mIndex.get_loc\u001b[0;34m(self, key)\u001b[0m\n\u001b[1;32m   3807\u001b[0m     \u001b[38;5;28;01mif\u001b[39;00m \u001b[38;5;28misinstance\u001b[39m(casted_key, \u001b[38;5;28mslice\u001b[39m) \u001b[38;5;129;01mor\u001b[39;00m (\n\u001b[1;32m   3808\u001b[0m         \u001b[38;5;28misinstance\u001b[39m(casted_key, abc\u001b[38;5;241m.\u001b[39mIterable)\n\u001b[1;32m   3809\u001b[0m         \u001b[38;5;129;01mand\u001b[39;00m \u001b[38;5;28many\u001b[39m(\u001b[38;5;28misinstance\u001b[39m(x, \u001b[38;5;28mslice\u001b[39m) \u001b[38;5;28;01mfor\u001b[39;00m x \u001b[38;5;129;01min\u001b[39;00m casted_key)\n\u001b[1;32m   3810\u001b[0m     ):\n\u001b[1;32m   3811\u001b[0m         \u001b[38;5;28;01mraise\u001b[39;00m InvalidIndexError(key)\n\u001b[0;32m-> 3812\u001b[0m     \u001b[38;5;28;01mraise\u001b[39;00m \u001b[38;5;167;01mKeyError\u001b[39;00m(key) \u001b[38;5;28;01mfrom\u001b[39;00m \u001b[38;5;21;01merr\u001b[39;00m\n\u001b[1;32m   3813\u001b[0m \u001b[38;5;28;01mexcept\u001b[39;00m \u001b[38;5;167;01mTypeError\u001b[39;00m:\n\u001b[1;32m   3814\u001b[0m     \u001b[38;5;66;03m# If we have a listlike key, _check_indexing_error will raise\u001b[39;00m\n\u001b[1;32m   3815\u001b[0m     \u001b[38;5;66;03m#  InvalidIndexError. Otherwise we fall through and re-raise\u001b[39;00m\n\u001b[1;32m   3816\u001b[0m     \u001b[38;5;66;03m#  the TypeError.\u001b[39;00m\n\u001b[1;32m   3817\u001b[0m     \u001b[38;5;28mself\u001b[39m\u001b[38;5;241m.\u001b[39m_check_indexing_error(key)\n",
      "\u001b[0;31mKeyError\u001b[0m: 'part'"
     ]
    }
   ],
   "source": [
    "\n",
    "# Train on each train set and evaluate validation set \n",
    "\n",
    "for prop in proportions:\n",
    "    t_inicial = time.time()\n",
    "    print(f\"Proceso proporción: {prop}\")\n",
    "    trained, tokenizer = fine_tune(prop)\n",
    "    print(f\"    Finaliza entrenamiento en {round((time.time()-t_inicial)/60)} minutos\")\n",
    "    performance(trained,prop,tokenizer)\n",
    "    print(f\"    Finaliza evaluación en {round((time.time()-t_inicial)/60)} minutos\")\n",
    "\n",
    "    del(trained)\n",
    "    gc.collect()\n",
    "    torch.cuda.empty_cache()\n"
   ]
  },
  {
   "cell_type": "code",
   "execution_count": 39,
   "id": "b2e0ca4c-1b44-41c3-9ab6-ef4f54e95719",
   "metadata": {},
   "outputs": [
    {
     "name": "stdout",
     "output_type": "stream",
     "text": [
      "Proceso proporción: 1\n"
     ]
    },
    {
     "name": "stderr",
     "output_type": "stream",
     "text": [
      "Some weights of BertForSequenceClassification were not initialized from the model checkpoint at bert-base-cased and are newly initialized: ['classifier.bias', 'classifier.weight']\n",
      "You should probably TRAIN this model on a down-stream task to be able to use it for predictions and inference.\n"
     ]
    },
    {
     "data": {
      "application/vnd.jupyter.widget-view+json": {
       "model_id": "c0707786b27e499ba44917088cb17d7d",
       "version_major": 2,
       "version_minor": 0
      },
      "text/plain": [
       "Map:   0%|          | 0/117334 [00:00<?, ? examples/s]"
      ]
     },
     "metadata": {},
     "output_type": "display_data"
    },
    {
     "data": {
      "application/vnd.jupyter.widget-view+json": {
       "model_id": "8134f8d86a4f459bac9f78ae53d1425b",
       "version_major": 2,
       "version_minor": 0
      },
      "text/plain": [
       "Map:   0%|          | 0/29334 [00:00<?, ? examples/s]"
      ]
     },
     "metadata": {},
     "output_type": "display_data"
    },
    {
     "data": {
      "text/html": [
       "\n",
       "    <div>\n",
       "      \n",
       "      <progress value='44001' max='44001' style='width:300px; height:20px; vertical-align: middle;'></progress>\n",
       "      [44001/44001 58:52, Epoch 3/3]\n",
       "    </div>\n",
       "    <table border=\"1\" class=\"dataframe\">\n",
       "  <thead>\n",
       " <tr style=\"text-align: left;\">\n",
       "      <th>Epoch</th>\n",
       "      <th>Training Loss</th>\n",
       "      <th>Validation Loss</th>\n",
       "    </tr>\n",
       "  </thead>\n",
       "  <tbody>\n",
       "    <tr>\n",
       "      <td>1</td>\n",
       "      <td>1.063600</td>\n",
       "      <td>1.153072</td>\n",
       "    </tr>\n",
       "    <tr>\n",
       "      <td>2</td>\n",
       "      <td>0.848400</td>\n",
       "      <td>1.072012</td>\n",
       "    </tr>\n",
       "    <tr>\n",
       "      <td>3</td>\n",
       "      <td>0.390500</td>\n",
       "      <td>1.191224</td>\n",
       "    </tr>\n",
       "  </tbody>\n",
       "</table><p>"
      ],
      "text/plain": [
       "<IPython.core.display.HTML object>"
      ]
     },
     "metadata": {},
     "output_type": "display_data"
    },
    {
     "name": "stdout",
     "output_type": "stream",
     "text": [
      "    Finaliza entrenamiento en 59 minutos\n"
     ]
    },
    {
     "data": {
      "application/vnd.jupyter.widget-view+json": {
       "model_id": "20e2ac3942d048949523c89e3c463aa4",
       "version_major": 2,
       "version_minor": 0
      },
      "text/plain": [
       "Map:   0%|          | 0/62859 [00:00<?, ? examples/s]"
      ]
     },
     "metadata": {},
     "output_type": "display_data"
    },
    {
     "data": {
      "text/html": [],
      "text/plain": [
       "<IPython.core.display.HTML object>"
      ]
     },
     "metadata": {},
     "output_type": "display_data"
    },
    {
     "name": "stdout",
     "output_type": "stream",
     "text": [
      "    Finaliza evaluación en 62 minutos\n"
     ]
    }
   ],
   "source": [
    "\n",
    "for prop in proportions[-1:]:\n",
    "    t_inicial = time.time()\n",
    "    print(f\"Proceso proporción: {prop}\")\n",
    "    trained, tokenizer = fine_tune(prop)\n",
    "    print(f\"    Finaliza entrenamiento en {round((time.time()-t_inicial)/60)} minutos\")\n",
    "    performance(trained,prop,tokenizer)\n",
    "    print(f\"    Finaliza evaluación en {round((time.time()-t_inicial)/60)} minutos\")\n",
    "\n",
    "    del(trained)\n",
    "    gc.collect()\n",
    "    torch.cuda.empty_cache()"
   ]
  },
  {
   "cell_type": "markdown",
   "id": "3dbd50e2-d6b3-44cf-a877-7f1dc76c4058",
   "metadata": {},
   "source": [
    "# COSINE SIMILARITY PIPELINE\n",
    "\n",
    "We are not splitting the documents because they are shorts (length of 99% of texts < 400 chars)"
   ]
  },
  {
   "cell_type": "markdown",
   "id": "d67e7270",
   "metadata": {},
   "source": [
    "### AUXILIAR FUNCTION"
   ]
  },
  {
   "cell_type": "code",
   "execution_count": null,
   "id": "13038f07",
   "metadata": {},
   "outputs": [],
   "source": [
    "def similarity_performance(p,embeddings,validation, validation_emb,batch_size=1000):\n",
    "    \"\"\"\n",
    "    Function to tokenize data and give it the structure needed\n",
    "    \"\"\"\n",
    "    data_tr = pd.read_excel(f'{workdata_path}prop_{p}.xlsx')\n",
    "    data_tr = data_tr[data_tr['part']=='train']\n",
    "\n",
    "    # Training embeddings\n",
    "    data_tr_emb = embeddings.embed_documents(data_tr[\"news\"])\n",
    "    pred_labels=[]\n",
    "    # To avoid broke the process by memory overflow we need to go through the validation data by batches of rows.\n",
    "    for i in range(0, len(validation_emb), batch_size):\n",
    "        print(f\"   Procesando batch {i} - {i+batch_size}...\")\n",
    "        val_batch = validation_emb[i:i+batch_size]\n",
    "        sim = cosine_similarity(val_batch, data_tr_emb)\n",
    "        top_idx = np.argmax(sim, axis=1)\n",
    "        batch_preds = [data_tr['label'].values[j] for j in top_idx]\n",
    "        pred_labels.extend(batch_preds)\n",
    "        del sim, val_batch , top_idx, batch_preds\n",
    "        \n",
    "\n",
    "    # similarities = cosine_similarity(validation_emb, data_tr_emb)\n",
    "    # indexs = np.argmax(similarities, axis=1)\n",
    "    # pred_labels = [data_tr['label'].values[i] for i in indexs]\n",
    "\n",
    "    # Performance\n",
    "    metric = evaluate.load(\"f1\")\n",
    "    report = metric.compute(references = np.array(validation['label']), predictions = np.array(pred_labels), average=None)\n",
    "\n",
    "    df_report = pd.DataFrame({\n",
    "        \"Category\": label_encoder.classes_,\n",
    "        \"F1-Score\": report[\"f1\"]\n",
    "    })\n",
    "    df_report.to_csv(f\"../performance/sim_{p}.csv\")\n",
    "    del data_tr_emb, pred_labels, df_report\n",
    "    gc.collect()"
   ]
  },
  {
   "cell_type": "markdown",
   "id": "be0bfbc4",
   "metadata": {},
   "source": [
    "### EMBEDDINGS"
   ]
  },
  {
   "cell_type": "code",
   "execution_count": 20,
   "id": "f6e6a69e",
   "metadata": {},
   "outputs": [],
   "source": [
    "embeddings = OpenAIEmbeddings(\n",
    "    model=\"text-embedding-3-small\"\n",
    ")\n"
   ]
  },
  {
   "cell_type": "code",
   "execution_count": 21,
   "id": "f3064b7f",
   "metadata": {},
   "outputs": [],
   "source": [
    "validation=pd.read_excel(f'{workdata_path}validation.xlsx')\n",
    "validation_emb = embeddings.embed_documents(validation[\"news\"]) "
   ]
  },
  {
   "cell_type": "markdown",
   "id": "3a832313",
   "metadata": {},
   "source": [
    "### SIMILARITY LOOP"
   ]
  },
  {
   "cell_type": "code",
   "execution_count": null,
   "id": "31cad3b5",
   "metadata": {},
   "outputs": [
    {
     "name": "stdout",
     "output_type": "stream",
     "text": [
      "Proceso proporción: 0.001\n",
      "   Procesando batch 0 - 1000...\n",
      "   Procesando batch 1000 - 2000...\n",
      "   Procesando batch 2000 - 3000...\n",
      "   Procesando batch 3000 - 4000...\n",
      "   Procesando batch 4000 - 5000...\n",
      "   Procesando batch 5000 - 6000...\n",
      "   Procesando batch 6000 - 7000...\n",
      "   Procesando batch 7000 - 8000...\n",
      "   Procesando batch 8000 - 9000...\n",
      "   Procesando batch 9000 - 10000...\n",
      "   Procesando batch 10000 - 11000...\n",
      "   Procesando batch 11000 - 12000...\n",
      "   Procesando batch 12000 - 13000...\n",
      "   Procesando batch 13000 - 14000...\n",
      "   Procesando batch 14000 - 15000...\n",
      "   Procesando batch 15000 - 16000...\n",
      "   Procesando batch 16000 - 17000...\n",
      "   Procesando batch 17000 - 18000...\n",
      "   Procesando batch 18000 - 19000...\n",
      "   Procesando batch 19000 - 20000...\n",
      "   Procesando batch 20000 - 21000...\n",
      "   Procesando batch 21000 - 22000...\n",
      "   Procesando batch 22000 - 23000...\n",
      "   Procesando batch 23000 - 24000...\n",
      "   Procesando batch 24000 - 25000...\n",
      "   Procesando batch 25000 - 26000...\n",
      "   Procesando batch 26000 - 27000...\n",
      "   Procesando batch 27000 - 28000...\n",
      "   Procesando batch 28000 - 29000...\n",
      "   Procesando batch 29000 - 30000...\n",
      "   Procesando batch 30000 - 31000...\n",
      "   Procesando batch 31000 - 32000...\n",
      "   Procesando batch 32000 - 33000...\n",
      "   Procesando batch 33000 - 34000...\n",
      "   Procesando batch 34000 - 35000...\n",
      "   Procesando batch 35000 - 36000...\n",
      "   Procesando batch 36000 - 37000...\n",
      "   Procesando batch 37000 - 38000...\n",
      "   Procesando batch 38000 - 39000...\n",
      "   Procesando batch 39000 - 40000...\n",
      "   Procesando batch 40000 - 41000...\n",
      "   Procesando batch 41000 - 42000...\n",
      "   Procesando batch 42000 - 43000...\n",
      "   Procesando batch 43000 - 44000...\n",
      "   Procesando batch 44000 - 45000...\n",
      "   Procesando batch 45000 - 46000...\n",
      "   Procesando batch 46000 - 47000...\n",
      "   Procesando batch 47000 - 48000...\n",
      "   Procesando batch 48000 - 49000...\n",
      "   Procesando batch 49000 - 50000...\n",
      "   Procesando batch 50000 - 51000...\n",
      "   Procesando batch 51000 - 52000...\n",
      "   Procesando batch 52000 - 53000...\n",
      "   Procesando batch 53000 - 54000...\n",
      "   Procesando batch 54000 - 55000...\n",
      "   Procesando batch 55000 - 56000...\n",
      "   Procesando batch 56000 - 57000...\n",
      "   Procesando batch 57000 - 58000...\n",
      "   Procesando batch 58000 - 59000...\n",
      "   Procesando batch 59000 - 60000...\n",
      "   Procesando batch 60000 - 61000...\n",
      "   Procesando batch 61000 - 62000...\n",
      "   Procesando batch 62000 - 63000...\n",
      "Proceso finalizado en 0 minutos\n",
      "----------------------------------------\n",
      "Proceso proporción: 0.005\n",
      "   Procesando batch 0 - 1000...\n",
      "   Procesando batch 1000 - 2000...\n",
      "   Procesando batch 2000 - 3000...\n",
      "   Procesando batch 3000 - 4000...\n",
      "   Procesando batch 4000 - 5000...\n",
      "   Procesando batch 5000 - 6000...\n",
      "   Procesando batch 6000 - 7000...\n",
      "   Procesando batch 7000 - 8000...\n",
      "   Procesando batch 8000 - 9000...\n",
      "   Procesando batch 9000 - 10000...\n",
      "   Procesando batch 10000 - 11000...\n",
      "   Procesando batch 11000 - 12000...\n",
      "   Procesando batch 12000 - 13000...\n",
      "   Procesando batch 13000 - 14000...\n",
      "   Procesando batch 14000 - 15000...\n",
      "   Procesando batch 15000 - 16000...\n",
      "   Procesando batch 16000 - 17000...\n",
      "   Procesando batch 17000 - 18000...\n",
      "   Procesando batch 18000 - 19000...\n",
      "   Procesando batch 19000 - 20000...\n",
      "   Procesando batch 20000 - 21000...\n",
      "   Procesando batch 21000 - 22000...\n",
      "   Procesando batch 22000 - 23000...\n",
      "   Procesando batch 23000 - 24000...\n",
      "   Procesando batch 24000 - 25000...\n",
      "   Procesando batch 25000 - 26000...\n",
      "   Procesando batch 26000 - 27000...\n",
      "   Procesando batch 27000 - 28000...\n",
      "   Procesando batch 28000 - 29000...\n",
      "   Procesando batch 29000 - 30000...\n",
      "   Procesando batch 30000 - 31000...\n",
      "   Procesando batch 31000 - 32000...\n",
      "   Procesando batch 32000 - 33000...\n",
      "   Procesando batch 33000 - 34000...\n",
      "   Procesando batch 34000 - 35000...\n",
      "   Procesando batch 35000 - 36000...\n",
      "   Procesando batch 36000 - 37000...\n",
      "   Procesando batch 37000 - 38000...\n",
      "   Procesando batch 38000 - 39000...\n",
      "   Procesando batch 39000 - 40000...\n",
      "   Procesando batch 40000 - 41000...\n",
      "   Procesando batch 41000 - 42000...\n",
      "   Procesando batch 42000 - 43000...\n",
      "   Procesando batch 43000 - 44000...\n",
      "   Procesando batch 44000 - 45000...\n",
      "   Procesando batch 45000 - 46000...\n",
      "   Procesando batch 46000 - 47000...\n",
      "   Procesando batch 47000 - 48000...\n",
      "   Procesando batch 48000 - 49000...\n",
      "   Procesando batch 49000 - 50000...\n",
      "   Procesando batch 50000 - 51000...\n",
      "   Procesando batch 51000 - 52000...\n",
      "   Procesando batch 52000 - 53000...\n",
      "   Procesando batch 53000 - 54000...\n",
      "   Procesando batch 54000 - 55000...\n",
      "   Procesando batch 55000 - 56000...\n",
      "   Procesando batch 56000 - 57000...\n",
      "   Procesando batch 57000 - 58000...\n",
      "   Procesando batch 58000 - 59000...\n",
      "   Procesando batch 59000 - 60000...\n",
      "   Procesando batch 60000 - 61000...\n",
      "   Procesando batch 61000 - 62000...\n",
      "   Procesando batch 62000 - 63000...\n",
      "Proceso finalizado en 0 minutos\n",
      "----------------------------------------\n",
      "Proceso proporción: 0.01\n",
      "   Procesando batch 0 - 1000...\n",
      "   Procesando batch 1000 - 2000...\n",
      "   Procesando batch 2000 - 3000...\n",
      "   Procesando batch 3000 - 4000...\n",
      "   Procesando batch 4000 - 5000...\n",
      "   Procesando batch 5000 - 6000...\n",
      "   Procesando batch 6000 - 7000...\n",
      "   Procesando batch 7000 - 8000...\n",
      "   Procesando batch 8000 - 9000...\n",
      "   Procesando batch 9000 - 10000...\n",
      "   Procesando batch 10000 - 11000...\n",
      "   Procesando batch 11000 - 12000...\n",
      "   Procesando batch 12000 - 13000...\n",
      "   Procesando batch 13000 - 14000...\n",
      "   Procesando batch 14000 - 15000...\n",
      "   Procesando batch 15000 - 16000...\n",
      "   Procesando batch 16000 - 17000...\n",
      "   Procesando batch 17000 - 18000...\n",
      "   Procesando batch 18000 - 19000...\n",
      "   Procesando batch 19000 - 20000...\n",
      "   Procesando batch 20000 - 21000...\n",
      "   Procesando batch 21000 - 22000...\n",
      "   Procesando batch 22000 - 23000...\n",
      "   Procesando batch 23000 - 24000...\n",
      "   Procesando batch 24000 - 25000...\n",
      "   Procesando batch 25000 - 26000...\n",
      "   Procesando batch 26000 - 27000...\n",
      "   Procesando batch 27000 - 28000...\n",
      "   Procesando batch 28000 - 29000...\n",
      "   Procesando batch 29000 - 30000...\n",
      "   Procesando batch 30000 - 31000...\n",
      "   Procesando batch 31000 - 32000...\n",
      "   Procesando batch 32000 - 33000...\n",
      "   Procesando batch 33000 - 34000...\n",
      "   Procesando batch 34000 - 35000...\n",
      "   Procesando batch 35000 - 36000...\n",
      "   Procesando batch 36000 - 37000...\n",
      "   Procesando batch 37000 - 38000...\n",
      "   Procesando batch 38000 - 39000...\n",
      "   Procesando batch 39000 - 40000...\n",
      "   Procesando batch 40000 - 41000...\n",
      "   Procesando batch 41000 - 42000...\n",
      "   Procesando batch 42000 - 43000...\n",
      "   Procesando batch 43000 - 44000...\n",
      "   Procesando batch 44000 - 45000...\n",
      "   Procesando batch 45000 - 46000...\n",
      "   Procesando batch 46000 - 47000...\n",
      "   Procesando batch 47000 - 48000...\n",
      "   Procesando batch 48000 - 49000...\n",
      "   Procesando batch 49000 - 50000...\n",
      "   Procesando batch 50000 - 51000...\n",
      "   Procesando batch 51000 - 52000...\n",
      "   Procesando batch 52000 - 53000...\n",
      "   Procesando batch 53000 - 54000...\n",
      "   Procesando batch 54000 - 55000...\n",
      "   Procesando batch 55000 - 56000...\n",
      "   Procesando batch 56000 - 57000...\n",
      "   Procesando batch 57000 - 58000...\n",
      "   Procesando batch 58000 - 59000...\n",
      "   Procesando batch 59000 - 60000...\n",
      "   Procesando batch 60000 - 61000...\n",
      "   Procesando batch 61000 - 62000...\n",
      "   Procesando batch 62000 - 63000...\n",
      "Proceso finalizado en 0 minutos\n",
      "----------------------------------------\n",
      "Proceso proporción: 0.05\n",
      "   Procesando batch 0 - 1000...\n",
      "   Procesando batch 1000 - 2000...\n",
      "   Procesando batch 2000 - 3000...\n",
      "   Procesando batch 3000 - 4000...\n",
      "   Procesando batch 4000 - 5000...\n",
      "   Procesando batch 5000 - 6000...\n",
      "   Procesando batch 6000 - 7000...\n",
      "   Procesando batch 7000 - 8000...\n",
      "   Procesando batch 8000 - 9000...\n",
      "   Procesando batch 9000 - 10000...\n",
      "   Procesando batch 10000 - 11000...\n",
      "   Procesando batch 11000 - 12000...\n",
      "   Procesando batch 12000 - 13000...\n",
      "   Procesando batch 13000 - 14000...\n",
      "   Procesando batch 14000 - 15000...\n",
      "   Procesando batch 15000 - 16000...\n",
      "   Procesando batch 16000 - 17000...\n",
      "   Procesando batch 17000 - 18000...\n",
      "   Procesando batch 18000 - 19000...\n",
      "   Procesando batch 19000 - 20000...\n",
      "   Procesando batch 20000 - 21000...\n",
      "   Procesando batch 21000 - 22000...\n",
      "   Procesando batch 22000 - 23000...\n",
      "   Procesando batch 23000 - 24000...\n",
      "   Procesando batch 24000 - 25000...\n",
      "   Procesando batch 25000 - 26000...\n",
      "   Procesando batch 26000 - 27000...\n",
      "   Procesando batch 27000 - 28000...\n",
      "   Procesando batch 28000 - 29000...\n",
      "   Procesando batch 29000 - 30000...\n",
      "   Procesando batch 30000 - 31000...\n",
      "   Procesando batch 31000 - 32000...\n",
      "   Procesando batch 32000 - 33000...\n",
      "   Procesando batch 33000 - 34000...\n",
      "   Procesando batch 34000 - 35000...\n",
      "   Procesando batch 35000 - 36000...\n",
      "   Procesando batch 36000 - 37000...\n",
      "   Procesando batch 37000 - 38000...\n",
      "   Procesando batch 38000 - 39000...\n",
      "   Procesando batch 39000 - 40000...\n",
      "   Procesando batch 40000 - 41000...\n",
      "   Procesando batch 41000 - 42000...\n",
      "   Procesando batch 42000 - 43000...\n",
      "   Procesando batch 43000 - 44000...\n",
      "   Procesando batch 44000 - 45000...\n",
      "   Procesando batch 45000 - 46000...\n",
      "   Procesando batch 46000 - 47000...\n",
      "   Procesando batch 47000 - 48000...\n",
      "   Procesando batch 48000 - 49000...\n",
      "   Procesando batch 49000 - 50000...\n",
      "   Procesando batch 50000 - 51000...\n",
      "   Procesando batch 51000 - 52000...\n",
      "   Procesando batch 52000 - 53000...\n",
      "   Procesando batch 53000 - 54000...\n",
      "   Procesando batch 54000 - 55000...\n",
      "   Procesando batch 55000 - 56000...\n",
      "   Procesando batch 56000 - 57000...\n",
      "   Procesando batch 57000 - 58000...\n",
      "   Procesando batch 58000 - 59000...\n",
      "   Procesando batch 59000 - 60000...\n",
      "   Procesando batch 60000 - 61000...\n",
      "   Procesando batch 61000 - 62000...\n",
      "   Procesando batch 62000 - 63000...\n",
      "Proceso finalizado en 1 minutos\n",
      "----------------------------------------\n",
      "Proceso proporción: 0.1\n",
      "   Procesando batch 0 - 1000...\n",
      "   Procesando batch 1000 - 2000...\n",
      "   Procesando batch 2000 - 3000...\n",
      "   Procesando batch 3000 - 4000...\n",
      "   Procesando batch 4000 - 5000...\n",
      "   Procesando batch 5000 - 6000...\n",
      "   Procesando batch 6000 - 7000...\n",
      "   Procesando batch 7000 - 8000...\n",
      "   Procesando batch 8000 - 9000...\n",
      "   Procesando batch 9000 - 10000...\n",
      "   Procesando batch 10000 - 11000...\n",
      "   Procesando batch 11000 - 12000...\n",
      "   Procesando batch 12000 - 13000...\n",
      "   Procesando batch 13000 - 14000...\n",
      "   Procesando batch 14000 - 15000...\n",
      "   Procesando batch 15000 - 16000...\n",
      "   Procesando batch 16000 - 17000...\n",
      "   Procesando batch 17000 - 18000...\n",
      "   Procesando batch 18000 - 19000...\n",
      "   Procesando batch 19000 - 20000...\n",
      "   Procesando batch 20000 - 21000...\n",
      "   Procesando batch 21000 - 22000...\n",
      "   Procesando batch 22000 - 23000...\n",
      "   Procesando batch 23000 - 24000...\n",
      "   Procesando batch 24000 - 25000...\n",
      "   Procesando batch 25000 - 26000...\n",
      "   Procesando batch 26000 - 27000...\n",
      "   Procesando batch 27000 - 28000...\n",
      "   Procesando batch 28000 - 29000...\n",
      "   Procesando batch 29000 - 30000...\n",
      "   Procesando batch 30000 - 31000...\n",
      "   Procesando batch 31000 - 32000...\n",
      "   Procesando batch 32000 - 33000...\n",
      "   Procesando batch 33000 - 34000...\n",
      "   Procesando batch 34000 - 35000...\n",
      "   Procesando batch 35000 - 36000...\n",
      "   Procesando batch 36000 - 37000...\n",
      "   Procesando batch 37000 - 38000...\n",
      "   Procesando batch 38000 - 39000...\n",
      "   Procesando batch 39000 - 40000...\n",
      "   Procesando batch 40000 - 41000...\n",
      "   Procesando batch 41000 - 42000...\n",
      "   Procesando batch 42000 - 43000...\n",
      "   Procesando batch 43000 - 44000...\n",
      "   Procesando batch 44000 - 45000...\n",
      "   Procesando batch 45000 - 46000...\n",
      "   Procesando batch 46000 - 47000...\n",
      "   Procesando batch 47000 - 48000...\n",
      "   Procesando batch 48000 - 49000...\n",
      "   Procesando batch 49000 - 50000...\n",
      "   Procesando batch 50000 - 51000...\n",
      "   Procesando batch 51000 - 52000...\n",
      "   Procesando batch 52000 - 53000...\n",
      "   Procesando batch 53000 - 54000...\n",
      "   Procesando batch 54000 - 55000...\n",
      "   Procesando batch 55000 - 56000...\n",
      "   Procesando batch 56000 - 57000...\n",
      "   Procesando batch 57000 - 58000...\n",
      "   Procesando batch 58000 - 59000...\n",
      "   Procesando batch 59000 - 60000...\n",
      "   Procesando batch 60000 - 61000...\n",
      "   Procesando batch 61000 - 62000...\n",
      "   Procesando batch 62000 - 63000...\n",
      "Proceso finalizado en 3 minutos\n",
      "----------------------------------------\n",
      "Proceso proporción: 0.2\n",
      "   Procesando batch 0 - 1000...\n",
      "   Procesando batch 1000 - 2000...\n",
      "   Procesando batch 2000 - 3000...\n",
      "   Procesando batch 3000 - 4000...\n",
      "   Procesando batch 4000 - 5000...\n",
      "   Procesando batch 5000 - 6000...\n",
      "   Procesando batch 6000 - 7000...\n",
      "   Procesando batch 7000 - 8000...\n",
      "   Procesando batch 8000 - 9000...\n",
      "   Procesando batch 9000 - 10000...\n",
      "   Procesando batch 10000 - 11000...\n",
      "   Procesando batch 11000 - 12000...\n",
      "   Procesando batch 12000 - 13000...\n",
      "   Procesando batch 13000 - 14000...\n",
      "   Procesando batch 14000 - 15000...\n",
      "   Procesando batch 15000 - 16000...\n",
      "   Procesando batch 16000 - 17000...\n",
      "   Procesando batch 17000 - 18000...\n",
      "   Procesando batch 18000 - 19000...\n",
      "   Procesando batch 19000 - 20000...\n",
      "   Procesando batch 20000 - 21000...\n",
      "   Procesando batch 21000 - 22000...\n",
      "   Procesando batch 22000 - 23000...\n",
      "   Procesando batch 23000 - 24000...\n",
      "   Procesando batch 24000 - 25000...\n",
      "   Procesando batch 25000 - 26000...\n",
      "   Procesando batch 26000 - 27000...\n",
      "   Procesando batch 27000 - 28000...\n",
      "   Procesando batch 28000 - 29000...\n",
      "   Procesando batch 29000 - 30000...\n",
      "   Procesando batch 30000 - 31000...\n",
      "   Procesando batch 31000 - 32000...\n",
      "   Procesando batch 32000 - 33000...\n",
      "   Procesando batch 33000 - 34000...\n",
      "   Procesando batch 34000 - 35000...\n",
      "   Procesando batch 35000 - 36000...\n",
      "   Procesando batch 36000 - 37000...\n",
      "   Procesando batch 37000 - 38000...\n",
      "   Procesando batch 38000 - 39000...\n",
      "   Procesando batch 39000 - 40000...\n",
      "   Procesando batch 40000 - 41000...\n",
      "   Procesando batch 41000 - 42000...\n",
      "   Procesando batch 42000 - 43000...\n",
      "   Procesando batch 43000 - 44000...\n",
      "   Procesando batch 44000 - 45000...\n",
      "   Procesando batch 45000 - 46000...\n",
      "   Procesando batch 46000 - 47000...\n",
      "   Procesando batch 47000 - 48000...\n",
      "   Procesando batch 48000 - 49000...\n",
      "   Procesando batch 49000 - 50000...\n",
      "   Procesando batch 50000 - 51000...\n",
      "   Procesando batch 51000 - 52000...\n",
      "   Procesando batch 52000 - 53000...\n",
      "   Procesando batch 53000 - 54000...\n",
      "   Procesando batch 54000 - 55000...\n",
      "   Procesando batch 55000 - 56000...\n",
      "   Procesando batch 56000 - 57000...\n",
      "   Procesando batch 57000 - 58000...\n",
      "   Procesando batch 58000 - 59000...\n",
      "   Procesando batch 59000 - 60000...\n",
      "   Procesando batch 60000 - 61000...\n",
      "   Procesando batch 61000 - 62000...\n",
      "   Procesando batch 62000 - 63000...\n",
      "Proceso finalizado en 5 minutos\n",
      "----------------------------------------\n",
      "Proceso proporción: 0.3\n",
      "   Procesando batch 0 - 1000...\n",
      "   Procesando batch 1000 - 2000...\n",
      "   Procesando batch 2000 - 3000...\n",
      "   Procesando batch 3000 - 4000...\n",
      "   Procesando batch 4000 - 5000...\n",
      "   Procesando batch 5000 - 6000...\n",
      "   Procesando batch 6000 - 7000...\n",
      "   Procesando batch 7000 - 8000...\n",
      "   Procesando batch 8000 - 9000...\n",
      "   Procesando batch 9000 - 10000...\n",
      "   Procesando batch 10000 - 11000...\n",
      "   Procesando batch 11000 - 12000...\n",
      "   Procesando batch 12000 - 13000...\n",
      "   Procesando batch 13000 - 14000...\n",
      "   Procesando batch 14000 - 15000...\n",
      "   Procesando batch 15000 - 16000...\n",
      "   Procesando batch 16000 - 17000...\n",
      "   Procesando batch 17000 - 18000...\n",
      "   Procesando batch 18000 - 19000...\n",
      "   Procesando batch 19000 - 20000...\n",
      "   Procesando batch 20000 - 21000...\n",
      "   Procesando batch 21000 - 22000...\n",
      "   Procesando batch 22000 - 23000...\n",
      "   Procesando batch 23000 - 24000...\n",
      "   Procesando batch 24000 - 25000...\n",
      "   Procesando batch 25000 - 26000...\n",
      "   Procesando batch 26000 - 27000...\n",
      "   Procesando batch 27000 - 28000...\n",
      "   Procesando batch 28000 - 29000...\n",
      "   Procesando batch 29000 - 30000...\n",
      "   Procesando batch 30000 - 31000...\n",
      "   Procesando batch 31000 - 32000...\n",
      "   Procesando batch 32000 - 33000...\n",
      "   Procesando batch 33000 - 34000...\n",
      "   Procesando batch 34000 - 35000...\n",
      "   Procesando batch 35000 - 36000...\n",
      "   Procesando batch 36000 - 37000...\n",
      "   Procesando batch 37000 - 38000...\n",
      "   Procesando batch 38000 - 39000...\n",
      "   Procesando batch 39000 - 40000...\n",
      "   Procesando batch 40000 - 41000...\n",
      "   Procesando batch 41000 - 42000...\n",
      "   Procesando batch 42000 - 43000...\n",
      "   Procesando batch 43000 - 44000...\n",
      "   Procesando batch 44000 - 45000...\n",
      "   Procesando batch 45000 - 46000...\n",
      "   Procesando batch 46000 - 47000...\n",
      "   Procesando batch 47000 - 48000...\n",
      "   Procesando batch 48000 - 49000...\n",
      "   Procesando batch 49000 - 50000...\n",
      "   Procesando batch 50000 - 51000...\n",
      "   Procesando batch 51000 - 52000...\n",
      "   Procesando batch 52000 - 53000...\n",
      "   Procesando batch 53000 - 54000...\n",
      "   Procesando batch 54000 - 55000...\n",
      "   Procesando batch 55000 - 56000...\n",
      "   Procesando batch 56000 - 57000...\n",
      "   Procesando batch 57000 - 58000...\n",
      "   Procesando batch 58000 - 59000...\n",
      "   Procesando batch 59000 - 60000...\n",
      "   Procesando batch 60000 - 61000...\n",
      "   Procesando batch 61000 - 62000...\n",
      "   Procesando batch 62000 - 63000...\n",
      "Proceso finalizado en 8 minutos\n",
      "----------------------------------------\n",
      "Proceso proporción: 0.4\n",
      "   Procesando batch 0 - 1000...\n",
      "   Procesando batch 1000 - 2000...\n",
      "   Procesando batch 2000 - 3000...\n",
      "   Procesando batch 3000 - 4000...\n",
      "   Procesando batch 4000 - 5000...\n",
      "   Procesando batch 5000 - 6000...\n",
      "   Procesando batch 6000 - 7000...\n",
      "   Procesando batch 7000 - 8000...\n",
      "   Procesando batch 8000 - 9000...\n",
      "   Procesando batch 9000 - 10000...\n",
      "   Procesando batch 10000 - 11000...\n",
      "   Procesando batch 11000 - 12000...\n",
      "   Procesando batch 12000 - 13000...\n",
      "   Procesando batch 13000 - 14000...\n",
      "   Procesando batch 14000 - 15000...\n",
      "   Procesando batch 15000 - 16000...\n",
      "   Procesando batch 16000 - 17000...\n",
      "   Procesando batch 17000 - 18000...\n",
      "   Procesando batch 18000 - 19000...\n",
      "   Procesando batch 19000 - 20000...\n",
      "   Procesando batch 20000 - 21000...\n",
      "   Procesando batch 21000 - 22000...\n",
      "   Procesando batch 22000 - 23000...\n",
      "   Procesando batch 23000 - 24000...\n",
      "   Procesando batch 24000 - 25000...\n",
      "   Procesando batch 25000 - 26000...\n",
      "   Procesando batch 26000 - 27000...\n",
      "   Procesando batch 27000 - 28000...\n",
      "   Procesando batch 28000 - 29000...\n",
      "   Procesando batch 29000 - 30000...\n",
      "   Procesando batch 30000 - 31000...\n",
      "   Procesando batch 31000 - 32000...\n",
      "   Procesando batch 32000 - 33000...\n",
      "   Procesando batch 33000 - 34000...\n",
      "   Procesando batch 34000 - 35000...\n",
      "   Procesando batch 35000 - 36000...\n",
      "   Procesando batch 36000 - 37000...\n",
      "   Procesando batch 37000 - 38000...\n",
      "   Procesando batch 38000 - 39000...\n",
      "   Procesando batch 39000 - 40000...\n",
      "   Procesando batch 40000 - 41000...\n",
      "   Procesando batch 41000 - 42000...\n",
      "   Procesando batch 42000 - 43000...\n",
      "   Procesando batch 43000 - 44000...\n",
      "   Procesando batch 44000 - 45000...\n",
      "   Procesando batch 45000 - 46000...\n",
      "   Procesando batch 46000 - 47000...\n",
      "   Procesando batch 47000 - 48000...\n",
      "   Procesando batch 48000 - 49000...\n",
      "   Procesando batch 49000 - 50000...\n",
      "   Procesando batch 50000 - 51000...\n",
      "   Procesando batch 51000 - 52000...\n",
      "   Procesando batch 52000 - 53000...\n",
      "   Procesando batch 53000 - 54000...\n",
      "   Procesando batch 54000 - 55000...\n",
      "   Procesando batch 55000 - 56000...\n",
      "   Procesando batch 56000 - 57000...\n",
      "   Procesando batch 57000 - 58000...\n",
      "   Procesando batch 58000 - 59000...\n",
      "   Procesando batch 59000 - 60000...\n",
      "   Procesando batch 60000 - 61000...\n",
      "   Procesando batch 61000 - 62000...\n",
      "   Procesando batch 62000 - 63000...\n",
      "Proceso finalizado en 10 minutos\n",
      "----------------------------------------\n",
      "Proceso proporción: 0.5\n",
      "   Procesando batch 0 - 1000...\n",
      "   Procesando batch 1000 - 2000...\n",
      "   Procesando batch 2000 - 3000...\n",
      "   Procesando batch 3000 - 4000...\n",
      "   Procesando batch 4000 - 5000...\n",
      "   Procesando batch 5000 - 6000...\n",
      "   Procesando batch 6000 - 7000...\n",
      "   Procesando batch 7000 - 8000...\n",
      "   Procesando batch 8000 - 9000...\n",
      "   Procesando batch 9000 - 10000...\n",
      "   Procesando batch 10000 - 11000...\n",
      "   Procesando batch 11000 - 12000...\n",
      "   Procesando batch 12000 - 13000...\n",
      "   Procesando batch 13000 - 14000...\n",
      "   Procesando batch 14000 - 15000...\n",
      "   Procesando batch 15000 - 16000...\n",
      "   Procesando batch 16000 - 17000...\n",
      "   Procesando batch 17000 - 18000...\n",
      "   Procesando batch 18000 - 19000...\n",
      "   Procesando batch 19000 - 20000...\n",
      "   Procesando batch 20000 - 21000...\n",
      "   Procesando batch 21000 - 22000...\n",
      "   Procesando batch 22000 - 23000...\n",
      "   Procesando batch 23000 - 24000...\n",
      "   Procesando batch 24000 - 25000...\n",
      "   Procesando batch 25000 - 26000...\n",
      "   Procesando batch 26000 - 27000...\n",
      "   Procesando batch 27000 - 28000...\n",
      "   Procesando batch 28000 - 29000...\n",
      "   Procesando batch 29000 - 30000...\n",
      "   Procesando batch 30000 - 31000...\n",
      "   Procesando batch 31000 - 32000...\n",
      "   Procesando batch 32000 - 33000...\n",
      "   Procesando batch 33000 - 34000...\n",
      "   Procesando batch 34000 - 35000...\n",
      "   Procesando batch 35000 - 36000...\n",
      "   Procesando batch 36000 - 37000...\n",
      "   Procesando batch 37000 - 38000...\n",
      "   Procesando batch 38000 - 39000...\n",
      "   Procesando batch 39000 - 40000...\n",
      "   Procesando batch 40000 - 41000...\n",
      "   Procesando batch 41000 - 42000...\n",
      "   Procesando batch 42000 - 43000...\n",
      "   Procesando batch 43000 - 44000...\n",
      "   Procesando batch 44000 - 45000...\n",
      "   Procesando batch 45000 - 46000...\n",
      "   Procesando batch 46000 - 47000...\n",
      "   Procesando batch 47000 - 48000...\n",
      "   Procesando batch 48000 - 49000...\n",
      "   Procesando batch 49000 - 50000...\n",
      "   Procesando batch 50000 - 51000...\n",
      "   Procesando batch 51000 - 52000...\n",
      "   Procesando batch 52000 - 53000...\n",
      "   Procesando batch 53000 - 54000...\n",
      "   Procesando batch 54000 - 55000...\n",
      "   Procesando batch 55000 - 56000...\n",
      "   Procesando batch 56000 - 57000...\n",
      "   Procesando batch 57000 - 58000...\n",
      "   Procesando batch 58000 - 59000...\n",
      "   Procesando batch 59000 - 60000...\n",
      "   Procesando batch 60000 - 61000...\n",
      "   Procesando batch 61000 - 62000...\n",
      "   Procesando batch 62000 - 63000...\n",
      "Proceso finalizado en 11 minutos\n",
      "----------------------------------------\n",
      "Proceso proporción: 1\n"
     ]
    }
   ],
   "source": [
    "\n",
    "\n",
    "for prop in proportions:\n",
    "    t_inicial = time.time()\n",
    "    print(f\"Proceso proporción: {prop}\")\n",
    "    similarity_performance(prop,embeddings,validation, validation_emb,batch_size=1000)\n",
    "    print(f\"Proceso finalizado en {round((time.time()-t_inicial)/60)} minutos\\n----------------------------------------\")\n",
    " "
   ]
  },
  {
   "cell_type": "markdown",
   "id": "e63aff10",
   "metadata": {},
   "source": [
    "# PERFORMANCE ANALISYS\n",
    "\n",
    "We are going to study 3 main things related to the impact on the performance, of the training size:\n",
    "\n",
    "1. Evaluation of the performance of the similarity process.\n",
    "\n",
    "2. Evaluation of the performance of the BERT fine tune process.\n",
    "\n",
    "3. Compare the performance between both processes based on the number of samples. "
   ]
  },
  {
   "cell_type": "code",
   "execution_count": null,
   "id": "22f18073",
   "metadata": {},
   "outputs": [],
   "source": []
  },
  {
   "cell_type": "markdown",
   "id": "d2c8432f",
   "metadata": {},
   "source": [
    "### 0. AUXILIAR FUNCTIONS"
   ]
  },
  {
   "cell_type": "code",
   "execution_count": null,
   "id": "389378c3",
   "metadata": {},
   "outputs": [],
   "source": [
    "def general(data):\n",
    "\n",
    "    \"\"\"\n",
    "    Function to plot performance and training set size for each `p`.\n",
    "    \"\"\"\n",
    "\n",
    "    fig = go.Figure()\n",
    "    fig.add_trace(go.Scatter(x=data[\"prop\"], y=data[\"f1_score_avg\"],name=\"f1-score\", yaxis=\"y1\"))\n",
    "    fig.add_trace(go.Scatter(x=data[\"prop\"], y=data[\"n_rows\"],name=\"Nº rows\", yaxis=\"y2\"))\n",
    "\n",
    "\n",
    "    fig.update_layout(\n",
    "        title=\"Average f1-score vs size of training data\",\n",
    "        xaxis=dict(title=\"Proportion of data for training\"),\n",
    "        yaxis=dict(title=\"Performance (f1-score avg)\", side=\"left\"),\n",
    "        yaxis2=dict(\n",
    "            title=\"Nº rows of training data\",\n",
    "            overlaying=\"y\",\n",
    "            side=\"right\"\n",
    "        )\n",
    "    )\n",
    "    fig.show()\n",
    "\n",
    "def top_categories(data):\n",
    "\n",
    "    \"\"\"\n",
    "    Function to plot performance and training set size for each `p` of 3 most frequent and 3 least frequent classes.\n",
    "    \"\"\" \n",
    "\n",
    "    # Crear figura\n",
    "    fig = go.Figure()\n",
    "    colors = ['red','blue','green','violet','turquoise','yellowgreen']\n",
    "    # turquoise, violet, wheat, white, whitesmoke,\n",
    "    #             yellow, yellowgreen\n",
    "    # Añadir trazas de F1-Score por categoría\n",
    "    j=0\n",
    "    for category in data['Category'].unique():\n",
    "        subset = data[data['Category'] == category]\n",
    "        fig.add_trace(go.Scatter(\n",
    "            x=subset['prop'],\n",
    "            y=subset['F1-Score'],\n",
    "            name=f'F1 - {category}',\n",
    "            mode='lines+markers',\n",
    "            yaxis='y1',\n",
    "            marker=dict(symbol='circle', size=5, color=colors[j]),\n",
    "        ))\n",
    "        j +=1\n",
    "    # Añadir trazas de F1-Score por categoría\n",
    "    j=0\n",
    "    for category in data['Category'].unique():\n",
    "        subset = data[data['Category'] == category]\n",
    "        fig.add_trace(go.Scatter(\n",
    "            x=subset['prop'],\n",
    "            y=subset['n_rows_label'],\n",
    "            name=f'nrows - {category}',\n",
    "            mode='lines+markers',\n",
    "            yaxis='y2',\n",
    "            marker=dict(symbol='diamond', size=5, color=colors[j]),\n",
    "            line=dict(dash='dot')\n",
    "\n",
    "        ))\n",
    "        j +=1\n",
    "\n",
    "    # Configurar layout con ejes secundarios\n",
    "    fig.update_layout(\n",
    "        title=\"F1-Score / size training datan of extreme categories \",\n",
    "        xaxis=dict(title=\"Proportion of data for training\"),\n",
    "        yaxis=dict(title=\"Performance (f1-score)\"),\n",
    "        yaxis2=dict(\n",
    "            title=\"Nº rows training\",\n",
    "            overlaying='y',\n",
    "            side='right',\n",
    "            showgrid=False\n",
    "        ),\n",
    "        legend=dict(x=1.1, y=1, bordercolor=\"Black\", borderwidth=1)\n",
    "    )\n",
    "\n",
    "    fig.show()\n",
    "\n",
    "def f1_data(tipo: Literal['sim', 'bert']):\n",
    "    \"\"\"\n",
    "    function to build a convenient dataset for the visualization.\n",
    "    \"\"\"\n",
    "    data = pd.DataFrame()\n",
    "    work_l = pd.DataFrame()\n",
    "\n",
    "    for d in proportions:\n",
    "        data = pd.concat([data,pd.read_csv(f\"../performance/{tipo}_{d}.csv\",usecols=['Category','F1-Score']).assign(prop=d)])\n",
    "        work_aux = pd.read_excel(f'{workdata_path}prop_{d}.xlsx').assign(prop=d)\n",
    "        work_aux = work_aux[work_aux['part']=='train']\n",
    "        work_l = pd.concat([work_l,work_aux.groupby(['label','prop']).agg(n_rows_label = pd.NamedAgg(column= 'news',aggfunc='count')).reset_index()])\n",
    "        del work_aux\n",
    "    work_l['Category'] = label_encoder.inverse_transform(work_l['label'])\n",
    "    work_l.drop(columns='label',inplace=True)\n",
    "    work_l.reset_index(drop=True,inplace=True)\n",
    "    data.reset_index(drop=True,inplace=True)\n",
    "    print(data.shape)\n",
    "    data = data.merge(work_l,how='left',on=['Category','prop'])\n",
    "    print(data.shape)\n",
    "    return data"
   ]
  },
  {
   "cell_type": "code",
   "execution_count": null,
   "id": "96da6341",
   "metadata": {},
   "outputs": [],
   "source": [
    "# proportions = [0.001, 0.005, 0.01, 0.05, 0.1, 0.2, 0.3, 0.4, 0.5, 1]"
   ]
  },
  {
   "cell_type": "markdown",
   "id": "8a504cd4",
   "metadata": {},
   "source": [
    "### 1. PERFORMANCE SIMILARITY PROCESS"
   ]
  },
  {
   "cell_type": "code",
   "execution_count": 51,
   "id": "c201a74a",
   "metadata": {},
   "outputs": [
    {
     "name": "stdout",
     "output_type": "stream",
     "text": [
      "(420, 3)\n",
      "(420, 4)\n"
     ]
    }
   ],
   "source": [
    "sim = f1_data('sim')"
   ]
  },
  {
   "cell_type": "markdown",
   "id": "9957fd8a",
   "metadata": {},
   "source": [
    "#### GENERAL"
   ]
  },
  {
   "cell_type": "code",
   "execution_count": null,
   "id": "4c10a3c9",
   "metadata": {},
   "outputs": [],
   "source": [
    "f1_size = sim.groupby(['prop']).agg(\n",
    "    f1_score_avg = pd.NamedAgg(column='F1-Score', aggfunc='mean'),\n",
    "    n_rows = pd.NamedAgg(column='n_rows_label', aggfunc='sum')\n",
    ").reset_index()"
   ]
  },
  {
   "cell_type": "code",
   "execution_count": 53,
   "id": "244afbac",
   "metadata": {},
   "outputs": [
    {
     "data": {
      "application/vnd.plotly.v1+json": {
       "config": {
        "plotlyServerURL": "https://plot.ly"
       },
       "data": [
        {
         "name": "f1-score",
         "type": "scatter",
         "x": {
          "bdata": "/Knx0k1iUD97FK5H4Xp0P3sUrkfheoQ/mpmZmZmZqT+amZmZmZm5P5qZmZmZmck/MzMzMzMz0z+amZmZmZnZPwAAAAAAAOA/AAAAAAAA8D8=",
          "dtype": "f8"
         },
         "y": {
          "bdata": "1fGQCY3qxT+Plv9QkYbRP23GD+KhXtM/F8sTY40k1z+FHzAVtNfYP4ZEU6/NL9o/aTDBUzon2z9Ua69D5eDbP3gNIIi0HNw/FMr0yvju3T8=",
          "dtype": "f8"
         },
         "yaxis": "y"
        },
        {
         "name": "Nº rows",
         "type": "scatter",
         "x": {
          "bdata": "/Knx0k1iUD97FK5H4Xp0P3sUrkfheoQ/mpmZmZmZqT+amZmZmZm5P5qZmZmZmck/MzMzMzMz0z+amZmZmZnZPwAAAAAAAOA/AAAAAAAA8D8=",
          "dtype": "f8"
         },
         "y": {
          "bdata": "AAAAAABAXUAAAAAAAFiCQAAAAAAAVJJAAAAAAADrtkAAAAAAgOrGQAAAAADA6tZAAAAAAAAw4UAAAAAAwOrmQAAAAABgpexAAAAAAGCl/EA=",
          "dtype": "f8"
         },
         "yaxis": "y2"
        }
       ],
       "layout": {
        "template": {
         "data": {
          "bar": [
           {
            "error_x": {
             "color": "#2a3f5f"
            },
            "error_y": {
             "color": "#2a3f5f"
            },
            "marker": {
             "line": {
              "color": "#E5ECF6",
              "width": 0.5
             },
             "pattern": {
              "fillmode": "overlay",
              "size": 10,
              "solidity": 0.2
             }
            },
            "type": "bar"
           }
          ],
          "barpolar": [
           {
            "marker": {
             "line": {
              "color": "#E5ECF6",
              "width": 0.5
             },
             "pattern": {
              "fillmode": "overlay",
              "size": 10,
              "solidity": 0.2
             }
            },
            "type": "barpolar"
           }
          ],
          "carpet": [
           {
            "aaxis": {
             "endlinecolor": "#2a3f5f",
             "gridcolor": "white",
             "linecolor": "white",
             "minorgridcolor": "white",
             "startlinecolor": "#2a3f5f"
            },
            "baxis": {
             "endlinecolor": "#2a3f5f",
             "gridcolor": "white",
             "linecolor": "white",
             "minorgridcolor": "white",
             "startlinecolor": "#2a3f5f"
            },
            "type": "carpet"
           }
          ],
          "choropleth": [
           {
            "colorbar": {
             "outlinewidth": 0,
             "ticks": ""
            },
            "type": "choropleth"
           }
          ],
          "contour": [
           {
            "colorbar": {
             "outlinewidth": 0,
             "ticks": ""
            },
            "colorscale": [
             [
              0,
              "#0d0887"
             ],
             [
              0.1111111111111111,
              "#46039f"
             ],
             [
              0.2222222222222222,
              "#7201a8"
             ],
             [
              0.3333333333333333,
              "#9c179e"
             ],
             [
              0.4444444444444444,
              "#bd3786"
             ],
             [
              0.5555555555555556,
              "#d8576b"
             ],
             [
              0.6666666666666666,
              "#ed7953"
             ],
             [
              0.7777777777777778,
              "#fb9f3a"
             ],
             [
              0.8888888888888888,
              "#fdca26"
             ],
             [
              1,
              "#f0f921"
             ]
            ],
            "type": "contour"
           }
          ],
          "contourcarpet": [
           {
            "colorbar": {
             "outlinewidth": 0,
             "ticks": ""
            },
            "type": "contourcarpet"
           }
          ],
          "heatmap": [
           {
            "colorbar": {
             "outlinewidth": 0,
             "ticks": ""
            },
            "colorscale": [
             [
              0,
              "#0d0887"
             ],
             [
              0.1111111111111111,
              "#46039f"
             ],
             [
              0.2222222222222222,
              "#7201a8"
             ],
             [
              0.3333333333333333,
              "#9c179e"
             ],
             [
              0.4444444444444444,
              "#bd3786"
             ],
             [
              0.5555555555555556,
              "#d8576b"
             ],
             [
              0.6666666666666666,
              "#ed7953"
             ],
             [
              0.7777777777777778,
              "#fb9f3a"
             ],
             [
              0.8888888888888888,
              "#fdca26"
             ],
             [
              1,
              "#f0f921"
             ]
            ],
            "type": "heatmap"
           }
          ],
          "histogram": [
           {
            "marker": {
             "pattern": {
              "fillmode": "overlay",
              "size": 10,
              "solidity": 0.2
             }
            },
            "type": "histogram"
           }
          ],
          "histogram2d": [
           {
            "colorbar": {
             "outlinewidth": 0,
             "ticks": ""
            },
            "colorscale": [
             [
              0,
              "#0d0887"
             ],
             [
              0.1111111111111111,
              "#46039f"
             ],
             [
              0.2222222222222222,
              "#7201a8"
             ],
             [
              0.3333333333333333,
              "#9c179e"
             ],
             [
              0.4444444444444444,
              "#bd3786"
             ],
             [
              0.5555555555555556,
              "#d8576b"
             ],
             [
              0.6666666666666666,
              "#ed7953"
             ],
             [
              0.7777777777777778,
              "#fb9f3a"
             ],
             [
              0.8888888888888888,
              "#fdca26"
             ],
             [
              1,
              "#f0f921"
             ]
            ],
            "type": "histogram2d"
           }
          ],
          "histogram2dcontour": [
           {
            "colorbar": {
             "outlinewidth": 0,
             "ticks": ""
            },
            "colorscale": [
             [
              0,
              "#0d0887"
             ],
             [
              0.1111111111111111,
              "#46039f"
             ],
             [
              0.2222222222222222,
              "#7201a8"
             ],
             [
              0.3333333333333333,
              "#9c179e"
             ],
             [
              0.4444444444444444,
              "#bd3786"
             ],
             [
              0.5555555555555556,
              "#d8576b"
             ],
             [
              0.6666666666666666,
              "#ed7953"
             ],
             [
              0.7777777777777778,
              "#fb9f3a"
             ],
             [
              0.8888888888888888,
              "#fdca26"
             ],
             [
              1,
              "#f0f921"
             ]
            ],
            "type": "histogram2dcontour"
           }
          ],
          "mesh3d": [
           {
            "colorbar": {
             "outlinewidth": 0,
             "ticks": ""
            },
            "type": "mesh3d"
           }
          ],
          "parcoords": [
           {
            "line": {
             "colorbar": {
              "outlinewidth": 0,
              "ticks": ""
             }
            },
            "type": "parcoords"
           }
          ],
          "pie": [
           {
            "automargin": true,
            "type": "pie"
           }
          ],
          "scatter": [
           {
            "fillpattern": {
             "fillmode": "overlay",
             "size": 10,
             "solidity": 0.2
            },
            "type": "scatter"
           }
          ],
          "scatter3d": [
           {
            "line": {
             "colorbar": {
              "outlinewidth": 0,
              "ticks": ""
             }
            },
            "marker": {
             "colorbar": {
              "outlinewidth": 0,
              "ticks": ""
             }
            },
            "type": "scatter3d"
           }
          ],
          "scattercarpet": [
           {
            "marker": {
             "colorbar": {
              "outlinewidth": 0,
              "ticks": ""
             }
            },
            "type": "scattercarpet"
           }
          ],
          "scattergeo": [
           {
            "marker": {
             "colorbar": {
              "outlinewidth": 0,
              "ticks": ""
             }
            },
            "type": "scattergeo"
           }
          ],
          "scattergl": [
           {
            "marker": {
             "colorbar": {
              "outlinewidth": 0,
              "ticks": ""
             }
            },
            "type": "scattergl"
           }
          ],
          "scattermap": [
           {
            "marker": {
             "colorbar": {
              "outlinewidth": 0,
              "ticks": ""
             }
            },
            "type": "scattermap"
           }
          ],
          "scattermapbox": [
           {
            "marker": {
             "colorbar": {
              "outlinewidth": 0,
              "ticks": ""
             }
            },
            "type": "scattermapbox"
           }
          ],
          "scatterpolar": [
           {
            "marker": {
             "colorbar": {
              "outlinewidth": 0,
              "ticks": ""
             }
            },
            "type": "scatterpolar"
           }
          ],
          "scatterpolargl": [
           {
            "marker": {
             "colorbar": {
              "outlinewidth": 0,
              "ticks": ""
             }
            },
            "type": "scatterpolargl"
           }
          ],
          "scatterternary": [
           {
            "marker": {
             "colorbar": {
              "outlinewidth": 0,
              "ticks": ""
             }
            },
            "type": "scatterternary"
           }
          ],
          "surface": [
           {
            "colorbar": {
             "outlinewidth": 0,
             "ticks": ""
            },
            "colorscale": [
             [
              0,
              "#0d0887"
             ],
             [
              0.1111111111111111,
              "#46039f"
             ],
             [
              0.2222222222222222,
              "#7201a8"
             ],
             [
              0.3333333333333333,
              "#9c179e"
             ],
             [
              0.4444444444444444,
              "#bd3786"
             ],
             [
              0.5555555555555556,
              "#d8576b"
             ],
             [
              0.6666666666666666,
              "#ed7953"
             ],
             [
              0.7777777777777778,
              "#fb9f3a"
             ],
             [
              0.8888888888888888,
              "#fdca26"
             ],
             [
              1,
              "#f0f921"
             ]
            ],
            "type": "surface"
           }
          ],
          "table": [
           {
            "cells": {
             "fill": {
              "color": "#EBF0F8"
             },
             "line": {
              "color": "white"
             }
            },
            "header": {
             "fill": {
              "color": "#C8D4E3"
             },
             "line": {
              "color": "white"
             }
            },
            "type": "table"
           }
          ]
         },
         "layout": {
          "annotationdefaults": {
           "arrowcolor": "#2a3f5f",
           "arrowhead": 0,
           "arrowwidth": 1
          },
          "autotypenumbers": "strict",
          "coloraxis": {
           "colorbar": {
            "outlinewidth": 0,
            "ticks": ""
           }
          },
          "colorscale": {
           "diverging": [
            [
             0,
             "#8e0152"
            ],
            [
             0.1,
             "#c51b7d"
            ],
            [
             0.2,
             "#de77ae"
            ],
            [
             0.3,
             "#f1b6da"
            ],
            [
             0.4,
             "#fde0ef"
            ],
            [
             0.5,
             "#f7f7f7"
            ],
            [
             0.6,
             "#e6f5d0"
            ],
            [
             0.7,
             "#b8e186"
            ],
            [
             0.8,
             "#7fbc41"
            ],
            [
             0.9,
             "#4d9221"
            ],
            [
             1,
             "#276419"
            ]
           ],
           "sequential": [
            [
             0,
             "#0d0887"
            ],
            [
             0.1111111111111111,
             "#46039f"
            ],
            [
             0.2222222222222222,
             "#7201a8"
            ],
            [
             0.3333333333333333,
             "#9c179e"
            ],
            [
             0.4444444444444444,
             "#bd3786"
            ],
            [
             0.5555555555555556,
             "#d8576b"
            ],
            [
             0.6666666666666666,
             "#ed7953"
            ],
            [
             0.7777777777777778,
             "#fb9f3a"
            ],
            [
             0.8888888888888888,
             "#fdca26"
            ],
            [
             1,
             "#f0f921"
            ]
           ],
           "sequentialminus": [
            [
             0,
             "#0d0887"
            ],
            [
             0.1111111111111111,
             "#46039f"
            ],
            [
             0.2222222222222222,
             "#7201a8"
            ],
            [
             0.3333333333333333,
             "#9c179e"
            ],
            [
             0.4444444444444444,
             "#bd3786"
            ],
            [
             0.5555555555555556,
             "#d8576b"
            ],
            [
             0.6666666666666666,
             "#ed7953"
            ],
            [
             0.7777777777777778,
             "#fb9f3a"
            ],
            [
             0.8888888888888888,
             "#fdca26"
            ],
            [
             1,
             "#f0f921"
            ]
           ]
          },
          "colorway": [
           "#636efa",
           "#EF553B",
           "#00cc96",
           "#ab63fa",
           "#FFA15A",
           "#19d3f3",
           "#FF6692",
           "#B6E880",
           "#FF97FF",
           "#FECB52"
          ],
          "font": {
           "color": "#2a3f5f"
          },
          "geo": {
           "bgcolor": "white",
           "lakecolor": "white",
           "landcolor": "#E5ECF6",
           "showlakes": true,
           "showland": true,
           "subunitcolor": "white"
          },
          "hoverlabel": {
           "align": "left"
          },
          "hovermode": "closest",
          "mapbox": {
           "style": "light"
          },
          "paper_bgcolor": "white",
          "plot_bgcolor": "#E5ECF6",
          "polar": {
           "angularaxis": {
            "gridcolor": "white",
            "linecolor": "white",
            "ticks": ""
           },
           "bgcolor": "#E5ECF6",
           "radialaxis": {
            "gridcolor": "white",
            "linecolor": "white",
            "ticks": ""
           }
          },
          "scene": {
           "xaxis": {
            "backgroundcolor": "#E5ECF6",
            "gridcolor": "white",
            "gridwidth": 2,
            "linecolor": "white",
            "showbackground": true,
            "ticks": "",
            "zerolinecolor": "white"
           },
           "yaxis": {
            "backgroundcolor": "#E5ECF6",
            "gridcolor": "white",
            "gridwidth": 2,
            "linecolor": "white",
            "showbackground": true,
            "ticks": "",
            "zerolinecolor": "white"
           },
           "zaxis": {
            "backgroundcolor": "#E5ECF6",
            "gridcolor": "white",
            "gridwidth": 2,
            "linecolor": "white",
            "showbackground": true,
            "ticks": "",
            "zerolinecolor": "white"
           }
          },
          "shapedefaults": {
           "line": {
            "color": "#2a3f5f"
           }
          },
          "ternary": {
           "aaxis": {
            "gridcolor": "white",
            "linecolor": "white",
            "ticks": ""
           },
           "baxis": {
            "gridcolor": "white",
            "linecolor": "white",
            "ticks": ""
           },
           "bgcolor": "#E5ECF6",
           "caxis": {
            "gridcolor": "white",
            "linecolor": "white",
            "ticks": ""
           }
          },
          "title": {
           "x": 0.05
          },
          "xaxis": {
           "automargin": true,
           "gridcolor": "white",
           "linecolor": "white",
           "ticks": "",
           "title": {
            "standoff": 15
           },
           "zerolinecolor": "white",
           "zerolinewidth": 2
          },
          "yaxis": {
           "automargin": true,
           "gridcolor": "white",
           "linecolor": "white",
           "ticks": "",
           "title": {
            "standoff": 15
           },
           "zerolinecolor": "white",
           "zerolinewidth": 2
          }
         }
        },
        "title": {
         "text": "Average f1-score vs size of training data"
        },
        "xaxis": {
         "title": {
          "text": "Proportion of data for training"
         }
        },
        "yaxis": {
         "side": "left",
         "title": {
          "text": "Performance (f1-score avg)"
         }
        },
        "yaxis2": {
         "overlaying": "y",
         "side": "right",
         "title": {
          "text": "Nº rows of training data"
         }
        }
       }
      }
     },
     "metadata": {},
     "output_type": "display_data"
    }
   ],
   "source": [
    "general(f1_size)"
   ]
  },
  {
   "cell_type": "markdown",
   "id": "b017b89e",
   "metadata": {},
   "source": [
    "This chart shows how the average F1-score (blue line) evolves as the training data size increases. The red line represents the corresponding number of training examples used at each proportion.\n",
    "\n",
    "The model achieves the largest performance gain with the initial training data. After a certain point (when the train size is about 20-30k rows), adding more data contributes less to improving F1-score, the benefit of adding more data decreases progressively"
   ]
  },
  {
   "cell_type": "code",
   "execution_count": null,
   "id": "d8794a25",
   "metadata": {},
   "outputs": [],
   "source": []
  },
  {
   "cell_type": "markdown",
   "id": "62c344d5",
   "metadata": {},
   "source": [
    "#### MOST AND LEAST POPULATED CATEGORIES"
   ]
  },
  {
   "cell_type": "code",
   "execution_count": 26,
   "id": "fe57f617",
   "metadata": {},
   "outputs": [],
   "source": [
    "less_3 = list(sim.groupby(['Category'])['n_rows_label'].mean().sort_values().index[:3])\n",
    "top_3 = list(sim.groupby(['Category'])['n_rows_label'].mean().sort_values().index[-3:])\n",
    "top_less_3 =less_3 +top_3"
   ]
  },
  {
   "cell_type": "code",
   "execution_count": null,
   "id": "2acd384a",
   "metadata": {},
   "outputs": [],
   "source": []
  },
  {
   "cell_type": "code",
   "execution_count": 29,
   "id": "981ab45d",
   "metadata": {},
   "outputs": [
    {
     "data": {
      "text/html": [
       "<div>\n",
       "<style scoped>\n",
       "    .dataframe tbody tr th:only-of-type {\n",
       "        vertical-align: middle;\n",
       "    }\n",
       "\n",
       "    .dataframe tbody tr th {\n",
       "        vertical-align: top;\n",
       "    }\n",
       "\n",
       "    .dataframe thead th {\n",
       "        text-align: right;\n",
       "    }\n",
       "</style>\n",
       "<table border=\"1\" class=\"dataframe\">\n",
       "  <thead>\n",
       "    <tr style=\"text-align: right;\">\n",
       "      <th></th>\n",
       "      <th>Category</th>\n",
       "      <th>F1-Score</th>\n",
       "      <th>prop</th>\n",
       "      <th>n_rows_label</th>\n",
       "    </tr>\n",
       "  </thead>\n",
       "  <tbody>\n",
       "    <tr>\n",
       "      <th>4</th>\n",
       "      <td>COLLEGE</td>\n",
       "      <td>0.112948</td>\n",
       "      <td>0.001</td>\n",
       "      <td>1.0</td>\n",
       "    </tr>\n",
       "    <tr>\n",
       "      <th>9</th>\n",
       "      <td>EDUCATION</td>\n",
       "      <td>0.186170</td>\n",
       "      <td>0.001</td>\n",
       "      <td>1.0</td>\n",
       "    </tr>\n",
       "    <tr>\n",
       "      <th>10</th>\n",
       "      <td>ENTERTAINMENT</td>\n",
       "      <td>0.369369</td>\n",
       "      <td>0.001</td>\n",
       "      <td>8.0</td>\n",
       "    </tr>\n",
       "    <tr>\n",
       "      <th>19</th>\n",
       "      <td>LATINO VOICES</td>\n",
       "      <td>0.021739</td>\n",
       "      <td>0.001</td>\n",
       "      <td>1.0</td>\n",
       "    </tr>\n",
       "    <tr>\n",
       "      <th>24</th>\n",
       "      <td>POLITICS</td>\n",
       "      <td>0.544674</td>\n",
       "      <td>0.001</td>\n",
       "      <td>21.0</td>\n",
       "    </tr>\n",
       "    <tr>\n",
       "      <th>38</th>\n",
       "      <td>WELLNESS</td>\n",
       "      <td>0.422986</td>\n",
       "      <td>0.001</td>\n",
       "      <td>11.0</td>\n",
       "    </tr>\n",
       "    <tr>\n",
       "      <th>46</th>\n",
       "      <td>COLLEGE</td>\n",
       "      <td>0.208333</td>\n",
       "      <td>0.005</td>\n",
       "      <td>3.0</td>\n",
       "    </tr>\n",
       "    <tr>\n",
       "      <th>51</th>\n",
       "      <td>EDUCATION</td>\n",
       "      <td>0.301493</td>\n",
       "      <td>0.005</td>\n",
       "      <td>3.0</td>\n",
       "    </tr>\n",
       "    <tr>\n",
       "      <th>52</th>\n",
       "      <td>ENTERTAINMENT</td>\n",
       "      <td>0.465661</td>\n",
       "      <td>0.005</td>\n",
       "      <td>49.0</td>\n",
       "    </tr>\n",
       "    <tr>\n",
       "      <th>61</th>\n",
       "      <td>LATINO VOICES</td>\n",
       "      <td>0.045889</td>\n",
       "      <td>0.005</td>\n",
       "      <td>3.0</td>\n",
       "    </tr>\n",
       "    <tr>\n",
       "      <th>66</th>\n",
       "      <td>POLITICS</td>\n",
       "      <td>0.656941</td>\n",
       "      <td>0.005</td>\n",
       "      <td>100.0</td>\n",
       "    </tr>\n",
       "    <tr>\n",
       "      <th>80</th>\n",
       "      <td>WELLNESS</td>\n",
       "      <td>0.450930</td>\n",
       "      <td>0.005</td>\n",
       "      <td>50.0</td>\n",
       "    </tr>\n",
       "    <tr>\n",
       "      <th>88</th>\n",
       "      <td>COLLEGE</td>\n",
       "      <td>0.191304</td>\n",
       "      <td>0.010</td>\n",
       "      <td>6.0</td>\n",
       "    </tr>\n",
       "    <tr>\n",
       "      <th>93</th>\n",
       "      <td>EDUCATION</td>\n",
       "      <td>0.250847</td>\n",
       "      <td>0.010</td>\n",
       "      <td>6.0</td>\n",
       "    </tr>\n",
       "    <tr>\n",
       "      <th>94</th>\n",
       "      <td>ENTERTAINMENT</td>\n",
       "      <td>0.497360</td>\n",
       "      <td>0.010</td>\n",
       "      <td>98.0</td>\n",
       "    </tr>\n",
       "    <tr>\n",
       "      <th>103</th>\n",
       "      <td>LATINO VOICES</td>\n",
       "      <td>0.146520</td>\n",
       "      <td>0.010</td>\n",
       "      <td>6.0</td>\n",
       "    </tr>\n",
       "    <tr>\n",
       "      <th>108</th>\n",
       "      <td>POLITICS</td>\n",
       "      <td>0.669723</td>\n",
       "      <td>0.010</td>\n",
       "      <td>199.0</td>\n",
       "    </tr>\n",
       "    <tr>\n",
       "      <th>122</th>\n",
       "      <td>WELLNESS</td>\n",
       "      <td>0.498126</td>\n",
       "      <td>0.010</td>\n",
       "      <td>101.0</td>\n",
       "    </tr>\n",
       "    <tr>\n",
       "      <th>130</th>\n",
       "      <td>COLLEGE</td>\n",
       "      <td>0.299584</td>\n",
       "      <td>0.050</td>\n",
       "      <td>32.0</td>\n",
       "    </tr>\n",
       "    <tr>\n",
       "      <th>135</th>\n",
       "      <td>EDUCATION</td>\n",
       "      <td>0.295026</td>\n",
       "      <td>0.050</td>\n",
       "      <td>28.0</td>\n",
       "    </tr>\n",
       "    <tr>\n",
       "      <th>136</th>\n",
       "      <td>ENTERTAINMENT</td>\n",
       "      <td>0.560983</td>\n",
       "      <td>0.050</td>\n",
       "      <td>486.0</td>\n",
       "    </tr>\n",
       "    <tr>\n",
       "      <th>145</th>\n",
       "      <td>LATINO VOICES</td>\n",
       "      <td>0.144578</td>\n",
       "      <td>0.050</td>\n",
       "      <td>32.0</td>\n",
       "    </tr>\n",
       "    <tr>\n",
       "      <th>150</th>\n",
       "      <td>POLITICS</td>\n",
       "      <td>0.709112</td>\n",
       "      <td>0.050</td>\n",
       "      <td>997.0</td>\n",
       "    </tr>\n",
       "    <tr>\n",
       "      <th>164</th>\n",
       "      <td>WELLNESS</td>\n",
       "      <td>0.548479</td>\n",
       "      <td>0.050</td>\n",
       "      <td>502.0</td>\n",
       "    </tr>\n",
       "    <tr>\n",
       "      <th>172</th>\n",
       "      <td>COLLEGE</td>\n",
       "      <td>0.337209</td>\n",
       "      <td>0.100</td>\n",
       "      <td>64.0</td>\n",
       "    </tr>\n",
       "    <tr>\n",
       "      <th>177</th>\n",
       "      <td>EDUCATION</td>\n",
       "      <td>0.312605</td>\n",
       "      <td>0.100</td>\n",
       "      <td>57.0</td>\n",
       "    </tr>\n",
       "    <tr>\n",
       "      <th>178</th>\n",
       "      <td>ENTERTAINMENT</td>\n",
       "      <td>0.597768</td>\n",
       "      <td>0.100</td>\n",
       "      <td>972.0</td>\n",
       "    </tr>\n",
       "    <tr>\n",
       "      <th>187</th>\n",
       "      <td>LATINO VOICES</td>\n",
       "      <td>0.239726</td>\n",
       "      <td>0.100</td>\n",
       "      <td>63.0</td>\n",
       "    </tr>\n",
       "    <tr>\n",
       "      <th>192</th>\n",
       "      <td>POLITICS</td>\n",
       "      <td>0.719697</td>\n",
       "      <td>0.100</td>\n",
       "      <td>1993.0</td>\n",
       "    </tr>\n",
       "    <tr>\n",
       "      <th>206</th>\n",
       "      <td>WELLNESS</td>\n",
       "      <td>0.565134</td>\n",
       "      <td>0.100</td>\n",
       "      <td>1005.0</td>\n",
       "    </tr>\n",
       "    <tr>\n",
       "      <th>214</th>\n",
       "      <td>COLLEGE</td>\n",
       "      <td>0.320700</td>\n",
       "      <td>0.200</td>\n",
       "      <td>128.0</td>\n",
       "    </tr>\n",
       "    <tr>\n",
       "      <th>219</th>\n",
       "      <td>EDUCATION</td>\n",
       "      <td>0.340067</td>\n",
       "      <td>0.200</td>\n",
       "      <td>114.0</td>\n",
       "    </tr>\n",
       "    <tr>\n",
       "      <th>220</th>\n",
       "      <td>ENTERTAINMENT</td>\n",
       "      <td>0.615155</td>\n",
       "      <td>0.200</td>\n",
       "      <td>1945.0</td>\n",
       "    </tr>\n",
       "    <tr>\n",
       "      <th>229</th>\n",
       "      <td>LATINO VOICES</td>\n",
       "      <td>0.307229</td>\n",
       "      <td>0.200</td>\n",
       "      <td>126.0</td>\n",
       "    </tr>\n",
       "    <tr>\n",
       "      <th>234</th>\n",
       "      <td>POLITICS</td>\n",
       "      <td>0.730533</td>\n",
       "      <td>0.200</td>\n",
       "      <td>3987.0</td>\n",
       "    </tr>\n",
       "    <tr>\n",
       "      <th>248</th>\n",
       "      <td>WELLNESS</td>\n",
       "      <td>0.585266</td>\n",
       "      <td>0.200</td>\n",
       "      <td>2009.0</td>\n",
       "    </tr>\n",
       "    <tr>\n",
       "      <th>256</th>\n",
       "      <td>COLLEGE</td>\n",
       "      <td>0.376296</td>\n",
       "      <td>0.300</td>\n",
       "      <td>192.0</td>\n",
       "    </tr>\n",
       "    <tr>\n",
       "      <th>261</th>\n",
       "      <td>EDUCATION</td>\n",
       "      <td>0.308748</td>\n",
       "      <td>0.300</td>\n",
       "      <td>170.0</td>\n",
       "    </tr>\n",
       "    <tr>\n",
       "      <th>262</th>\n",
       "      <td>ENTERTAINMENT</td>\n",
       "      <td>0.636346</td>\n",
       "      <td>0.300</td>\n",
       "      <td>2917.0</td>\n",
       "    </tr>\n",
       "    <tr>\n",
       "      <th>271</th>\n",
       "      <td>LATINO VOICES</td>\n",
       "      <td>0.313546</td>\n",
       "      <td>0.300</td>\n",
       "      <td>190.0</td>\n",
       "    </tr>\n",
       "    <tr>\n",
       "      <th>276</th>\n",
       "      <td>POLITICS</td>\n",
       "      <td>0.742411</td>\n",
       "      <td>0.300</td>\n",
       "      <td>5981.0</td>\n",
       "    </tr>\n",
       "    <tr>\n",
       "      <th>290</th>\n",
       "      <td>WELLNESS</td>\n",
       "      <td>0.592331</td>\n",
       "      <td>0.300</td>\n",
       "      <td>3014.0</td>\n",
       "    </tr>\n",
       "    <tr>\n",
       "      <th>298</th>\n",
       "      <td>COLLEGE</td>\n",
       "      <td>0.398827</td>\n",
       "      <td>0.400</td>\n",
       "      <td>256.0</td>\n",
       "    </tr>\n",
       "    <tr>\n",
       "      <th>303</th>\n",
       "      <td>EDUCATION</td>\n",
       "      <td>0.323529</td>\n",
       "      <td>0.400</td>\n",
       "      <td>227.0</td>\n",
       "    </tr>\n",
       "    <tr>\n",
       "      <th>304</th>\n",
       "      <td>ENTERTAINMENT</td>\n",
       "      <td>0.640538</td>\n",
       "      <td>0.400</td>\n",
       "      <td>3889.0</td>\n",
       "    </tr>\n",
       "    <tr>\n",
       "      <th>313</th>\n",
       "      <td>LATINO VOICES</td>\n",
       "      <td>0.325077</td>\n",
       "      <td>0.400</td>\n",
       "      <td>253.0</td>\n",
       "    </tr>\n",
       "    <tr>\n",
       "      <th>318</th>\n",
       "      <td>POLITICS</td>\n",
       "      <td>0.748047</td>\n",
       "      <td>0.400</td>\n",
       "      <td>7974.0</td>\n",
       "    </tr>\n",
       "    <tr>\n",
       "      <th>332</th>\n",
       "      <td>WELLNESS</td>\n",
       "      <td>0.596713</td>\n",
       "      <td>0.400</td>\n",
       "      <td>4019.0</td>\n",
       "    </tr>\n",
       "    <tr>\n",
       "      <th>340</th>\n",
       "      <td>COLLEGE</td>\n",
       "      <td>0.352601</td>\n",
       "      <td>0.500</td>\n",
       "      <td>321.0</td>\n",
       "    </tr>\n",
       "    <tr>\n",
       "      <th>345</th>\n",
       "      <td>EDUCATION</td>\n",
       "      <td>0.341794</td>\n",
       "      <td>0.500</td>\n",
       "      <td>284.0</td>\n",
       "    </tr>\n",
       "    <tr>\n",
       "      <th>346</th>\n",
       "      <td>ENTERTAINMENT</td>\n",
       "      <td>0.647756</td>\n",
       "      <td>0.500</td>\n",
       "      <td>4861.0</td>\n",
       "    </tr>\n",
       "    <tr>\n",
       "      <th>355</th>\n",
       "      <td>LATINO VOICES</td>\n",
       "      <td>0.347134</td>\n",
       "      <td>0.500</td>\n",
       "      <td>317.0</td>\n",
       "    </tr>\n",
       "    <tr>\n",
       "      <th>360</th>\n",
       "      <td>POLITICS</td>\n",
       "      <td>0.750746</td>\n",
       "      <td>0.500</td>\n",
       "      <td>9969.0</td>\n",
       "    </tr>\n",
       "    <tr>\n",
       "      <th>374</th>\n",
       "      <td>WELLNESS</td>\n",
       "      <td>0.606987</td>\n",
       "      <td>0.500</td>\n",
       "      <td>5025.0</td>\n",
       "    </tr>\n",
       "    <tr>\n",
       "      <th>382</th>\n",
       "      <td>COLLEGE</td>\n",
       "      <td>0.388017</td>\n",
       "      <td>1.000</td>\n",
       "      <td>641.0</td>\n",
       "    </tr>\n",
       "    <tr>\n",
       "      <th>387</th>\n",
       "      <td>EDUCATION</td>\n",
       "      <td>0.376554</td>\n",
       "      <td>1.000</td>\n",
       "      <td>568.0</td>\n",
       "    </tr>\n",
       "    <tr>\n",
       "      <th>388</th>\n",
       "      <td>ENTERTAINMENT</td>\n",
       "      <td>0.666207</td>\n",
       "      <td>1.000</td>\n",
       "      <td>9722.0</td>\n",
       "    </tr>\n",
       "    <tr>\n",
       "      <th>397</th>\n",
       "      <td>LATINO VOICES</td>\n",
       "      <td>0.363636</td>\n",
       "      <td>1.000</td>\n",
       "      <td>633.0</td>\n",
       "    </tr>\n",
       "    <tr>\n",
       "      <th>402</th>\n",
       "      <td>POLITICS</td>\n",
       "      <td>0.768770</td>\n",
       "      <td>1.000</td>\n",
       "      <td>19937.0</td>\n",
       "    </tr>\n",
       "    <tr>\n",
       "      <th>416</th>\n",
       "      <td>WELLNESS</td>\n",
       "      <td>0.628715</td>\n",
       "      <td>1.000</td>\n",
       "      <td>10049.0</td>\n",
       "    </tr>\n",
       "  </tbody>\n",
       "</table>\n",
       "</div>"
      ],
      "text/plain": [
       "          Category  F1-Score   prop  n_rows_label\n",
       "4          COLLEGE  0.112948  0.001           1.0\n",
       "9        EDUCATION  0.186170  0.001           1.0\n",
       "10   ENTERTAINMENT  0.369369  0.001           8.0\n",
       "19   LATINO VOICES  0.021739  0.001           1.0\n",
       "24        POLITICS  0.544674  0.001          21.0\n",
       "38        WELLNESS  0.422986  0.001          11.0\n",
       "46         COLLEGE  0.208333  0.005           3.0\n",
       "51       EDUCATION  0.301493  0.005           3.0\n",
       "52   ENTERTAINMENT  0.465661  0.005          49.0\n",
       "61   LATINO VOICES  0.045889  0.005           3.0\n",
       "66        POLITICS  0.656941  0.005         100.0\n",
       "80        WELLNESS  0.450930  0.005          50.0\n",
       "88         COLLEGE  0.191304  0.010           6.0\n",
       "93       EDUCATION  0.250847  0.010           6.0\n",
       "94   ENTERTAINMENT  0.497360  0.010          98.0\n",
       "103  LATINO VOICES  0.146520  0.010           6.0\n",
       "108       POLITICS  0.669723  0.010         199.0\n",
       "122       WELLNESS  0.498126  0.010         101.0\n",
       "130        COLLEGE  0.299584  0.050          32.0\n",
       "135      EDUCATION  0.295026  0.050          28.0\n",
       "136  ENTERTAINMENT  0.560983  0.050         486.0\n",
       "145  LATINO VOICES  0.144578  0.050          32.0\n",
       "150       POLITICS  0.709112  0.050         997.0\n",
       "164       WELLNESS  0.548479  0.050         502.0\n",
       "172        COLLEGE  0.337209  0.100          64.0\n",
       "177      EDUCATION  0.312605  0.100          57.0\n",
       "178  ENTERTAINMENT  0.597768  0.100         972.0\n",
       "187  LATINO VOICES  0.239726  0.100          63.0\n",
       "192       POLITICS  0.719697  0.100        1993.0\n",
       "206       WELLNESS  0.565134  0.100        1005.0\n",
       "214        COLLEGE  0.320700  0.200         128.0\n",
       "219      EDUCATION  0.340067  0.200         114.0\n",
       "220  ENTERTAINMENT  0.615155  0.200        1945.0\n",
       "229  LATINO VOICES  0.307229  0.200         126.0\n",
       "234       POLITICS  0.730533  0.200        3987.0\n",
       "248       WELLNESS  0.585266  0.200        2009.0\n",
       "256        COLLEGE  0.376296  0.300         192.0\n",
       "261      EDUCATION  0.308748  0.300         170.0\n",
       "262  ENTERTAINMENT  0.636346  0.300        2917.0\n",
       "271  LATINO VOICES  0.313546  0.300         190.0\n",
       "276       POLITICS  0.742411  0.300        5981.0\n",
       "290       WELLNESS  0.592331  0.300        3014.0\n",
       "298        COLLEGE  0.398827  0.400         256.0\n",
       "303      EDUCATION  0.323529  0.400         227.0\n",
       "304  ENTERTAINMENT  0.640538  0.400        3889.0\n",
       "313  LATINO VOICES  0.325077  0.400         253.0\n",
       "318       POLITICS  0.748047  0.400        7974.0\n",
       "332       WELLNESS  0.596713  0.400        4019.0\n",
       "340        COLLEGE  0.352601  0.500         321.0\n",
       "345      EDUCATION  0.341794  0.500         284.0\n",
       "346  ENTERTAINMENT  0.647756  0.500        4861.0\n",
       "355  LATINO VOICES  0.347134  0.500         317.0\n",
       "360       POLITICS  0.750746  0.500        9969.0\n",
       "374       WELLNESS  0.606987  0.500        5025.0\n",
       "382        COLLEGE  0.388017  1.000         641.0\n",
       "387      EDUCATION  0.376554  1.000         568.0\n",
       "388  ENTERTAINMENT  0.666207  1.000        9722.0\n",
       "397  LATINO VOICES  0.363636  1.000         633.0\n",
       "402       POLITICS  0.768770  1.000       19937.0\n",
       "416       WELLNESS  0.628715  1.000       10049.0"
      ]
     },
     "execution_count": 29,
     "metadata": {},
     "output_type": "execute_result"
    }
   ],
   "source": [
    "sim_tops = sim[sim['Category'].isin(top_less_3)]\n",
    "sim_tops"
   ]
  },
  {
   "cell_type": "code",
   "execution_count": 47,
   "id": "60d34fd9",
   "metadata": {},
   "outputs": [
    {
     "data": {
      "application/vnd.plotly.v1+json": {
       "config": {
        "plotlyServerURL": "https://plot.ly"
       },
       "data": [
        {
         "marker": {
          "color": "red",
          "size": 5,
          "symbol": "circle"
         },
         "mode": "lines+markers",
         "name": "F1 - COLLEGE",
         "type": "scatter",
         "x": {
          "bdata": "/Knx0k1iUD97FK5H4Xp0P3sUrkfheoQ/mpmZmZmZqT+amZmZmZm5P5qZmZmZmck/MzMzMzMz0z+amZmZmZnZPwAAAAAAAOA/AAAAAAAA8D8=",
          "dtype": "f8"
         },
         "y": {
          "bdata": "ckv/QiPqvD+pqqqqqqrKP4Zxvy6pfMg/QTVK/2Es0z9lTVlT1pTVP/2b6RFYhtQ/h7SMDz0V2D+FGWaYYYbZP6lhdnAEkdY/lNx0wEXV2D8=",
          "dtype": "f8"
         },
         "yaxis": "y"
        },
        {
         "marker": {
          "color": "blue",
          "size": 5,
          "symbol": "circle"
         },
         "mode": "lines+markers",
         "name": "F1 - EDUCATION",
         "type": "scatter",
         "x": {
          "bdata": "/Knx0k1iUD97FK5H4Xp0P3sUrkfheoQ/mpmZmZmZqT+amZmZmZm5P5qZmZmZmck/MzMzMzMz0z+amZmZmZnZPwAAAAAAAOA/AAAAAAAA8D8=",
          "dtype": "f8"
         },
         "y": {
          "bdata": "3tmo72zUxz/F8+9ap0vTPx7Esn7iDdA/69hemLPh0j+UuAGUuAHUP1K5Ac6pw9U/lhj4XYbC0z+1tLS0tLTUPzv7hCPy39U/KLOyrXYZ2D8=",
          "dtype": "f8"
         },
         "yaxis": "y"
        },
        {
         "marker": {
          "color": "green",
          "size": 5,
          "symbol": "circle"
         },
         "mode": "lines+markers",
         "name": "F1 - ENTERTAINMENT",
         "type": "scatter",
         "x": {
          "bdata": "/Knx0k1iUD97FK5H4Xp0P3sUrkfheoQ/mpmZmZmZqT+amZmZmZm5P5qZmZmZmck/MzMzMzMz0z+amZmZmZnZPwAAAAAAAOA/AAAAAAAA8D8=",
          "dtype": "f8"
         },
         "y": {
          "bdata": "+NzEOryj1z/HWIYoYs3dPywUZRG+1N8/D976M5Lz4T8Dp09/6SDjP9Ib+ZBYr+M/k6SNkvFc5D9Ur1FjSn/kP67cvchruuQ/jhbP+pFR5T8=",
          "dtype": "f8"
         },
         "yaxis": "y"
        },
        {
         "marker": {
          "color": "violet",
          "size": 5,
          "symbol": "circle"
         },
         "mode": "lines+markers",
         "name": "F1 - LATINO VOICES",
         "type": "scatter",
         "x": {
          "bdata": "/Knx0k1iUD97FK5H4Xp0P3sUrkfheoQ/mpmZmZmZqT+amZmZmZm5P5qZmZmZmck/MzMzMzMz0z+amZmZmZnZPwAAAAAAAOA/AAAAAAAA8D8=",
          "dtype": "f8"
         },
         "y": {
          "bdata": "YiELWchClj84mPu6xn6nPxIswRIswcI/vfaQy4qBwj/z6tWrV6/OPysGSnijqdM/EkFJBCUR1D8rmMBvEc7UP98jcoJwN9Y/RRdddNFF1z8=",
          "dtype": "f8"
         },
         "yaxis": "y"
        },
        {
         "marker": {
          "color": "turquoise",
          "size": 5,
          "symbol": "circle"
         },
         "mode": "lines+markers",
         "name": "F1 - POLITICS",
         "type": "scatter",
         "x": {
          "bdata": "/Knx0k1iUD97FK5H4Xp0P3sUrkfheoQ/mpmZmZmZqT+amZmZmZm5P5qZmZmZmck/MzMzMzMz0z+amZmZmZnZPwAAAAAAAOA/AAAAAAAA8D8=",
          "dtype": "f8"
         },
         "y": {
          "bdata": "IV7nM/dt4T+sM/gGqgXlP9aWqkZebuU/Ww5u9gux5j8IH3zwwQfnP7WfpJaGYOc/aqMg7dTB5z8LW52f/+/nPzKVjXUbBug/S/N0SMOZ6D8=",
          "dtype": "f8"
         },
         "yaxis": "y"
        },
        {
         "marker": {
          "color": "yellowgreen",
          "size": 5,
          "symbol": "circle"
         },
         "mode": "lines+markers",
         "name": "F1 - WELLNESS",
         "type": "scatter",
         "x": {
          "bdata": "/Knx0k1iUD97FK5H4Xp0P3sUrkfheoQ/mpmZmZmZqT+amZmZmZm5P5qZmZmZmck/MzMzMzMz0z+amZmZmZnZPwAAAAAAAOA/AAAAAAAA8D8=",
          "dtype": "f8"
         },
         "y": {
          "bdata": "BzmFbTMS2z9MuNOnCNzcPwzHCFFK4d8/DAD+1CON4T+mJTYAkxXiP7+fFI9/uuI/eoWwr2D04j8lw/9pRRjjP7DZmKNwbOM/sJHhT24e5D8=",
          "dtype": "f8"
         },
         "yaxis": "y"
        },
        {
         "line": {
          "dash": "dot"
         },
         "marker": {
          "color": "red",
          "size": 5,
          "symbol": "diamond"
         },
         "mode": "lines+markers",
         "name": "nrows - COLLEGE",
         "type": "scatter",
         "x": {
          "bdata": "/Knx0k1iUD97FK5H4Xp0P3sUrkfheoQ/mpmZmZmZqT+amZmZmZm5P5qZmZmZmck/MzMzMzMz0z+amZmZmZnZPwAAAAAAAOA/AAAAAAAA8D8=",
          "dtype": "f8"
         },
         "y": {
          "bdata": "AAAAAAAA8D8AAAAAAAAIQAAAAAAAABhAAAAAAAAAQEAAAAAAAABQQAAAAAAAAGBAAAAAAAAAaEAAAAAAAABwQAAAAAAAEHRAAAAAAAAIhEA=",
          "dtype": "f8"
         },
         "yaxis": "y2"
        },
        {
         "line": {
          "dash": "dot"
         },
         "marker": {
          "color": "blue",
          "size": 5,
          "symbol": "diamond"
         },
         "mode": "lines+markers",
         "name": "nrows - EDUCATION",
         "type": "scatter",
         "x": {
          "bdata": "/Knx0k1iUD97FK5H4Xp0P3sUrkfheoQ/mpmZmZmZqT+amZmZmZm5P5qZmZmZmck/MzMzMzMz0z+amZmZmZnZPwAAAAAAAOA/AAAAAAAA8D8=",
          "dtype": "f8"
         },
         "y": {
          "bdata": "AAAAAAAA8D8AAAAAAAAIQAAAAAAAABhAAAAAAAAAPEAAAAAAAIBMQAAAAAAAgFxAAAAAAABAZUAAAAAAAGBsQAAAAAAAwHFAAAAAAADAgUA=",
          "dtype": "f8"
         },
         "yaxis": "y2"
        },
        {
         "line": {
          "dash": "dot"
         },
         "marker": {
          "color": "green",
          "size": 5,
          "symbol": "diamond"
         },
         "mode": "lines+markers",
         "name": "nrows - ENTERTAINMENT",
         "type": "scatter",
         "x": {
          "bdata": "/Knx0k1iUD97FK5H4Xp0P3sUrkfheoQ/mpmZmZmZqT+amZmZmZm5P5qZmZmZmck/MzMzMzMz0z+amZmZmZnZPwAAAAAAAOA/AAAAAAAA8D8=",
          "dtype": "f8"
         },
         "y": {
          "bdata": "AAAAAAAAIEAAAAAAAIBIQAAAAAAAgFhAAAAAAABgfkAAAAAAAGCOQAAAAAAAZJ5AAAAAAADKpkAAAAAAAGKuQAAAAAAA/bJAAAAAAAD9wkA=",
          "dtype": "f8"
         },
         "yaxis": "y2"
        },
        {
         "line": {
          "dash": "dot"
         },
         "marker": {
          "color": "violet",
          "size": 5,
          "symbol": "diamond"
         },
         "mode": "lines+markers",
         "name": "nrows - LATINO VOICES",
         "type": "scatter",
         "x": {
          "bdata": "/Knx0k1iUD97FK5H4Xp0P3sUrkfheoQ/mpmZmZmZqT+amZmZmZm5P5qZmZmZmck/MzMzMzMz0z+amZmZmZnZPwAAAAAAAOA/AAAAAAAA8D8=",
          "dtype": "f8"
         },
         "y": {
          "bdata": "AAAAAAAA8D8AAAAAAAAIQAAAAAAAABhAAAAAAAAAQEAAAAAAAIBPQAAAAAAAgF9AAAAAAADAZ0AAAAAAAKBvQAAAAAAA0HNAAAAAAADIg0A=",
          "dtype": "f8"
         },
         "yaxis": "y2"
        },
        {
         "line": {
          "dash": "dot"
         },
         "marker": {
          "color": "turquoise",
          "size": 5,
          "symbol": "diamond"
         },
         "mode": "lines+markers",
         "name": "nrows - POLITICS",
         "type": "scatter",
         "x": {
          "bdata": "/Knx0k1iUD97FK5H4Xp0P3sUrkfheoQ/mpmZmZmZqT+amZmZmZm5P5qZmZmZmck/MzMzMzMz0z+amZmZmZnZPwAAAAAAAOA/AAAAAAAA8D8=",
          "dtype": "f8"
         },
         "y": {
          "bdata": "AAAAAAAANUAAAAAAAABZQAAAAAAA4GhAAAAAAAAoj0AAAAAAACSfQAAAAAAAJq9AAAAAAABdt0AAAAAAACa/QAAAAACAeMNAAAAAAEB400A=",
          "dtype": "f8"
         },
         "yaxis": "y2"
        },
        {
         "line": {
          "dash": "dot"
         },
         "marker": {
          "color": "yellowgreen",
          "size": 5,
          "symbol": "diamond"
         },
         "mode": "lines+markers",
         "name": "nrows - WELLNESS",
         "type": "scatter",
         "x": {
          "bdata": "/Knx0k1iUD97FK5H4Xp0P3sUrkfheoQ/mpmZmZmZqT+amZmZmZm5P5qZmZmZmck/MzMzMzMz0z+amZmZmZnZPwAAAAAAAOA/AAAAAAAA8D8=",
          "dtype": "f8"
         },
         "y": {
          "bdata": "AAAAAAAAJkAAAAAAAABJQAAAAAAAQFlAAAAAAABgf0AAAAAAAGiPQAAAAAAAZJ9AAAAAAACMp0AAAAAAAGavQAAAAAAAobNAAAAAAICgw0A=",
          "dtype": "f8"
         },
         "yaxis": "y2"
        }
       ],
       "layout": {
        "legend": {
         "bordercolor": "Black",
         "borderwidth": 1,
         "x": 1.1,
         "y": 1
        },
        "template": {
         "data": {
          "bar": [
           {
            "error_x": {
             "color": "#2a3f5f"
            },
            "error_y": {
             "color": "#2a3f5f"
            },
            "marker": {
             "line": {
              "color": "#E5ECF6",
              "width": 0.5
             },
             "pattern": {
              "fillmode": "overlay",
              "size": 10,
              "solidity": 0.2
             }
            },
            "type": "bar"
           }
          ],
          "barpolar": [
           {
            "marker": {
             "line": {
              "color": "#E5ECF6",
              "width": 0.5
             },
             "pattern": {
              "fillmode": "overlay",
              "size": 10,
              "solidity": 0.2
             }
            },
            "type": "barpolar"
           }
          ],
          "carpet": [
           {
            "aaxis": {
             "endlinecolor": "#2a3f5f",
             "gridcolor": "white",
             "linecolor": "white",
             "minorgridcolor": "white",
             "startlinecolor": "#2a3f5f"
            },
            "baxis": {
             "endlinecolor": "#2a3f5f",
             "gridcolor": "white",
             "linecolor": "white",
             "minorgridcolor": "white",
             "startlinecolor": "#2a3f5f"
            },
            "type": "carpet"
           }
          ],
          "choropleth": [
           {
            "colorbar": {
             "outlinewidth": 0,
             "ticks": ""
            },
            "type": "choropleth"
           }
          ],
          "contour": [
           {
            "colorbar": {
             "outlinewidth": 0,
             "ticks": ""
            },
            "colorscale": [
             [
              0,
              "#0d0887"
             ],
             [
              0.1111111111111111,
              "#46039f"
             ],
             [
              0.2222222222222222,
              "#7201a8"
             ],
             [
              0.3333333333333333,
              "#9c179e"
             ],
             [
              0.4444444444444444,
              "#bd3786"
             ],
             [
              0.5555555555555556,
              "#d8576b"
             ],
             [
              0.6666666666666666,
              "#ed7953"
             ],
             [
              0.7777777777777778,
              "#fb9f3a"
             ],
             [
              0.8888888888888888,
              "#fdca26"
             ],
             [
              1,
              "#f0f921"
             ]
            ],
            "type": "contour"
           }
          ],
          "contourcarpet": [
           {
            "colorbar": {
             "outlinewidth": 0,
             "ticks": ""
            },
            "type": "contourcarpet"
           }
          ],
          "heatmap": [
           {
            "colorbar": {
             "outlinewidth": 0,
             "ticks": ""
            },
            "colorscale": [
             [
              0,
              "#0d0887"
             ],
             [
              0.1111111111111111,
              "#46039f"
             ],
             [
              0.2222222222222222,
              "#7201a8"
             ],
             [
              0.3333333333333333,
              "#9c179e"
             ],
             [
              0.4444444444444444,
              "#bd3786"
             ],
             [
              0.5555555555555556,
              "#d8576b"
             ],
             [
              0.6666666666666666,
              "#ed7953"
             ],
             [
              0.7777777777777778,
              "#fb9f3a"
             ],
             [
              0.8888888888888888,
              "#fdca26"
             ],
             [
              1,
              "#f0f921"
             ]
            ],
            "type": "heatmap"
           }
          ],
          "histogram": [
           {
            "marker": {
             "pattern": {
              "fillmode": "overlay",
              "size": 10,
              "solidity": 0.2
             }
            },
            "type": "histogram"
           }
          ],
          "histogram2d": [
           {
            "colorbar": {
             "outlinewidth": 0,
             "ticks": ""
            },
            "colorscale": [
             [
              0,
              "#0d0887"
             ],
             [
              0.1111111111111111,
              "#46039f"
             ],
             [
              0.2222222222222222,
              "#7201a8"
             ],
             [
              0.3333333333333333,
              "#9c179e"
             ],
             [
              0.4444444444444444,
              "#bd3786"
             ],
             [
              0.5555555555555556,
              "#d8576b"
             ],
             [
              0.6666666666666666,
              "#ed7953"
             ],
             [
              0.7777777777777778,
              "#fb9f3a"
             ],
             [
              0.8888888888888888,
              "#fdca26"
             ],
             [
              1,
              "#f0f921"
             ]
            ],
            "type": "histogram2d"
           }
          ],
          "histogram2dcontour": [
           {
            "colorbar": {
             "outlinewidth": 0,
             "ticks": ""
            },
            "colorscale": [
             [
              0,
              "#0d0887"
             ],
             [
              0.1111111111111111,
              "#46039f"
             ],
             [
              0.2222222222222222,
              "#7201a8"
             ],
             [
              0.3333333333333333,
              "#9c179e"
             ],
             [
              0.4444444444444444,
              "#bd3786"
             ],
             [
              0.5555555555555556,
              "#d8576b"
             ],
             [
              0.6666666666666666,
              "#ed7953"
             ],
             [
              0.7777777777777778,
              "#fb9f3a"
             ],
             [
              0.8888888888888888,
              "#fdca26"
             ],
             [
              1,
              "#f0f921"
             ]
            ],
            "type": "histogram2dcontour"
           }
          ],
          "mesh3d": [
           {
            "colorbar": {
             "outlinewidth": 0,
             "ticks": ""
            },
            "type": "mesh3d"
           }
          ],
          "parcoords": [
           {
            "line": {
             "colorbar": {
              "outlinewidth": 0,
              "ticks": ""
             }
            },
            "type": "parcoords"
           }
          ],
          "pie": [
           {
            "automargin": true,
            "type": "pie"
           }
          ],
          "scatter": [
           {
            "fillpattern": {
             "fillmode": "overlay",
             "size": 10,
             "solidity": 0.2
            },
            "type": "scatter"
           }
          ],
          "scatter3d": [
           {
            "line": {
             "colorbar": {
              "outlinewidth": 0,
              "ticks": ""
             }
            },
            "marker": {
             "colorbar": {
              "outlinewidth": 0,
              "ticks": ""
             }
            },
            "type": "scatter3d"
           }
          ],
          "scattercarpet": [
           {
            "marker": {
             "colorbar": {
              "outlinewidth": 0,
              "ticks": ""
             }
            },
            "type": "scattercarpet"
           }
          ],
          "scattergeo": [
           {
            "marker": {
             "colorbar": {
              "outlinewidth": 0,
              "ticks": ""
             }
            },
            "type": "scattergeo"
           }
          ],
          "scattergl": [
           {
            "marker": {
             "colorbar": {
              "outlinewidth": 0,
              "ticks": ""
             }
            },
            "type": "scattergl"
           }
          ],
          "scattermap": [
           {
            "marker": {
             "colorbar": {
              "outlinewidth": 0,
              "ticks": ""
             }
            },
            "type": "scattermap"
           }
          ],
          "scattermapbox": [
           {
            "marker": {
             "colorbar": {
              "outlinewidth": 0,
              "ticks": ""
             }
            },
            "type": "scattermapbox"
           }
          ],
          "scatterpolar": [
           {
            "marker": {
             "colorbar": {
              "outlinewidth": 0,
              "ticks": ""
             }
            },
            "type": "scatterpolar"
           }
          ],
          "scatterpolargl": [
           {
            "marker": {
             "colorbar": {
              "outlinewidth": 0,
              "ticks": ""
             }
            },
            "type": "scatterpolargl"
           }
          ],
          "scatterternary": [
           {
            "marker": {
             "colorbar": {
              "outlinewidth": 0,
              "ticks": ""
             }
            },
            "type": "scatterternary"
           }
          ],
          "surface": [
           {
            "colorbar": {
             "outlinewidth": 0,
             "ticks": ""
            },
            "colorscale": [
             [
              0,
              "#0d0887"
             ],
             [
              0.1111111111111111,
              "#46039f"
             ],
             [
              0.2222222222222222,
              "#7201a8"
             ],
             [
              0.3333333333333333,
              "#9c179e"
             ],
             [
              0.4444444444444444,
              "#bd3786"
             ],
             [
              0.5555555555555556,
              "#d8576b"
             ],
             [
              0.6666666666666666,
              "#ed7953"
             ],
             [
              0.7777777777777778,
              "#fb9f3a"
             ],
             [
              0.8888888888888888,
              "#fdca26"
             ],
             [
              1,
              "#f0f921"
             ]
            ],
            "type": "surface"
           }
          ],
          "table": [
           {
            "cells": {
             "fill": {
              "color": "#EBF0F8"
             },
             "line": {
              "color": "white"
             }
            },
            "header": {
             "fill": {
              "color": "#C8D4E3"
             },
             "line": {
              "color": "white"
             }
            },
            "type": "table"
           }
          ]
         },
         "layout": {
          "annotationdefaults": {
           "arrowcolor": "#2a3f5f",
           "arrowhead": 0,
           "arrowwidth": 1
          },
          "autotypenumbers": "strict",
          "coloraxis": {
           "colorbar": {
            "outlinewidth": 0,
            "ticks": ""
           }
          },
          "colorscale": {
           "diverging": [
            [
             0,
             "#8e0152"
            ],
            [
             0.1,
             "#c51b7d"
            ],
            [
             0.2,
             "#de77ae"
            ],
            [
             0.3,
             "#f1b6da"
            ],
            [
             0.4,
             "#fde0ef"
            ],
            [
             0.5,
             "#f7f7f7"
            ],
            [
             0.6,
             "#e6f5d0"
            ],
            [
             0.7,
             "#b8e186"
            ],
            [
             0.8,
             "#7fbc41"
            ],
            [
             0.9,
             "#4d9221"
            ],
            [
             1,
             "#276419"
            ]
           ],
           "sequential": [
            [
             0,
             "#0d0887"
            ],
            [
             0.1111111111111111,
             "#46039f"
            ],
            [
             0.2222222222222222,
             "#7201a8"
            ],
            [
             0.3333333333333333,
             "#9c179e"
            ],
            [
             0.4444444444444444,
             "#bd3786"
            ],
            [
             0.5555555555555556,
             "#d8576b"
            ],
            [
             0.6666666666666666,
             "#ed7953"
            ],
            [
             0.7777777777777778,
             "#fb9f3a"
            ],
            [
             0.8888888888888888,
             "#fdca26"
            ],
            [
             1,
             "#f0f921"
            ]
           ],
           "sequentialminus": [
            [
             0,
             "#0d0887"
            ],
            [
             0.1111111111111111,
             "#46039f"
            ],
            [
             0.2222222222222222,
             "#7201a8"
            ],
            [
             0.3333333333333333,
             "#9c179e"
            ],
            [
             0.4444444444444444,
             "#bd3786"
            ],
            [
             0.5555555555555556,
             "#d8576b"
            ],
            [
             0.6666666666666666,
             "#ed7953"
            ],
            [
             0.7777777777777778,
             "#fb9f3a"
            ],
            [
             0.8888888888888888,
             "#fdca26"
            ],
            [
             1,
             "#f0f921"
            ]
           ]
          },
          "colorway": [
           "#636efa",
           "#EF553B",
           "#00cc96",
           "#ab63fa",
           "#FFA15A",
           "#19d3f3",
           "#FF6692",
           "#B6E880",
           "#FF97FF",
           "#FECB52"
          ],
          "font": {
           "color": "#2a3f5f"
          },
          "geo": {
           "bgcolor": "white",
           "lakecolor": "white",
           "landcolor": "#E5ECF6",
           "showlakes": true,
           "showland": true,
           "subunitcolor": "white"
          },
          "hoverlabel": {
           "align": "left"
          },
          "hovermode": "closest",
          "mapbox": {
           "style": "light"
          },
          "paper_bgcolor": "white",
          "plot_bgcolor": "#E5ECF6",
          "polar": {
           "angularaxis": {
            "gridcolor": "white",
            "linecolor": "white",
            "ticks": ""
           },
           "bgcolor": "#E5ECF6",
           "radialaxis": {
            "gridcolor": "white",
            "linecolor": "white",
            "ticks": ""
           }
          },
          "scene": {
           "xaxis": {
            "backgroundcolor": "#E5ECF6",
            "gridcolor": "white",
            "gridwidth": 2,
            "linecolor": "white",
            "showbackground": true,
            "ticks": "",
            "zerolinecolor": "white"
           },
           "yaxis": {
            "backgroundcolor": "#E5ECF6",
            "gridcolor": "white",
            "gridwidth": 2,
            "linecolor": "white",
            "showbackground": true,
            "ticks": "",
            "zerolinecolor": "white"
           },
           "zaxis": {
            "backgroundcolor": "#E5ECF6",
            "gridcolor": "white",
            "gridwidth": 2,
            "linecolor": "white",
            "showbackground": true,
            "ticks": "",
            "zerolinecolor": "white"
           }
          },
          "shapedefaults": {
           "line": {
            "color": "#2a3f5f"
           }
          },
          "ternary": {
           "aaxis": {
            "gridcolor": "white",
            "linecolor": "white",
            "ticks": ""
           },
           "baxis": {
            "gridcolor": "white",
            "linecolor": "white",
            "ticks": ""
           },
           "bgcolor": "#E5ECF6",
           "caxis": {
            "gridcolor": "white",
            "linecolor": "white",
            "ticks": ""
           }
          },
          "title": {
           "x": 0.05
          },
          "xaxis": {
           "automargin": true,
           "gridcolor": "white",
           "linecolor": "white",
           "ticks": "",
           "title": {
            "standoff": 15
           },
           "zerolinecolor": "white",
           "zerolinewidth": 2
          },
          "yaxis": {
           "automargin": true,
           "gridcolor": "white",
           "linecolor": "white",
           "ticks": "",
           "title": {
            "standoff": 15
           },
           "zerolinecolor": "white",
           "zerolinewidth": 2
          }
         }
        },
        "title": {
         "text": "F1-Score / size training datan of extreme categories "
        },
        "xaxis": {
         "title": {
          "text": "Proportion of data for training"
         }
        },
        "yaxis": {
         "title": {
          "text": "Performance (f1-score)"
         }
        },
        "yaxis2": {
         "overlaying": "y",
         "showgrid": false,
         "side": "right",
         "title": {
          "text": "Nº rows training"
         }
        }
       }
      }
     },
     "metadata": {},
     "output_type": "display_data"
    }
   ],
   "source": [
    "top_categories(sim_tops)"
   ]
  },
  {
   "cell_type": "markdown",
   "id": "cffe6762",
   "metadata": {},
   "source": [
    "This chart shows how the f1-score (solid lines) evolves for those categories with the most and the least training samples, as the proportion of training data increases. The dotted lines represent the number of training samples for each category at each data proportion.\n",
    "\n",
    "Categories with higher frequency tend to achieve higher F1-scores, reaching between 0.4 and 0.7 even at the smallest training sizes.\n",
    "\n",
    "For low-frequency categories, the F1-score curves also grow quickly, but with much greater instability."
   ]
  },
  {
   "cell_type": "code",
   "execution_count": null,
   "id": "fb38bccb",
   "metadata": {},
   "outputs": [],
   "source": []
  },
  {
   "cell_type": "markdown",
   "id": "2f81c9e1",
   "metadata": {},
   "source": [
    "### 2. PERFORMANCE BERT PROCESS"
   ]
  },
  {
   "cell_type": "code",
   "execution_count": 54,
   "id": "9435b4c7",
   "metadata": {},
   "outputs": [
    {
     "name": "stdout",
     "output_type": "stream",
     "text": [
      "(420, 3)\n",
      "(420, 4)\n"
     ]
    }
   ],
   "source": [
    "bertdat = f1_data('bert')"
   ]
  },
  {
   "cell_type": "markdown",
   "id": "0a5b2408",
   "metadata": {},
   "source": [
    "#### GENERAL"
   ]
  },
  {
   "cell_type": "code",
   "execution_count": 56,
   "id": "aba8f747",
   "metadata": {},
   "outputs": [],
   "source": [
    "f1_size_b = bertdat.groupby(['prop']).agg(\n",
    "    f1_score_avg = pd.NamedAgg(column='F1-Score', aggfunc='mean'),\n",
    "    n_rows = pd.NamedAgg(column='n_rows_label', aggfunc='sum')\n",
    ").reset_index()\n",
    "\n"
   ]
  },
  {
   "cell_type": "code",
   "execution_count": 57,
   "id": "2971d70b",
   "metadata": {},
   "outputs": [
    {
     "data": {
      "application/vnd.plotly.v1+json": {
       "config": {
        "plotlyServerURL": "https://plot.ly"
       },
       "data": [
        {
         "name": "f1-score",
         "type": "scatter",
         "x": {
          "bdata": "/Knx0k1iUD97FK5H4Xp0P3sUrkfheoQ/mpmZmZmZqT+amZmZmZm5P5qZmZmZmck/MzMzMzMz0z+amZmZmZnZPwAAAAAAAOA/AAAAAAAA8D8=",
          "dtype": "f8"
         },
         "y": {
          "bdata": "cz33Eib/hD9uiRz767G8P7LAw7Qcq8s/g4k8ab2/2j9vqD9BOSTfP1CzsG76kOA/Qyxjq+e+4T+jAAKoDyLiP5Y753Ece+I/dVfbhYKS4z8=",
          "dtype": "f8"
         },
         "yaxis": "y"
        },
        {
         "name": "Nº rows",
         "type": "scatter",
         "x": {
          "bdata": "/Knx0k1iUD97FK5H4Xp0P3sUrkfheoQ/mpmZmZmZqT+amZmZmZm5P5qZmZmZmck/MzMzMzMz0z+amZmZmZnZPwAAAAAAAOA/AAAAAAAA8D8=",
          "dtype": "f8"
         },
         "y": {
          "bdata": "AAAAAABAXUAAAAAAAFiCQAAAAAAAVJJAAAAAAADrtkAAAAAAgOrGQAAAAADA6tZAAAAAAAAw4UAAAAAAwOrmQAAAAABgpexAAAAAAGCl/EA=",
          "dtype": "f8"
         },
         "yaxis": "y2"
        }
       ],
       "layout": {
        "template": {
         "data": {
          "bar": [
           {
            "error_x": {
             "color": "#2a3f5f"
            },
            "error_y": {
             "color": "#2a3f5f"
            },
            "marker": {
             "line": {
              "color": "#E5ECF6",
              "width": 0.5
             },
             "pattern": {
              "fillmode": "overlay",
              "size": 10,
              "solidity": 0.2
             }
            },
            "type": "bar"
           }
          ],
          "barpolar": [
           {
            "marker": {
             "line": {
              "color": "#E5ECF6",
              "width": 0.5
             },
             "pattern": {
              "fillmode": "overlay",
              "size": 10,
              "solidity": 0.2
             }
            },
            "type": "barpolar"
           }
          ],
          "carpet": [
           {
            "aaxis": {
             "endlinecolor": "#2a3f5f",
             "gridcolor": "white",
             "linecolor": "white",
             "minorgridcolor": "white",
             "startlinecolor": "#2a3f5f"
            },
            "baxis": {
             "endlinecolor": "#2a3f5f",
             "gridcolor": "white",
             "linecolor": "white",
             "minorgridcolor": "white",
             "startlinecolor": "#2a3f5f"
            },
            "type": "carpet"
           }
          ],
          "choropleth": [
           {
            "colorbar": {
             "outlinewidth": 0,
             "ticks": ""
            },
            "type": "choropleth"
           }
          ],
          "contour": [
           {
            "colorbar": {
             "outlinewidth": 0,
             "ticks": ""
            },
            "colorscale": [
             [
              0,
              "#0d0887"
             ],
             [
              0.1111111111111111,
              "#46039f"
             ],
             [
              0.2222222222222222,
              "#7201a8"
             ],
             [
              0.3333333333333333,
              "#9c179e"
             ],
             [
              0.4444444444444444,
              "#bd3786"
             ],
             [
              0.5555555555555556,
              "#d8576b"
             ],
             [
              0.6666666666666666,
              "#ed7953"
             ],
             [
              0.7777777777777778,
              "#fb9f3a"
             ],
             [
              0.8888888888888888,
              "#fdca26"
             ],
             [
              1,
              "#f0f921"
             ]
            ],
            "type": "contour"
           }
          ],
          "contourcarpet": [
           {
            "colorbar": {
             "outlinewidth": 0,
             "ticks": ""
            },
            "type": "contourcarpet"
           }
          ],
          "heatmap": [
           {
            "colorbar": {
             "outlinewidth": 0,
             "ticks": ""
            },
            "colorscale": [
             [
              0,
              "#0d0887"
             ],
             [
              0.1111111111111111,
              "#46039f"
             ],
             [
              0.2222222222222222,
              "#7201a8"
             ],
             [
              0.3333333333333333,
              "#9c179e"
             ],
             [
              0.4444444444444444,
              "#bd3786"
             ],
             [
              0.5555555555555556,
              "#d8576b"
             ],
             [
              0.6666666666666666,
              "#ed7953"
             ],
             [
              0.7777777777777778,
              "#fb9f3a"
             ],
             [
              0.8888888888888888,
              "#fdca26"
             ],
             [
              1,
              "#f0f921"
             ]
            ],
            "type": "heatmap"
           }
          ],
          "histogram": [
           {
            "marker": {
             "pattern": {
              "fillmode": "overlay",
              "size": 10,
              "solidity": 0.2
             }
            },
            "type": "histogram"
           }
          ],
          "histogram2d": [
           {
            "colorbar": {
             "outlinewidth": 0,
             "ticks": ""
            },
            "colorscale": [
             [
              0,
              "#0d0887"
             ],
             [
              0.1111111111111111,
              "#46039f"
             ],
             [
              0.2222222222222222,
              "#7201a8"
             ],
             [
              0.3333333333333333,
              "#9c179e"
             ],
             [
              0.4444444444444444,
              "#bd3786"
             ],
             [
              0.5555555555555556,
              "#d8576b"
             ],
             [
              0.6666666666666666,
              "#ed7953"
             ],
             [
              0.7777777777777778,
              "#fb9f3a"
             ],
             [
              0.8888888888888888,
              "#fdca26"
             ],
             [
              1,
              "#f0f921"
             ]
            ],
            "type": "histogram2d"
           }
          ],
          "histogram2dcontour": [
           {
            "colorbar": {
             "outlinewidth": 0,
             "ticks": ""
            },
            "colorscale": [
             [
              0,
              "#0d0887"
             ],
             [
              0.1111111111111111,
              "#46039f"
             ],
             [
              0.2222222222222222,
              "#7201a8"
             ],
             [
              0.3333333333333333,
              "#9c179e"
             ],
             [
              0.4444444444444444,
              "#bd3786"
             ],
             [
              0.5555555555555556,
              "#d8576b"
             ],
             [
              0.6666666666666666,
              "#ed7953"
             ],
             [
              0.7777777777777778,
              "#fb9f3a"
             ],
             [
              0.8888888888888888,
              "#fdca26"
             ],
             [
              1,
              "#f0f921"
             ]
            ],
            "type": "histogram2dcontour"
           }
          ],
          "mesh3d": [
           {
            "colorbar": {
             "outlinewidth": 0,
             "ticks": ""
            },
            "type": "mesh3d"
           }
          ],
          "parcoords": [
           {
            "line": {
             "colorbar": {
              "outlinewidth": 0,
              "ticks": ""
             }
            },
            "type": "parcoords"
           }
          ],
          "pie": [
           {
            "automargin": true,
            "type": "pie"
           }
          ],
          "scatter": [
           {
            "fillpattern": {
             "fillmode": "overlay",
             "size": 10,
             "solidity": 0.2
            },
            "type": "scatter"
           }
          ],
          "scatter3d": [
           {
            "line": {
             "colorbar": {
              "outlinewidth": 0,
              "ticks": ""
             }
            },
            "marker": {
             "colorbar": {
              "outlinewidth": 0,
              "ticks": ""
             }
            },
            "type": "scatter3d"
           }
          ],
          "scattercarpet": [
           {
            "marker": {
             "colorbar": {
              "outlinewidth": 0,
              "ticks": ""
             }
            },
            "type": "scattercarpet"
           }
          ],
          "scattergeo": [
           {
            "marker": {
             "colorbar": {
              "outlinewidth": 0,
              "ticks": ""
             }
            },
            "type": "scattergeo"
           }
          ],
          "scattergl": [
           {
            "marker": {
             "colorbar": {
              "outlinewidth": 0,
              "ticks": ""
             }
            },
            "type": "scattergl"
           }
          ],
          "scattermap": [
           {
            "marker": {
             "colorbar": {
              "outlinewidth": 0,
              "ticks": ""
             }
            },
            "type": "scattermap"
           }
          ],
          "scattermapbox": [
           {
            "marker": {
             "colorbar": {
              "outlinewidth": 0,
              "ticks": ""
             }
            },
            "type": "scattermapbox"
           }
          ],
          "scatterpolar": [
           {
            "marker": {
             "colorbar": {
              "outlinewidth": 0,
              "ticks": ""
             }
            },
            "type": "scatterpolar"
           }
          ],
          "scatterpolargl": [
           {
            "marker": {
             "colorbar": {
              "outlinewidth": 0,
              "ticks": ""
             }
            },
            "type": "scatterpolargl"
           }
          ],
          "scatterternary": [
           {
            "marker": {
             "colorbar": {
              "outlinewidth": 0,
              "ticks": ""
             }
            },
            "type": "scatterternary"
           }
          ],
          "surface": [
           {
            "colorbar": {
             "outlinewidth": 0,
             "ticks": ""
            },
            "colorscale": [
             [
              0,
              "#0d0887"
             ],
             [
              0.1111111111111111,
              "#46039f"
             ],
             [
              0.2222222222222222,
              "#7201a8"
             ],
             [
              0.3333333333333333,
              "#9c179e"
             ],
             [
              0.4444444444444444,
              "#bd3786"
             ],
             [
              0.5555555555555556,
              "#d8576b"
             ],
             [
              0.6666666666666666,
              "#ed7953"
             ],
             [
              0.7777777777777778,
              "#fb9f3a"
             ],
             [
              0.8888888888888888,
              "#fdca26"
             ],
             [
              1,
              "#f0f921"
             ]
            ],
            "type": "surface"
           }
          ],
          "table": [
           {
            "cells": {
             "fill": {
              "color": "#EBF0F8"
             },
             "line": {
              "color": "white"
             }
            },
            "header": {
             "fill": {
              "color": "#C8D4E3"
             },
             "line": {
              "color": "white"
             }
            },
            "type": "table"
           }
          ]
         },
         "layout": {
          "annotationdefaults": {
           "arrowcolor": "#2a3f5f",
           "arrowhead": 0,
           "arrowwidth": 1
          },
          "autotypenumbers": "strict",
          "coloraxis": {
           "colorbar": {
            "outlinewidth": 0,
            "ticks": ""
           }
          },
          "colorscale": {
           "diverging": [
            [
             0,
             "#8e0152"
            ],
            [
             0.1,
             "#c51b7d"
            ],
            [
             0.2,
             "#de77ae"
            ],
            [
             0.3,
             "#f1b6da"
            ],
            [
             0.4,
             "#fde0ef"
            ],
            [
             0.5,
             "#f7f7f7"
            ],
            [
             0.6,
             "#e6f5d0"
            ],
            [
             0.7,
             "#b8e186"
            ],
            [
             0.8,
             "#7fbc41"
            ],
            [
             0.9,
             "#4d9221"
            ],
            [
             1,
             "#276419"
            ]
           ],
           "sequential": [
            [
             0,
             "#0d0887"
            ],
            [
             0.1111111111111111,
             "#46039f"
            ],
            [
             0.2222222222222222,
             "#7201a8"
            ],
            [
             0.3333333333333333,
             "#9c179e"
            ],
            [
             0.4444444444444444,
             "#bd3786"
            ],
            [
             0.5555555555555556,
             "#d8576b"
            ],
            [
             0.6666666666666666,
             "#ed7953"
            ],
            [
             0.7777777777777778,
             "#fb9f3a"
            ],
            [
             0.8888888888888888,
             "#fdca26"
            ],
            [
             1,
             "#f0f921"
            ]
           ],
           "sequentialminus": [
            [
             0,
             "#0d0887"
            ],
            [
             0.1111111111111111,
             "#46039f"
            ],
            [
             0.2222222222222222,
             "#7201a8"
            ],
            [
             0.3333333333333333,
             "#9c179e"
            ],
            [
             0.4444444444444444,
             "#bd3786"
            ],
            [
             0.5555555555555556,
             "#d8576b"
            ],
            [
             0.6666666666666666,
             "#ed7953"
            ],
            [
             0.7777777777777778,
             "#fb9f3a"
            ],
            [
             0.8888888888888888,
             "#fdca26"
            ],
            [
             1,
             "#f0f921"
            ]
           ]
          },
          "colorway": [
           "#636efa",
           "#EF553B",
           "#00cc96",
           "#ab63fa",
           "#FFA15A",
           "#19d3f3",
           "#FF6692",
           "#B6E880",
           "#FF97FF",
           "#FECB52"
          ],
          "font": {
           "color": "#2a3f5f"
          },
          "geo": {
           "bgcolor": "white",
           "lakecolor": "white",
           "landcolor": "#E5ECF6",
           "showlakes": true,
           "showland": true,
           "subunitcolor": "white"
          },
          "hoverlabel": {
           "align": "left"
          },
          "hovermode": "closest",
          "mapbox": {
           "style": "light"
          },
          "paper_bgcolor": "white",
          "plot_bgcolor": "#E5ECF6",
          "polar": {
           "angularaxis": {
            "gridcolor": "white",
            "linecolor": "white",
            "ticks": ""
           },
           "bgcolor": "#E5ECF6",
           "radialaxis": {
            "gridcolor": "white",
            "linecolor": "white",
            "ticks": ""
           }
          },
          "scene": {
           "xaxis": {
            "backgroundcolor": "#E5ECF6",
            "gridcolor": "white",
            "gridwidth": 2,
            "linecolor": "white",
            "showbackground": true,
            "ticks": "",
            "zerolinecolor": "white"
           },
           "yaxis": {
            "backgroundcolor": "#E5ECF6",
            "gridcolor": "white",
            "gridwidth": 2,
            "linecolor": "white",
            "showbackground": true,
            "ticks": "",
            "zerolinecolor": "white"
           },
           "zaxis": {
            "backgroundcolor": "#E5ECF6",
            "gridcolor": "white",
            "gridwidth": 2,
            "linecolor": "white",
            "showbackground": true,
            "ticks": "",
            "zerolinecolor": "white"
           }
          },
          "shapedefaults": {
           "line": {
            "color": "#2a3f5f"
           }
          },
          "ternary": {
           "aaxis": {
            "gridcolor": "white",
            "linecolor": "white",
            "ticks": ""
           },
           "baxis": {
            "gridcolor": "white",
            "linecolor": "white",
            "ticks": ""
           },
           "bgcolor": "#E5ECF6",
           "caxis": {
            "gridcolor": "white",
            "linecolor": "white",
            "ticks": ""
           }
          },
          "title": {
           "x": 0.05
          },
          "xaxis": {
           "automargin": true,
           "gridcolor": "white",
           "linecolor": "white",
           "ticks": "",
           "title": {
            "standoff": 15
           },
           "zerolinecolor": "white",
           "zerolinewidth": 2
          },
          "yaxis": {
           "automargin": true,
           "gridcolor": "white",
           "linecolor": "white",
           "ticks": "",
           "title": {
            "standoff": 15
           },
           "zerolinecolor": "white",
           "zerolinewidth": 2
          }
         }
        },
        "title": {
         "text": "Average f1-score vs size of training data"
        },
        "xaxis": {
         "title": {
          "text": "Proportion of data for training"
         }
        },
        "yaxis": {
         "side": "left",
         "title": {
          "text": "Performance (f1-score avg)"
         }
        },
        "yaxis2": {
         "overlaying": "y",
         "side": "right",
         "title": {
          "text": "Nº rows of training data"
         }
        }
       }
      }
     },
     "metadata": {},
     "output_type": "display_data"
    }
   ],
   "source": [
    "general(f1_size_b)"
   ]
  },
  {
   "cell_type": "markdown",
   "id": "8dd43777",
   "metadata": {},
   "source": [
    "Just like in the cosine case, it is increasingly expensive to increase the f1-score. At first glance, a difference with the cosine is tha here the f1-score with the smallest train set is near to 0."
   ]
  },
  {
   "cell_type": "code",
   "execution_count": null,
   "id": "5c878059",
   "metadata": {},
   "outputs": [],
   "source": []
  },
  {
   "cell_type": "markdown",
   "id": "43e946ef",
   "metadata": {},
   "source": [
    "#### MOST AND LEAST POPULATED CATEGORIES"
   ]
  },
  {
   "cell_type": "code",
   "execution_count": 58,
   "id": "ab05481e",
   "metadata": {},
   "outputs": [
    {
     "data": {
      "text/html": [
       "<div>\n",
       "<style scoped>\n",
       "    .dataframe tbody tr th:only-of-type {\n",
       "        vertical-align: middle;\n",
       "    }\n",
       "\n",
       "    .dataframe tbody tr th {\n",
       "        vertical-align: top;\n",
       "    }\n",
       "\n",
       "    .dataframe thead th {\n",
       "        text-align: right;\n",
       "    }\n",
       "</style>\n",
       "<table border=\"1\" class=\"dataframe\">\n",
       "  <thead>\n",
       "    <tr style=\"text-align: right;\">\n",
       "      <th></th>\n",
       "      <th>Category</th>\n",
       "      <th>F1-Score</th>\n",
       "      <th>prop</th>\n",
       "      <th>n_rows_label</th>\n",
       "    </tr>\n",
       "  </thead>\n",
       "  <tbody>\n",
       "    <tr>\n",
       "      <th>4</th>\n",
       "      <td>COLLEGE</td>\n",
       "      <td>0.000000</td>\n",
       "      <td>0.001</td>\n",
       "      <td>1.0</td>\n",
       "    </tr>\n",
       "    <tr>\n",
       "      <th>9</th>\n",
       "      <td>EDUCATION</td>\n",
       "      <td>0.000000</td>\n",
       "      <td>0.001</td>\n",
       "      <td>1.0</td>\n",
       "    </tr>\n",
       "    <tr>\n",
       "      <th>10</th>\n",
       "      <td>ENTERTAINMENT</td>\n",
       "      <td>0.004198</td>\n",
       "      <td>0.001</td>\n",
       "      <td>8.0</td>\n",
       "    </tr>\n",
       "    <tr>\n",
       "      <th>19</th>\n",
       "      <td>LATINO VOICES</td>\n",
       "      <td>0.000000</td>\n",
       "      <td>0.001</td>\n",
       "      <td>1.0</td>\n",
       "    </tr>\n",
       "    <tr>\n",
       "      <th>24</th>\n",
       "      <td>POLITICS</td>\n",
       "      <td>0.296516</td>\n",
       "      <td>0.001</td>\n",
       "      <td>21.0</td>\n",
       "    </tr>\n",
       "    <tr>\n",
       "      <th>38</th>\n",
       "      <td>WELLNESS</td>\n",
       "      <td>0.000000</td>\n",
       "      <td>0.001</td>\n",
       "      <td>11.0</td>\n",
       "    </tr>\n",
       "    <tr>\n",
       "      <th>46</th>\n",
       "      <td>COLLEGE</td>\n",
       "      <td>0.000000</td>\n",
       "      <td>0.005</td>\n",
       "      <td>3.0</td>\n",
       "    </tr>\n",
       "    <tr>\n",
       "      <th>51</th>\n",
       "      <td>EDUCATION</td>\n",
       "      <td>0.000000</td>\n",
       "      <td>0.005</td>\n",
       "      <td>3.0</td>\n",
       "    </tr>\n",
       "    <tr>\n",
       "      <th>52</th>\n",
       "      <td>ENTERTAINMENT</td>\n",
       "      <td>0.541329</td>\n",
       "      <td>0.005</td>\n",
       "      <td>49.0</td>\n",
       "    </tr>\n",
       "    <tr>\n",
       "      <th>61</th>\n",
       "      <td>LATINO VOICES</td>\n",
       "      <td>0.000000</td>\n",
       "      <td>0.005</td>\n",
       "      <td>3.0</td>\n",
       "    </tr>\n",
       "    <tr>\n",
       "      <th>66</th>\n",
       "      <td>POLITICS</td>\n",
       "      <td>0.666942</td>\n",
       "      <td>0.005</td>\n",
       "      <td>100.0</td>\n",
       "    </tr>\n",
       "    <tr>\n",
       "      <th>80</th>\n",
       "      <td>WELLNESS</td>\n",
       "      <td>0.461931</td>\n",
       "      <td>0.005</td>\n",
       "      <td>50.0</td>\n",
       "    </tr>\n",
       "    <tr>\n",
       "      <th>88</th>\n",
       "      <td>COLLEGE</td>\n",
       "      <td>0.219224</td>\n",
       "      <td>0.010</td>\n",
       "      <td>6.0</td>\n",
       "    </tr>\n",
       "    <tr>\n",
       "      <th>93</th>\n",
       "      <td>EDUCATION</td>\n",
       "      <td>0.000000</td>\n",
       "      <td>0.010</td>\n",
       "      <td>6.0</td>\n",
       "    </tr>\n",
       "    <tr>\n",
       "      <th>94</th>\n",
       "      <td>ENTERTAINMENT</td>\n",
       "      <td>0.621011</td>\n",
       "      <td>0.010</td>\n",
       "      <td>98.0</td>\n",
       "    </tr>\n",
       "    <tr>\n",
       "      <th>103</th>\n",
       "      <td>LATINO VOICES</td>\n",
       "      <td>0.000000</td>\n",
       "      <td>0.010</td>\n",
       "      <td>6.0</td>\n",
       "    </tr>\n",
       "    <tr>\n",
       "      <th>108</th>\n",
       "      <td>POLITICS</td>\n",
       "      <td>0.718699</td>\n",
       "      <td>0.010</td>\n",
       "      <td>199.0</td>\n",
       "    </tr>\n",
       "    <tr>\n",
       "      <th>122</th>\n",
       "      <td>WELLNESS</td>\n",
       "      <td>0.622637</td>\n",
       "      <td>0.010</td>\n",
       "      <td>101.0</td>\n",
       "    </tr>\n",
       "    <tr>\n",
       "      <th>130</th>\n",
       "      <td>COLLEGE</td>\n",
       "      <td>0.431008</td>\n",
       "      <td>0.050</td>\n",
       "      <td>32.0</td>\n",
       "    </tr>\n",
       "    <tr>\n",
       "      <th>135</th>\n",
       "      <td>EDUCATION</td>\n",
       "      <td>0.268793</td>\n",
       "      <td>0.050</td>\n",
       "      <td>28.0</td>\n",
       "    </tr>\n",
       "    <tr>\n",
       "      <th>136</th>\n",
       "      <td>ENTERTAINMENT</td>\n",
       "      <td>0.681268</td>\n",
       "      <td>0.050</td>\n",
       "      <td>486.0</td>\n",
       "    </tr>\n",
       "    <tr>\n",
       "      <th>145</th>\n",
       "      <td>LATINO VOICES</td>\n",
       "      <td>0.000000</td>\n",
       "      <td>0.050</td>\n",
       "      <td>32.0</td>\n",
       "    </tr>\n",
       "    <tr>\n",
       "      <th>150</th>\n",
       "      <td>POLITICS</td>\n",
       "      <td>0.774751</td>\n",
       "      <td>0.050</td>\n",
       "      <td>997.0</td>\n",
       "    </tr>\n",
       "    <tr>\n",
       "      <th>164</th>\n",
       "      <td>WELLNESS</td>\n",
       "      <td>0.712103</td>\n",
       "      <td>0.050</td>\n",
       "      <td>502.0</td>\n",
       "    </tr>\n",
       "    <tr>\n",
       "      <th>172</th>\n",
       "      <td>COLLEGE</td>\n",
       "      <td>0.416290</td>\n",
       "      <td>0.100</td>\n",
       "      <td>64.0</td>\n",
       "    </tr>\n",
       "    <tr>\n",
       "      <th>177</th>\n",
       "      <td>EDUCATION</td>\n",
       "      <td>0.387569</td>\n",
       "      <td>0.100</td>\n",
       "      <td>57.0</td>\n",
       "    </tr>\n",
       "    <tr>\n",
       "      <th>178</th>\n",
       "      <td>ENTERTAINMENT</td>\n",
       "      <td>0.707473</td>\n",
       "      <td>0.100</td>\n",
       "      <td>972.0</td>\n",
       "    </tr>\n",
       "    <tr>\n",
       "      <th>187</th>\n",
       "      <td>LATINO VOICES</td>\n",
       "      <td>0.351464</td>\n",
       "      <td>0.100</td>\n",
       "      <td>63.0</td>\n",
       "    </tr>\n",
       "    <tr>\n",
       "      <th>192</th>\n",
       "      <td>POLITICS</td>\n",
       "      <td>0.784954</td>\n",
       "      <td>0.100</td>\n",
       "      <td>1993.0</td>\n",
       "    </tr>\n",
       "    <tr>\n",
       "      <th>206</th>\n",
       "      <td>WELLNESS</td>\n",
       "      <td>0.732673</td>\n",
       "      <td>0.100</td>\n",
       "      <td>1005.0</td>\n",
       "    </tr>\n",
       "    <tr>\n",
       "      <th>214</th>\n",
       "      <td>COLLEGE</td>\n",
       "      <td>0.456284</td>\n",
       "      <td>0.200</td>\n",
       "      <td>128.0</td>\n",
       "    </tr>\n",
       "    <tr>\n",
       "      <th>219</th>\n",
       "      <td>EDUCATION</td>\n",
       "      <td>0.372694</td>\n",
       "      <td>0.200</td>\n",
       "      <td>114.0</td>\n",
       "    </tr>\n",
       "    <tr>\n",
       "      <th>220</th>\n",
       "      <td>ENTERTAINMENT</td>\n",
       "      <td>0.717192</td>\n",
       "      <td>0.200</td>\n",
       "      <td>1945.0</td>\n",
       "    </tr>\n",
       "    <tr>\n",
       "      <th>229</th>\n",
       "      <td>LATINO VOICES</td>\n",
       "      <td>0.396396</td>\n",
       "      <td>0.200</td>\n",
       "      <td>126.0</td>\n",
       "    </tr>\n",
       "    <tr>\n",
       "      <th>234</th>\n",
       "      <td>POLITICS</td>\n",
       "      <td>0.796168</td>\n",
       "      <td>0.200</td>\n",
       "      <td>3987.0</td>\n",
       "    </tr>\n",
       "    <tr>\n",
       "      <th>248</th>\n",
       "      <td>WELLNESS</td>\n",
       "      <td>0.747054</td>\n",
       "      <td>0.200</td>\n",
       "      <td>2009.0</td>\n",
       "    </tr>\n",
       "    <tr>\n",
       "      <th>256</th>\n",
       "      <td>COLLEGE</td>\n",
       "      <td>0.495549</td>\n",
       "      <td>0.300</td>\n",
       "      <td>192.0</td>\n",
       "    </tr>\n",
       "    <tr>\n",
       "      <th>261</th>\n",
       "      <td>EDUCATION</td>\n",
       "      <td>0.394052</td>\n",
       "      <td>0.300</td>\n",
       "      <td>170.0</td>\n",
       "    </tr>\n",
       "    <tr>\n",
       "      <th>262</th>\n",
       "      <td>ENTERTAINMENT</td>\n",
       "      <td>0.739264</td>\n",
       "      <td>0.300</td>\n",
       "      <td>2917.0</td>\n",
       "    </tr>\n",
       "    <tr>\n",
       "      <th>271</th>\n",
       "      <td>LATINO VOICES</td>\n",
       "      <td>0.486395</td>\n",
       "      <td>0.300</td>\n",
       "      <td>190.0</td>\n",
       "    </tr>\n",
       "    <tr>\n",
       "      <th>276</th>\n",
       "      <td>POLITICS</td>\n",
       "      <td>0.805875</td>\n",
       "      <td>0.300</td>\n",
       "      <td>5981.0</td>\n",
       "    </tr>\n",
       "    <tr>\n",
       "      <th>290</th>\n",
       "      <td>WELLNESS</td>\n",
       "      <td>0.761921</td>\n",
       "      <td>0.300</td>\n",
       "      <td>3014.0</td>\n",
       "    </tr>\n",
       "    <tr>\n",
       "      <th>298</th>\n",
       "      <td>COLLEGE</td>\n",
       "      <td>0.477172</td>\n",
       "      <td>0.400</td>\n",
       "      <td>256.0</td>\n",
       "    </tr>\n",
       "    <tr>\n",
       "      <th>303</th>\n",
       "      <td>EDUCATION</td>\n",
       "      <td>0.449640</td>\n",
       "      <td>0.400</td>\n",
       "      <td>227.0</td>\n",
       "    </tr>\n",
       "    <tr>\n",
       "      <th>304</th>\n",
       "      <td>ENTERTAINMENT</td>\n",
       "      <td>0.740457</td>\n",
       "      <td>0.400</td>\n",
       "      <td>3889.0</td>\n",
       "    </tr>\n",
       "    <tr>\n",
       "      <th>313</th>\n",
       "      <td>LATINO VOICES</td>\n",
       "      <td>0.495812</td>\n",
       "      <td>0.400</td>\n",
       "      <td>253.0</td>\n",
       "    </tr>\n",
       "    <tr>\n",
       "      <th>318</th>\n",
       "      <td>POLITICS</td>\n",
       "      <td>0.811298</td>\n",
       "      <td>0.400</td>\n",
       "      <td>7974.0</td>\n",
       "    </tr>\n",
       "    <tr>\n",
       "      <th>332</th>\n",
       "      <td>WELLNESS</td>\n",
       "      <td>0.765053</td>\n",
       "      <td>0.400</td>\n",
       "      <td>4019.0</td>\n",
       "    </tr>\n",
       "    <tr>\n",
       "      <th>340</th>\n",
       "      <td>COLLEGE</td>\n",
       "      <td>0.478754</td>\n",
       "      <td>0.500</td>\n",
       "      <td>321.0</td>\n",
       "    </tr>\n",
       "    <tr>\n",
       "      <th>345</th>\n",
       "      <td>EDUCATION</td>\n",
       "      <td>0.427844</td>\n",
       "      <td>0.500</td>\n",
       "      <td>284.0</td>\n",
       "    </tr>\n",
       "    <tr>\n",
       "      <th>346</th>\n",
       "      <td>ENTERTAINMENT</td>\n",
       "      <td>0.746669</td>\n",
       "      <td>0.500</td>\n",
       "      <td>4861.0</td>\n",
       "    </tr>\n",
       "    <tr>\n",
       "      <th>355</th>\n",
       "      <td>LATINO VOICES</td>\n",
       "      <td>0.466887</td>\n",
       "      <td>0.500</td>\n",
       "      <td>317.0</td>\n",
       "    </tr>\n",
       "    <tr>\n",
       "      <th>360</th>\n",
       "      <td>POLITICS</td>\n",
       "      <td>0.817264</td>\n",
       "      <td>0.500</td>\n",
       "      <td>9969.0</td>\n",
       "    </tr>\n",
       "    <tr>\n",
       "      <th>374</th>\n",
       "      <td>WELLNESS</td>\n",
       "      <td>0.775633</td>\n",
       "      <td>0.500</td>\n",
       "      <td>5025.0</td>\n",
       "    </tr>\n",
       "    <tr>\n",
       "      <th>382</th>\n",
       "      <td>COLLEGE</td>\n",
       "      <td>0.530370</td>\n",
       "      <td>1.000</td>\n",
       "      <td>641.0</td>\n",
       "    </tr>\n",
       "    <tr>\n",
       "      <th>387</th>\n",
       "      <td>EDUCATION</td>\n",
       "      <td>0.478778</td>\n",
       "      <td>1.000</td>\n",
       "      <td>568.0</td>\n",
       "    </tr>\n",
       "    <tr>\n",
       "      <th>388</th>\n",
       "      <td>ENTERTAINMENT</td>\n",
       "      <td>0.772040</td>\n",
       "      <td>1.000</td>\n",
       "      <td>9722.0</td>\n",
       "    </tr>\n",
       "    <tr>\n",
       "      <th>397</th>\n",
       "      <td>LATINO VOICES</td>\n",
       "      <td>0.520000</td>\n",
       "      <td>1.000</td>\n",
       "      <td>633.0</td>\n",
       "    </tr>\n",
       "    <tr>\n",
       "      <th>402</th>\n",
       "      <td>POLITICS</td>\n",
       "      <td>0.829541</td>\n",
       "      <td>1.000</td>\n",
       "      <td>19937.0</td>\n",
       "    </tr>\n",
       "    <tr>\n",
       "      <th>416</th>\n",
       "      <td>WELLNESS</td>\n",
       "      <td>0.794107</td>\n",
       "      <td>1.000</td>\n",
       "      <td>10049.0</td>\n",
       "    </tr>\n",
       "  </tbody>\n",
       "</table>\n",
       "</div>"
      ],
      "text/plain": [
       "          Category  F1-Score   prop  n_rows_label\n",
       "4          COLLEGE  0.000000  0.001           1.0\n",
       "9        EDUCATION  0.000000  0.001           1.0\n",
       "10   ENTERTAINMENT  0.004198  0.001           8.0\n",
       "19   LATINO VOICES  0.000000  0.001           1.0\n",
       "24        POLITICS  0.296516  0.001          21.0\n",
       "38        WELLNESS  0.000000  0.001          11.0\n",
       "46         COLLEGE  0.000000  0.005           3.0\n",
       "51       EDUCATION  0.000000  0.005           3.0\n",
       "52   ENTERTAINMENT  0.541329  0.005          49.0\n",
       "61   LATINO VOICES  0.000000  0.005           3.0\n",
       "66        POLITICS  0.666942  0.005         100.0\n",
       "80        WELLNESS  0.461931  0.005          50.0\n",
       "88         COLLEGE  0.219224  0.010           6.0\n",
       "93       EDUCATION  0.000000  0.010           6.0\n",
       "94   ENTERTAINMENT  0.621011  0.010          98.0\n",
       "103  LATINO VOICES  0.000000  0.010           6.0\n",
       "108       POLITICS  0.718699  0.010         199.0\n",
       "122       WELLNESS  0.622637  0.010         101.0\n",
       "130        COLLEGE  0.431008  0.050          32.0\n",
       "135      EDUCATION  0.268793  0.050          28.0\n",
       "136  ENTERTAINMENT  0.681268  0.050         486.0\n",
       "145  LATINO VOICES  0.000000  0.050          32.0\n",
       "150       POLITICS  0.774751  0.050         997.0\n",
       "164       WELLNESS  0.712103  0.050         502.0\n",
       "172        COLLEGE  0.416290  0.100          64.0\n",
       "177      EDUCATION  0.387569  0.100          57.0\n",
       "178  ENTERTAINMENT  0.707473  0.100         972.0\n",
       "187  LATINO VOICES  0.351464  0.100          63.0\n",
       "192       POLITICS  0.784954  0.100        1993.0\n",
       "206       WELLNESS  0.732673  0.100        1005.0\n",
       "214        COLLEGE  0.456284  0.200         128.0\n",
       "219      EDUCATION  0.372694  0.200         114.0\n",
       "220  ENTERTAINMENT  0.717192  0.200        1945.0\n",
       "229  LATINO VOICES  0.396396  0.200         126.0\n",
       "234       POLITICS  0.796168  0.200        3987.0\n",
       "248       WELLNESS  0.747054  0.200        2009.0\n",
       "256        COLLEGE  0.495549  0.300         192.0\n",
       "261      EDUCATION  0.394052  0.300         170.0\n",
       "262  ENTERTAINMENT  0.739264  0.300        2917.0\n",
       "271  LATINO VOICES  0.486395  0.300         190.0\n",
       "276       POLITICS  0.805875  0.300        5981.0\n",
       "290       WELLNESS  0.761921  0.300        3014.0\n",
       "298        COLLEGE  0.477172  0.400         256.0\n",
       "303      EDUCATION  0.449640  0.400         227.0\n",
       "304  ENTERTAINMENT  0.740457  0.400        3889.0\n",
       "313  LATINO VOICES  0.495812  0.400         253.0\n",
       "318       POLITICS  0.811298  0.400        7974.0\n",
       "332       WELLNESS  0.765053  0.400        4019.0\n",
       "340        COLLEGE  0.478754  0.500         321.0\n",
       "345      EDUCATION  0.427844  0.500         284.0\n",
       "346  ENTERTAINMENT  0.746669  0.500        4861.0\n",
       "355  LATINO VOICES  0.466887  0.500         317.0\n",
       "360       POLITICS  0.817264  0.500        9969.0\n",
       "374       WELLNESS  0.775633  0.500        5025.0\n",
       "382        COLLEGE  0.530370  1.000         641.0\n",
       "387      EDUCATION  0.478778  1.000         568.0\n",
       "388  ENTERTAINMENT  0.772040  1.000        9722.0\n",
       "397  LATINO VOICES  0.520000  1.000         633.0\n",
       "402       POLITICS  0.829541  1.000       19937.0\n",
       "416       WELLNESS  0.794107  1.000       10049.0"
      ]
     },
     "execution_count": 58,
     "metadata": {},
     "output_type": "execute_result"
    }
   ],
   "source": [
    "\n",
    "less_3_b = list(bertdat.groupby(['Category'])['n_rows_label'].mean().sort_values().index[:3])\n",
    "top_3_b = list(bertdat.groupby(['Category'])['n_rows_label'].mean().sort_values().index[-3:])\n",
    "top_less_3_b =less_3_b +top_3_b\n",
    "\n",
    "sim_tops_b = bertdat[bertdat['Category'].isin(top_less_3_b)]\n",
    "sim_tops_b\n"
   ]
  },
  {
   "cell_type": "code",
   "execution_count": 60,
   "id": "5df9be2c",
   "metadata": {},
   "outputs": [
    {
     "data": {
      "application/vnd.plotly.v1+json": {
       "config": {
        "plotlyServerURL": "https://plot.ly"
       },
       "data": [
        {
         "marker": {
          "color": "red",
          "size": 5,
          "symbol": "circle"
         },
         "mode": "lines+markers",
         "name": "F1 - COLLEGE",
         "type": "scatter",
         "x": {
          "bdata": "/Knx0k1iUD97FK5H4Xp0P3sUrkfheoQ/mpmZmZmZqT+amZmZmZm5P5qZmZmZmck/MzMzMzMz0z+amZmZmZnZPwAAAAAAAOA/AAAAAAAA8D8=",
          "dtype": "f8"
         },
         "y": {
          "bdata": "AAAAAAAAAAAAAAAAAAAAAJl6pJOKD8w/GVq5iaGV2z8bfaQafaTaP6HbtXLCM90/7Ze4/RK33z8eueO8/YnePxUiceTlo94/wEJwSMv44D8=",
          "dtype": "f8"
         },
         "yaxis": "y"
        },
        {
         "marker": {
          "color": "blue",
          "size": 5,
          "symbol": "circle"
         },
         "mode": "lines+markers",
         "name": "F1 - EDUCATION",
         "type": "scatter",
         "x": {
          "bdata": "/Knx0k1iUD97FK5H4Xp0P3sUrkfheoQ/mpmZmZmZqT+amZmZmZm5P5qZmZmZmck/MzMzMzMz0z+amZmZmZnZPwAAAAAAAOA/AAAAAAAA8D8=",
          "dtype": "f8"
         },
         "y": {
          "bdata": "AAAAAAAAAAAAAAAAAAAAAAAAAAAAAAAA8LV4V+Yz0T+FQfxX7M3YP9+sJ8o22tc//U4hESY42T8p27sO6MbcP24Ae/nKYds/AuLYwUqk3j8=",
          "dtype": "f8"
         },
         "yaxis": "y"
        },
        {
         "marker": {
          "color": "green",
          "size": 5,
          "symbol": "circle"
         },
         "mode": "lines+markers",
         "name": "F1 - ENTERTAINMENT",
         "type": "scatter",
         "x": {
          "bdata": "/Knx0k1iUD97FK5H4Xp0P3sUrkfheoQ/mpmZmZmZqT+amZmZmZm5P5qZmZmZmck/MzMzMzMz0z+amZmZmZnZPwAAAAAAAOA/AAAAAAAA8D8=",
          "dtype": "f8"
         },
         "y": {
          "bdata": "dDMXDZQxcT+9UQM4kVLhP2ejvrNR3+M/WAs08/HM5T++GE+FnqPmP2yEQZk98+Y/7krmKQ2o5z9o63mD07HnP33gj7225Oc/RfHD44y06D8=",
          "dtype": "f8"
         },
         "yaxis": "y"
        },
        {
         "marker": {
          "color": "violet",
          "size": 5,
          "symbol": "circle"
         },
         "mode": "lines+markers",
         "name": "F1 - LATINO VOICES",
         "type": "scatter",
         "x": {
          "bdata": "/Knx0k1iUD97FK5H4Xp0P3sUrkfheoQ/mpmZmZmZqT+amZmZmZm5P5qZmZmZmck/MzMzMzMz0z+amZmZmZnZPwAAAAAAAOA/AAAAAAAA8D8=",
          "dtype": "f8"
         },
         "y": {
          "bdata": "AAAAAAAAAAAAAAAAAAAAAAAAAAAAAAAAAAAAAAAAAABDT6qvZH7WP+mVsf2OXtk/x1+zoxYh3z/zq7PpY7vfP+6F98J74d0/pHA9Ctej4D8=",
          "dtype": "f8"
         },
         "yaxis": "y"
        },
        {
         "marker": {
          "color": "turquoise",
          "size": 5,
          "symbol": "circle"
         },
         "mode": "lines+markers",
         "name": "F1 - POLITICS",
         "type": "scatter",
         "x": {
          "bdata": "/Knx0k1iUD97FK5H4Xp0P3sUrkfheoQ/mpmZmZmZqT+amZmZmZm5P5qZmZmZmck/MzMzMzMz0z+amZmZmZnZPwAAAAAAAOA/AAAAAAAA8D8=",
          "dtype": "f8"
         },
         "y": {
          "bdata": "omy2OiD60j9JbV8MllflP/sxfvaV/+Y/5zWiYMPK6D+1Svj6Vx7pP2qwn+E1euk/REima7nJ6T9+Yp/YJ/bpP+ofdvIGJ+o/ECjGFpmL6j8=",
          "dtype": "f8"
         },
         "yaxis": "y"
        },
        {
         "marker": {
          "color": "yellowgreen",
          "size": 5,
          "symbol": "circle"
         },
         "mode": "lines+markers",
         "name": "F1 - WELLNESS",
         "type": "scatter",
         "x": {
          "bdata": "/Knx0k1iUD97FK5H4Xp0P3sUrkfheoQ/mpmZmZmZqT+amZmZmZm5P5qZmZmZmck/MzMzMzMz0z+amZmZmZnZPwAAAAAAAOA/AAAAAAAA8D8=",
          "dtype": "f8"
         },
         "y": {
          "bdata": "AAAAAAAAAABVOefTR5DdP69UH1ul7OM/pMX1FY3J5j8KTDo1D3LnP9NkXQ7d5+c/oLR0aqhh6D+HQ7AiUXvoP2BPzVn70eg/AuIpCFRp6T8=",
          "dtype": "f8"
         },
         "yaxis": "y"
        },
        {
         "line": {
          "dash": "dot"
         },
         "marker": {
          "color": "red",
          "size": 5,
          "symbol": "diamond"
         },
         "mode": "lines+markers",
         "name": "nrows - COLLEGE",
         "type": "scatter",
         "x": {
          "bdata": "/Knx0k1iUD97FK5H4Xp0P3sUrkfheoQ/mpmZmZmZqT+amZmZmZm5P5qZmZmZmck/MzMzMzMz0z+amZmZmZnZPwAAAAAAAOA/AAAAAAAA8D8=",
          "dtype": "f8"
         },
         "y": {
          "bdata": "AAAAAAAA8D8AAAAAAAAIQAAAAAAAABhAAAAAAAAAQEAAAAAAAABQQAAAAAAAAGBAAAAAAAAAaEAAAAAAAABwQAAAAAAAEHRAAAAAAAAIhEA=",
          "dtype": "f8"
         },
         "yaxis": "y2"
        },
        {
         "line": {
          "dash": "dot"
         },
         "marker": {
          "color": "blue",
          "size": 5,
          "symbol": "diamond"
         },
         "mode": "lines+markers",
         "name": "nrows - EDUCATION",
         "type": "scatter",
         "x": {
          "bdata": "/Knx0k1iUD97FK5H4Xp0P3sUrkfheoQ/mpmZmZmZqT+amZmZmZm5P5qZmZmZmck/MzMzMzMz0z+amZmZmZnZPwAAAAAAAOA/AAAAAAAA8D8=",
          "dtype": "f8"
         },
         "y": {
          "bdata": "AAAAAAAA8D8AAAAAAAAIQAAAAAAAABhAAAAAAAAAPEAAAAAAAIBMQAAAAAAAgFxAAAAAAABAZUAAAAAAAGBsQAAAAAAAwHFAAAAAAADAgUA=",
          "dtype": "f8"
         },
         "yaxis": "y2"
        },
        {
         "line": {
          "dash": "dot"
         },
         "marker": {
          "color": "green",
          "size": 5,
          "symbol": "diamond"
         },
         "mode": "lines+markers",
         "name": "nrows - ENTERTAINMENT",
         "type": "scatter",
         "x": {
          "bdata": "/Knx0k1iUD97FK5H4Xp0P3sUrkfheoQ/mpmZmZmZqT+amZmZmZm5P5qZmZmZmck/MzMzMzMz0z+amZmZmZnZPwAAAAAAAOA/AAAAAAAA8D8=",
          "dtype": "f8"
         },
         "y": {
          "bdata": "AAAAAAAAIEAAAAAAAIBIQAAAAAAAgFhAAAAAAABgfkAAAAAAAGCOQAAAAAAAZJ5AAAAAAADKpkAAAAAAAGKuQAAAAAAA/bJAAAAAAAD9wkA=",
          "dtype": "f8"
         },
         "yaxis": "y2"
        },
        {
         "line": {
          "dash": "dot"
         },
         "marker": {
          "color": "violet",
          "size": 5,
          "symbol": "diamond"
         },
         "mode": "lines+markers",
         "name": "nrows - LATINO VOICES",
         "type": "scatter",
         "x": {
          "bdata": "/Knx0k1iUD97FK5H4Xp0P3sUrkfheoQ/mpmZmZmZqT+amZmZmZm5P5qZmZmZmck/MzMzMzMz0z+amZmZmZnZPwAAAAAAAOA/AAAAAAAA8D8=",
          "dtype": "f8"
         },
         "y": {
          "bdata": "AAAAAAAA8D8AAAAAAAAIQAAAAAAAABhAAAAAAAAAQEAAAAAAAIBPQAAAAAAAgF9AAAAAAADAZ0AAAAAAAKBvQAAAAAAA0HNAAAAAAADIg0A=",
          "dtype": "f8"
         },
         "yaxis": "y2"
        },
        {
         "line": {
          "dash": "dot"
         },
         "marker": {
          "color": "turquoise",
          "size": 5,
          "symbol": "diamond"
         },
         "mode": "lines+markers",
         "name": "nrows - POLITICS",
         "type": "scatter",
         "x": {
          "bdata": "/Knx0k1iUD97FK5H4Xp0P3sUrkfheoQ/mpmZmZmZqT+amZmZmZm5P5qZmZmZmck/MzMzMzMz0z+amZmZmZnZPwAAAAAAAOA/AAAAAAAA8D8=",
          "dtype": "f8"
         },
         "y": {
          "bdata": "AAAAAAAANUAAAAAAAABZQAAAAAAA4GhAAAAAAAAoj0AAAAAAACSfQAAAAAAAJq9AAAAAAABdt0AAAAAAACa/QAAAAACAeMNAAAAAAEB400A=",
          "dtype": "f8"
         },
         "yaxis": "y2"
        },
        {
         "line": {
          "dash": "dot"
         },
         "marker": {
          "color": "yellowgreen",
          "size": 5,
          "symbol": "diamond"
         },
         "mode": "lines+markers",
         "name": "nrows - WELLNESS",
         "type": "scatter",
         "x": {
          "bdata": "/Knx0k1iUD97FK5H4Xp0P3sUrkfheoQ/mpmZmZmZqT+amZmZmZm5P5qZmZmZmck/MzMzMzMz0z+amZmZmZnZPwAAAAAAAOA/AAAAAAAA8D8=",
          "dtype": "f8"
         },
         "y": {
          "bdata": "AAAAAAAAJkAAAAAAAABJQAAAAAAAQFlAAAAAAABgf0AAAAAAAGiPQAAAAAAAZJ9AAAAAAACMp0AAAAAAAGavQAAAAAAAobNAAAAAAICgw0A=",
          "dtype": "f8"
         },
         "yaxis": "y2"
        }
       ],
       "layout": {
        "legend": {
         "bordercolor": "Black",
         "borderwidth": 1,
         "x": 1.1,
         "y": 1
        },
        "template": {
         "data": {
          "bar": [
           {
            "error_x": {
             "color": "#2a3f5f"
            },
            "error_y": {
             "color": "#2a3f5f"
            },
            "marker": {
             "line": {
              "color": "#E5ECF6",
              "width": 0.5
             },
             "pattern": {
              "fillmode": "overlay",
              "size": 10,
              "solidity": 0.2
             }
            },
            "type": "bar"
           }
          ],
          "barpolar": [
           {
            "marker": {
             "line": {
              "color": "#E5ECF6",
              "width": 0.5
             },
             "pattern": {
              "fillmode": "overlay",
              "size": 10,
              "solidity": 0.2
             }
            },
            "type": "barpolar"
           }
          ],
          "carpet": [
           {
            "aaxis": {
             "endlinecolor": "#2a3f5f",
             "gridcolor": "white",
             "linecolor": "white",
             "minorgridcolor": "white",
             "startlinecolor": "#2a3f5f"
            },
            "baxis": {
             "endlinecolor": "#2a3f5f",
             "gridcolor": "white",
             "linecolor": "white",
             "minorgridcolor": "white",
             "startlinecolor": "#2a3f5f"
            },
            "type": "carpet"
           }
          ],
          "choropleth": [
           {
            "colorbar": {
             "outlinewidth": 0,
             "ticks": ""
            },
            "type": "choropleth"
           }
          ],
          "contour": [
           {
            "colorbar": {
             "outlinewidth": 0,
             "ticks": ""
            },
            "colorscale": [
             [
              0,
              "#0d0887"
             ],
             [
              0.1111111111111111,
              "#46039f"
             ],
             [
              0.2222222222222222,
              "#7201a8"
             ],
             [
              0.3333333333333333,
              "#9c179e"
             ],
             [
              0.4444444444444444,
              "#bd3786"
             ],
             [
              0.5555555555555556,
              "#d8576b"
             ],
             [
              0.6666666666666666,
              "#ed7953"
             ],
             [
              0.7777777777777778,
              "#fb9f3a"
             ],
             [
              0.8888888888888888,
              "#fdca26"
             ],
             [
              1,
              "#f0f921"
             ]
            ],
            "type": "contour"
           }
          ],
          "contourcarpet": [
           {
            "colorbar": {
             "outlinewidth": 0,
             "ticks": ""
            },
            "type": "contourcarpet"
           }
          ],
          "heatmap": [
           {
            "colorbar": {
             "outlinewidth": 0,
             "ticks": ""
            },
            "colorscale": [
             [
              0,
              "#0d0887"
             ],
             [
              0.1111111111111111,
              "#46039f"
             ],
             [
              0.2222222222222222,
              "#7201a8"
             ],
             [
              0.3333333333333333,
              "#9c179e"
             ],
             [
              0.4444444444444444,
              "#bd3786"
             ],
             [
              0.5555555555555556,
              "#d8576b"
             ],
             [
              0.6666666666666666,
              "#ed7953"
             ],
             [
              0.7777777777777778,
              "#fb9f3a"
             ],
             [
              0.8888888888888888,
              "#fdca26"
             ],
             [
              1,
              "#f0f921"
             ]
            ],
            "type": "heatmap"
           }
          ],
          "histogram": [
           {
            "marker": {
             "pattern": {
              "fillmode": "overlay",
              "size": 10,
              "solidity": 0.2
             }
            },
            "type": "histogram"
           }
          ],
          "histogram2d": [
           {
            "colorbar": {
             "outlinewidth": 0,
             "ticks": ""
            },
            "colorscale": [
             [
              0,
              "#0d0887"
             ],
             [
              0.1111111111111111,
              "#46039f"
             ],
             [
              0.2222222222222222,
              "#7201a8"
             ],
             [
              0.3333333333333333,
              "#9c179e"
             ],
             [
              0.4444444444444444,
              "#bd3786"
             ],
             [
              0.5555555555555556,
              "#d8576b"
             ],
             [
              0.6666666666666666,
              "#ed7953"
             ],
             [
              0.7777777777777778,
              "#fb9f3a"
             ],
             [
              0.8888888888888888,
              "#fdca26"
             ],
             [
              1,
              "#f0f921"
             ]
            ],
            "type": "histogram2d"
           }
          ],
          "histogram2dcontour": [
           {
            "colorbar": {
             "outlinewidth": 0,
             "ticks": ""
            },
            "colorscale": [
             [
              0,
              "#0d0887"
             ],
             [
              0.1111111111111111,
              "#46039f"
             ],
             [
              0.2222222222222222,
              "#7201a8"
             ],
             [
              0.3333333333333333,
              "#9c179e"
             ],
             [
              0.4444444444444444,
              "#bd3786"
             ],
             [
              0.5555555555555556,
              "#d8576b"
             ],
             [
              0.6666666666666666,
              "#ed7953"
             ],
             [
              0.7777777777777778,
              "#fb9f3a"
             ],
             [
              0.8888888888888888,
              "#fdca26"
             ],
             [
              1,
              "#f0f921"
             ]
            ],
            "type": "histogram2dcontour"
           }
          ],
          "mesh3d": [
           {
            "colorbar": {
             "outlinewidth": 0,
             "ticks": ""
            },
            "type": "mesh3d"
           }
          ],
          "parcoords": [
           {
            "line": {
             "colorbar": {
              "outlinewidth": 0,
              "ticks": ""
             }
            },
            "type": "parcoords"
           }
          ],
          "pie": [
           {
            "automargin": true,
            "type": "pie"
           }
          ],
          "scatter": [
           {
            "fillpattern": {
             "fillmode": "overlay",
             "size": 10,
             "solidity": 0.2
            },
            "type": "scatter"
           }
          ],
          "scatter3d": [
           {
            "line": {
             "colorbar": {
              "outlinewidth": 0,
              "ticks": ""
             }
            },
            "marker": {
             "colorbar": {
              "outlinewidth": 0,
              "ticks": ""
             }
            },
            "type": "scatter3d"
           }
          ],
          "scattercarpet": [
           {
            "marker": {
             "colorbar": {
              "outlinewidth": 0,
              "ticks": ""
             }
            },
            "type": "scattercarpet"
           }
          ],
          "scattergeo": [
           {
            "marker": {
             "colorbar": {
              "outlinewidth": 0,
              "ticks": ""
             }
            },
            "type": "scattergeo"
           }
          ],
          "scattergl": [
           {
            "marker": {
             "colorbar": {
              "outlinewidth": 0,
              "ticks": ""
             }
            },
            "type": "scattergl"
           }
          ],
          "scattermap": [
           {
            "marker": {
             "colorbar": {
              "outlinewidth": 0,
              "ticks": ""
             }
            },
            "type": "scattermap"
           }
          ],
          "scattermapbox": [
           {
            "marker": {
             "colorbar": {
              "outlinewidth": 0,
              "ticks": ""
             }
            },
            "type": "scattermapbox"
           }
          ],
          "scatterpolar": [
           {
            "marker": {
             "colorbar": {
              "outlinewidth": 0,
              "ticks": ""
             }
            },
            "type": "scatterpolar"
           }
          ],
          "scatterpolargl": [
           {
            "marker": {
             "colorbar": {
              "outlinewidth": 0,
              "ticks": ""
             }
            },
            "type": "scatterpolargl"
           }
          ],
          "scatterternary": [
           {
            "marker": {
             "colorbar": {
              "outlinewidth": 0,
              "ticks": ""
             }
            },
            "type": "scatterternary"
           }
          ],
          "surface": [
           {
            "colorbar": {
             "outlinewidth": 0,
             "ticks": ""
            },
            "colorscale": [
             [
              0,
              "#0d0887"
             ],
             [
              0.1111111111111111,
              "#46039f"
             ],
             [
              0.2222222222222222,
              "#7201a8"
             ],
             [
              0.3333333333333333,
              "#9c179e"
             ],
             [
              0.4444444444444444,
              "#bd3786"
             ],
             [
              0.5555555555555556,
              "#d8576b"
             ],
             [
              0.6666666666666666,
              "#ed7953"
             ],
             [
              0.7777777777777778,
              "#fb9f3a"
             ],
             [
              0.8888888888888888,
              "#fdca26"
             ],
             [
              1,
              "#f0f921"
             ]
            ],
            "type": "surface"
           }
          ],
          "table": [
           {
            "cells": {
             "fill": {
              "color": "#EBF0F8"
             },
             "line": {
              "color": "white"
             }
            },
            "header": {
             "fill": {
              "color": "#C8D4E3"
             },
             "line": {
              "color": "white"
             }
            },
            "type": "table"
           }
          ]
         },
         "layout": {
          "annotationdefaults": {
           "arrowcolor": "#2a3f5f",
           "arrowhead": 0,
           "arrowwidth": 1
          },
          "autotypenumbers": "strict",
          "coloraxis": {
           "colorbar": {
            "outlinewidth": 0,
            "ticks": ""
           }
          },
          "colorscale": {
           "diverging": [
            [
             0,
             "#8e0152"
            ],
            [
             0.1,
             "#c51b7d"
            ],
            [
             0.2,
             "#de77ae"
            ],
            [
             0.3,
             "#f1b6da"
            ],
            [
             0.4,
             "#fde0ef"
            ],
            [
             0.5,
             "#f7f7f7"
            ],
            [
             0.6,
             "#e6f5d0"
            ],
            [
             0.7,
             "#b8e186"
            ],
            [
             0.8,
             "#7fbc41"
            ],
            [
             0.9,
             "#4d9221"
            ],
            [
             1,
             "#276419"
            ]
           ],
           "sequential": [
            [
             0,
             "#0d0887"
            ],
            [
             0.1111111111111111,
             "#46039f"
            ],
            [
             0.2222222222222222,
             "#7201a8"
            ],
            [
             0.3333333333333333,
             "#9c179e"
            ],
            [
             0.4444444444444444,
             "#bd3786"
            ],
            [
             0.5555555555555556,
             "#d8576b"
            ],
            [
             0.6666666666666666,
             "#ed7953"
            ],
            [
             0.7777777777777778,
             "#fb9f3a"
            ],
            [
             0.8888888888888888,
             "#fdca26"
            ],
            [
             1,
             "#f0f921"
            ]
           ],
           "sequentialminus": [
            [
             0,
             "#0d0887"
            ],
            [
             0.1111111111111111,
             "#46039f"
            ],
            [
             0.2222222222222222,
             "#7201a8"
            ],
            [
             0.3333333333333333,
             "#9c179e"
            ],
            [
             0.4444444444444444,
             "#bd3786"
            ],
            [
             0.5555555555555556,
             "#d8576b"
            ],
            [
             0.6666666666666666,
             "#ed7953"
            ],
            [
             0.7777777777777778,
             "#fb9f3a"
            ],
            [
             0.8888888888888888,
             "#fdca26"
            ],
            [
             1,
             "#f0f921"
            ]
           ]
          },
          "colorway": [
           "#636efa",
           "#EF553B",
           "#00cc96",
           "#ab63fa",
           "#FFA15A",
           "#19d3f3",
           "#FF6692",
           "#B6E880",
           "#FF97FF",
           "#FECB52"
          ],
          "font": {
           "color": "#2a3f5f"
          },
          "geo": {
           "bgcolor": "white",
           "lakecolor": "white",
           "landcolor": "#E5ECF6",
           "showlakes": true,
           "showland": true,
           "subunitcolor": "white"
          },
          "hoverlabel": {
           "align": "left"
          },
          "hovermode": "closest",
          "mapbox": {
           "style": "light"
          },
          "paper_bgcolor": "white",
          "plot_bgcolor": "#E5ECF6",
          "polar": {
           "angularaxis": {
            "gridcolor": "white",
            "linecolor": "white",
            "ticks": ""
           },
           "bgcolor": "#E5ECF6",
           "radialaxis": {
            "gridcolor": "white",
            "linecolor": "white",
            "ticks": ""
           }
          },
          "scene": {
           "xaxis": {
            "backgroundcolor": "#E5ECF6",
            "gridcolor": "white",
            "gridwidth": 2,
            "linecolor": "white",
            "showbackground": true,
            "ticks": "",
            "zerolinecolor": "white"
           },
           "yaxis": {
            "backgroundcolor": "#E5ECF6",
            "gridcolor": "white",
            "gridwidth": 2,
            "linecolor": "white",
            "showbackground": true,
            "ticks": "",
            "zerolinecolor": "white"
           },
           "zaxis": {
            "backgroundcolor": "#E5ECF6",
            "gridcolor": "white",
            "gridwidth": 2,
            "linecolor": "white",
            "showbackground": true,
            "ticks": "",
            "zerolinecolor": "white"
           }
          },
          "shapedefaults": {
           "line": {
            "color": "#2a3f5f"
           }
          },
          "ternary": {
           "aaxis": {
            "gridcolor": "white",
            "linecolor": "white",
            "ticks": ""
           },
           "baxis": {
            "gridcolor": "white",
            "linecolor": "white",
            "ticks": ""
           },
           "bgcolor": "#E5ECF6",
           "caxis": {
            "gridcolor": "white",
            "linecolor": "white",
            "ticks": ""
           }
          },
          "title": {
           "x": 0.05
          },
          "xaxis": {
           "automargin": true,
           "gridcolor": "white",
           "linecolor": "white",
           "ticks": "",
           "title": {
            "standoff": 15
           },
           "zerolinecolor": "white",
           "zerolinewidth": 2
          },
          "yaxis": {
           "automargin": true,
           "gridcolor": "white",
           "linecolor": "white",
           "ticks": "",
           "title": {
            "standoff": 15
           },
           "zerolinecolor": "white",
           "zerolinewidth": 2
          }
         }
        },
        "title": {
         "text": "F1-Score / size training datan of extreme categories "
        },
        "xaxis": {
         "title": {
          "text": "Proportion of data for training"
         }
        },
        "yaxis": {
         "title": {
          "text": "Performance (f1-score)"
         }
        },
        "yaxis2": {
         "overlaying": "y",
         "showgrid": false,
         "side": "right",
         "title": {
          "text": "Nº rows training"
         }
        }
       }
      }
     },
     "metadata": {},
     "output_type": "display_data"
    }
   ],
   "source": [
    "\n",
    "top_categories(sim_tops_b)"
   ]
  },
  {
   "cell_type": "markdown",
   "id": "66266b87",
   "metadata": {},
   "source": [
    "We observe the same pattern as in the cosine similarity case."
   ]
  },
  {
   "cell_type": "code",
   "execution_count": null,
   "id": "af0ff3e1",
   "metadata": {},
   "outputs": [],
   "source": []
  },
  {
   "cell_type": "markdown",
   "id": "b89e2b87",
   "metadata": {},
   "source": [
    "### 3. BERT VS SIMILARITY BASED ON TRAINING DATA SIZE"
   ]
  },
  {
   "cell_type": "code",
   "execution_count": null,
   "id": "001b67ef",
   "metadata": {},
   "outputs": [],
   "source": []
  },
  {
   "cell_type": "markdown",
   "id": "8183aade",
   "metadata": {},
   "source": [
    "#### GENERAL"
   ]
  },
  {
   "cell_type": "code",
   "execution_count": 63,
   "id": "77a2168e",
   "metadata": {},
   "outputs": [
    {
     "data": {
      "text/html": [
       "<div>\n",
       "<style scoped>\n",
       "    .dataframe tbody tr th:only-of-type {\n",
       "        vertical-align: middle;\n",
       "    }\n",
       "\n",
       "    .dataframe tbody tr th {\n",
       "        vertical-align: top;\n",
       "    }\n",
       "\n",
       "    .dataframe thead th {\n",
       "        text-align: right;\n",
       "    }\n",
       "</style>\n",
       "<table border=\"1\" class=\"dataframe\">\n",
       "  <thead>\n",
       "    <tr style=\"text-align: right;\">\n",
       "      <th></th>\n",
       "      <th>prop</th>\n",
       "      <th>f1_avg_sim</th>\n",
       "      <th>n_rows</th>\n",
       "      <th>f1_avg_bert</th>\n",
       "    </tr>\n",
       "  </thead>\n",
       "  <tbody>\n",
       "    <tr>\n",
       "      <th>0</th>\n",
       "      <td>0.001</td>\n",
       "      <td>0.171220</td>\n",
       "      <td>117.0</td>\n",
       "      <td>0.010252</td>\n",
       "    </tr>\n",
       "    <tr>\n",
       "      <th>1</th>\n",
       "      <td>0.005</td>\n",
       "      <td>0.273838</td>\n",
       "      <td>587.0</td>\n",
       "      <td>0.112090</td>\n",
       "    </tr>\n",
       "    <tr>\n",
       "      <th>2</th>\n",
       "      <td>0.010</td>\n",
       "      <td>0.302651</td>\n",
       "      <td>1173.0</td>\n",
       "      <td>0.216159</td>\n",
       "    </tr>\n",
       "    <tr>\n",
       "      <th>3</th>\n",
       "      <td>0.050</td>\n",
       "      <td>0.361606</td>\n",
       "      <td>5867.0</td>\n",
       "      <td>0.417953</td>\n",
       "    </tr>\n",
       "    <tr>\n",
       "      <th>4</th>\n",
       "      <td>0.100</td>\n",
       "      <td>0.388165</td>\n",
       "      <td>11733.0</td>\n",
       "      <td>0.486586</td>\n",
       "    </tr>\n",
       "    <tr>\n",
       "      <th>5</th>\n",
       "      <td>0.200</td>\n",
       "      <td>0.409168</td>\n",
       "      <td>23467.0</td>\n",
       "      <td>0.517698</td>\n",
       "    </tr>\n",
       "    <tr>\n",
       "      <th>6</th>\n",
       "      <td>0.300</td>\n",
       "      <td>0.424269</td>\n",
       "      <td>35200.0</td>\n",
       "      <td>0.554554</td>\n",
       "    </tr>\n",
       "    <tr>\n",
       "      <th>7</th>\n",
       "      <td>0.400</td>\n",
       "      <td>0.435602</td>\n",
       "      <td>46934.0</td>\n",
       "      <td>0.566658</td>\n",
       "    </tr>\n",
       "    <tr>\n",
       "      <th>8</th>\n",
       "      <td>0.500</td>\n",
       "      <td>0.439252</td>\n",
       "      <td>58667.0</td>\n",
       "      <td>0.577528</td>\n",
       "    </tr>\n",
       "    <tr>\n",
       "      <th>9</th>\n",
       "      <td>1.000</td>\n",
       "      <td>0.467711</td>\n",
       "      <td>117334.0</td>\n",
       "      <td>0.611635</td>\n",
       "    </tr>\n",
       "  </tbody>\n",
       "</table>\n",
       "</div>"
      ],
      "text/plain": [
       "    prop  f1_avg_sim    n_rows  f1_avg_bert\n",
       "0  0.001    0.171220     117.0     0.010252\n",
       "1  0.005    0.273838     587.0     0.112090\n",
       "2  0.010    0.302651    1173.0     0.216159\n",
       "3  0.050    0.361606    5867.0     0.417953\n",
       "4  0.100    0.388165   11733.0     0.486586\n",
       "5  0.200    0.409168   23467.0     0.517698\n",
       "6  0.300    0.424269   35200.0     0.554554\n",
       "7  0.400    0.435602   46934.0     0.566658\n",
       "8  0.500    0.439252   58667.0     0.577528\n",
       "9  1.000    0.467711  117334.0     0.611635"
      ]
     },
     "execution_count": 63,
     "metadata": {},
     "output_type": "execute_result"
    }
   ],
   "source": [
    "f1_bert_sim =f1_size.rename(columns={'f1_score_avg':'f1_avg_sim'}).merge(\n",
    "    f1_size_b[['prop','f1_score_avg']].rename(columns={'f1_score_avg':'f1_avg_bert'}),\n",
    "    how='left',\n",
    "    on = 'prop'\n",
    ")\n",
    "f1_bert_sim"
   ]
  },
  {
   "cell_type": "code",
   "execution_count": null,
   "id": "753784ad",
   "metadata": {},
   "outputs": [],
   "source": []
  },
  {
   "cell_type": "code",
   "execution_count": 64,
   "id": "cea76bdc",
   "metadata": {},
   "outputs": [
    {
     "data": {
      "application/vnd.plotly.v1+json": {
       "config": {
        "plotlyServerURL": "https://plot.ly"
       },
       "data": [
        {
         "name": "f1-similarity",
         "type": "scatter",
         "x": {
          "bdata": "/Knx0k1iUD97FK5H4Xp0P3sUrkfheoQ/mpmZmZmZqT+amZmZmZm5P5qZmZmZmck/MzMzMzMz0z+amZmZmZnZPwAAAAAAAOA/AAAAAAAA8D8=",
          "dtype": "f8"
         },
         "y": {
          "bdata": "1fGQCY3qxT+Plv9QkYbRP23GD+KhXtM/F8sTY40k1z+FHzAVtNfYP4ZEU6/NL9o/aTDBUzon2z9Ua69D5eDbP3gNIIi0HNw/FMr0yvju3T8=",
          "dtype": "f8"
         },
         "yaxis": "y"
        },
        {
         "name": "f1-BERT",
         "type": "scatter",
         "x": {
          "bdata": "/Knx0k1iUD97FK5H4Xp0P3sUrkfheoQ/mpmZmZmZqT+amZmZmZm5P5qZmZmZmck/MzMzMzMz0z+amZmZmZnZPwAAAAAAAOA/AAAAAAAA8D8=",
          "dtype": "f8"
         },
         "y": {
          "bdata": "cz33Eib/hD9uiRz767G8P7LAw7Qcq8s/g4k8ab2/2j9vqD9BOSTfP1CzsG76kOA/Qyxjq+e+4T+jAAKoDyLiP5Y753Ece+I/dVfbhYKS4z8=",
          "dtype": "f8"
         },
         "yaxis": "y"
        },
        {
         "name": "Nº rows",
         "type": "scatter",
         "x": {
          "bdata": "/Knx0k1iUD97FK5H4Xp0P3sUrkfheoQ/mpmZmZmZqT+amZmZmZm5P5qZmZmZmck/MzMzMzMz0z+amZmZmZnZPwAAAAAAAOA/AAAAAAAA8D8=",
          "dtype": "f8"
         },
         "y": {
          "bdata": "AAAAAABAXUAAAAAAAFiCQAAAAAAAVJJAAAAAAADrtkAAAAAAgOrGQAAAAADA6tZAAAAAAAAw4UAAAAAAwOrmQAAAAABgpexAAAAAAGCl/EA=",
          "dtype": "f8"
         },
         "yaxis": "y2"
        }
       ],
       "layout": {
        "template": {
         "data": {
          "bar": [
           {
            "error_x": {
             "color": "#2a3f5f"
            },
            "error_y": {
             "color": "#2a3f5f"
            },
            "marker": {
             "line": {
              "color": "#E5ECF6",
              "width": 0.5
             },
             "pattern": {
              "fillmode": "overlay",
              "size": 10,
              "solidity": 0.2
             }
            },
            "type": "bar"
           }
          ],
          "barpolar": [
           {
            "marker": {
             "line": {
              "color": "#E5ECF6",
              "width": 0.5
             },
             "pattern": {
              "fillmode": "overlay",
              "size": 10,
              "solidity": 0.2
             }
            },
            "type": "barpolar"
           }
          ],
          "carpet": [
           {
            "aaxis": {
             "endlinecolor": "#2a3f5f",
             "gridcolor": "white",
             "linecolor": "white",
             "minorgridcolor": "white",
             "startlinecolor": "#2a3f5f"
            },
            "baxis": {
             "endlinecolor": "#2a3f5f",
             "gridcolor": "white",
             "linecolor": "white",
             "minorgridcolor": "white",
             "startlinecolor": "#2a3f5f"
            },
            "type": "carpet"
           }
          ],
          "choropleth": [
           {
            "colorbar": {
             "outlinewidth": 0,
             "ticks": ""
            },
            "type": "choropleth"
           }
          ],
          "contour": [
           {
            "colorbar": {
             "outlinewidth": 0,
             "ticks": ""
            },
            "colorscale": [
             [
              0,
              "#0d0887"
             ],
             [
              0.1111111111111111,
              "#46039f"
             ],
             [
              0.2222222222222222,
              "#7201a8"
             ],
             [
              0.3333333333333333,
              "#9c179e"
             ],
             [
              0.4444444444444444,
              "#bd3786"
             ],
             [
              0.5555555555555556,
              "#d8576b"
             ],
             [
              0.6666666666666666,
              "#ed7953"
             ],
             [
              0.7777777777777778,
              "#fb9f3a"
             ],
             [
              0.8888888888888888,
              "#fdca26"
             ],
             [
              1,
              "#f0f921"
             ]
            ],
            "type": "contour"
           }
          ],
          "contourcarpet": [
           {
            "colorbar": {
             "outlinewidth": 0,
             "ticks": ""
            },
            "type": "contourcarpet"
           }
          ],
          "heatmap": [
           {
            "colorbar": {
             "outlinewidth": 0,
             "ticks": ""
            },
            "colorscale": [
             [
              0,
              "#0d0887"
             ],
             [
              0.1111111111111111,
              "#46039f"
             ],
             [
              0.2222222222222222,
              "#7201a8"
             ],
             [
              0.3333333333333333,
              "#9c179e"
             ],
             [
              0.4444444444444444,
              "#bd3786"
             ],
             [
              0.5555555555555556,
              "#d8576b"
             ],
             [
              0.6666666666666666,
              "#ed7953"
             ],
             [
              0.7777777777777778,
              "#fb9f3a"
             ],
             [
              0.8888888888888888,
              "#fdca26"
             ],
             [
              1,
              "#f0f921"
             ]
            ],
            "type": "heatmap"
           }
          ],
          "histogram": [
           {
            "marker": {
             "pattern": {
              "fillmode": "overlay",
              "size": 10,
              "solidity": 0.2
             }
            },
            "type": "histogram"
           }
          ],
          "histogram2d": [
           {
            "colorbar": {
             "outlinewidth": 0,
             "ticks": ""
            },
            "colorscale": [
             [
              0,
              "#0d0887"
             ],
             [
              0.1111111111111111,
              "#46039f"
             ],
             [
              0.2222222222222222,
              "#7201a8"
             ],
             [
              0.3333333333333333,
              "#9c179e"
             ],
             [
              0.4444444444444444,
              "#bd3786"
             ],
             [
              0.5555555555555556,
              "#d8576b"
             ],
             [
              0.6666666666666666,
              "#ed7953"
             ],
             [
              0.7777777777777778,
              "#fb9f3a"
             ],
             [
              0.8888888888888888,
              "#fdca26"
             ],
             [
              1,
              "#f0f921"
             ]
            ],
            "type": "histogram2d"
           }
          ],
          "histogram2dcontour": [
           {
            "colorbar": {
             "outlinewidth": 0,
             "ticks": ""
            },
            "colorscale": [
             [
              0,
              "#0d0887"
             ],
             [
              0.1111111111111111,
              "#46039f"
             ],
             [
              0.2222222222222222,
              "#7201a8"
             ],
             [
              0.3333333333333333,
              "#9c179e"
             ],
             [
              0.4444444444444444,
              "#bd3786"
             ],
             [
              0.5555555555555556,
              "#d8576b"
             ],
             [
              0.6666666666666666,
              "#ed7953"
             ],
             [
              0.7777777777777778,
              "#fb9f3a"
             ],
             [
              0.8888888888888888,
              "#fdca26"
             ],
             [
              1,
              "#f0f921"
             ]
            ],
            "type": "histogram2dcontour"
           }
          ],
          "mesh3d": [
           {
            "colorbar": {
             "outlinewidth": 0,
             "ticks": ""
            },
            "type": "mesh3d"
           }
          ],
          "parcoords": [
           {
            "line": {
             "colorbar": {
              "outlinewidth": 0,
              "ticks": ""
             }
            },
            "type": "parcoords"
           }
          ],
          "pie": [
           {
            "automargin": true,
            "type": "pie"
           }
          ],
          "scatter": [
           {
            "fillpattern": {
             "fillmode": "overlay",
             "size": 10,
             "solidity": 0.2
            },
            "type": "scatter"
           }
          ],
          "scatter3d": [
           {
            "line": {
             "colorbar": {
              "outlinewidth": 0,
              "ticks": ""
             }
            },
            "marker": {
             "colorbar": {
              "outlinewidth": 0,
              "ticks": ""
             }
            },
            "type": "scatter3d"
           }
          ],
          "scattercarpet": [
           {
            "marker": {
             "colorbar": {
              "outlinewidth": 0,
              "ticks": ""
             }
            },
            "type": "scattercarpet"
           }
          ],
          "scattergeo": [
           {
            "marker": {
             "colorbar": {
              "outlinewidth": 0,
              "ticks": ""
             }
            },
            "type": "scattergeo"
           }
          ],
          "scattergl": [
           {
            "marker": {
             "colorbar": {
              "outlinewidth": 0,
              "ticks": ""
             }
            },
            "type": "scattergl"
           }
          ],
          "scattermap": [
           {
            "marker": {
             "colorbar": {
              "outlinewidth": 0,
              "ticks": ""
             }
            },
            "type": "scattermap"
           }
          ],
          "scattermapbox": [
           {
            "marker": {
             "colorbar": {
              "outlinewidth": 0,
              "ticks": ""
             }
            },
            "type": "scattermapbox"
           }
          ],
          "scatterpolar": [
           {
            "marker": {
             "colorbar": {
              "outlinewidth": 0,
              "ticks": ""
             }
            },
            "type": "scatterpolar"
           }
          ],
          "scatterpolargl": [
           {
            "marker": {
             "colorbar": {
              "outlinewidth": 0,
              "ticks": ""
             }
            },
            "type": "scatterpolargl"
           }
          ],
          "scatterternary": [
           {
            "marker": {
             "colorbar": {
              "outlinewidth": 0,
              "ticks": ""
             }
            },
            "type": "scatterternary"
           }
          ],
          "surface": [
           {
            "colorbar": {
             "outlinewidth": 0,
             "ticks": ""
            },
            "colorscale": [
             [
              0,
              "#0d0887"
             ],
             [
              0.1111111111111111,
              "#46039f"
             ],
             [
              0.2222222222222222,
              "#7201a8"
             ],
             [
              0.3333333333333333,
              "#9c179e"
             ],
             [
              0.4444444444444444,
              "#bd3786"
             ],
             [
              0.5555555555555556,
              "#d8576b"
             ],
             [
              0.6666666666666666,
              "#ed7953"
             ],
             [
              0.7777777777777778,
              "#fb9f3a"
             ],
             [
              0.8888888888888888,
              "#fdca26"
             ],
             [
              1,
              "#f0f921"
             ]
            ],
            "type": "surface"
           }
          ],
          "table": [
           {
            "cells": {
             "fill": {
              "color": "#EBF0F8"
             },
             "line": {
              "color": "white"
             }
            },
            "header": {
             "fill": {
              "color": "#C8D4E3"
             },
             "line": {
              "color": "white"
             }
            },
            "type": "table"
           }
          ]
         },
         "layout": {
          "annotationdefaults": {
           "arrowcolor": "#2a3f5f",
           "arrowhead": 0,
           "arrowwidth": 1
          },
          "autotypenumbers": "strict",
          "coloraxis": {
           "colorbar": {
            "outlinewidth": 0,
            "ticks": ""
           }
          },
          "colorscale": {
           "diverging": [
            [
             0,
             "#8e0152"
            ],
            [
             0.1,
             "#c51b7d"
            ],
            [
             0.2,
             "#de77ae"
            ],
            [
             0.3,
             "#f1b6da"
            ],
            [
             0.4,
             "#fde0ef"
            ],
            [
             0.5,
             "#f7f7f7"
            ],
            [
             0.6,
             "#e6f5d0"
            ],
            [
             0.7,
             "#b8e186"
            ],
            [
             0.8,
             "#7fbc41"
            ],
            [
             0.9,
             "#4d9221"
            ],
            [
             1,
             "#276419"
            ]
           ],
           "sequential": [
            [
             0,
             "#0d0887"
            ],
            [
             0.1111111111111111,
             "#46039f"
            ],
            [
             0.2222222222222222,
             "#7201a8"
            ],
            [
             0.3333333333333333,
             "#9c179e"
            ],
            [
             0.4444444444444444,
             "#bd3786"
            ],
            [
             0.5555555555555556,
             "#d8576b"
            ],
            [
             0.6666666666666666,
             "#ed7953"
            ],
            [
             0.7777777777777778,
             "#fb9f3a"
            ],
            [
             0.8888888888888888,
             "#fdca26"
            ],
            [
             1,
             "#f0f921"
            ]
           ],
           "sequentialminus": [
            [
             0,
             "#0d0887"
            ],
            [
             0.1111111111111111,
             "#46039f"
            ],
            [
             0.2222222222222222,
             "#7201a8"
            ],
            [
             0.3333333333333333,
             "#9c179e"
            ],
            [
             0.4444444444444444,
             "#bd3786"
            ],
            [
             0.5555555555555556,
             "#d8576b"
            ],
            [
             0.6666666666666666,
             "#ed7953"
            ],
            [
             0.7777777777777778,
             "#fb9f3a"
            ],
            [
             0.8888888888888888,
             "#fdca26"
            ],
            [
             1,
             "#f0f921"
            ]
           ]
          },
          "colorway": [
           "#636efa",
           "#EF553B",
           "#00cc96",
           "#ab63fa",
           "#FFA15A",
           "#19d3f3",
           "#FF6692",
           "#B6E880",
           "#FF97FF",
           "#FECB52"
          ],
          "font": {
           "color": "#2a3f5f"
          },
          "geo": {
           "bgcolor": "white",
           "lakecolor": "white",
           "landcolor": "#E5ECF6",
           "showlakes": true,
           "showland": true,
           "subunitcolor": "white"
          },
          "hoverlabel": {
           "align": "left"
          },
          "hovermode": "closest",
          "mapbox": {
           "style": "light"
          },
          "paper_bgcolor": "white",
          "plot_bgcolor": "#E5ECF6",
          "polar": {
           "angularaxis": {
            "gridcolor": "white",
            "linecolor": "white",
            "ticks": ""
           },
           "bgcolor": "#E5ECF6",
           "radialaxis": {
            "gridcolor": "white",
            "linecolor": "white",
            "ticks": ""
           }
          },
          "scene": {
           "xaxis": {
            "backgroundcolor": "#E5ECF6",
            "gridcolor": "white",
            "gridwidth": 2,
            "linecolor": "white",
            "showbackground": true,
            "ticks": "",
            "zerolinecolor": "white"
           },
           "yaxis": {
            "backgroundcolor": "#E5ECF6",
            "gridcolor": "white",
            "gridwidth": 2,
            "linecolor": "white",
            "showbackground": true,
            "ticks": "",
            "zerolinecolor": "white"
           },
           "zaxis": {
            "backgroundcolor": "#E5ECF6",
            "gridcolor": "white",
            "gridwidth": 2,
            "linecolor": "white",
            "showbackground": true,
            "ticks": "",
            "zerolinecolor": "white"
           }
          },
          "shapedefaults": {
           "line": {
            "color": "#2a3f5f"
           }
          },
          "ternary": {
           "aaxis": {
            "gridcolor": "white",
            "linecolor": "white",
            "ticks": ""
           },
           "baxis": {
            "gridcolor": "white",
            "linecolor": "white",
            "ticks": ""
           },
           "bgcolor": "#E5ECF6",
           "caxis": {
            "gridcolor": "white",
            "linecolor": "white",
            "ticks": ""
           }
          },
          "title": {
           "x": 0.05
          },
          "xaxis": {
           "automargin": true,
           "gridcolor": "white",
           "linecolor": "white",
           "ticks": "",
           "title": {
            "standoff": 15
           },
           "zerolinecolor": "white",
           "zerolinewidth": 2
          },
          "yaxis": {
           "automargin": true,
           "gridcolor": "white",
           "linecolor": "white",
           "ticks": "",
           "title": {
            "standoff": 15
           },
           "zerolinecolor": "white",
           "zerolinewidth": 2
          }
         }
        },
        "title": {
         "text": "Average f1-score similarity vs BERT"
        },
        "xaxis": {
         "title": {
          "text": "Proportion of data for training"
         }
        },
        "yaxis": {
         "side": "left",
         "title": {
          "text": "Performance (f1-score avg)"
         }
        },
        "yaxis2": {
         "overlaying": "y",
         "side": "right",
         "title": {
          "text": "Nº rows of training data"
         }
        }
       }
      }
     },
     "metadata": {},
     "output_type": "display_data"
    }
   ],
   "source": [
    "\n",
    "fig = go.Figure()\n",
    "fig.add_trace(go.Scatter(x=f1_bert_sim[\"prop\"], y=f1_bert_sim[\"f1_avg_sim\"],name=\"f1-similarity\", yaxis=\"y1\"))\n",
    "fig.add_trace(go.Scatter(x=f1_bert_sim[\"prop\"], y=f1_bert_sim[\"f1_avg_bert\"],name=\"f1-BERT\", yaxis=\"y1\"))\n",
    "fig.add_trace(go.Scatter(x=f1_bert_sim[\"prop\"], y=f1_bert_sim[\"n_rows\"],name=\"Nº rows\", yaxis=\"y2\"))\n",
    "\n",
    "\n",
    "fig.update_layout(\n",
    "    title=\"Average f1-score similarity vs BERT\",\n",
    "    xaxis=dict(title=\"Proportion of data for training\"),\n",
    "    yaxis=dict(title=\"Performance (f1-score avg)\", side=\"left\"),\n",
    "    yaxis2=dict(\n",
    "        title=\"Nº rows of training data\",\n",
    "        overlaying=\"y\",\n",
    "        side=\"right\"\n",
    "    )\n",
    ")\n",
    "fig.show()\n"
   ]
  },
  {
   "cell_type": "markdown",
   "id": "f20e9211",
   "metadata": {},
   "source": [
    "This chart compares the performance of the two models (Cosine Similarity (blue) and fine-tuned BERT (red)) as the training data proportion increases. The green line shows the number of training samples.\n",
    "\n",
    "At very small training sizes, Cosine Similarity offers better performance and could be a viable option when we have low resources. However, as training data grows, BERT consistently outperforms it, making it the better choice when resources allow for fine tuning on larger datasets. The performance gap between the models increases with more training data, clearly showing BERT's capacity to learn from larger datasets."
   ]
  },
  {
   "cell_type": "code",
   "execution_count": null,
   "id": "ed34aedc",
   "metadata": {},
   "outputs": [],
   "source": []
  },
  {
   "cell_type": "markdown",
   "id": "c88ca711",
   "metadata": {},
   "source": [
    "#### MOST AND LEAST POPULATED CATEGORIES"
   ]
  },
  {
   "cell_type": "code",
   "execution_count": 75,
   "id": "72b36d0a",
   "metadata": {},
   "outputs": [],
   "source": [
    "top_sim =sim[sim['Category'].isin(top_3_b)]\n",
    "less_sim =sim[sim['Category'].isin(less_3_b)]\n",
    "top_bert =bertdat[bertdat['Category'].isin(top_3_b)]\n",
    "less_bert =bertdat[bertdat['Category'].isin(less_3_b)]\n",
    "# sim_tops_b = bertdat[bertdat['Category'].isin(top_less_3_b)]\n",
    "# sim_tops_b\n",
    "tops = top_sim.rename(columns={'F1-Score':'F1-sim'}).merge(\n",
    "    top_bert[['Category','prop','F1-Score']].rename(columns={'F1-Score':'F1-BERT'}),\n",
    "    how='left',\n",
    "    on=['Category','prop']\n",
    ")\n",
    "less = less_sim.rename(columns={'F1-Score':'F1-sim'}).merge(\n",
    "    less_bert[['Category','prop','F1-Score']].rename(columns={'F1-Score':'F1-BERT'}),\n",
    "    how='left',\n",
    "    on=['Category','prop']\n",
    ")"
   ]
  },
  {
   "cell_type": "code",
   "execution_count": 76,
   "id": "7ae54881",
   "metadata": {},
   "outputs": [
    {
     "data": {
      "text/html": [
       "<div>\n",
       "<style scoped>\n",
       "    .dataframe tbody tr th:only-of-type {\n",
       "        vertical-align: middle;\n",
       "    }\n",
       "\n",
       "    .dataframe tbody tr th {\n",
       "        vertical-align: top;\n",
       "    }\n",
       "\n",
       "    .dataframe thead th {\n",
       "        text-align: right;\n",
       "    }\n",
       "</style>\n",
       "<table border=\"1\" class=\"dataframe\">\n",
       "  <thead>\n",
       "    <tr style=\"text-align: right;\">\n",
       "      <th></th>\n",
       "      <th>Category</th>\n",
       "      <th>F1-sim</th>\n",
       "      <th>prop</th>\n",
       "      <th>n_rows_label</th>\n",
       "      <th>F1-BERT</th>\n",
       "    </tr>\n",
       "  </thead>\n",
       "  <tbody>\n",
       "    <tr>\n",
       "      <th>0</th>\n",
       "      <td>ENTERTAINMENT</td>\n",
       "      <td>0.369369</td>\n",
       "      <td>0.001</td>\n",
       "      <td>8.0</td>\n",
       "      <td>0.004198</td>\n",
       "    </tr>\n",
       "    <tr>\n",
       "      <th>1</th>\n",
       "      <td>POLITICS</td>\n",
       "      <td>0.544674</td>\n",
       "      <td>0.001</td>\n",
       "      <td>21.0</td>\n",
       "      <td>0.296516</td>\n",
       "    </tr>\n",
       "    <tr>\n",
       "      <th>2</th>\n",
       "      <td>WELLNESS</td>\n",
       "      <td>0.422986</td>\n",
       "      <td>0.001</td>\n",
       "      <td>11.0</td>\n",
       "      <td>0.000000</td>\n",
       "    </tr>\n",
       "    <tr>\n",
       "      <th>3</th>\n",
       "      <td>ENTERTAINMENT</td>\n",
       "      <td>0.465661</td>\n",
       "      <td>0.005</td>\n",
       "      <td>49.0</td>\n",
       "      <td>0.541329</td>\n",
       "    </tr>\n",
       "    <tr>\n",
       "      <th>4</th>\n",
       "      <td>POLITICS</td>\n",
       "      <td>0.656941</td>\n",
       "      <td>0.005</td>\n",
       "      <td>100.0</td>\n",
       "      <td>0.666942</td>\n",
       "    </tr>\n",
       "    <tr>\n",
       "      <th>5</th>\n",
       "      <td>WELLNESS</td>\n",
       "      <td>0.450930</td>\n",
       "      <td>0.005</td>\n",
       "      <td>50.0</td>\n",
       "      <td>0.461931</td>\n",
       "    </tr>\n",
       "    <tr>\n",
       "      <th>6</th>\n",
       "      <td>ENTERTAINMENT</td>\n",
       "      <td>0.497360</td>\n",
       "      <td>0.010</td>\n",
       "      <td>98.0</td>\n",
       "      <td>0.621011</td>\n",
       "    </tr>\n",
       "    <tr>\n",
       "      <th>7</th>\n",
       "      <td>POLITICS</td>\n",
       "      <td>0.669723</td>\n",
       "      <td>0.010</td>\n",
       "      <td>199.0</td>\n",
       "      <td>0.718699</td>\n",
       "    </tr>\n",
       "    <tr>\n",
       "      <th>8</th>\n",
       "      <td>WELLNESS</td>\n",
       "      <td>0.498126</td>\n",
       "      <td>0.010</td>\n",
       "      <td>101.0</td>\n",
       "      <td>0.622637</td>\n",
       "    </tr>\n",
       "    <tr>\n",
       "      <th>9</th>\n",
       "      <td>ENTERTAINMENT</td>\n",
       "      <td>0.560983</td>\n",
       "      <td>0.050</td>\n",
       "      <td>486.0</td>\n",
       "      <td>0.681268</td>\n",
       "    </tr>\n",
       "    <tr>\n",
       "      <th>10</th>\n",
       "      <td>POLITICS</td>\n",
       "      <td>0.709112</td>\n",
       "      <td>0.050</td>\n",
       "      <td>997.0</td>\n",
       "      <td>0.774751</td>\n",
       "    </tr>\n",
       "    <tr>\n",
       "      <th>11</th>\n",
       "      <td>WELLNESS</td>\n",
       "      <td>0.548479</td>\n",
       "      <td>0.050</td>\n",
       "      <td>502.0</td>\n",
       "      <td>0.712103</td>\n",
       "    </tr>\n",
       "    <tr>\n",
       "      <th>12</th>\n",
       "      <td>ENTERTAINMENT</td>\n",
       "      <td>0.597768</td>\n",
       "      <td>0.100</td>\n",
       "      <td>972.0</td>\n",
       "      <td>0.707473</td>\n",
       "    </tr>\n",
       "    <tr>\n",
       "      <th>13</th>\n",
       "      <td>POLITICS</td>\n",
       "      <td>0.719697</td>\n",
       "      <td>0.100</td>\n",
       "      <td>1993.0</td>\n",
       "      <td>0.784954</td>\n",
       "    </tr>\n",
       "    <tr>\n",
       "      <th>14</th>\n",
       "      <td>WELLNESS</td>\n",
       "      <td>0.565134</td>\n",
       "      <td>0.100</td>\n",
       "      <td>1005.0</td>\n",
       "      <td>0.732673</td>\n",
       "    </tr>\n",
       "    <tr>\n",
       "      <th>15</th>\n",
       "      <td>ENTERTAINMENT</td>\n",
       "      <td>0.615155</td>\n",
       "      <td>0.200</td>\n",
       "      <td>1945.0</td>\n",
       "      <td>0.717192</td>\n",
       "    </tr>\n",
       "    <tr>\n",
       "      <th>16</th>\n",
       "      <td>POLITICS</td>\n",
       "      <td>0.730533</td>\n",
       "      <td>0.200</td>\n",
       "      <td>3987.0</td>\n",
       "      <td>0.796168</td>\n",
       "    </tr>\n",
       "    <tr>\n",
       "      <th>17</th>\n",
       "      <td>WELLNESS</td>\n",
       "      <td>0.585266</td>\n",
       "      <td>0.200</td>\n",
       "      <td>2009.0</td>\n",
       "      <td>0.747054</td>\n",
       "    </tr>\n",
       "    <tr>\n",
       "      <th>18</th>\n",
       "      <td>ENTERTAINMENT</td>\n",
       "      <td>0.636346</td>\n",
       "      <td>0.300</td>\n",
       "      <td>2917.0</td>\n",
       "      <td>0.739264</td>\n",
       "    </tr>\n",
       "    <tr>\n",
       "      <th>19</th>\n",
       "      <td>POLITICS</td>\n",
       "      <td>0.742411</td>\n",
       "      <td>0.300</td>\n",
       "      <td>5981.0</td>\n",
       "      <td>0.805875</td>\n",
       "    </tr>\n",
       "    <tr>\n",
       "      <th>20</th>\n",
       "      <td>WELLNESS</td>\n",
       "      <td>0.592331</td>\n",
       "      <td>0.300</td>\n",
       "      <td>3014.0</td>\n",
       "      <td>0.761921</td>\n",
       "    </tr>\n",
       "    <tr>\n",
       "      <th>21</th>\n",
       "      <td>ENTERTAINMENT</td>\n",
       "      <td>0.640538</td>\n",
       "      <td>0.400</td>\n",
       "      <td>3889.0</td>\n",
       "      <td>0.740457</td>\n",
       "    </tr>\n",
       "    <tr>\n",
       "      <th>22</th>\n",
       "      <td>POLITICS</td>\n",
       "      <td>0.748047</td>\n",
       "      <td>0.400</td>\n",
       "      <td>7974.0</td>\n",
       "      <td>0.811298</td>\n",
       "    </tr>\n",
       "    <tr>\n",
       "      <th>23</th>\n",
       "      <td>WELLNESS</td>\n",
       "      <td>0.596713</td>\n",
       "      <td>0.400</td>\n",
       "      <td>4019.0</td>\n",
       "      <td>0.765053</td>\n",
       "    </tr>\n",
       "    <tr>\n",
       "      <th>24</th>\n",
       "      <td>ENTERTAINMENT</td>\n",
       "      <td>0.647756</td>\n",
       "      <td>0.500</td>\n",
       "      <td>4861.0</td>\n",
       "      <td>0.746669</td>\n",
       "    </tr>\n",
       "    <tr>\n",
       "      <th>25</th>\n",
       "      <td>POLITICS</td>\n",
       "      <td>0.750746</td>\n",
       "      <td>0.500</td>\n",
       "      <td>9969.0</td>\n",
       "      <td>0.817264</td>\n",
       "    </tr>\n",
       "    <tr>\n",
       "      <th>26</th>\n",
       "      <td>WELLNESS</td>\n",
       "      <td>0.606987</td>\n",
       "      <td>0.500</td>\n",
       "      <td>5025.0</td>\n",
       "      <td>0.775633</td>\n",
       "    </tr>\n",
       "    <tr>\n",
       "      <th>27</th>\n",
       "      <td>ENTERTAINMENT</td>\n",
       "      <td>0.666207</td>\n",
       "      <td>1.000</td>\n",
       "      <td>9722.0</td>\n",
       "      <td>0.772040</td>\n",
       "    </tr>\n",
       "    <tr>\n",
       "      <th>28</th>\n",
       "      <td>POLITICS</td>\n",
       "      <td>0.768770</td>\n",
       "      <td>1.000</td>\n",
       "      <td>19937.0</td>\n",
       "      <td>0.829541</td>\n",
       "    </tr>\n",
       "    <tr>\n",
       "      <th>29</th>\n",
       "      <td>WELLNESS</td>\n",
       "      <td>0.628715</td>\n",
       "      <td>1.000</td>\n",
       "      <td>10049.0</td>\n",
       "      <td>0.794107</td>\n",
       "    </tr>\n",
       "  </tbody>\n",
       "</table>\n",
       "</div>"
      ],
      "text/plain": [
       "         Category    F1-sim   prop  n_rows_label   F1-BERT\n",
       "0   ENTERTAINMENT  0.369369  0.001           8.0  0.004198\n",
       "1        POLITICS  0.544674  0.001          21.0  0.296516\n",
       "2        WELLNESS  0.422986  0.001          11.0  0.000000\n",
       "3   ENTERTAINMENT  0.465661  0.005          49.0  0.541329\n",
       "4        POLITICS  0.656941  0.005         100.0  0.666942\n",
       "5        WELLNESS  0.450930  0.005          50.0  0.461931\n",
       "6   ENTERTAINMENT  0.497360  0.010          98.0  0.621011\n",
       "7        POLITICS  0.669723  0.010         199.0  0.718699\n",
       "8        WELLNESS  0.498126  0.010         101.0  0.622637\n",
       "9   ENTERTAINMENT  0.560983  0.050         486.0  0.681268\n",
       "10       POLITICS  0.709112  0.050         997.0  0.774751\n",
       "11       WELLNESS  0.548479  0.050         502.0  0.712103\n",
       "12  ENTERTAINMENT  0.597768  0.100         972.0  0.707473\n",
       "13       POLITICS  0.719697  0.100        1993.0  0.784954\n",
       "14       WELLNESS  0.565134  0.100        1005.0  0.732673\n",
       "15  ENTERTAINMENT  0.615155  0.200        1945.0  0.717192\n",
       "16       POLITICS  0.730533  0.200        3987.0  0.796168\n",
       "17       WELLNESS  0.585266  0.200        2009.0  0.747054\n",
       "18  ENTERTAINMENT  0.636346  0.300        2917.0  0.739264\n",
       "19       POLITICS  0.742411  0.300        5981.0  0.805875\n",
       "20       WELLNESS  0.592331  0.300        3014.0  0.761921\n",
       "21  ENTERTAINMENT  0.640538  0.400        3889.0  0.740457\n",
       "22       POLITICS  0.748047  0.400        7974.0  0.811298\n",
       "23       WELLNESS  0.596713  0.400        4019.0  0.765053\n",
       "24  ENTERTAINMENT  0.647756  0.500        4861.0  0.746669\n",
       "25       POLITICS  0.750746  0.500        9969.0  0.817264\n",
       "26       WELLNESS  0.606987  0.500        5025.0  0.775633\n",
       "27  ENTERTAINMENT  0.666207  1.000        9722.0  0.772040\n",
       "28       POLITICS  0.768770  1.000       19937.0  0.829541\n",
       "29       WELLNESS  0.628715  1.000       10049.0  0.794107"
      ]
     },
     "execution_count": 76,
     "metadata": {},
     "output_type": "execute_result"
    }
   ],
   "source": [
    "tops"
   ]
  },
  {
   "cell_type": "code",
   "execution_count": 80,
   "id": "e837b63e",
   "metadata": {},
   "outputs": [],
   "source": [
    "def tops_bert_sim(data):\n",
    "    # Crear figura\n",
    "    fig = go.Figure()\n",
    "    colors = ['red','blue','green']\n",
    "    # turquoise, violet, wheat, white, whitesmoke,\n",
    "    #             yellow, yellowgreen\n",
    "    # Añadir trazas de F1-Score por categoría\n",
    "    j=0\n",
    "    for category in data['Category'].unique():\n",
    "        subset = data[data['Category'] == category]\n",
    "        fig.add_trace(go.Scatter(\n",
    "            x=subset['prop'],\n",
    "            y=subset['F1-sim'],\n",
    "            name=f'F1-sim - {category}',\n",
    "            mode='lines+markers',\n",
    "            yaxis='y1',\n",
    "            marker=dict(symbol='circle', size=5, color=colors[j]),\n",
    "            line=dict(dash='dot')\n",
    "        ))\n",
    "        j +=1\n",
    "    # Añadir trazas de F1-Score por categoría\n",
    "    j=0\n",
    "    for category in data['Category'].unique():\n",
    "        subset = data[data['Category'] == category]\n",
    "        fig.add_trace(go.Scatter(\n",
    "            x=subset['prop'],\n",
    "            y=subset['F1-BERT'],\n",
    "            name=f'F1-BERT - {category}',\n",
    "            mode='lines+markers',\n",
    "            yaxis='y1',\n",
    "            marker=dict(symbol='diamond', size=5, color=colors[j])\n",
    "\n",
    "        ))\n",
    "        j +=1\n",
    "\n",
    "    # Configurar layout con ejes secundarios\n",
    "    fig.update_layout(\n",
    "        title=\"F1-Score BERT vs Similarity of TOP populated categories\",\n",
    "        xaxis=dict(title=\"Proportion of data for training\"),\n",
    "        yaxis=dict(title=\"Performance (f1-score)\"),\n",
    "        legend=dict(x=1.1, y=1, bordercolor=\"Black\", borderwidth=1)\n",
    "    )\n",
    "\n",
    "    fig.show()\n"
   ]
  },
  {
   "cell_type": "code",
   "execution_count": 81,
   "id": "923a3ef7",
   "metadata": {},
   "outputs": [
    {
     "data": {
      "application/vnd.plotly.v1+json": {
       "config": {
        "plotlyServerURL": "https://plot.ly"
       },
       "data": [
        {
         "line": {
          "dash": "dot"
         },
         "marker": {
          "color": "red",
          "size": 5,
          "symbol": "circle"
         },
         "mode": "lines+markers",
         "name": "F1-sim - ENTERTAINMENT",
         "type": "scatter",
         "x": {
          "bdata": "/Knx0k1iUD97FK5H4Xp0P3sUrkfheoQ/mpmZmZmZqT+amZmZmZm5P5qZmZmZmck/MzMzMzMz0z+amZmZmZnZPwAAAAAAAOA/AAAAAAAA8D8=",
          "dtype": "f8"
         },
         "y": {
          "bdata": "+NzEOryj1z/HWIYoYs3dPywUZRG+1N8/D976M5Lz4T8Dp09/6SDjP9Ib+ZBYr+M/k6SNkvFc5D9Ur1FjSn/kP67cvchruuQ/jhbP+pFR5T8=",
          "dtype": "f8"
         },
         "yaxis": "y"
        },
        {
         "line": {
          "dash": "dot"
         },
         "marker": {
          "color": "blue",
          "size": 5,
          "symbol": "circle"
         },
         "mode": "lines+markers",
         "name": "F1-sim - POLITICS",
         "type": "scatter",
         "x": {
          "bdata": "/Knx0k1iUD97FK5H4Xp0P3sUrkfheoQ/mpmZmZmZqT+amZmZmZm5P5qZmZmZmck/MzMzMzMz0z+amZmZmZnZPwAAAAAAAOA/AAAAAAAA8D8=",
          "dtype": "f8"
         },
         "y": {
          "bdata": "IV7nM/dt4T+sM/gGqgXlP9aWqkZebuU/Ww5u9gux5j8IH3zwwQfnP7WfpJaGYOc/aqMg7dTB5z8LW52f/+/nPzKVjXUbBug/S/N0SMOZ6D8=",
          "dtype": "f8"
         },
         "yaxis": "y"
        },
        {
         "line": {
          "dash": "dot"
         },
         "marker": {
          "color": "green",
          "size": 5,
          "symbol": "circle"
         },
         "mode": "lines+markers",
         "name": "F1-sim - WELLNESS",
         "type": "scatter",
         "x": {
          "bdata": "/Knx0k1iUD97FK5H4Xp0P3sUrkfheoQ/mpmZmZmZqT+amZmZmZm5P5qZmZmZmck/MzMzMzMz0z+amZmZmZnZPwAAAAAAAOA/AAAAAAAA8D8=",
          "dtype": "f8"
         },
         "y": {
          "bdata": "BzmFbTMS2z9MuNOnCNzcPwzHCFFK4d8/DAD+1CON4T+mJTYAkxXiP7+fFI9/uuI/eoWwr2D04j8lw/9pRRjjP7DZmKNwbOM/sJHhT24e5D8=",
          "dtype": "f8"
         },
         "yaxis": "y"
        },
        {
         "marker": {
          "color": "red",
          "size": 5,
          "symbol": "diamond"
         },
         "mode": "lines+markers",
         "name": "F1-BERT - ENTERTAINMENT",
         "type": "scatter",
         "x": {
          "bdata": "/Knx0k1iUD97FK5H4Xp0P3sUrkfheoQ/mpmZmZmZqT+amZmZmZm5P5qZmZmZmck/MzMzMzMz0z+amZmZmZnZPwAAAAAAAOA/AAAAAAAA8D8=",
          "dtype": "f8"
         },
         "y": {
          "bdata": "dDMXDZQxcT+9UQM4kVLhP2ejvrNR3+M/WAs08/HM5T++GE+FnqPmP2yEQZk98+Y/7krmKQ2o5z9o63mD07HnP33gj7225Oc/RfHD44y06D8=",
          "dtype": "f8"
         },
         "yaxis": "y"
        },
        {
         "marker": {
          "color": "blue",
          "size": 5,
          "symbol": "diamond"
         },
         "mode": "lines+markers",
         "name": "F1-BERT - POLITICS",
         "type": "scatter",
         "x": {
          "bdata": "/Knx0k1iUD97FK5H4Xp0P3sUrkfheoQ/mpmZmZmZqT+amZmZmZm5P5qZmZmZmck/MzMzMzMz0z+amZmZmZnZPwAAAAAAAOA/AAAAAAAA8D8=",
          "dtype": "f8"
         },
         "y": {
          "bdata": "omy2OiD60j9JbV8MllflP/sxfvaV/+Y/5zWiYMPK6D+1Svj6Vx7pP2qwn+E1euk/REima7nJ6T9+Yp/YJ/bpP+ofdvIGJ+o/ECjGFpmL6j8=",
          "dtype": "f8"
         },
         "yaxis": "y"
        },
        {
         "marker": {
          "color": "green",
          "size": 5,
          "symbol": "diamond"
         },
         "mode": "lines+markers",
         "name": "F1-BERT - WELLNESS",
         "type": "scatter",
         "x": {
          "bdata": "/Knx0k1iUD97FK5H4Xp0P3sUrkfheoQ/mpmZmZmZqT+amZmZmZm5P5qZmZmZmck/MzMzMzMz0z+amZmZmZnZPwAAAAAAAOA/AAAAAAAA8D8=",
          "dtype": "f8"
         },
         "y": {
          "bdata": "AAAAAAAAAABVOefTR5DdP69UH1ul7OM/pMX1FY3J5j8KTDo1D3LnP9NkXQ7d5+c/oLR0aqhh6D+HQ7AiUXvoP2BPzVn70eg/AuIpCFRp6T8=",
          "dtype": "f8"
         },
         "yaxis": "y"
        }
       ],
       "layout": {
        "legend": {
         "bordercolor": "Black",
         "borderwidth": 1,
         "x": 1.1,
         "y": 1
        },
        "template": {
         "data": {
          "bar": [
           {
            "error_x": {
             "color": "#2a3f5f"
            },
            "error_y": {
             "color": "#2a3f5f"
            },
            "marker": {
             "line": {
              "color": "#E5ECF6",
              "width": 0.5
             },
             "pattern": {
              "fillmode": "overlay",
              "size": 10,
              "solidity": 0.2
             }
            },
            "type": "bar"
           }
          ],
          "barpolar": [
           {
            "marker": {
             "line": {
              "color": "#E5ECF6",
              "width": 0.5
             },
             "pattern": {
              "fillmode": "overlay",
              "size": 10,
              "solidity": 0.2
             }
            },
            "type": "barpolar"
           }
          ],
          "carpet": [
           {
            "aaxis": {
             "endlinecolor": "#2a3f5f",
             "gridcolor": "white",
             "linecolor": "white",
             "minorgridcolor": "white",
             "startlinecolor": "#2a3f5f"
            },
            "baxis": {
             "endlinecolor": "#2a3f5f",
             "gridcolor": "white",
             "linecolor": "white",
             "minorgridcolor": "white",
             "startlinecolor": "#2a3f5f"
            },
            "type": "carpet"
           }
          ],
          "choropleth": [
           {
            "colorbar": {
             "outlinewidth": 0,
             "ticks": ""
            },
            "type": "choropleth"
           }
          ],
          "contour": [
           {
            "colorbar": {
             "outlinewidth": 0,
             "ticks": ""
            },
            "colorscale": [
             [
              0,
              "#0d0887"
             ],
             [
              0.1111111111111111,
              "#46039f"
             ],
             [
              0.2222222222222222,
              "#7201a8"
             ],
             [
              0.3333333333333333,
              "#9c179e"
             ],
             [
              0.4444444444444444,
              "#bd3786"
             ],
             [
              0.5555555555555556,
              "#d8576b"
             ],
             [
              0.6666666666666666,
              "#ed7953"
             ],
             [
              0.7777777777777778,
              "#fb9f3a"
             ],
             [
              0.8888888888888888,
              "#fdca26"
             ],
             [
              1,
              "#f0f921"
             ]
            ],
            "type": "contour"
           }
          ],
          "contourcarpet": [
           {
            "colorbar": {
             "outlinewidth": 0,
             "ticks": ""
            },
            "type": "contourcarpet"
           }
          ],
          "heatmap": [
           {
            "colorbar": {
             "outlinewidth": 0,
             "ticks": ""
            },
            "colorscale": [
             [
              0,
              "#0d0887"
             ],
             [
              0.1111111111111111,
              "#46039f"
             ],
             [
              0.2222222222222222,
              "#7201a8"
             ],
             [
              0.3333333333333333,
              "#9c179e"
             ],
             [
              0.4444444444444444,
              "#bd3786"
             ],
             [
              0.5555555555555556,
              "#d8576b"
             ],
             [
              0.6666666666666666,
              "#ed7953"
             ],
             [
              0.7777777777777778,
              "#fb9f3a"
             ],
             [
              0.8888888888888888,
              "#fdca26"
             ],
             [
              1,
              "#f0f921"
             ]
            ],
            "type": "heatmap"
           }
          ],
          "histogram": [
           {
            "marker": {
             "pattern": {
              "fillmode": "overlay",
              "size": 10,
              "solidity": 0.2
             }
            },
            "type": "histogram"
           }
          ],
          "histogram2d": [
           {
            "colorbar": {
             "outlinewidth": 0,
             "ticks": ""
            },
            "colorscale": [
             [
              0,
              "#0d0887"
             ],
             [
              0.1111111111111111,
              "#46039f"
             ],
             [
              0.2222222222222222,
              "#7201a8"
             ],
             [
              0.3333333333333333,
              "#9c179e"
             ],
             [
              0.4444444444444444,
              "#bd3786"
             ],
             [
              0.5555555555555556,
              "#d8576b"
             ],
             [
              0.6666666666666666,
              "#ed7953"
             ],
             [
              0.7777777777777778,
              "#fb9f3a"
             ],
             [
              0.8888888888888888,
              "#fdca26"
             ],
             [
              1,
              "#f0f921"
             ]
            ],
            "type": "histogram2d"
           }
          ],
          "histogram2dcontour": [
           {
            "colorbar": {
             "outlinewidth": 0,
             "ticks": ""
            },
            "colorscale": [
             [
              0,
              "#0d0887"
             ],
             [
              0.1111111111111111,
              "#46039f"
             ],
             [
              0.2222222222222222,
              "#7201a8"
             ],
             [
              0.3333333333333333,
              "#9c179e"
             ],
             [
              0.4444444444444444,
              "#bd3786"
             ],
             [
              0.5555555555555556,
              "#d8576b"
             ],
             [
              0.6666666666666666,
              "#ed7953"
             ],
             [
              0.7777777777777778,
              "#fb9f3a"
             ],
             [
              0.8888888888888888,
              "#fdca26"
             ],
             [
              1,
              "#f0f921"
             ]
            ],
            "type": "histogram2dcontour"
           }
          ],
          "mesh3d": [
           {
            "colorbar": {
             "outlinewidth": 0,
             "ticks": ""
            },
            "type": "mesh3d"
           }
          ],
          "parcoords": [
           {
            "line": {
             "colorbar": {
              "outlinewidth": 0,
              "ticks": ""
             }
            },
            "type": "parcoords"
           }
          ],
          "pie": [
           {
            "automargin": true,
            "type": "pie"
           }
          ],
          "scatter": [
           {
            "fillpattern": {
             "fillmode": "overlay",
             "size": 10,
             "solidity": 0.2
            },
            "type": "scatter"
           }
          ],
          "scatter3d": [
           {
            "line": {
             "colorbar": {
              "outlinewidth": 0,
              "ticks": ""
             }
            },
            "marker": {
             "colorbar": {
              "outlinewidth": 0,
              "ticks": ""
             }
            },
            "type": "scatter3d"
           }
          ],
          "scattercarpet": [
           {
            "marker": {
             "colorbar": {
              "outlinewidth": 0,
              "ticks": ""
             }
            },
            "type": "scattercarpet"
           }
          ],
          "scattergeo": [
           {
            "marker": {
             "colorbar": {
              "outlinewidth": 0,
              "ticks": ""
             }
            },
            "type": "scattergeo"
           }
          ],
          "scattergl": [
           {
            "marker": {
             "colorbar": {
              "outlinewidth": 0,
              "ticks": ""
             }
            },
            "type": "scattergl"
           }
          ],
          "scattermap": [
           {
            "marker": {
             "colorbar": {
              "outlinewidth": 0,
              "ticks": ""
             }
            },
            "type": "scattermap"
           }
          ],
          "scattermapbox": [
           {
            "marker": {
             "colorbar": {
              "outlinewidth": 0,
              "ticks": ""
             }
            },
            "type": "scattermapbox"
           }
          ],
          "scatterpolar": [
           {
            "marker": {
             "colorbar": {
              "outlinewidth": 0,
              "ticks": ""
             }
            },
            "type": "scatterpolar"
           }
          ],
          "scatterpolargl": [
           {
            "marker": {
             "colorbar": {
              "outlinewidth": 0,
              "ticks": ""
             }
            },
            "type": "scatterpolargl"
           }
          ],
          "scatterternary": [
           {
            "marker": {
             "colorbar": {
              "outlinewidth": 0,
              "ticks": ""
             }
            },
            "type": "scatterternary"
           }
          ],
          "surface": [
           {
            "colorbar": {
             "outlinewidth": 0,
             "ticks": ""
            },
            "colorscale": [
             [
              0,
              "#0d0887"
             ],
             [
              0.1111111111111111,
              "#46039f"
             ],
             [
              0.2222222222222222,
              "#7201a8"
             ],
             [
              0.3333333333333333,
              "#9c179e"
             ],
             [
              0.4444444444444444,
              "#bd3786"
             ],
             [
              0.5555555555555556,
              "#d8576b"
             ],
             [
              0.6666666666666666,
              "#ed7953"
             ],
             [
              0.7777777777777778,
              "#fb9f3a"
             ],
             [
              0.8888888888888888,
              "#fdca26"
             ],
             [
              1,
              "#f0f921"
             ]
            ],
            "type": "surface"
           }
          ],
          "table": [
           {
            "cells": {
             "fill": {
              "color": "#EBF0F8"
             },
             "line": {
              "color": "white"
             }
            },
            "header": {
             "fill": {
              "color": "#C8D4E3"
             },
             "line": {
              "color": "white"
             }
            },
            "type": "table"
           }
          ]
         },
         "layout": {
          "annotationdefaults": {
           "arrowcolor": "#2a3f5f",
           "arrowhead": 0,
           "arrowwidth": 1
          },
          "autotypenumbers": "strict",
          "coloraxis": {
           "colorbar": {
            "outlinewidth": 0,
            "ticks": ""
           }
          },
          "colorscale": {
           "diverging": [
            [
             0,
             "#8e0152"
            ],
            [
             0.1,
             "#c51b7d"
            ],
            [
             0.2,
             "#de77ae"
            ],
            [
             0.3,
             "#f1b6da"
            ],
            [
             0.4,
             "#fde0ef"
            ],
            [
             0.5,
             "#f7f7f7"
            ],
            [
             0.6,
             "#e6f5d0"
            ],
            [
             0.7,
             "#b8e186"
            ],
            [
             0.8,
             "#7fbc41"
            ],
            [
             0.9,
             "#4d9221"
            ],
            [
             1,
             "#276419"
            ]
           ],
           "sequential": [
            [
             0,
             "#0d0887"
            ],
            [
             0.1111111111111111,
             "#46039f"
            ],
            [
             0.2222222222222222,
             "#7201a8"
            ],
            [
             0.3333333333333333,
             "#9c179e"
            ],
            [
             0.4444444444444444,
             "#bd3786"
            ],
            [
             0.5555555555555556,
             "#d8576b"
            ],
            [
             0.6666666666666666,
             "#ed7953"
            ],
            [
             0.7777777777777778,
             "#fb9f3a"
            ],
            [
             0.8888888888888888,
             "#fdca26"
            ],
            [
             1,
             "#f0f921"
            ]
           ],
           "sequentialminus": [
            [
             0,
             "#0d0887"
            ],
            [
             0.1111111111111111,
             "#46039f"
            ],
            [
             0.2222222222222222,
             "#7201a8"
            ],
            [
             0.3333333333333333,
             "#9c179e"
            ],
            [
             0.4444444444444444,
             "#bd3786"
            ],
            [
             0.5555555555555556,
             "#d8576b"
            ],
            [
             0.6666666666666666,
             "#ed7953"
            ],
            [
             0.7777777777777778,
             "#fb9f3a"
            ],
            [
             0.8888888888888888,
             "#fdca26"
            ],
            [
             1,
             "#f0f921"
            ]
           ]
          },
          "colorway": [
           "#636efa",
           "#EF553B",
           "#00cc96",
           "#ab63fa",
           "#FFA15A",
           "#19d3f3",
           "#FF6692",
           "#B6E880",
           "#FF97FF",
           "#FECB52"
          ],
          "font": {
           "color": "#2a3f5f"
          },
          "geo": {
           "bgcolor": "white",
           "lakecolor": "white",
           "landcolor": "#E5ECF6",
           "showlakes": true,
           "showland": true,
           "subunitcolor": "white"
          },
          "hoverlabel": {
           "align": "left"
          },
          "hovermode": "closest",
          "mapbox": {
           "style": "light"
          },
          "paper_bgcolor": "white",
          "plot_bgcolor": "#E5ECF6",
          "polar": {
           "angularaxis": {
            "gridcolor": "white",
            "linecolor": "white",
            "ticks": ""
           },
           "bgcolor": "#E5ECF6",
           "radialaxis": {
            "gridcolor": "white",
            "linecolor": "white",
            "ticks": ""
           }
          },
          "scene": {
           "xaxis": {
            "backgroundcolor": "#E5ECF6",
            "gridcolor": "white",
            "gridwidth": 2,
            "linecolor": "white",
            "showbackground": true,
            "ticks": "",
            "zerolinecolor": "white"
           },
           "yaxis": {
            "backgroundcolor": "#E5ECF6",
            "gridcolor": "white",
            "gridwidth": 2,
            "linecolor": "white",
            "showbackground": true,
            "ticks": "",
            "zerolinecolor": "white"
           },
           "zaxis": {
            "backgroundcolor": "#E5ECF6",
            "gridcolor": "white",
            "gridwidth": 2,
            "linecolor": "white",
            "showbackground": true,
            "ticks": "",
            "zerolinecolor": "white"
           }
          },
          "shapedefaults": {
           "line": {
            "color": "#2a3f5f"
           }
          },
          "ternary": {
           "aaxis": {
            "gridcolor": "white",
            "linecolor": "white",
            "ticks": ""
           },
           "baxis": {
            "gridcolor": "white",
            "linecolor": "white",
            "ticks": ""
           },
           "bgcolor": "#E5ECF6",
           "caxis": {
            "gridcolor": "white",
            "linecolor": "white",
            "ticks": ""
           }
          },
          "title": {
           "x": 0.05
          },
          "xaxis": {
           "automargin": true,
           "gridcolor": "white",
           "linecolor": "white",
           "ticks": "",
           "title": {
            "standoff": 15
           },
           "zerolinecolor": "white",
           "zerolinewidth": 2
          },
          "yaxis": {
           "automargin": true,
           "gridcolor": "white",
           "linecolor": "white",
           "ticks": "",
           "title": {
            "standoff": 15
           },
           "zerolinecolor": "white",
           "zerolinewidth": 2
          }
         }
        },
        "title": {
         "text": "F1-Score BERT vs Similarity of TOP populated categories"
        },
        "xaxis": {
         "title": {
          "text": "Proportion of data for training"
         }
        },
        "yaxis": {
         "title": {
          "text": "Performance (f1-score)"
         }
        }
       }
      }
     },
     "metadata": {},
     "output_type": "display_data"
    }
   ],
   "source": [
    "tops_bert_sim(tops)"
   ]
  },
  {
   "cell_type": "markdown",
   "id": "ade964e2",
   "metadata": {},
   "source": [
    "This chart compares the performance of BERT and Cosine Similarity across the three most populated categories in the dataset: ENTERTAINMENT, POLITICS, and WELLNESS. Solid lines represent BERT; dotted lines represent Cosine Similarity.\n",
    "\n",
    "For the top populated categories, BERT works better even for the smallests training datasets (not for the smallest one)."
   ]
  },
  {
   "cell_type": "code",
   "execution_count": 82,
   "id": "2e0f7213",
   "metadata": {},
   "outputs": [
    {
     "data": {
      "application/vnd.plotly.v1+json": {
       "config": {
        "plotlyServerURL": "https://plot.ly"
       },
       "data": [
        {
         "line": {
          "dash": "dot"
         },
         "marker": {
          "color": "red",
          "size": 5,
          "symbol": "circle"
         },
         "mode": "lines+markers",
         "name": "F1-sim - COLLEGE",
         "type": "scatter",
         "x": {
          "bdata": "/Knx0k1iUD97FK5H4Xp0P3sUrkfheoQ/mpmZmZmZqT+amZmZmZm5P5qZmZmZmck/MzMzMzMz0z+amZmZmZnZPwAAAAAAAOA/AAAAAAAA8D8=",
          "dtype": "f8"
         },
         "y": {
          "bdata": "ckv/QiPqvD+pqqqqqqrKP4Zxvy6pfMg/QTVK/2Es0z9lTVlT1pTVP/2b6RFYhtQ/h7SMDz0V2D+FGWaYYYbZP6lhdnAEkdY/lNx0wEXV2D8=",
          "dtype": "f8"
         },
         "yaxis": "y"
        },
        {
         "line": {
          "dash": "dot"
         },
         "marker": {
          "color": "blue",
          "size": 5,
          "symbol": "circle"
         },
         "mode": "lines+markers",
         "name": "F1-sim - EDUCATION",
         "type": "scatter",
         "x": {
          "bdata": "/Knx0k1iUD97FK5H4Xp0P3sUrkfheoQ/mpmZmZmZqT+amZmZmZm5P5qZmZmZmck/MzMzMzMz0z+amZmZmZnZPwAAAAAAAOA/AAAAAAAA8D8=",
          "dtype": "f8"
         },
         "y": {
          "bdata": "3tmo72zUxz/F8+9ap0vTPx7Esn7iDdA/69hemLPh0j+UuAGUuAHUP1K5Ac6pw9U/lhj4XYbC0z+1tLS0tLTUPzv7hCPy39U/KLOyrXYZ2D8=",
          "dtype": "f8"
         },
         "yaxis": "y"
        },
        {
         "line": {
          "dash": "dot"
         },
         "marker": {
          "color": "green",
          "size": 5,
          "symbol": "circle"
         },
         "mode": "lines+markers",
         "name": "F1-sim - LATINO VOICES",
         "type": "scatter",
         "x": {
          "bdata": "/Knx0k1iUD97FK5H4Xp0P3sUrkfheoQ/mpmZmZmZqT+amZmZmZm5P5qZmZmZmck/MzMzMzMz0z+amZmZmZnZPwAAAAAAAOA/AAAAAAAA8D8=",
          "dtype": "f8"
         },
         "y": {
          "bdata": "YiELWchClj84mPu6xn6nPxIswRIswcI/vfaQy4qBwj/z6tWrV6/OPysGSnijqdM/EkFJBCUR1D8rmMBvEc7UP98jcoJwN9Y/RRdddNFF1z8=",
          "dtype": "f8"
         },
         "yaxis": "y"
        },
        {
         "marker": {
          "color": "red",
          "size": 5,
          "symbol": "diamond"
         },
         "mode": "lines+markers",
         "name": "F1-BERT - COLLEGE",
         "type": "scatter",
         "x": {
          "bdata": "/Knx0k1iUD97FK5H4Xp0P3sUrkfheoQ/mpmZmZmZqT+amZmZmZm5P5qZmZmZmck/MzMzMzMz0z+amZmZmZnZPwAAAAAAAOA/AAAAAAAA8D8=",
          "dtype": "f8"
         },
         "y": {
          "bdata": "AAAAAAAAAAAAAAAAAAAAAJl6pJOKD8w/GVq5iaGV2z8bfaQafaTaP6HbtXLCM90/7Ze4/RK33z8eueO8/YnePxUiceTlo94/wEJwSMv44D8=",
          "dtype": "f8"
         },
         "yaxis": "y"
        },
        {
         "marker": {
          "color": "blue",
          "size": 5,
          "symbol": "diamond"
         },
         "mode": "lines+markers",
         "name": "F1-BERT - EDUCATION",
         "type": "scatter",
         "x": {
          "bdata": "/Knx0k1iUD97FK5H4Xp0P3sUrkfheoQ/mpmZmZmZqT+amZmZmZm5P5qZmZmZmck/MzMzMzMz0z+amZmZmZnZPwAAAAAAAOA/AAAAAAAA8D8=",
          "dtype": "f8"
         },
         "y": {
          "bdata": "AAAAAAAAAAAAAAAAAAAAAAAAAAAAAAAA8LV4V+Yz0T+FQfxX7M3YP9+sJ8o22tc//U4hESY42T8p27sO6MbcP24Ae/nKYds/AuLYwUqk3j8=",
          "dtype": "f8"
         },
         "yaxis": "y"
        },
        {
         "marker": {
          "color": "green",
          "size": 5,
          "symbol": "diamond"
         },
         "mode": "lines+markers",
         "name": "F1-BERT - LATINO VOICES",
         "type": "scatter",
         "x": {
          "bdata": "/Knx0k1iUD97FK5H4Xp0P3sUrkfheoQ/mpmZmZmZqT+amZmZmZm5P5qZmZmZmck/MzMzMzMz0z+amZmZmZnZPwAAAAAAAOA/AAAAAAAA8D8=",
          "dtype": "f8"
         },
         "y": {
          "bdata": "AAAAAAAAAAAAAAAAAAAAAAAAAAAAAAAAAAAAAAAAAABDT6qvZH7WP+mVsf2OXtk/x1+zoxYh3z/zq7PpY7vfP+6F98J74d0/pHA9Ctej4D8=",
          "dtype": "f8"
         },
         "yaxis": "y"
        }
       ],
       "layout": {
        "legend": {
         "bordercolor": "Black",
         "borderwidth": 1,
         "x": 1.1,
         "y": 1
        },
        "template": {
         "data": {
          "bar": [
           {
            "error_x": {
             "color": "#2a3f5f"
            },
            "error_y": {
             "color": "#2a3f5f"
            },
            "marker": {
             "line": {
              "color": "#E5ECF6",
              "width": 0.5
             },
             "pattern": {
              "fillmode": "overlay",
              "size": 10,
              "solidity": 0.2
             }
            },
            "type": "bar"
           }
          ],
          "barpolar": [
           {
            "marker": {
             "line": {
              "color": "#E5ECF6",
              "width": 0.5
             },
             "pattern": {
              "fillmode": "overlay",
              "size": 10,
              "solidity": 0.2
             }
            },
            "type": "barpolar"
           }
          ],
          "carpet": [
           {
            "aaxis": {
             "endlinecolor": "#2a3f5f",
             "gridcolor": "white",
             "linecolor": "white",
             "minorgridcolor": "white",
             "startlinecolor": "#2a3f5f"
            },
            "baxis": {
             "endlinecolor": "#2a3f5f",
             "gridcolor": "white",
             "linecolor": "white",
             "minorgridcolor": "white",
             "startlinecolor": "#2a3f5f"
            },
            "type": "carpet"
           }
          ],
          "choropleth": [
           {
            "colorbar": {
             "outlinewidth": 0,
             "ticks": ""
            },
            "type": "choropleth"
           }
          ],
          "contour": [
           {
            "colorbar": {
             "outlinewidth": 0,
             "ticks": ""
            },
            "colorscale": [
             [
              0,
              "#0d0887"
             ],
             [
              0.1111111111111111,
              "#46039f"
             ],
             [
              0.2222222222222222,
              "#7201a8"
             ],
             [
              0.3333333333333333,
              "#9c179e"
             ],
             [
              0.4444444444444444,
              "#bd3786"
             ],
             [
              0.5555555555555556,
              "#d8576b"
             ],
             [
              0.6666666666666666,
              "#ed7953"
             ],
             [
              0.7777777777777778,
              "#fb9f3a"
             ],
             [
              0.8888888888888888,
              "#fdca26"
             ],
             [
              1,
              "#f0f921"
             ]
            ],
            "type": "contour"
           }
          ],
          "contourcarpet": [
           {
            "colorbar": {
             "outlinewidth": 0,
             "ticks": ""
            },
            "type": "contourcarpet"
           }
          ],
          "heatmap": [
           {
            "colorbar": {
             "outlinewidth": 0,
             "ticks": ""
            },
            "colorscale": [
             [
              0,
              "#0d0887"
             ],
             [
              0.1111111111111111,
              "#46039f"
             ],
             [
              0.2222222222222222,
              "#7201a8"
             ],
             [
              0.3333333333333333,
              "#9c179e"
             ],
             [
              0.4444444444444444,
              "#bd3786"
             ],
             [
              0.5555555555555556,
              "#d8576b"
             ],
             [
              0.6666666666666666,
              "#ed7953"
             ],
             [
              0.7777777777777778,
              "#fb9f3a"
             ],
             [
              0.8888888888888888,
              "#fdca26"
             ],
             [
              1,
              "#f0f921"
             ]
            ],
            "type": "heatmap"
           }
          ],
          "histogram": [
           {
            "marker": {
             "pattern": {
              "fillmode": "overlay",
              "size": 10,
              "solidity": 0.2
             }
            },
            "type": "histogram"
           }
          ],
          "histogram2d": [
           {
            "colorbar": {
             "outlinewidth": 0,
             "ticks": ""
            },
            "colorscale": [
             [
              0,
              "#0d0887"
             ],
             [
              0.1111111111111111,
              "#46039f"
             ],
             [
              0.2222222222222222,
              "#7201a8"
             ],
             [
              0.3333333333333333,
              "#9c179e"
             ],
             [
              0.4444444444444444,
              "#bd3786"
             ],
             [
              0.5555555555555556,
              "#d8576b"
             ],
             [
              0.6666666666666666,
              "#ed7953"
             ],
             [
              0.7777777777777778,
              "#fb9f3a"
             ],
             [
              0.8888888888888888,
              "#fdca26"
             ],
             [
              1,
              "#f0f921"
             ]
            ],
            "type": "histogram2d"
           }
          ],
          "histogram2dcontour": [
           {
            "colorbar": {
             "outlinewidth": 0,
             "ticks": ""
            },
            "colorscale": [
             [
              0,
              "#0d0887"
             ],
             [
              0.1111111111111111,
              "#46039f"
             ],
             [
              0.2222222222222222,
              "#7201a8"
             ],
             [
              0.3333333333333333,
              "#9c179e"
             ],
             [
              0.4444444444444444,
              "#bd3786"
             ],
             [
              0.5555555555555556,
              "#d8576b"
             ],
             [
              0.6666666666666666,
              "#ed7953"
             ],
             [
              0.7777777777777778,
              "#fb9f3a"
             ],
             [
              0.8888888888888888,
              "#fdca26"
             ],
             [
              1,
              "#f0f921"
             ]
            ],
            "type": "histogram2dcontour"
           }
          ],
          "mesh3d": [
           {
            "colorbar": {
             "outlinewidth": 0,
             "ticks": ""
            },
            "type": "mesh3d"
           }
          ],
          "parcoords": [
           {
            "line": {
             "colorbar": {
              "outlinewidth": 0,
              "ticks": ""
             }
            },
            "type": "parcoords"
           }
          ],
          "pie": [
           {
            "automargin": true,
            "type": "pie"
           }
          ],
          "scatter": [
           {
            "fillpattern": {
             "fillmode": "overlay",
             "size": 10,
             "solidity": 0.2
            },
            "type": "scatter"
           }
          ],
          "scatter3d": [
           {
            "line": {
             "colorbar": {
              "outlinewidth": 0,
              "ticks": ""
             }
            },
            "marker": {
             "colorbar": {
              "outlinewidth": 0,
              "ticks": ""
             }
            },
            "type": "scatter3d"
           }
          ],
          "scattercarpet": [
           {
            "marker": {
             "colorbar": {
              "outlinewidth": 0,
              "ticks": ""
             }
            },
            "type": "scattercarpet"
           }
          ],
          "scattergeo": [
           {
            "marker": {
             "colorbar": {
              "outlinewidth": 0,
              "ticks": ""
             }
            },
            "type": "scattergeo"
           }
          ],
          "scattergl": [
           {
            "marker": {
             "colorbar": {
              "outlinewidth": 0,
              "ticks": ""
             }
            },
            "type": "scattergl"
           }
          ],
          "scattermap": [
           {
            "marker": {
             "colorbar": {
              "outlinewidth": 0,
              "ticks": ""
             }
            },
            "type": "scattermap"
           }
          ],
          "scattermapbox": [
           {
            "marker": {
             "colorbar": {
              "outlinewidth": 0,
              "ticks": ""
             }
            },
            "type": "scattermapbox"
           }
          ],
          "scatterpolar": [
           {
            "marker": {
             "colorbar": {
              "outlinewidth": 0,
              "ticks": ""
             }
            },
            "type": "scatterpolar"
           }
          ],
          "scatterpolargl": [
           {
            "marker": {
             "colorbar": {
              "outlinewidth": 0,
              "ticks": ""
             }
            },
            "type": "scatterpolargl"
           }
          ],
          "scatterternary": [
           {
            "marker": {
             "colorbar": {
              "outlinewidth": 0,
              "ticks": ""
             }
            },
            "type": "scatterternary"
           }
          ],
          "surface": [
           {
            "colorbar": {
             "outlinewidth": 0,
             "ticks": ""
            },
            "colorscale": [
             [
              0,
              "#0d0887"
             ],
             [
              0.1111111111111111,
              "#46039f"
             ],
             [
              0.2222222222222222,
              "#7201a8"
             ],
             [
              0.3333333333333333,
              "#9c179e"
             ],
             [
              0.4444444444444444,
              "#bd3786"
             ],
             [
              0.5555555555555556,
              "#d8576b"
             ],
             [
              0.6666666666666666,
              "#ed7953"
             ],
             [
              0.7777777777777778,
              "#fb9f3a"
             ],
             [
              0.8888888888888888,
              "#fdca26"
             ],
             [
              1,
              "#f0f921"
             ]
            ],
            "type": "surface"
           }
          ],
          "table": [
           {
            "cells": {
             "fill": {
              "color": "#EBF0F8"
             },
             "line": {
              "color": "white"
             }
            },
            "header": {
             "fill": {
              "color": "#C8D4E3"
             },
             "line": {
              "color": "white"
             }
            },
            "type": "table"
           }
          ]
         },
         "layout": {
          "annotationdefaults": {
           "arrowcolor": "#2a3f5f",
           "arrowhead": 0,
           "arrowwidth": 1
          },
          "autotypenumbers": "strict",
          "coloraxis": {
           "colorbar": {
            "outlinewidth": 0,
            "ticks": ""
           }
          },
          "colorscale": {
           "diverging": [
            [
             0,
             "#8e0152"
            ],
            [
             0.1,
             "#c51b7d"
            ],
            [
             0.2,
             "#de77ae"
            ],
            [
             0.3,
             "#f1b6da"
            ],
            [
             0.4,
             "#fde0ef"
            ],
            [
             0.5,
             "#f7f7f7"
            ],
            [
             0.6,
             "#e6f5d0"
            ],
            [
             0.7,
             "#b8e186"
            ],
            [
             0.8,
             "#7fbc41"
            ],
            [
             0.9,
             "#4d9221"
            ],
            [
             1,
             "#276419"
            ]
           ],
           "sequential": [
            [
             0,
             "#0d0887"
            ],
            [
             0.1111111111111111,
             "#46039f"
            ],
            [
             0.2222222222222222,
             "#7201a8"
            ],
            [
             0.3333333333333333,
             "#9c179e"
            ],
            [
             0.4444444444444444,
             "#bd3786"
            ],
            [
             0.5555555555555556,
             "#d8576b"
            ],
            [
             0.6666666666666666,
             "#ed7953"
            ],
            [
             0.7777777777777778,
             "#fb9f3a"
            ],
            [
             0.8888888888888888,
             "#fdca26"
            ],
            [
             1,
             "#f0f921"
            ]
           ],
           "sequentialminus": [
            [
             0,
             "#0d0887"
            ],
            [
             0.1111111111111111,
             "#46039f"
            ],
            [
             0.2222222222222222,
             "#7201a8"
            ],
            [
             0.3333333333333333,
             "#9c179e"
            ],
            [
             0.4444444444444444,
             "#bd3786"
            ],
            [
             0.5555555555555556,
             "#d8576b"
            ],
            [
             0.6666666666666666,
             "#ed7953"
            ],
            [
             0.7777777777777778,
             "#fb9f3a"
            ],
            [
             0.8888888888888888,
             "#fdca26"
            ],
            [
             1,
             "#f0f921"
            ]
           ]
          },
          "colorway": [
           "#636efa",
           "#EF553B",
           "#00cc96",
           "#ab63fa",
           "#FFA15A",
           "#19d3f3",
           "#FF6692",
           "#B6E880",
           "#FF97FF",
           "#FECB52"
          ],
          "font": {
           "color": "#2a3f5f"
          },
          "geo": {
           "bgcolor": "white",
           "lakecolor": "white",
           "landcolor": "#E5ECF6",
           "showlakes": true,
           "showland": true,
           "subunitcolor": "white"
          },
          "hoverlabel": {
           "align": "left"
          },
          "hovermode": "closest",
          "mapbox": {
           "style": "light"
          },
          "paper_bgcolor": "white",
          "plot_bgcolor": "#E5ECF6",
          "polar": {
           "angularaxis": {
            "gridcolor": "white",
            "linecolor": "white",
            "ticks": ""
           },
           "bgcolor": "#E5ECF6",
           "radialaxis": {
            "gridcolor": "white",
            "linecolor": "white",
            "ticks": ""
           }
          },
          "scene": {
           "xaxis": {
            "backgroundcolor": "#E5ECF6",
            "gridcolor": "white",
            "gridwidth": 2,
            "linecolor": "white",
            "showbackground": true,
            "ticks": "",
            "zerolinecolor": "white"
           },
           "yaxis": {
            "backgroundcolor": "#E5ECF6",
            "gridcolor": "white",
            "gridwidth": 2,
            "linecolor": "white",
            "showbackground": true,
            "ticks": "",
            "zerolinecolor": "white"
           },
           "zaxis": {
            "backgroundcolor": "#E5ECF6",
            "gridcolor": "white",
            "gridwidth": 2,
            "linecolor": "white",
            "showbackground": true,
            "ticks": "",
            "zerolinecolor": "white"
           }
          },
          "shapedefaults": {
           "line": {
            "color": "#2a3f5f"
           }
          },
          "ternary": {
           "aaxis": {
            "gridcolor": "white",
            "linecolor": "white",
            "ticks": ""
           },
           "baxis": {
            "gridcolor": "white",
            "linecolor": "white",
            "ticks": ""
           },
           "bgcolor": "#E5ECF6",
           "caxis": {
            "gridcolor": "white",
            "linecolor": "white",
            "ticks": ""
           }
          },
          "title": {
           "x": 0.05
          },
          "xaxis": {
           "automargin": true,
           "gridcolor": "white",
           "linecolor": "white",
           "ticks": "",
           "title": {
            "standoff": 15
           },
           "zerolinecolor": "white",
           "zerolinewidth": 2
          },
          "yaxis": {
           "automargin": true,
           "gridcolor": "white",
           "linecolor": "white",
           "ticks": "",
           "title": {
            "standoff": 15
           },
           "zerolinecolor": "white",
           "zerolinewidth": 2
          }
         }
        },
        "title": {
         "text": "F1-Score BERT vs Similarity of TOP populated categories"
        },
        "xaxis": {
         "title": {
          "text": "Proportion of data for training"
         }
        },
        "yaxis": {
         "title": {
          "text": "Performance (f1-score)"
         }
        }
       }
      }
     },
     "metadata": {},
     "output_type": "display_data"
    }
   ],
   "source": [
    "tops_bert_sim(less)"
   ]
  },
  {
   "cell_type": "markdown",
   "id": "804c0fdf",
   "metadata": {},
   "source": [
    "This chart compares the performance of BERT (solid lines) and Cosine Similarity (dotted lines) for the least populated categories in the dataset: COLLEGE, EDUCATION, and LATINO VOICES, across increasing proportions of training data.\n",
    "\n",
    "Cosine Similarity is better in early stages but lacks the capacity to close the performance gap as data increases."
   ]
  },
  {
   "cell_type": "code",
   "execution_count": null,
   "id": "8e2eafa7",
   "metadata": {},
   "outputs": [],
   "source": []
  },
  {
   "cell_type": "markdown",
   "id": "12c1e8d9",
   "metadata": {},
   "source": [
    "#### CATEGORIES IMPROVE\n",
    "\n",
    "We are going to check if the performance of each category increase with respect of previous training set"
   ]
  },
  {
   "cell_type": "code",
   "execution_count": 91,
   "id": "5f7e0c1b",
   "metadata": {},
   "outputs": [],
   "source": [
    "\n",
    "sim.sort_values(['Category','prop'], inplace=True)\n",
    "sim['F1-up'] = (sim['F1-Score']-sim['F1-Score'].shift(1))>0\n",
    "\n",
    "bertdat.sort_values(['Category','prop'], inplace=True)\n",
    "bertdat['F1-up'] = (bertdat['F1-Score']-bertdat['F1-Score'].shift(1))>0"
   ]
  },
  {
   "cell_type": "code",
   "execution_count": 96,
   "id": "a511d3df",
   "metadata": {},
   "outputs": [],
   "source": [
    "n_cat_increases_sim = sim.groupby('prop').agg(n_cat_increases_sim = pd.NamedAgg(column='F1-up', aggfunc='sum')).reset_index()\n",
    "n_cat_increases_bert = bertdat.groupby('prop').agg(n_cat_increases_bert = pd.NamedAgg(column='F1-up', aggfunc='sum')).reset_index()"
   ]
  },
  {
   "cell_type": "code",
   "execution_count": 98,
   "id": "6041f397",
   "metadata": {},
   "outputs": [
    {
     "data": {
      "application/vnd.plotly.v1+json": {
       "config": {
        "plotlyServerURL": "https://plot.ly"
       },
       "data": [
        {
         "name": "Similarity",
         "type": "scatter",
         "x": {
          "bdata": "/Knx0k1iUD97FK5H4Xp0P3sUrkfheoQ/mpmZmZmZqT+amZmZmZm5P5qZmZmZmck/MzMzMzMz0z+amZmZmZnZPwAAAAAAAOA/AAAAAAAA8D8=",
          "dtype": "f8"
         },
         "y": {
          "bdata": "BCQfJycjIiMcKA==",
          "dtype": "i1"
         },
         "yaxis": "y"
        },
        {
         "name": "BERT",
         "type": "scatter",
         "x": {
          "bdata": "/Knx0k1iUD97FK5H4Xp0P3sUrkfheoQ/mpmZmZmZqT+amZmZmZm5P5qZmZmZmck/MzMzMzMz0z+amZmZmZnZPwAAAAAAAOA/AAAAAAAA8D8=",
          "dtype": "f8"
         },
         "y": {
          "bdata": "ABIYJycmKR4gKg==",
          "dtype": "i1"
         },
         "yaxis": "y"
        }
       ],
       "layout": {
        "template": {
         "data": {
          "bar": [
           {
            "error_x": {
             "color": "#2a3f5f"
            },
            "error_y": {
             "color": "#2a3f5f"
            },
            "marker": {
             "line": {
              "color": "#E5ECF6",
              "width": 0.5
             },
             "pattern": {
              "fillmode": "overlay",
              "size": 10,
              "solidity": 0.2
             }
            },
            "type": "bar"
           }
          ],
          "barpolar": [
           {
            "marker": {
             "line": {
              "color": "#E5ECF6",
              "width": 0.5
             },
             "pattern": {
              "fillmode": "overlay",
              "size": 10,
              "solidity": 0.2
             }
            },
            "type": "barpolar"
           }
          ],
          "carpet": [
           {
            "aaxis": {
             "endlinecolor": "#2a3f5f",
             "gridcolor": "white",
             "linecolor": "white",
             "minorgridcolor": "white",
             "startlinecolor": "#2a3f5f"
            },
            "baxis": {
             "endlinecolor": "#2a3f5f",
             "gridcolor": "white",
             "linecolor": "white",
             "minorgridcolor": "white",
             "startlinecolor": "#2a3f5f"
            },
            "type": "carpet"
           }
          ],
          "choropleth": [
           {
            "colorbar": {
             "outlinewidth": 0,
             "ticks": ""
            },
            "type": "choropleth"
           }
          ],
          "contour": [
           {
            "colorbar": {
             "outlinewidth": 0,
             "ticks": ""
            },
            "colorscale": [
             [
              0,
              "#0d0887"
             ],
             [
              0.1111111111111111,
              "#46039f"
             ],
             [
              0.2222222222222222,
              "#7201a8"
             ],
             [
              0.3333333333333333,
              "#9c179e"
             ],
             [
              0.4444444444444444,
              "#bd3786"
             ],
             [
              0.5555555555555556,
              "#d8576b"
             ],
             [
              0.6666666666666666,
              "#ed7953"
             ],
             [
              0.7777777777777778,
              "#fb9f3a"
             ],
             [
              0.8888888888888888,
              "#fdca26"
             ],
             [
              1,
              "#f0f921"
             ]
            ],
            "type": "contour"
           }
          ],
          "contourcarpet": [
           {
            "colorbar": {
             "outlinewidth": 0,
             "ticks": ""
            },
            "type": "contourcarpet"
           }
          ],
          "heatmap": [
           {
            "colorbar": {
             "outlinewidth": 0,
             "ticks": ""
            },
            "colorscale": [
             [
              0,
              "#0d0887"
             ],
             [
              0.1111111111111111,
              "#46039f"
             ],
             [
              0.2222222222222222,
              "#7201a8"
             ],
             [
              0.3333333333333333,
              "#9c179e"
             ],
             [
              0.4444444444444444,
              "#bd3786"
             ],
             [
              0.5555555555555556,
              "#d8576b"
             ],
             [
              0.6666666666666666,
              "#ed7953"
             ],
             [
              0.7777777777777778,
              "#fb9f3a"
             ],
             [
              0.8888888888888888,
              "#fdca26"
             ],
             [
              1,
              "#f0f921"
             ]
            ],
            "type": "heatmap"
           }
          ],
          "histogram": [
           {
            "marker": {
             "pattern": {
              "fillmode": "overlay",
              "size": 10,
              "solidity": 0.2
             }
            },
            "type": "histogram"
           }
          ],
          "histogram2d": [
           {
            "colorbar": {
             "outlinewidth": 0,
             "ticks": ""
            },
            "colorscale": [
             [
              0,
              "#0d0887"
             ],
             [
              0.1111111111111111,
              "#46039f"
             ],
             [
              0.2222222222222222,
              "#7201a8"
             ],
             [
              0.3333333333333333,
              "#9c179e"
             ],
             [
              0.4444444444444444,
              "#bd3786"
             ],
             [
              0.5555555555555556,
              "#d8576b"
             ],
             [
              0.6666666666666666,
              "#ed7953"
             ],
             [
              0.7777777777777778,
              "#fb9f3a"
             ],
             [
              0.8888888888888888,
              "#fdca26"
             ],
             [
              1,
              "#f0f921"
             ]
            ],
            "type": "histogram2d"
           }
          ],
          "histogram2dcontour": [
           {
            "colorbar": {
             "outlinewidth": 0,
             "ticks": ""
            },
            "colorscale": [
             [
              0,
              "#0d0887"
             ],
             [
              0.1111111111111111,
              "#46039f"
             ],
             [
              0.2222222222222222,
              "#7201a8"
             ],
             [
              0.3333333333333333,
              "#9c179e"
             ],
             [
              0.4444444444444444,
              "#bd3786"
             ],
             [
              0.5555555555555556,
              "#d8576b"
             ],
             [
              0.6666666666666666,
              "#ed7953"
             ],
             [
              0.7777777777777778,
              "#fb9f3a"
             ],
             [
              0.8888888888888888,
              "#fdca26"
             ],
             [
              1,
              "#f0f921"
             ]
            ],
            "type": "histogram2dcontour"
           }
          ],
          "mesh3d": [
           {
            "colorbar": {
             "outlinewidth": 0,
             "ticks": ""
            },
            "type": "mesh3d"
           }
          ],
          "parcoords": [
           {
            "line": {
             "colorbar": {
              "outlinewidth": 0,
              "ticks": ""
             }
            },
            "type": "parcoords"
           }
          ],
          "pie": [
           {
            "automargin": true,
            "type": "pie"
           }
          ],
          "scatter": [
           {
            "fillpattern": {
             "fillmode": "overlay",
             "size": 10,
             "solidity": 0.2
            },
            "type": "scatter"
           }
          ],
          "scatter3d": [
           {
            "line": {
             "colorbar": {
              "outlinewidth": 0,
              "ticks": ""
             }
            },
            "marker": {
             "colorbar": {
              "outlinewidth": 0,
              "ticks": ""
             }
            },
            "type": "scatter3d"
           }
          ],
          "scattercarpet": [
           {
            "marker": {
             "colorbar": {
              "outlinewidth": 0,
              "ticks": ""
             }
            },
            "type": "scattercarpet"
           }
          ],
          "scattergeo": [
           {
            "marker": {
             "colorbar": {
              "outlinewidth": 0,
              "ticks": ""
             }
            },
            "type": "scattergeo"
           }
          ],
          "scattergl": [
           {
            "marker": {
             "colorbar": {
              "outlinewidth": 0,
              "ticks": ""
             }
            },
            "type": "scattergl"
           }
          ],
          "scattermap": [
           {
            "marker": {
             "colorbar": {
              "outlinewidth": 0,
              "ticks": ""
             }
            },
            "type": "scattermap"
           }
          ],
          "scattermapbox": [
           {
            "marker": {
             "colorbar": {
              "outlinewidth": 0,
              "ticks": ""
             }
            },
            "type": "scattermapbox"
           }
          ],
          "scatterpolar": [
           {
            "marker": {
             "colorbar": {
              "outlinewidth": 0,
              "ticks": ""
             }
            },
            "type": "scatterpolar"
           }
          ],
          "scatterpolargl": [
           {
            "marker": {
             "colorbar": {
              "outlinewidth": 0,
              "ticks": ""
             }
            },
            "type": "scatterpolargl"
           }
          ],
          "scatterternary": [
           {
            "marker": {
             "colorbar": {
              "outlinewidth": 0,
              "ticks": ""
             }
            },
            "type": "scatterternary"
           }
          ],
          "surface": [
           {
            "colorbar": {
             "outlinewidth": 0,
             "ticks": ""
            },
            "colorscale": [
             [
              0,
              "#0d0887"
             ],
             [
              0.1111111111111111,
              "#46039f"
             ],
             [
              0.2222222222222222,
              "#7201a8"
             ],
             [
              0.3333333333333333,
              "#9c179e"
             ],
             [
              0.4444444444444444,
              "#bd3786"
             ],
             [
              0.5555555555555556,
              "#d8576b"
             ],
             [
              0.6666666666666666,
              "#ed7953"
             ],
             [
              0.7777777777777778,
              "#fb9f3a"
             ],
             [
              0.8888888888888888,
              "#fdca26"
             ],
             [
              1,
              "#f0f921"
             ]
            ],
            "type": "surface"
           }
          ],
          "table": [
           {
            "cells": {
             "fill": {
              "color": "#EBF0F8"
             },
             "line": {
              "color": "white"
             }
            },
            "header": {
             "fill": {
              "color": "#C8D4E3"
             },
             "line": {
              "color": "white"
             }
            },
            "type": "table"
           }
          ]
         },
         "layout": {
          "annotationdefaults": {
           "arrowcolor": "#2a3f5f",
           "arrowhead": 0,
           "arrowwidth": 1
          },
          "autotypenumbers": "strict",
          "coloraxis": {
           "colorbar": {
            "outlinewidth": 0,
            "ticks": ""
           }
          },
          "colorscale": {
           "diverging": [
            [
             0,
             "#8e0152"
            ],
            [
             0.1,
             "#c51b7d"
            ],
            [
             0.2,
             "#de77ae"
            ],
            [
             0.3,
             "#f1b6da"
            ],
            [
             0.4,
             "#fde0ef"
            ],
            [
             0.5,
             "#f7f7f7"
            ],
            [
             0.6,
             "#e6f5d0"
            ],
            [
             0.7,
             "#b8e186"
            ],
            [
             0.8,
             "#7fbc41"
            ],
            [
             0.9,
             "#4d9221"
            ],
            [
             1,
             "#276419"
            ]
           ],
           "sequential": [
            [
             0,
             "#0d0887"
            ],
            [
             0.1111111111111111,
             "#46039f"
            ],
            [
             0.2222222222222222,
             "#7201a8"
            ],
            [
             0.3333333333333333,
             "#9c179e"
            ],
            [
             0.4444444444444444,
             "#bd3786"
            ],
            [
             0.5555555555555556,
             "#d8576b"
            ],
            [
             0.6666666666666666,
             "#ed7953"
            ],
            [
             0.7777777777777778,
             "#fb9f3a"
            ],
            [
             0.8888888888888888,
             "#fdca26"
            ],
            [
             1,
             "#f0f921"
            ]
           ],
           "sequentialminus": [
            [
             0,
             "#0d0887"
            ],
            [
             0.1111111111111111,
             "#46039f"
            ],
            [
             0.2222222222222222,
             "#7201a8"
            ],
            [
             0.3333333333333333,
             "#9c179e"
            ],
            [
             0.4444444444444444,
             "#bd3786"
            ],
            [
             0.5555555555555556,
             "#d8576b"
            ],
            [
             0.6666666666666666,
             "#ed7953"
            ],
            [
             0.7777777777777778,
             "#fb9f3a"
            ],
            [
             0.8888888888888888,
             "#fdca26"
            ],
            [
             1,
             "#f0f921"
            ]
           ]
          },
          "colorway": [
           "#636efa",
           "#EF553B",
           "#00cc96",
           "#ab63fa",
           "#FFA15A",
           "#19d3f3",
           "#FF6692",
           "#B6E880",
           "#FF97FF",
           "#FECB52"
          ],
          "font": {
           "color": "#2a3f5f"
          },
          "geo": {
           "bgcolor": "white",
           "lakecolor": "white",
           "landcolor": "#E5ECF6",
           "showlakes": true,
           "showland": true,
           "subunitcolor": "white"
          },
          "hoverlabel": {
           "align": "left"
          },
          "hovermode": "closest",
          "mapbox": {
           "style": "light"
          },
          "paper_bgcolor": "white",
          "plot_bgcolor": "#E5ECF6",
          "polar": {
           "angularaxis": {
            "gridcolor": "white",
            "linecolor": "white",
            "ticks": ""
           },
           "bgcolor": "#E5ECF6",
           "radialaxis": {
            "gridcolor": "white",
            "linecolor": "white",
            "ticks": ""
           }
          },
          "scene": {
           "xaxis": {
            "backgroundcolor": "#E5ECF6",
            "gridcolor": "white",
            "gridwidth": 2,
            "linecolor": "white",
            "showbackground": true,
            "ticks": "",
            "zerolinecolor": "white"
           },
           "yaxis": {
            "backgroundcolor": "#E5ECF6",
            "gridcolor": "white",
            "gridwidth": 2,
            "linecolor": "white",
            "showbackground": true,
            "ticks": "",
            "zerolinecolor": "white"
           },
           "zaxis": {
            "backgroundcolor": "#E5ECF6",
            "gridcolor": "white",
            "gridwidth": 2,
            "linecolor": "white",
            "showbackground": true,
            "ticks": "",
            "zerolinecolor": "white"
           }
          },
          "shapedefaults": {
           "line": {
            "color": "#2a3f5f"
           }
          },
          "ternary": {
           "aaxis": {
            "gridcolor": "white",
            "linecolor": "white",
            "ticks": ""
           },
           "baxis": {
            "gridcolor": "white",
            "linecolor": "white",
            "ticks": ""
           },
           "bgcolor": "#E5ECF6",
           "caxis": {
            "gridcolor": "white",
            "linecolor": "white",
            "ticks": ""
           }
          },
          "title": {
           "x": 0.05
          },
          "xaxis": {
           "automargin": true,
           "gridcolor": "white",
           "linecolor": "white",
           "ticks": "",
           "title": {
            "standoff": 15
           },
           "zerolinecolor": "white",
           "zerolinewidth": 2
          },
          "yaxis": {
           "automargin": true,
           "gridcolor": "white",
           "linecolor": "white",
           "ticks": "",
           "title": {
            "standoff": 15
           },
           "zerolinecolor": "white",
           "zerolinewidth": 2
          }
         }
        },
        "title": {
         "text": "Nº categories with increasing performance"
        },
        "xaxis": {
         "title": {
          "text": "Proportion of data for training"
         }
        },
        "yaxis": {
         "side": "left",
         "title": {
          "text": "Nº of categories"
         }
        }
       }
      }
     },
     "metadata": {},
     "output_type": "display_data"
    }
   ],
   "source": [
    "fig = go.Figure()\n",
    "fig.add_trace(go.Scatter(x=n_cat_increases_sim[\"prop\"], y=n_cat_increases_sim[\"n_cat_increases_sim\"],name=\"Similarity\", yaxis=\"y1\"))\n",
    "fig.add_trace(go.Scatter(x=n_cat_increases_bert[\"prop\"], y=n_cat_increases_bert[\"n_cat_increases_bert\"],name=\"BERT\", yaxis=\"y1\"))\n",
    "\n",
    "\n",
    "fig.update_layout(\n",
    "    title=\"Nº categories with increasing performance\",\n",
    "    xaxis=dict(title=\"Proportion of data for training\"),\n",
    "    yaxis=dict(title=\"Nº of categories\", side=\"left\"),\n",
    "   \n",
    ")\n",
    "fig.show()"
   ]
  },
  {
   "cell_type": "markdown",
   "id": "3406e8a7",
   "metadata": {},
   "source": [
    "This chart shows how many categories improve their f1-score performance at each step as the training data proportion increases, for both Cosine Similarity (blue) and BERT (red).\n",
    "\n",
    "An intuitive and consistent result with previous observations can be seen: as the training set grows, it becomes increasingly difficult to achieve further improvements in f1-score, so it is natural to expect that fewer categories will continue to show performance gains."
   ]
  },
  {
   "cell_type": "code",
   "execution_count": null,
   "id": "87ff27e0",
   "metadata": {},
   "outputs": [],
   "source": []
  },
  {
   "cell_type": "markdown",
   "id": "cd1684fc",
   "metadata": {},
   "source": [
    "# TAKEAWAYS\n",
    "\n",
    "As expected, BERT clearly outperforms cosine similarity in most scenarios. However, when the training data is very limited, BERT may not achieve good results, and a simpler method like cosine similarity can actually be more effective — as shown in this experiment.\n",
    "\n",
    "Why does cosine similarity perform better with small training sets but worse as the training size increases?\n",
    "\n",
    "In my view, two main factors explain this behavior:\n",
    "\n",
    "* Redundancy in added data: As more training data is introduced, it increasingly overlaps with the contexts already seen. Therefore, the marginal gain in similarity-based retrieval becomes smaller, since new examples add little novel information to improve the similarity match.\n",
    "\n",
    "* BERT’s learning capacity: BERT is capable of capturing far more complex relationships in the data, going beyond simple linear similarity. However, it requires a larger number of training iterations (and examples) to properly adjust its weights and reach a meaningful minimum of the loss function."
   ]
  },
  {
   "cell_type": "code",
   "execution_count": null,
   "id": "778e84b7",
   "metadata": {},
   "outputs": [],
   "source": []
  },
  {
   "cell_type": "markdown",
   "id": "258867b4",
   "metadata": {},
   "source": [
    "# RECOMENDATIONS\n",
    "\n",
    "* Explore additional baseline models.\n",
    "\n",
    "* Use other embedding models.\n",
    "\n",
    "* Build a more parametric pipeline that allows us to run this experiment in a more automated way.\n",
    "\n",
    "* Use cross validation for smaller data sets.\n",
    "\n",
    "* Optimize hyperparamters.\n"
   ]
  },
  {
   "cell_type": "markdown",
   "id": "454cd9a1",
   "metadata": {},
   "source": []
  }
 ],
 "metadata": {
  "kernelspec": {
   "display_name": ".venv",
   "language": "python",
   "name": "python3"
  },
  "language_info": {
   "codemirror_mode": {
    "name": "ipython",
    "version": 3
   },
   "file_extension": ".py",
   "mimetype": "text/x-python",
   "name": "python",
   "nbconvert_exporter": "python",
   "pygments_lexer": "ipython3",
   "version": "3.13.0"
  }
 },
 "nbformat": 4,
 "nbformat_minor": 5
}
